{
 "cells": [
  {
   "cell_type": "code",
   "execution_count": 1,
   "id": "2cac03b4-f4e6-4017-a65f-b30d21f47605",
   "metadata": {},
   "outputs": [
    {
     "name": "stdout",
     "output_type": "stream",
     "text": [
      "Number of arguments: 1\n",
      "\n",
      "File path: ../Data/Demo//Users/lenovo1/Library/Jupyter/runtime/kernel-fceca6af-21ec-4ed8-b6f7-dcdc84a3cd7d.json\n",
      "Execution time limit: 10\n"
     ]
    },
    {
     "ename": "LoadError",
     "evalue": "SystemError: opening file \"../Data/Demo//Users/lenovo1/Library/Jupyter/runtime/kernel-fceca6af-21ec-4ed8-b6f7-dcdc84a3cd7d.json\": No such file or directory",
     "output_type": "error",
     "traceback": [
      "SystemError: opening file \"../Data/Demo//Users/lenovo1/Library/Jupyter/runtime/kernel-fceca6af-21ec-4ed8-b6f7-dcdc84a3cd7d.json\": No such file or directory",
      "",
      "Stacktrace:",
      " [1] open(::var\"#68#69\", ::String, ::Vararg{String}; kwargs::@Kwargs{})",
      "   @ Base ./io.jl:394",
      " [2] open",
      "   @ ./io.jl:393 [inlined]",
      " [3] readFile(file_path::String)",
      "   @ Main ~/Library/CloudStorage/OneDrive-EcoledeManagementdeNormandie/2EVRPMM/Code/Utiles.jl:53",
      " [4] dataProcessing(case::String, filePath::String)",
      "   @ Main ~/Library/CloudStorage/OneDrive-EcoledeManagementdeNormandie/2EVRPMM/Code/DataProcessing.jl:15",
      " [5] top-level scope",
      "   @ In[1]:27"
     ]
    }
   ],
   "source": [
    "include(\"Globals.jl\")\n",
    "include(\"Utiles.jl\")\n",
    "include(\"DataProcessing.jl\")\n",
    "include(\"Model.jl\")\n",
    "include(\"Optimization.jl\")\n",
    "\n",
    "# Read file\n",
    "println(\"Number of arguments: \", length(ARGS))\n",
    "filePath = \"../Data/Demo/Test.txt\"\n",
    "case = \"r\"\n",
    "runningTime = 10 # minute\n",
    "\n",
    "if length(ARGS) >= 1\n",
    "    if length(ARGS[1])>1 filePath = \"../Data/Demo/\" * ARGS[1]     end\n",
    "    if length(ARGS) >= 2\n",
    "        if readArgument(ARGS[2]) != 0 runningTime = readArgument(ARGS[2])  end\n",
    "    end\n",
    "else\n",
    "    println(\"No arguments provided\")\n",
    "end\n",
    "\n",
    "\n",
    "println(\"\\n\", \"File path: \", filePath)\n",
    "println(\"Execution time limit: \",runningTime)\n",
    "\n",
    "# Process data\n",
    "dataProcessing(case, filePath)\n",
    "displayData()\n",
    "\n",
    "# Build model\n",
    "model, x, y, t, w, z, f = buildModel()\n",
    "\n",
    "# Run model, note result\n",
    "resolve(model, x, y, t, w, z, f, runningTime)"
   ]
  },
  {
   "cell_type": "code",
   "execution_count": null,
   "id": "d73a9ff1-8073-42ec-b949-c3b816dc7349",
   "metadata": {},
   "outputs": [],
   "source": []
  }
 ],
 "metadata": {
  "kernelspec": {
   "display_name": "Julia 1.10.4",
   "language": "julia",
   "name": "julia-1.10"
  },
  "language_info": {
   "file_extension": ".jl",
   "mimetype": "application/julia",
   "name": "julia",
   "version": "1.10.4"
  }
 },
 "nbformat": 4,
 "nbformat_minor": 5
}
