{
 "cells": [
  {
   "cell_type": "code",
   "execution_count": null,
   "id": "687db982-0a4e-409b-bfa4-20d85aea9c6b",
   "metadata": {},
   "outputs": [
    {
     "name": "stdout",
     "output_type": "stream",
     "text": [
      "\n",
      "======================Iteration 1 at 1.0013580322265625e-5s of column generation======================\n",
      "1e route= Route[Route(127.01181047445942, [1, 2, 1], 3, 0), Route(211.10187114282053, [1, 5, 1], 3, 0), Route(205.10485123467947, [1, 6, 1], 3, 0), Route(154.77725931156684, [1, 7, 1], 3, 0), Route(140.91131963046828, [1, 8, 1], 3, 0), Route(75.28612089887484, [1, 10, 1], 3, 0), Route(212.08488866489287, [1, 14, 1], 3, 0), Route(169.19810873647495, [1, 15, 1], 3, 0), Route(206.95893312442448, [1, 18, 1], 3, 0), Route(154.94515158597252, [1, 20, 1], 3, 0)]\n",
      "CPLEX Error  3003: Not a mixed-integer problem.\n",
      "Version identifier: 22.1.1.0 | 2022-11-28 | 9160aff4d\n",
      "Parallel mode: deterministic, using up to 10 threads for concurrent optimization:\n",
      " * Starting dual Simplex on 1 thread...\n",
      " * Starting Barrier on 8 threads...\n",
      " * Starting primal Simplex on 1 thread...\n",
      "Tried aggregator 1 time.\n",
      "LP Presolve eliminated 2007 rows and 1843 columns.\n",
      "Reduced LP has 16968 rows, 17473 columns, and 78465 nonzeros.\n",
      "Presolve time = 0.03 sec. (29.22 ticks)\n",
      "\n",
      "Iteration log . . .\n",
      "Iteration:     1   Dual objective     =             0.000000\n",
      "Perturbation started.\n",
      "Iteration:   101   Dual objective     =             0.000000\n",
      "Iteration:   533   Dual objective     =           332.951960\n",
      "Iteration:   956   Dual objective     =           352.942464\n",
      "Iteration:  1231   Dual objective     =           375.598827\n",
      "Iteration:  1459   Dual objective     =           375.598921\n",
      "Iteration:  1695   Dual objective     =           383.689419\n",
      "Iteration:  2012   Dual objective     =           395.031209\n",
      "Iteration:  2286   Dual objective     =           396.935448\n",
      "Iteration:  2513   Dual objective     =           396.935622\n",
      "Iteration:  2803   Dual objective     =           518.509784\n",
      "Iteration:  3054   Dual objective     =           565.122907\n",
      "Iteration:  3282   Dual objective     =           565.662646\n",
      "Iteration:  3478   Dual objective     =           619.654498\n",
      "Iteration:  3675   Dual objective     =           657.624251\n",
      "Iteration:  3928   Dual objective     =           795.891289\n",
      "Iteration:  4171   Dual objective     =           797.865328\n",
      "Iteration:  4400   Dual objective     =           809.163878\n",
      "Iteration:  4685   Dual objective     =           813.715678\n",
      "Iteration:  4885   Dual objective     =           819.741343\n",
      "Iteration:  5076   Dual objective     =           820.240402\n",
      "Iteration:  5312   Dual objective     =           822.514552\n",
      "Iteration:  5550   Dual objective     =           824.202555\n",
      "Iteration:  5791   Dual objective     =           825.660754\n",
      "Iteration:  5987   Dual objective     =           826.743957\n",
      "Iteration:  6237   Dual objective     =           839.355682\n",
      "Iteration:  6430   Dual objective     =           897.148826\n",
      "Iteration:  6672   Dual objective     =           936.221491\n",
      "Iteration:  6893   Dual objective     =           936.221867\n",
      "Iteration:  7172   Dual objective     =           939.587182\n",
      "Iteration:  7371   Dual objective     =           940.959349\n",
      "Iteration:  7582   Dual objective     =           941.830940\n",
      "Iteration:  7802   Dual objective     =           944.408981\n",
      "Iteration:  8047   Dual objective     =           948.998311\n",
      "Iteration:  8283   Dual objective     =           952.319424\n",
      "Iteration:  8472   Dual objective     =           955.441104\n",
      "Iteration:  8715   Dual objective     =           962.527887\n",
      "Iteration:  8944   Dual objective     =           970.437778\n",
      "Iteration:  9143   Dual objective     =           974.619752\n",
      "Iteration:  9368   Dual objective     =           978.927180\n",
      "Iteration:  9579   Dual objective     =           983.861526\n",
      "Iteration:  9732   Dual objective     =           992.491959\n",
      "Iteration:  9958   Dual objective     =          1021.935116\n",
      "Iteration: 10211   Dual objective     =          1032.929351\n",
      "Iteration: 10400   Dual objective     =          1038.992153\n",
      "Iteration: 10620   Dual objective     =          1044.142116\n",
      "Iteration: 10780   Dual objective     =          1046.845675\n",
      "Iteration: 10964   Dual objective     =          1050.179166\n",
      "Iteration: 11173   Dual objective     =          1052.082309\n",
      "Removing perturbation.\n",
      "objective value of master problem is: 1052.3859185318893\n",
      "Status of 1e route: \n",
      "   x=0.161290322580645161e Route [1, 2, 1]   Load= 0   Cost= 127.01\n",
      "   x=0.076612903225806451e Route [1, 5, 1]   Load= 0   Cost= 211.1\n",
      "   x=0.161290322580645161e Route [1, 6, 1]   Load= 0   Cost= 205.1\n",
      "   x=0.161290322580645161e Route [1, 7, 1]   Load= 0   Cost= 154.78\n",
      "   x=0.161290322580645161e Route [1, 8, 1]   Load= 0   Cost= 140.91\n",
      "   x=0.161290322580645161e Route [1, 10, 1]   Load= 0   Cost= 75.29\n",
      "   x=0.0443548387096776161e Route [1, 18, 1]   Load= 0   Cost= 206.96\n",
      "   x=0.07258064516129031e Route [1, 20, 1]   Load= 0   Cost= 154.95\n",
      "=================Iteration 1 of Labelling=================\n",
      "\n",
      "E= [2, 5, 6, 7, 8, 10, 14, 15, 18, 20] vi= 2\n",
      "successor of 2 are: [1, 3, 4, 5, 6, 7, 8, 9, 10, 11, 12, 13, 14, 15, 16, 17, 18, 19, 20, 21, 22, 23, 24, 25, 26]\n",
      "E at the end of interation [5, 6, 7, 8, 10, 14, 15, 18, 20, 1, 3, 4, 9, 11, 12, 13, 16, 17, 19, 21, 22, 23, 24, 25, 26]\n",
      "=================Iteration 2 of Labelling=================\n",
      "\n",
      "E= [5, 6, 7, 8, 10, 14, 15, 18, 20, 1, 3, 4, 9, 11, 12, 13, 16, 17, 19, 21, 22, 23, 24, 25, 26] vi= 5\n",
      "successor of 5 are: [1, 2, 3, 4, 6, 7, 8, 9, 10, 11, 12, 13, 14, 15, 16, 17, 18, 19, 20, 21, 22, 23, 24, 25, 26]\n",
      "E at the end of interation [6, 7, 8, 10, 14, 15, 18, 20, 1, 3, 4, 9, 11, 12, 13, 16, 17, 19, 21, 22, 23, 24, 25, 26, 2]\n",
      "=================Iteration 3 of Labelling=================\n",
      "\n",
      "E= [6, 7, 8, 10, 14, 15, 18, 20, 1, 3, 4, 9, 11, 12, 13, 16, 17, 19, 21, 22, 23, 24, 25, 26, 2] vi= 6\n",
      "successor of 6 are: [1, 2, 3, 4, 5, 7, 8, 9, 10, 11, 12, 13, 14, 15, 16, 17, 18, 19, 20, 21, 22, 23, 24, 25, 26]\n",
      "E at the end of interation [7, 8, 10, 14, 15, 18, 20, 1, 3, 4, 9, 11, 12, 13, 16, 17, 19, 21, 22, 23, 24, 25, 26, 2, 5]\n",
      "=================Iteration 4 of Labelling=================\n",
      "\n",
      "E= [7, 8, 10, 14, 15, 18, 20, 1, 3, 4, 9, 11, 12, 13, 16, 17, 19, 21, 22, 23, 24, 25, 26, 2, 5] vi= 7\n",
      "successor of 7 are: [1, 2, 3, 4, 5, 6, 8, 9, 10, 11, 12, 13, 14, 15, 16, 17, 18, 19, 20, 21, 22, 23, 24, 25, 26]\n",
      "E at the end of interation [8, 10, 14, 15, 18, 20, 1, 3, 4, 9, 11, 12, 13, 16, 17, 19, 21, 22, 23, 24, 25, 26, 2, 5, 6]\n",
      "=================Iteration 5 of Labelling=================\n",
      "\n",
      "E= [8, 10, 14, 15, 18, 20, 1, 3, 4, 9, 11, 12, 13, 16, 17, 19, 21, 22, 23, 24, 25, 26, 2, 5, 6] vi= 8\n",
      "successor of 8 are: [1, 2, 3, 4, 5, 6, 7, 9, 10, 11, 12, 13, 14, 15, 16, 17, 18, 19, 20, 21, 22, 23, 24, 25, 26]\n",
      "E at the end of interation [10, 14, 15, 18, 20, 1, 3, 4, 9, 11, 12, 13, 16, 17, 19, 21, 22, 23, 24, 25, 26, 2, 5, 6, 7]\n",
      "=================Iteration 6 of Labelling=================\n",
      "\n",
      "E= [10, 14, 15, 18, 20, 1, 3, 4, 9, 11, 12, 13, 16, 17, 19, 21, 22, 23, 24, 25, 26, 2, 5, 6, 7] vi= 10\n",
      "successor of 10 are: [1, 2, 3, 4, 5, 6, 7, 8, 9, 11, 12, 13, 14, 15, 16, 17, 18, 19, 20, 21, 22, 23, 24, 25, 26]\n",
      "E at the end of interation [14, 15, 18, 20, 1, 3, 4, 9, 11, 12, 13, 16, 17, 19, 21, 22, 23, 24, 25, 26, 2, 5, 6, 7, 8]\n",
      "=================Iteration 7 of Labelling=================\n",
      "\n",
      "E= [14, 15, 18, 20, 1, 3, 4, 9, 11, 12, 13, 16, 17, 19, 21, 22, 23, 24, 25, 26, 2, 5, 6, 7, 8] vi= 14\n",
      "successor of 14 are: [1, 2, 3, 4, 5, 6, 7, 8, 9, 10, 11, 12, 13, 15, 16, 17, 18, 19, 20, 21, 22, 23, 24, 25, 26]\n",
      "E at the end of interation [15, 18, 20, 1, 3, 4, 9, 11, 12, 13, 16, 17, 19, 21, 22, 23, 24, 25, 26, 2, 5, 6, 7, 8, 10]\n",
      "=================Iteration 8 of Labelling=================\n",
      "\n",
      "E= [15, 18, 20, 1, 3, 4, 9, 11, 12, 13, 16, 17, 19, 21, 22, 23, 24, 25, 26, 2, 5, 6, 7, 8, 10] vi= 15\n",
      "successor of 15 are: [1, 2, 3, 4, 5, 6, 7, 8, 9, 10, 11, 12, 13, 14, 16, 17, 18, 19, 20, 21, 22, 23, 24, 25, 26]\n",
      "E at the end of interation [18, 20, 1, 3, 4, 9, 11, 12, 13, 16, 17, 19, 21, 22, 23, 24, 25, 26, 2, 5, 6, 7, 8, 10, 14]\n",
      "=================Iteration 9 of Labelling=================\n",
      "\n",
      "E= [18, 20, 1, 3, 4, 9, 11, 12, 13, 16, 17, 19, 21, 22, 23, 24, 25, 26, 2, 5, 6, 7, 8, 10, 14] vi= 18\n",
      "successor of 18 are: [1, 2, 3, 4, 5, 6, 7, 8, 9, 10, 11, 12, 13, 14, 15, 16, 17, 19, 20, 21, 22, 23, 24, 25, 26]\n"
     ]
    },
    {
     "name": "stderr",
     "output_type": "stream",
     "text": [
      "\u001b[36m\u001b[1m[ \u001b[22m\u001b[39m\u001b[36m\u001b[1mInfo: \u001b[22m\u001b[39m(\"Start time = 1.738743930256514e9\", 0.0040509700775146484)\n",
      "\u001b[36m\u001b[1m[ \u001b[22m\u001b[39m\u001b[36m\u001b[1mInfo: \u001b[22m\u001b[39m(\"Start time = 1.738743930256514e9\", 0.2425370216369629)\n",
      "\u001b[36m\u001b[1m[ \u001b[22m\u001b[39m\u001b[36m\u001b[1mInfo: \u001b[22m\u001b[39m(\"Start time = 1.738743930256514e9\", 0.24399995803833008)\n",
      "\u001b[36m\u001b[1m[ \u001b[22m\u001b[39m\u001b[36m\u001b[1mInfo: \u001b[22m\u001b[39m(\"Start time = 1.738743930256514e9\", 0.245805025100708)\n",
      "\u001b[36m\u001b[1m[ \u001b[22m\u001b[39m\u001b[36m\u001b[1mInfo: \u001b[22m\u001b[39m(\"Start time = 1.738743930256514e9\", 0.24836182594299316)\n",
      "\u001b[36m\u001b[1m[ \u001b[22m\u001b[39m\u001b[36m\u001b[1mInfo: \u001b[22m\u001b[39m(\"Start time = 1.738743930256514e9\", 0.2506718635559082)\n",
      "\u001b[36m\u001b[1m[ \u001b[22m\u001b[39m\u001b[36m\u001b[1mInfo: \u001b[22m\u001b[39m(\"Start time = 1.738743930256514e9\", 0.2545969486236572)\n",
      "\u001b[36m\u001b[1m[ \u001b[22m\u001b[39m\u001b[36m\u001b[1mInfo: \u001b[22m\u001b[39m(\"Start time = 1.738743930256514e9\", 0.2649879455566406)\n",
      "\u001b[36m\u001b[1m[ \u001b[22m\u001b[39m\u001b[36m\u001b[1mInfo: \u001b[22m\u001b[39m(\"Start time = 1.738743930256514e9\", 0.28783297538757324)\n"
     ]
    },
    {
     "name": "stdout",
     "output_type": "stream",
     "text": [
      "E at the end of interation [20, 1, 3, 4, 9, 11, 12, 13, 16, 17, 19, 21, 22, 23, 24, 25, 26, 2, 5, 6, 7, 8, 10, 14, 15]\n",
      "=================Iteration 10 of Labelling=================\n",
      "\n",
      "E= [20, 1, 3, 4, 9, 11, 12, 13, 16, 17, 19, 21, 22, 23, 24, 25, 26, 2, 5, 6, 7, 8, 10, 14, 15] vi= 20\n",
      "successor of 20 are: [1, 2, 3, 4, 5, 6, 7, 8, 9, 10, 11, 12, 13, 14, 15, 16, 17, 18, 19, 21, 22, 23, 24, 25, 26]\n",
      "E at the end of interation [1, 3, 4, 9, 11, 12, 13, 16, 17, 19, 21, 22, 23, 24, 25, 26, 2, 5, 6, 7, 8, 10, 14, 15, 18]\n",
      "=================Iteration 11 of Labelling=================\n",
      "\n",
      "E= [1, 3, 4, 9, 11, 12, 13, 16, 17, 19, 21, 22, 23, 24, 25, 26, 2, 5, 6, 7, 8, 10, 14, 15, 18] vi= 1\n",
      "successor of 1 are: [2, 5, 6, 7, 8, 10, 14, 15, 18, 20]\n"
     ]
    },
    {
     "name": "stderr",
     "output_type": "stream",
     "text": [
      "\u001b[36m\u001b[1m[ \u001b[22m\u001b[39m\u001b[36m\u001b[1mInfo: \u001b[22m\u001b[39m(\"Start time = 1.738743930256514e9\", 0.33316993713378906)\n",
      "\u001b[36m\u001b[1m[ \u001b[22m\u001b[39m\u001b[36m\u001b[1mInfo: \u001b[22m\u001b[39m(\"Start time = 1.738743930256514e9\", 0.41487789154052734)\n"
     ]
    },
    {
     "name": "stdout",
     "output_type": "stream",
     "text": [
      "E at the end of interation [3, 4, 9, 11, 12, 13, 16, 17, 19, 21, 22, 23, 24, 25, 26, 2, 5, 6, 7, 8, 10, 14, 15, 18, 20]\n",
      "=================Iteration 12 of Labelling=================\n",
      "\n",
      "E= [3, 4, 9, 11, 12, 13, 16, 17, 19, 21, 22, 23, 24, 25, 26, 2, 5, 6, 7, 8, 10, 14, 15, 18, 20] vi= 3\n",
      "successor of 3 are: [1, 2, 5, 6, 7, 8, 10, 14, 15, 18, 20]\n",
      "E at the end of interation [4, 9, 11, 12, 13, 16, 17, 19, 21, 22, 23, 24, 25, 26, 2, 5, 6, 7, 8, 10, 14, 15, 18, 20, 1]\n",
      "=================Iteration 13 of Labelling=================\n",
      "\n",
      "E= [4, 9, 11, 12, 13, 16, 17, 19, 21, 22, 23, 24, 25, 26, 2, 5, 6, 7, 8, 10, 14, 15, 18, 20, 1] vi= 4\n",
      "successor of 4 are: [1, 2, 5, 6, 7, 8, 10, 14, 15, 18, 20]\n"
     ]
    },
    {
     "name": "stderr",
     "output_type": "stream",
     "text": [
      "\u001b[36m\u001b[1m[ \u001b[22m\u001b[39m\u001b[36m\u001b[1mInfo: \u001b[22m\u001b[39m(\"Start time = 1.738743930256514e9\", 0.46471190452575684)\n",
      "\u001b[36m\u001b[1m[ \u001b[22m\u001b[39m\u001b[36m\u001b[1mInfo: \u001b[22m\u001b[39m(\"Start time = 1.738743930256514e9\", 0.5310959815979004)\n"
     ]
    },
    {
     "name": "stdout",
     "output_type": "stream",
     "text": [
      "E at the end of interation [9, 11, 12, 13, 16, 17, 19, 21, 22, 23, 24, 25, 26, 2, 5, 6, 7, 8, 10, 14, 15, 18, 20, 1]\n",
      "=================Iteration 14 of Labelling=================\n",
      "\n",
      "E= [9, 11, 12, 13, 16, 17, 19, 21, 22, 23, 24, 25, 26, 2, 5, 6, 7, 8, 10, 14, 15, 18, 20, 1] vi= 9\n",
      "successor of 9 are: [1, 2, 5, 6, 7, 8, 10, 14, 15, 18, 20]\n",
      "E at the end of interation [11, 12, 13, 16, 17, 19, 21, 22, 23, 24, 25, 26, 2, 5, 6, 7, 8, 10, 14, 15, 18, 20, 1]\n",
      "=================Iteration 15 of Labelling=================\n",
      "\n",
      "E= [11, 12, 13, 16, 17, 19, 21, 22, 23, 24, 25, 26, 2, 5, 6, 7, 8, 10, 14, 15, 18, 20, 1] vi= 11\n",
      "successor of 11 are: [1, 2, 5, 6, 7, 8, 10, 14, 15, 18, 20]\n"
     ]
    },
    {
     "name": "stderr",
     "output_type": "stream",
     "text": [
      "\u001b[36m\u001b[1m[ \u001b[22m\u001b[39m\u001b[36m\u001b[1mInfo: \u001b[22m\u001b[39m(\"Start time = 1.738743930256514e9\", 0.600492000579834)\n",
      "\u001b[36m\u001b[1m[ \u001b[22m\u001b[39m\u001b[36m\u001b[1mInfo: \u001b[22m\u001b[39m(\"Start time = 1.738743930256514e9\", 0.6832008361816406)\n"
     ]
    },
    {
     "name": "stdout",
     "output_type": "stream",
     "text": [
      "E at the end of interation [12, 13, 16, 17, 19, 21, 22, 23, 24, 25, 26, 2, 5, 6, 7, 8, 10, 14, 15, 18, 20, 1]\n",
      "=================Iteration 16 of Labelling=================\n",
      "\n",
      "E= [12, 13, 16, 17, 19, 21, 22, 23, 24, 25, 26, 2, 5, 6, 7, 8, 10, 14, 15, 18, 20, 1] vi= 12\n",
      "successor of 12 are: [1, 2, 5, 6, 7, 8, 10, 14, 15, 18, 20]\n",
      "E at the end of interation [13, 16, 17, 19, 21, 22, 23, 24, 25, 26, 2, 5, 6, 7, 8, 10, 14, 15, 18, 20, 1]\n",
      "=================Iteration 17 of Labelling=================\n",
      "\n",
      "E= [13, 16, 17, 19, 21, 22, 23, 24, 25, 26, 2, 5, 6, 7, 8, 10, 14, 15, 18, 20, 1] vi= 13\n",
      "successor of 13 are: [1, 2, 5, 6, 7, 8, 10, 14, 15, 18, 20]\n"
     ]
    },
    {
     "name": "stderr",
     "output_type": "stream",
     "text": [
      "\u001b[36m\u001b[1m[ \u001b[22m\u001b[39m\u001b[36m\u001b[1mInfo: \u001b[22m\u001b[39m(\"Start time = 1.738743930256514e9\", 0.7642920017242432)\n",
      "\u001b[36m\u001b[1m[ \u001b[22m\u001b[39m\u001b[36m\u001b[1mInfo: \u001b[22m\u001b[39m(\"Start time = 1.738743930256514e9\", 0.8509750366210938)\n"
     ]
    },
    {
     "name": "stdout",
     "output_type": "stream",
     "text": [
      "E at the end of interation [16, 17, 19, 21, 22, 23, 24, 25, 26, 2, 5, 6, 7, 8, 10, 14, 15, 18, 20, 1]\n",
      "=================Iteration 18 of Labelling=================\n",
      "\n",
      "E= [16, 17, 19, 21, 22, 23, 24, 25, 26, 2, 5, 6, 7, 8, 10, 14, 15, 18, 20, 1] vi= 16\n",
      "successor of 16 are: [1, 2, 5, 6, 7, 8, 10, 14, 15, 18, 20]\n",
      "E at the end of interation [17, 19, 21, 22, 23, 24, 25, 26, 2, 5, 6, 7, 8, 10, 14, 15, 18, 20, 1]\n",
      "=================Iteration 19 of Labelling=================\n",
      "\n",
      "E= [17, 19, 21, 22, 23, 24, 25, 26, 2, 5, 6, 7, 8, 10, 14, 15, 18, 20, 1] vi= 17\n",
      "successor of 17 are: [1, 2, 5, 6, 7, 8, 10, 14, 15, 18, 20]\n"
     ]
    },
    {
     "name": "stderr",
     "output_type": "stream",
     "text": [
      "\u001b[36m\u001b[1m[ \u001b[22m\u001b[39m\u001b[36m\u001b[1mInfo: \u001b[22m\u001b[39m(\"Start time = 1.738743930256514e9\", 0.9654269218444824)\n",
      "\u001b[36m\u001b[1m[ \u001b[22m\u001b[39m\u001b[36m\u001b[1mInfo: \u001b[22m\u001b[39m(\"Start time = 1.738743930256514e9\", 1.0577428340911865)\n"
     ]
    },
    {
     "name": "stdout",
     "output_type": "stream",
     "text": [
      "E at the end of interation [19, 21, 22, 23, 24, 25, 26, 2, 5, 6, 7, 8, 10, 14, 15, 18, 20, 1]\n",
      "=================Iteration 20 of Labelling=================\n",
      "\n",
      "E= [19, 21, 22, 23, 24, 25, 26, 2, 5, 6, 7, 8, 10, 14, 15, 18, 20, 1] vi= 19\n",
      "successor of 19 are: [1, 2, 5, 6, 7, 8, 10, 14, 15, 18, 20]\n"
     ]
    },
    {
     "name": "stderr",
     "output_type": "stream",
     "text": [
      "\u001b[36m\u001b[1m[ \u001b[22m\u001b[39m\u001b[36m\u001b[1mInfo: \u001b[22m\u001b[39m(\"Start time = 1.738743930256514e9\", 1.181915044784546)\n"
     ]
    },
    {
     "name": "stdout",
     "output_type": "stream",
     "text": [
      "E at the end of interation [21, 22, 23, 24, 25, 26, 2, 5, 6, 7, 8, 10, 14, 15, 18, 20, 1]\n",
      "=================Iteration 21 of Labelling=================\n",
      "\n",
      "E= [21, 22, 23, 24, 25, 26, 2, 5, 6, 7, 8, 10, 14, 15, 18, 20, 1] vi= 21\n",
      "successor of 21 are: [1, 2, 5, 6, 7, 8, 10, 14, 15, 18, 20]\n"
     ]
    },
    {
     "name": "stderr",
     "output_type": "stream",
     "text": [
      "\u001b[36m\u001b[1m[ \u001b[22m\u001b[39m\u001b[36m\u001b[1mInfo: \u001b[22m\u001b[39m(\"Start time = 1.738743930256514e9\", 1.3188259601593018)\n"
     ]
    },
    {
     "name": "stdout",
     "output_type": "stream",
     "text": [
      "E at the end of interation [22, 23, 24, 25, 26, 2, 5, 6, 7, 8, 10, 14, 15, 18, 20, 1]\n",
      "=================Iteration 22 of Labelling=================\n",
      "\n",
      "E= [22, 23, 24, 25, 26, 2, 5, 6, 7, 8, 10, 14, 15, 18, 20, 1] vi= 22\n",
      "successor of 22 are: [1, 2, 5, 6, 7, 8, 10, 14, 15, 18, 20]\n"
     ]
    },
    {
     "name": "stderr",
     "output_type": "stream",
     "text": [
      "\u001b[36m\u001b[1m[ \u001b[22m\u001b[39m\u001b[36m\u001b[1mInfo: \u001b[22m\u001b[39m(\"Start time = 1.738743930256514e9\", 1.446547031402588)\n"
     ]
    },
    {
     "name": "stdout",
     "output_type": "stream",
     "text": [
      "E at the end of interation [23, 24, 25, 26, 2, 5, 6, 7, 8, 10, 14, 15, 18, 20, 1]\n",
      "=================Iteration 23 of Labelling=================\n",
      "\n",
      "E= [23, 24, 25, 26, 2, 5, 6, 7, 8, 10, 14, 15, 18, 20, 1] vi= 23\n",
      "successor of 23 are: [1, 2, 5, 6, 7, 8, 10, 14, 15, 18, 20]\n"
     ]
    },
    {
     "name": "stderr",
     "output_type": "stream",
     "text": [
      "\u001b[36m\u001b[1m[ \u001b[22m\u001b[39m\u001b[36m\u001b[1mInfo: \u001b[22m\u001b[39m(\"Start time = 1.738743930256514e9\", 1.6090500354766846)\n"
     ]
    },
    {
     "name": "stdout",
     "output_type": "stream",
     "text": [
      "E at the end of interation [24, 25, 26, 2, 5, 6, 7, 8, 10, 14, 15, 18, 20, 1]\n",
      "=================Iteration 24 of Labelling=================\n",
      "\n",
      "E= [24, 25, 26, 2, 5, 6, 7, 8, 10, 14, 15, 18, 20, 1] vi= 24\n",
      "successor of 24 are: [1, 2, 5, 6, 7, 8, 10, 14, 15, 18, 20]\n"
     ]
    },
    {
     "name": "stderr",
     "output_type": "stream",
     "text": [
      "\u001b[36m\u001b[1m[ \u001b[22m\u001b[39m\u001b[36m\u001b[1mInfo: \u001b[22m\u001b[39m(\"Start time = 1.738743930256514e9\", 1.754145860671997)\n"
     ]
    },
    {
     "name": "stdout",
     "output_type": "stream",
     "text": [
      "E at the end of interation [25, 26, 2, 5, 6, 7, 8, 10, 14, 15, 18, 20, 1]\n",
      "=================Iteration 25 of Labelling=================\n",
      "\n",
      "E= [25, 26, 2, 5, 6, 7, 8, 10, 14, 15, 18, 20, 1] vi= 25\n",
      "successor of 25 are: [1, 2, 5, 6, 7, 8, 10, 14, 15, 18, 20]\n"
     ]
    },
    {
     "name": "stderr",
     "output_type": "stream",
     "text": [
      "\u001b[36m\u001b[1m[ \u001b[22m\u001b[39m\u001b[36m\u001b[1mInfo: \u001b[22m\u001b[39m(\"Start time = 1.738743930256514e9\", 1.8865978717803955)\n"
     ]
    },
    {
     "name": "stdout",
     "output_type": "stream",
     "text": [
      "E at the end of interation [26, 2, 5, 6, 7, 8, 10, 14, 15, 18, 20, 1]\n",
      "=================Iteration 26 of Labelling=================\n",
      "\n",
      "E= [26, 2, 5, 6, 7, 8, 10, 14, 15, 18, 20, 1] vi= 26\n",
      "successor of 26 are: [1, 2, 5, 6, 7, 8, 10, 14, 15, 18, 20]\n"
     ]
    },
    {
     "name": "stderr",
     "output_type": "stream",
     "text": [
      "\u001b[36m\u001b[1m[ \u001b[22m\u001b[39m\u001b[36m\u001b[1mInfo: \u001b[22m\u001b[39m(\"Start time = 1.738743930256514e9\", 2.056321859359741)\n"
     ]
    },
    {
     "name": "stdout",
     "output_type": "stream",
     "text": [
      "E at the end of interation [2, 5, 6, 7, 8, 10, 14, 15, 18, 20, 1]\n",
      "=================Iteration 27 of Labelling=================\n",
      "\n",
      "E= [2, 5, 6, 7, 8, 10, 14, 15, 18, 20, 1] vi= 2\n",
      "successor of 2 are: [1, 3, 4, 5, 6, 7, 8, 9, 10, 11, 12, 13, 14, 15, 16, 17, 18, 19, 20, 21, 22, 23, 24, 25, 26]\n"
     ]
    },
    {
     "name": "stderr",
     "output_type": "stream",
     "text": [
      "\u001b[36m\u001b[1m[ \u001b[22m\u001b[39m\u001b[36m\u001b[1mInfo: \u001b[22m\u001b[39m(\"Start time = 1.738743930256514e9\", 2.2225120067596436)\n"
     ]
    },
    {
     "name": "stdout",
     "output_type": "stream",
     "text": [
      "\n",
      "Barrier solved model.\n",
      "\n",
      "E at the end of interation [5, 6, 7, 8, 10, 14, 15, 18, 20, 1, 3, 4, 9, 11, 12, 13, 16, 17, 19, 21, 22, 23, 24, 25, 26]\n",
      "=================Iteration 28 of Labelling=================\n",
      "\n",
      "E= [5, 6, 7, 8, 10, 14, 15, 18, 20, 1, 3, 4, 9, 11, 12, 13, 16, 17, 19, 21, 22, 23, 24, 25, 26] vi= 5\n",
      "successor of 5 are: [1, 2, 3, 4, 6, 7, 8, 9, 10, 11, 12, 13, 14, 15, 16, 17, 18, 19, 20, 21, 22, 23, 24, 25, 26]\n"
     ]
    },
    {
     "name": "stderr",
     "output_type": "stream",
     "text": [
      "\u001b[36m\u001b[1m[ \u001b[22m\u001b[39m\u001b[36m\u001b[1mInfo: \u001b[22m\u001b[39m(\"Start time = 1.738743930256514e9\", 6.001744031906128)\n"
     ]
    },
    {
     "name": "stdout",
     "output_type": "stream",
     "text": [
      "E at the end of interation [6, 7, 8, 10, 14, 15, 18, 20, 1, 3, 4, 9, 11, 12, 13, 16, 17, 19, 21, 22, 23, 24, 25, 26, 2]\n",
      "=================Iteration 29 of Labelling=================\n",
      "\n",
      "E= [6, 7, 8, 10, 14, 15, 18, 20, 1, 3, 4, 9, 11, 12, 13, 16, 17, 19, 21, 22, 23, 24, 25, 26, 2] vi= 6\n",
      "successor of 6 are: [1, 2, 3, 4, 5, 7, 8, 9, 10, 11, 12, 13, 14, 15, 16, 17, 18, 19, 20, 21, 22, 23, 24, 25, 26]\n"
     ]
    },
    {
     "name": "stderr",
     "output_type": "stream",
     "text": [
      "\u001b[36m\u001b[1m[ \u001b[22m\u001b[39m\u001b[36m\u001b[1mInfo: \u001b[22m\u001b[39m(\"Start time = 1.738743930256514e9\", 17.369364976882935)\n"
     ]
    },
    {
     "name": "stdout",
     "output_type": "stream",
     "text": [
      "E at the end of interation [7, 8, 10, 14, 15, 18, 20, 1, 3, 4, 9, 11, 12, 13, 16, 17, 19, 21, 22, 23, 24, 25, 26, 2, 5]\n",
      "=================Iteration 30 of Labelling=================\n",
      "\n",
      "E= [7, 8, 10, 14, 15, 18, 20, 1, 3, 4, 9, 11, 12, 13, 16, 17, 19, 21, 22, 23, 24, 25, 26, 2, 5] vi= 7\n",
      "successor of 7 are: [1, 2, 3, 4, 5, 6, 8, 9, 10, 11, 12, 13, 14, 15, 16, 17, 18, 19, 20, 21, 22, 23, 24, 25, 26]\n"
     ]
    },
    {
     "name": "stderr",
     "output_type": "stream",
     "text": [
      "\u001b[36m\u001b[1m[ \u001b[22m\u001b[39m\u001b[36m\u001b[1mInfo: \u001b[22m\u001b[39m(\"Start time = 1.738743930256514e9\", 47.189703941345215)\n"
     ]
    },
    {
     "name": "stdout",
     "output_type": "stream",
     "text": [
      "E at the end of interation [8, 10, 14, 15, 18, 20, 1, 3, 4, 9, 11, 12, 13, 16, 17, 19, 21, 22, 23, 24, 25, 26, 2, 5, 6]\n",
      "=================Iteration 31 of Labelling=================\n",
      "Min RC solution= Label(431.40716453661713, -4138.723400631493, [1, 1, 1, 1, 1, 1, 1, 1, 1, 1, 1, 1, 1, 1, 1, 1, 1, 1, 1, 1, 1, 1, 1, 1, 1, 1], [1, 2, 8, 10, 14, 15, 18, 20, 17, 5, 6, 7, 1])\n",
      "\n",
      "======================Iteration 2 at 175.15408611297607s of column generation======================\n",
      "1e route= Route[Route(127.01181047445942, [1, 2, 1], 3, 0), Route(211.10187114282053, [1, 5, 1], 3, 0), Route(205.10485123467947, [1, 6, 1], 3, 0), Route(154.77725931156684, [1, 7, 1], 3, 0), Route(140.91131963046828, [1, 8, 1], 3, 0), Route(75.28612089887484, [1, 10, 1], 3, 0), Route(212.08488866489287, [1, 14, 1], 3, 0), Route(169.19810873647495, [1, 15, 1], 3, 0), Route(206.95893312442448, [1, 18, 1], 3, 0), Route(154.94515158597252, [1, 20, 1], 3, 0), Route(431.40716453661713, [1, 2, 8, 10, 14, 15, 18, 20, 17, 5, 6, 7, 1], 13, 0)]\n"
     ]
    },
    {
     "name": "stderr",
     "output_type": "stream",
     "text": [
      "\u001b[36m\u001b[1m[ \u001b[22m\u001b[39m\u001b[36m\u001b[1mInfo: \u001b[22m\u001b[39m(\"Start time = 1.738743930256514e9\", 162.18311595916748)\n",
      "\u001b[36m\u001b[1m[ \u001b[22m\u001b[39m\u001b[36m\u001b[1mInfo: \u001b[22m\u001b[39mNew 1e route [1, 2, 8, 10, 14, 15, 18, 20, 17, 5, 6, 7, 1] \n"
     ]
    },
    {
     "name": "stdout",
     "output_type": "stream",
     "text": [
      "CPLEX Error  3003: Not a mixed-integer problem.\n",
      "Version identifier: 22.1.1.0 | 2022-11-28 | 9160aff4d\n",
      "Parallel mode: deterministic, using up to 10 threads for concurrent optimization:\n",
      " * Starting dual Simplex on 1 thread...\n",
      " * Starting Barrier on 8 threads...\n",
      " * Starting primal Simplex on 1 thread...\n",
      "Tried aggregator 1 time.\n",
      "LP Presolve eliminated 1922 rows and 1759 columns.\n",
      "Reduced LP has 17053 rows, 17558 columns, and 78790 nonzeros.\n",
      "Presolve time = 0.04 sec. (29.29 ticks)\n",
      "\n",
      "Iteration log . . .\n",
      "Iteration:     1   Dual objective     =             0.000000\n",
      "Perturbation started.\n",
      "Iteration:   101   Dual objective     =             0.000000\n",
      "Iteration:   526   Dual objective     =           187.071700\n",
      "Iteration:   917   Dual objective     =           187.075798\n",
      "Iteration:  1266   Dual objective     =           214.555198\n",
      "Iteration:  1601   Dual objective     =           214.556494\n",
      "Iteration:  1894   Dual objective     =           214.557095\n",
      "Iteration:  2108   Dual objective     =           214.557162\n",
      "Iteration:  2373   Dual objective     =           214.557784\n",
      "Iteration:  2656   Dual objective     =           214.558405\n",
      "Iteration:  2827   Dual objective     =           214.558591\n",
      "Iteration:  3089   Dual objective     =           339.309139\n",
      "Iteration:  3357   Dual objective     =           406.189168\n",
      "Iteration:  3563   Dual objective     =           410.127505\n",
      "Iteration:  3776   Dual objective     =           410.127755\n",
      "Iteration:  3993   Dual objective     =           410.128000\n",
      "Iteration:  4203   Dual objective     =           410.128823\n",
      "Iteration:  4448   Dual objective     =           482.531116\n",
      "Iteration:  4714   Dual objective     =           579.349066\n",
      "Iteration:  4875   Dual objective     =           580.853571\n",
      "Iteration:  5119   Dual objective     =           630.855560\n",
      "Iteration:  5357   Dual objective     =           693.982880\n",
      "Iteration:  5597   Dual objective     =           700.216271\n",
      "Iteration:  5815   Dual objective     =           703.767179\n",
      "Iteration:  6078   Dual objective     =           708.860262\n",
      "Iteration:  6357   Dual objective     =           714.123015\n",
      "Iteration:  6517   Dual objective     =           714.192098\n",
      "Iteration:  6683   Dual objective     =           716.198808\n",
      "Iteration:  6907   Dual objective     =           716.198940\n",
      "Iteration:  7154   Dual objective     =           718.896146\n",
      "Iteration:  7343   Dual objective     =           719.292072\n",
      "Iteration:  7575   Dual objective     =           722.766262\n",
      "Iteration:  7814   Dual objective     =           724.062231\n",
      "Iteration:  8028   Dual objective     =           735.035498\n",
      "Iteration:  8224   Dual objective     =           736.627045\n",
      "Iteration:  8502   Dual objective     =           742.095776\n",
      "Iteration:  8756   Dual objective     =           746.618301\n",
      "Iteration:  8987   Dual objective     =           748.224229\n",
      "Iteration:  9248   Dual objective     =           750.489332\n",
      "Iteration:  9460   Dual objective     =           750.570523\n",
      "Iteration:  9658   Dual objective     =           758.317228\n",
      "Iteration: 10040   Dual objective     =           809.056709\n",
      "Iteration: 10311   Dual objective     =           849.866312\n",
      "Iteration: 10605   Dual objective     =           860.801825\n",
      "Iteration: 10914   Dual objective     =           865.385136\n",
      "Iteration: 11146   Dual objective     =           881.715532\n",
      "Iteration: 11345   Dual objective     =           883.765805\n",
      "Iteration: 11556   Dual objective     =           887.615182\n",
      "Iteration: 11751   Dual objective     =           890.883138\n",
      "Iteration: 11951   Dual objective     =           895.620583\n",
      "Iteration: 12176   Dual objective     =           901.797611\n",
      "Iteration: 12397   Dual objective     =           904.783182\n",
      "Iteration: 12597   Dual objective     =           909.247777\n",
      "Iteration: 12772   Dual objective     =           914.141166\n",
      "Iteration: 12979   Dual objective     =           944.838221\n",
      "Iteration: 13219   Dual objective     =           951.091625\n",
      "Iteration: 13423   Dual objective     =           957.006208\n",
      "Iteration: 13627   Dual objective     =           961.194157\n",
      "Iteration: 13814   Dual objective     =           968.020901\n",
      "Removing perturbation.\n",
      "objective value of master problem is: 969.3329633570081\n",
      "Status of 1e route: \n",
      "   x=0.161290322580645161e Route [1, 2, 8, 10, 14, 15, 18, 20, 17, 5, 6, 7, 1]   Load= 0   Cost= 431.41\n",
      "=================Iteration 1 of Labelling=================\n",
      "\n",
      "E= [2, 5, 6, 7, 8, 10, 14, 15, 18, 20] vi= 2\n",
      "successor of 2 are: [1, 3, 4, 5, 6, 7, 8, 9, 10, 11, 12, 13, 14, 15, 16, 17, 18, 19, 20, 21, 22, 23, 24, 25, 26]\n",
      "E at the end of interation [5, 6, 7, 8, 10, 14, 15, 18, 20, 1, 3, 4, 9, 11, 12, 13, 16, 17, 19, 21, 22, 23, 24, 25, 26]\n",
      "=================Iteration 2 of Labelling=================\n",
      "\n",
      "E= [5, 6, 7, 8, 10, 14, 15, 18, 20, 1, 3, 4, 9, 11, 12, 13, 16, 17, 19, 21, 22, 23, 24, 25, 26] vi= 5\n",
      "successor of 5 are: [1, 2, 3, 4, 6, 7, 8, 9, 10, 11, 12, 13, 14, 15, 16, 17, 18, 19, 20, 21, 22, 23, 24, 25, 26]\n",
      "E at the end of interation [6, 7, 8, 10, 14, 15, 18, 20, 1, 3, 4, 9, 11, 12, 13, 16, 17, 19, 21, 22, 23, 24, 25, 26, 2]\n",
      "=================Iteration 3 of Labelling=================\n",
      "\n",
      "E= [6, 7, 8, 10, 14, 15, 18, 20, 1, 3, 4, 9, 11, 12, 13, 16, 17, 19, 21, 22, 23, 24, 25, 26, 2] vi= 6\n",
      "successor of 6 are: [1, 2, 3, 4, 5, 7, 8, 9, 10, 11, 12, 13, 14, 15, 16, 17, 18, 19, 20, 21, 22, 23, 24, 25, 26]\n",
      "E at the end of interation [7, 8, 10, 14, 15, 18, 20, 1, 3, 4, 9, 11, 12, 13, 16, 17, 19, 21, 22, 23, 24, 25, 26, 2, 5]\n",
      "=================Iteration 4 of Labelling=================\n",
      "\n",
      "E= [7, 8, 10, 14, 15, 18, 20, 1, 3, 4, 9, 11, 12, 13, 16, 17, 19, 21, 22, 23, 24, 25, 26, 2, 5] vi= 7\n",
      "successor of 7 are: [1, 2, 3, 4, 5, 6, 8, 9, 10, 11, 12, 13, 14, 15, 16, 17, 18, 19, 20, 21, 22, 23, 24, 25, 26]\n",
      "E at the end of interation [8, 10, 14, 15, 18, 20, 1, 3, 4, 9, 11, 12, 13, 16, 17, 19, 21, 22, 23, 24, 25, 26, 2, 5, 6]\n",
      "=================Iteration 5 of Labelling=================\n",
      "\n",
      "E= [8, 10, 14, 15, 18, 20, 1, 3, 4, 9, 11, 12, 13, 16, 17, 19, 21, 22, 23, 24, 25, 26, 2, 5, 6] vi= 8\n",
      "successor of 8 are: [1, 2, 3, 4, 5, 6, 7, 9, 10, 11, 12, 13, 14, 15, 16, 17, 18, 19, 20, 21, 22, 23, 24, 25, 26]\n",
      "E at the end of interation [10, 14, 15, 18, 20, 1, 3, 4, 9, 11, 12, 13, 16, 17, 19, 21, 22, 23, 24, 25, 26, 2, 5, 6, 7]\n",
      "=================Iteration 6 of Labelling=================\n",
      "\n",
      "E= [10, 14, 15, 18, 20, 1, 3, 4, 9, 11, 12, 13, 16, 17, 19, 21, 22, 23, 24, 25, 26, 2, 5, 6, 7] vi= 10\n",
      "successor of 10 are: [1, 2, 3, 4, 5, 6, 7, 8, 9, 11, 12, 13, 14, 15, 16, 17, 18, 19, 20, 21, 22, 23, 24, 25, 26]\n",
      "E at the end of interation [14, 15, 18, 20, 1, 3, 4, 9, 11, 12, 13, 16, 17, 19, 21, 22, 23, 24, 25, 26, 2, 5, 6, 7, 8]\n",
      "=================Iteration 7 of Labelling=================\n",
      "\n",
      "E= [14, 15, 18, 20, 1, 3, 4, 9, 11, 12, 13, 16, 17, 19, 21, 22, 23, 24, 25, 26, 2, 5, 6, 7, 8] vi= 14\n",
      "successor of 14 are: [1, 2, 3, 4, 5, 6, 7, 8, 9, 10, 11, 12, 13, 15, 16, 17, 18, 19, 20, 21, 22, 23, 24, 25, 26]\n",
      "E at the end of interation [15, 18, 20, 1, 3, 4, 9, 11, 12, 13, 16, 17, 19, 21, 22, 23, 24, 25, 26, 2, 5, 6, 7, 8, 10]\n",
      "=================Iteration 8 of Labelling=================\n",
      "\n",
      "E= [15, 18, 20, 1, 3, 4, 9, 11, 12, 13, 16, 17, 19, 21, 22, 23, 24, 25, 26, 2, 5, 6, 7, 8, 10] vi= 15\n",
      "successor of 15 are: [1, 2, 3, 4, 5, 6, 7, 8, 9, 10, 11, 12, 13, 14, 16, 17, 18, 19, 20, 21, 22, 23, 24, 25, 26]\n"
     ]
    },
    {
     "name": "stderr",
     "output_type": "stream",
     "text": [
      "\u001b[36m\u001b[1m[ \u001b[22m\u001b[39m\u001b[36m\u001b[1mInfo: \u001b[22m\u001b[39m(\"Start time = 1.738744100428121e9\", 0.0004818439483642578)\n",
      "\u001b[36m\u001b[1m[ \u001b[22m\u001b[39m\u001b[36m\u001b[1mInfo: \u001b[22m\u001b[39m(\"Start time = 1.738744100428121e9\", 0.002260923385620117)\n",
      "\u001b[36m\u001b[1m[ \u001b[22m\u001b[39m\u001b[36m\u001b[1mInfo: \u001b[22m\u001b[39m(\"Start time = 1.738744100428121e9\", 0.0030059814453125)\n",
      "\u001b[36m\u001b[1m[ \u001b[22m\u001b[39m\u001b[36m\u001b[1mInfo: \u001b[22m\u001b[39m(\"Start time = 1.738744100428121e9\", 0.00420379638671875)\n",
      "\u001b[36m\u001b[1m[ \u001b[22m\u001b[39m\u001b[36m\u001b[1mInfo: \u001b[22m\u001b[39m(\"Start time = 1.738744100428121e9\", 0.0063018798828125)\n",
      "\u001b[36m\u001b[1m[ \u001b[22m\u001b[39m\u001b[36m\u001b[1mInfo: \u001b[22m\u001b[39m(\"Start time = 1.738744100428121e9\", 0.01069498062133789)\n",
      "\u001b[36m\u001b[1m[ \u001b[22m\u001b[39m\u001b[36m\u001b[1mInfo: \u001b[22m\u001b[39m(\"Start time = 1.738744100428121e9\", 0.020352840423583984)\n",
      "\u001b[36m\u001b[1m[ \u001b[22m\u001b[39m\u001b[36m\u001b[1mInfo: \u001b[22m\u001b[39m(\"Start time = 1.738744100428121e9\", 0.034950971603393555)\n"
     ]
    },
    {
     "name": "stdout",
     "output_type": "stream",
     "text": [
      "E at the end of interation [18, 20, 1, 3, 4, 9, 11, 12, 13, 16, 17, 19, 21, 22, 23, 24, 25, 26, 2, 5, 6, 7, 8, 10, 14]\n",
      "=================Iteration 9 of Labelling=================\n",
      "\n",
      "E= [18, 20, 1, 3, 4, 9, 11, 12, 13, 16, 17, 19, 21, 22, 23, 24, 25, 26, 2, 5, 6, 7, 8, 10, 14] vi= 18\n",
      "successor of 18 are: [1, 2, 3, 4, 5, 6, 7, 8, 9, 10, 11, 12, 13, 14, 15, 16, 17, 19, 20, 21, 22, 23, 24, 25, 26]\n"
     ]
    },
    {
     "name": "stderr",
     "output_type": "stream",
     "text": [
      "\u001b[36m\u001b[1m[ \u001b[22m\u001b[39m\u001b[36m\u001b[1mInfo: \u001b[22m\u001b[39m(\"Start time = 1.738744100428121e9\", 0.12408185005187988)\n"
     ]
    },
    {
     "name": "stdout",
     "output_type": "stream",
     "text": [
      "E at the end of interation [20, 1, 3, 4, 9, 11, 12, 13, 16, 17, 19, 21, 22, 23, 24, 25, 26, 2, 5, 6, 7, 8, 10, 14, 15]\n",
      "=================Iteration 10 of Labelling=================\n",
      "\n",
      "E= [20, 1, 3, 4, 9, 11, 12, 13, 16, 17, 19, 21, 22, 23, 24, 25, 26, 2, 5, 6, 7, 8, 10, 14, 15] vi= 20\n",
      "successor of 20 are: [1, 2, 3, 4, 5, 6, 7, 8, 9, 10, 11, 12, 13, 14, 15, 16, 17, 18, 19, 21, 22, 23, 24, 25, 26]\n"
     ]
    },
    {
     "name": "stderr",
     "output_type": "stream",
     "text": [
      "\u001b[36m\u001b[1m[ \u001b[22m\u001b[39m\u001b[36m\u001b[1mInfo: \u001b[22m\u001b[39m(\"Start time = 1.738744100428121e9\", 0.2962069511413574)\n"
     ]
    },
    {
     "name": "stdout",
     "output_type": "stream",
     "text": [
      "E at the end of interation [1, 3, 4, 9, 11, 12, 13, 16, 17, 19, 21, 22, 23, 24, 25, 26, 2, 5, 6, 7, 8, 10, 14, 15, 18]\n",
      "=================Iteration 11 of Labelling=================\n",
      "\n",
      "E= [1, 3, 4, 9, 11, 12, 13, 16, 17, 19, 21, 22, 23, 24, 25, 26, 2, 5, 6, 7, 8, 10, 14, 15, 18] vi= 1\n",
      "successor of 1 are: [2, 5, 6, 7, 8, 10, 14, 15, 18, 20]\n"
     ]
    },
    {
     "name": "stderr",
     "output_type": "stream",
     "text": [
      "\u001b[36m\u001b[1m[ \u001b[22m\u001b[39m\u001b[36m\u001b[1mInfo: \u001b[22m\u001b[39m(\"Start time = 1.738744100428121e9\", 0.5366628170013428)\n"
     ]
    },
    {
     "name": "stdout",
     "output_type": "stream",
     "text": [
      "E at the end of interation [3, 4, 9, 11, 12, 13, 16, 17, 19, 21, 22, 23, 24, 25, 26, 2, 5, 6, 7, 8, 10, 14, 15, 18, 20]\n",
      "=================Iteration 12 of Labelling=================\n",
      "\n",
      "E= [3, 4, 9, 11, 12, 13, 16, 17, 19, 21, 22, 23, 24, 25, 26, 2, 5, 6, 7, 8, 10, 14, 15, 18, 20] vi= 3\n",
      "successor of 3 are: [1, 2, 5, 6, 7, 8, 10, 14, 15, 18, 20]\n"
     ]
    },
    {
     "name": "stderr",
     "output_type": "stream",
     "text": [
      "\u001b[36m\u001b[1m[ \u001b[22m\u001b[39m\u001b[36m\u001b[1mInfo: \u001b[22m\u001b[39m(\"Start time = 1.738744100428121e9\", 0.6707108020782471)\n"
     ]
    },
    {
     "name": "stdout",
     "output_type": "stream",
     "text": [
      "E at the end of interation [4, 9, 11, 12, 13, 16, 17, 19, 21, 22, 23, 24, 25, 26, 2, 5, 6, 7, 8, 10, 14, 15, 18, 20, 1]\n",
      "=================Iteration 13 of Labelling=================\n",
      "\n",
      "E= [4, 9, 11, 12, 13, 16, 17, 19, 21, 22, 23, 24, 25, 26, 2, 5, 6, 7, 8, 10, 14, 15, 18, 20, 1] vi= 4\n",
      "successor of 4 are: [1, 2, 5, 6, 7, 8, 10, 14, 15, 18, 20]\n"
     ]
    },
    {
     "name": "stderr",
     "output_type": "stream",
     "text": [
      "\u001b[36m\u001b[1m[ \u001b[22m\u001b[39m\u001b[36m\u001b[1mInfo: \u001b[22m\u001b[39m(\"Start time = 1.738744100428121e9\", 0.9075589179992676)\n"
     ]
    },
    {
     "name": "stdout",
     "output_type": "stream",
     "text": [
      "E at the end of interation [9, 11, 12, 13, 16, 17, 19, 21, 22, 23, 24, 25, 26, 2, 5, 6, 7, 8, 10, 14, 15, 18, 20, 1]\n",
      "=================Iteration 14 of Labelling=================\n",
      "\n",
      "E= [9, 11, 12, 13, 16, 17, 19, 21, 22, 23, 24, 25, 26, 2, 5, 6, 7, 8, 10, 14, 15, 18, 20, 1] vi= 9\n",
      "successor of 9 are: [1, 2, 5, 6, 7, 8, 10, 14, 15, 18, 20]\n"
     ]
    },
    {
     "name": "stderr",
     "output_type": "stream",
     "text": [
      "\u001b[36m\u001b[1m[ \u001b[22m\u001b[39m\u001b[36m\u001b[1mInfo: \u001b[22m\u001b[39m(\"Start time = 1.738744100428121e9\", 1.100389003753662)\n"
     ]
    },
    {
     "name": "stdout",
     "output_type": "stream",
     "text": [
      "E at the end of interation [11, 12, 13, 16, 17, 19, 21, 22, 23, 24, 25, 26, 2, 5, 6, 7, 8, 10, 14, 15, 18, 20, 1]\n",
      "=================Iteration 15 of Labelling=================\n",
      "\n",
      "E= [11, 12, 13, 16, 17, 19, 21, 22, 23, 24, 25, 26, 2, 5, 6, 7, 8, 10, 14, 15, 18, 20, 1] vi= 11\n",
      "successor of 11 are: [1, 2, 5, 6, 7, 8, 10, 14, 15, 18, 20]\n"
     ]
    },
    {
     "name": "stderr",
     "output_type": "stream",
     "text": [
      "\u001b[36m\u001b[1m[ \u001b[22m\u001b[39m\u001b[36m\u001b[1mInfo: \u001b[22m\u001b[39m(\"Start time = 1.738744100428121e9\", 1.3899149894714355)\n"
     ]
    },
    {
     "name": "stdout",
     "output_type": "stream",
     "text": [
      "\n",
      "Barrier solved model.\n",
      "\n",
      "E at the end of interation [12, 13, 16, 17, 19, 21, 22, 23, 24, 25, 26, 2, 5, 6, 7, 8, 10, 14, 15, 18, 20, 1]\n",
      "=================Iteration 16 of Labelling=================\n",
      "\n",
      "E= [12, 13, 16, 17, 19, 21, 22, 23, 24, 25, 26, 2, 5, 6, 7, 8, 10, 14, 15, 18, 20, 1] vi= 12\n",
      "successor of 12 are: [1, 2, 5, 6, 7, 8, 10, 14, 15, 18, 20]\n"
     ]
    },
    {
     "name": "stderr",
     "output_type": "stream",
     "text": [
      "\u001b[36m\u001b[1m[ \u001b[22m\u001b[39m\u001b[36m\u001b[1mInfo: \u001b[22m\u001b[39m(\"Start time = 1.738744100428121e9\", 2.9697020053863525)\n"
     ]
    },
    {
     "name": "stdout",
     "output_type": "stream",
     "text": [
      "E at the end of interation [13, 16, 17, 19, 21, 22, 23, 24, 25, 26, 2, 5, 6, 7, 8, 10, 14, 15, 18, 20, 1]\n",
      "=================Iteration 17 of Labelling=================\n",
      "\n",
      "E= [13, 16, 17, 19, 21, 22, 23, 24, 25, 26, 2, 5, 6, 7, 8, 10, 14, 15, 18, 20, 1] vi= 13\n",
      "successor of 13 are: [1, 2, 5, 6, 7, 8, 10, 14, 15, 18, 20]\n"
     ]
    },
    {
     "name": "stderr",
     "output_type": "stream",
     "text": [
      "\u001b[36m\u001b[1m[ \u001b[22m\u001b[39m\u001b[36m\u001b[1mInfo: \u001b[22m\u001b[39m(\"Start time = 1.738744100428121e9\", 3.2413668632507324)\n"
     ]
    },
    {
     "name": "stdout",
     "output_type": "stream",
     "text": [
      "E at the end of interation [16, 17, 19, 21, 22, 23, 24, 25, 26, 2, 5, 6, 7, 8, 10, 14, 15, 18, 20, 1]\n",
      "=================Iteration 18 of Labelling=================\n",
      "\n",
      "E= [16, 17, 19, 21, 22, 23, 24, 25, 26, 2, 5, 6, 7, 8, 10, 14, 15, 18, 20, 1] vi= 16\n",
      "successor of 16 are: [1, 2, 5, 6, 7, 8, 10, 14, 15, 18, 20]\n"
     ]
    },
    {
     "name": "stderr",
     "output_type": "stream",
     "text": [
      "\u001b[36m\u001b[1m[ \u001b[22m\u001b[39m\u001b[36m\u001b[1mInfo: \u001b[22m\u001b[39m(\"Start time = 1.738744100428121e9\", 3.474569797515869)\n"
     ]
    },
    {
     "name": "stdout",
     "output_type": "stream",
     "text": [
      "E at the end of interation [17, 19, 21, 22, 23, 24, 25, 26, 2, 5, 6, 7, 8, 10, 14, 15, 18, 20, 1]\n",
      "=================Iteration 19 of Labelling=================\n",
      "\n",
      "E= [17, 19, 21, 22, 23, 24, 25, 26, 2, 5, 6, 7, 8, 10, 14, 15, 18, 20, 1] vi= 17\n",
      "successor of 17 are: [1, 2, 5, 6, 7, 8, 10, 14, 15, 18, 20]\n"
     ]
    },
    {
     "name": "stderr",
     "output_type": "stream",
     "text": [
      "\u001b[36m\u001b[1m[ \u001b[22m\u001b[39m\u001b[36m\u001b[1mInfo: \u001b[22m\u001b[39m(\"Start time = 1.738744100428121e9\", 3.7866499423980713)\n"
     ]
    },
    {
     "name": "stdout",
     "output_type": "stream",
     "text": [
      "E at the end of interation [19, 21, 22, 23, 24, 25, 26, 2, 5, 6, 7, 8, 10, 14, 15, 18, 20, 1]\n",
      "=================Iteration 20 of Labelling=================\n",
      "\n",
      "E= [19, 21, 22, 23, 24, 25, 26, 2, 5, 6, 7, 8, 10, 14, 15, 18, 20, 1] vi= 19\n",
      "successor of 19 are: [1, 2, 5, 6, 7, 8, 10, 14, 15, 18, 20]\n"
     ]
    },
    {
     "name": "stderr",
     "output_type": "stream",
     "text": [
      "\u001b[36m\u001b[1m[ \u001b[22m\u001b[39m\u001b[36m\u001b[1mInfo: \u001b[22m\u001b[39m(\"Start time = 1.738744100428121e9\", 4.110052824020386)\n"
     ]
    },
    {
     "name": "stdout",
     "output_type": "stream",
     "text": [
      "E at the end of interation [21, 22, 23, 24, 25, 26, 2, 5, 6, 7, 8, 10, 14, 15, 18, 20, 1]\n",
      "=================Iteration 21 of Labelling=================\n",
      "\n",
      "E= [21, 22, 23, 24, 25, 26, 2, 5, 6, 7, 8, 10, 14, 15, 18, 20, 1] vi= 21\n",
      "successor of 21 are: [1, 2, 5, 6, 7, 8, 10, 14, 15, 18, 20]\n"
     ]
    },
    {
     "name": "stderr",
     "output_type": "stream",
     "text": [
      "\u001b[36m\u001b[1m[ \u001b[22m\u001b[39m\u001b[36m\u001b[1mInfo: \u001b[22m\u001b[39m(\"Start time = 1.738744100428121e9\", 4.415462017059326)\n"
     ]
    },
    {
     "name": "stdout",
     "output_type": "stream",
     "text": [
      "E at the end of interation [22, 23, 24, 25, 26, 2, 5, 6, 7, 8, 10, 14, 15, 18, 20, 1]\n",
      "=================Iteration 22 of Labelling=================\n",
      "\n",
      "E= [22, 23, 24, 25, 26, 2, 5, 6, 7, 8, 10, 14, 15, 18, 20, 1] vi= 22\n",
      "successor of 22 are: [1, 2, 5, 6, 7, 8, 10, 14, 15, 18, 20]\n"
     ]
    },
    {
     "name": "stderr",
     "output_type": "stream",
     "text": [
      "\u001b[36m\u001b[1m[ \u001b[22m\u001b[39m\u001b[36m\u001b[1mInfo: \u001b[22m\u001b[39m(\"Start time = 1.738744100428121e9\", 4.799846887588501)\n"
     ]
    },
    {
     "name": "stdout",
     "output_type": "stream",
     "text": [
      "E at the end of interation [23, 24, 25, 26, 2, 5, 6, 7, 8, 10, 14, 15, 18, 20, 1]\n",
      "=================Iteration 23 of Labelling=================\n",
      "\n",
      "E= [23, 24, 25, 26, 2, 5, 6, 7, 8, 10, 14, 15, 18, 20, 1] vi= 23\n",
      "successor of 23 are: [1, 2, 5, 6, 7, 8, 10, 14, 15, 18, 20]\n"
     ]
    },
    {
     "name": "stderr",
     "output_type": "stream",
     "text": [
      "\u001b[36m\u001b[1m[ \u001b[22m\u001b[39m\u001b[36m\u001b[1mInfo: \u001b[22m\u001b[39m(\"Start time = 1.738744100428121e9\", 5.169478893280029)\n"
     ]
    },
    {
     "name": "stdout",
     "output_type": "stream",
     "text": [
      "E at the end of interation [24, 25, 26, 2, 5, 6, 7, 8, 10, 14, 15, 18, 20, 1]\n",
      "=================Iteration 24 of Labelling=================\n",
      "\n",
      "E= [24, 25, 26, 2, 5, 6, 7, 8, 10, 14, 15, 18, 20, 1] vi= 24\n",
      "successor of 24 are: [1, 2, 5, 6, 7, 8, 10, 14, 15, 18, 20]\n"
     ]
    },
    {
     "name": "stderr",
     "output_type": "stream",
     "text": [
      "\u001b[36m\u001b[1m[ \u001b[22m\u001b[39m\u001b[36m\u001b[1mInfo: \u001b[22m\u001b[39m(\"Start time = 1.738744100428121e9\", 5.695530891418457)\n"
     ]
    },
    {
     "name": "stdout",
     "output_type": "stream",
     "text": [
      "E at the end of interation [25, 26, 2, 5, 6, 7, 8, 10, 14, 15, 18, 20, 1]\n",
      "=================Iteration 25 of Labelling=================\n",
      "\n",
      "E= [25, 26, 2, 5, 6, 7, 8, 10, 14, 15, 18, 20, 1] vi= 25\n",
      "successor of 25 are: [1, 2, 5, 6, 7, 8, 10, 14, 15, 18, 20]\n"
     ]
    },
    {
     "name": "stderr",
     "output_type": "stream",
     "text": [
      "\u001b[36m\u001b[1m[ \u001b[22m\u001b[39m\u001b[36m\u001b[1mInfo: \u001b[22m\u001b[39m(\"Start time = 1.738744100428121e9\", 6.268919944763184)\n"
     ]
    },
    {
     "name": "stdout",
     "output_type": "stream",
     "text": [
      "E at the end of interation [26, 2, 5, 6, 7, 8, 10, 14, 15, 18, 20, 1]\n",
      "=================Iteration 26 of Labelling=================\n",
      "\n",
      "E= [26, 2, 5, 6, 7, 8, 10, 14, 15, 18, 20, 1] vi= 26\n",
      "successor of 26 are: [1, 2, 5, 6, 7, 8, 10, 14, 15, 18, 20]\n"
     ]
    },
    {
     "name": "stderr",
     "output_type": "stream",
     "text": [
      "\u001b[36m\u001b[1m[ \u001b[22m\u001b[39m\u001b[36m\u001b[1mInfo: \u001b[22m\u001b[39m(\"Start time = 1.738744100428121e9\", 6.743543863296509)\n"
     ]
    },
    {
     "name": "stdout",
     "output_type": "stream",
     "text": [
      "E at the end of interation [2, 5, 6, 7, 8, 10, 14, 15, 18, 20, 1]\n",
      "=================Iteration 27 of Labelling=================\n",
      "\n",
      "E= [2, 5, 6, 7, 8, 10, 14, 15, 18, 20, 1] vi= 2\n",
      "successor of 2 are: [1, 3, 4, 5, 6, 7, 8, 9, 10, 11, 12, 13, 14, 15, 16, 17, 18, 19, 20, 21, 22, 23, 24, 25, 26]\n"
     ]
    },
    {
     "name": "stderr",
     "output_type": "stream",
     "text": [
      "\u001b[36m\u001b[1m[ \u001b[22m\u001b[39m\u001b[36m\u001b[1mInfo: \u001b[22m\u001b[39m(\"Start time = 1.738744100428121e9\", 7.141960859298706)\n"
     ]
    },
    {
     "name": "stdout",
     "output_type": "stream",
     "text": [
      "E at the end of interation [5, 6, 7, 8, 10, 14, 15, 18, 20, 1, 3, 4, 9, 11, 12, 13, 16, 17, 19, 21, 22, 23, 24, 25, 26]\n",
      "=================Iteration 28 of Labelling=================\n",
      "\n",
      "E= [5, 6, 7, 8, 10, 14, 15, 18, 20, 1, 3, 4, 9, 11, 12, 13, 16, 17, 19, 21, 22, 23, 24, 25, 26] vi= 5\n",
      "successor of 5 are: [1, 2, 3, 4, 6, 7, 8, 9, 10, 11, 12, 13, 14, 15, 16, 17, 18, 19, 20, 21, 22, 23, 24, 25, 26]\n"
     ]
    },
    {
     "name": "stderr",
     "output_type": "stream",
     "text": [
      "\u001b[36m\u001b[1m[ \u001b[22m\u001b[39m\u001b[36m\u001b[1mInfo: \u001b[22m\u001b[39m(\"Start time = 1.738744100428121e9\", 18.362493991851807)\n"
     ]
    },
    {
     "name": "stdout",
     "output_type": "stream",
     "text": [
      "E at the end of interation [6, 7, 8, 10, 14, 15, 18, 20, 1, 3, 4, 9, 11, 12, 13, 16, 17, 19, 21, 22, 23, 24, 25, 26, 2]\n",
      "=================Iteration 29 of Labelling=================\n",
      "\n",
      "E= [6, 7, 8, 10, 14, 15, 18, 20, 1, 3, 4, 9, 11, 12, 13, 16, 17, 19, 21, 22, 23, 24, 25, 26, 2] vi= 6\n",
      "successor of 6 are: [1, 2, 3, 4, 5, 7, 8, 9, 10, 11, 12, 13, 14, 15, 16, 17, 18, 19, 20, 21, 22, 23, 24, 25, 26]\n"
     ]
    },
    {
     "name": "stderr",
     "output_type": "stream",
     "text": [
      "\u001b[36m\u001b[1m[ \u001b[22m\u001b[39m\u001b[36m\u001b[1mInfo: \u001b[22m\u001b[39m(\"Start time = 1.738744100428121e9\", 46.27668881416321)\n"
     ]
    },
    {
     "name": "stdout",
     "output_type": "stream",
     "text": [
      "E at the end of interation [7, 8, 10, 14, 15, 18, 20, 1, 3, 4, 9, 11, 12, 13, 16, 17, 19, 21, 22, 23, 24, 25, 26, 2, 5]\n",
      "=================Iteration 30 of Labelling=================\n",
      "Min RC solution= Label(218.4560009616156, -2918.7424808140536, [1, 1, 1, 1, 0, 1, 0, 1, 1, 0, 1, 1, 1, 0, 0, 1, 1, 0, 1, 0, 1, 1, 1, 1, 1, 1], [1, 2, 6, 8, 4, 1])\n",
      "\n",
      "======================Iteration 3 at 314.3097529411316s of column generation======================\n",
      "1e route= Route[Route(127.01181047445942, [1, 2, 1], 3, 0), Route(211.10187114282053, [1, 5, 1], 3, 0), Route(205.10485123467947, [1, 6, 1], 3, 0), Route(154.77725931156684, [1, 7, 1], 3, 0), Route(140.91131963046828, [1, 8, 1], 3, 0), Route(75.28612089887484, [1, 10, 1], 3, 0), Route(212.08488866489287, [1, 14, 1], 3, 0), Route(169.19810873647495, [1, 15, 1], 3, 0), Route(206.95893312442448, [1, 18, 1], 3, 0), Route(154.94515158597252, [1, 20, 1], 3, 0), Route(431.40716453661713, [1, 2, 8, 10, 14, 15, 18, 20, 17, 5, 6, 7, 1], 13, 0), Route(218.4560009616156, [1, 2, 6, 8, 4, 1], 6, 0)]\n"
     ]
    },
    {
     "name": "stderr",
     "output_type": "stream",
     "text": [
      "\u001b[36m\u001b[1m[ \u001b[22m\u001b[39m\u001b[36m\u001b[1mInfo: \u001b[22m\u001b[39m(\"Start time = 1.738744100428121e9\", 131.18730092048645)\n",
      "\u001b[36m\u001b[1m[ \u001b[22m\u001b[39m\u001b[36m\u001b[1mInfo: \u001b[22m\u001b[39mNew 1e route [1, 2, 6, 8, 4, 1] \n"
     ]
    },
    {
     "name": "stdout",
     "output_type": "stream",
     "text": [
      "CPLEX Error  3003: Not a mixed-integer problem.\n",
      "Version identifier: 22.1.1.0 | 2022-11-28 | 9160aff4d\n",
      "Parallel mode: deterministic, using up to 10 threads for concurrent optimization:\n",
      " * Starting dual Simplex on 1 thread...\n",
      " * Starting Barrier on 8 threads...\n",
      " * Starting primal Simplex on 1 thread...\n",
      "Tried aggregator 1 time.\n",
      "LP Presolve eliminated 1847 rows and 1685 columns.\n",
      "Reduced LP has 17128 rows, 17633 columns, and 79088 nonzeros.\n",
      "Presolve time = 0.04 sec. (29.35 ticks)\n",
      "\n",
      "Iteration log . . .\n",
      "Iteration:     1   Dual objective     =             0.000000\n",
      "Perturbation started.\n",
      "Iteration:   101   Dual objective     =             0.000000\n",
      "Iteration:   494   Dual objective     =           186.826153\n",
      "Iteration:   890   Dual objective     =           213.446603\n",
      "Iteration:  1134   Dual objective     =           214.552313\n",
      "Iteration:  1399   Dual objective     =           214.552706\n",
      "Iteration:  1602   Dual objective     =           214.552764\n",
      "Iteration:  1857   Dual objective     =           214.553247\n",
      "Iteration:  2093   Dual objective     =           214.553365\n",
      "Iteration:  2325   Dual objective     =           214.553670\n",
      "Iteration:  2500   Dual objective     =           214.553896\n",
      "Iteration:  2748   Dual objective     =           214.554204\n",
      "Iteration:  3014   Dual objective     =           214.554579\n",
      "Iteration:  3255   Dual objective     =           214.555115\n",
      "Iteration:  3486   Dual objective     =           214.555982\n",
      "Iteration:  3787   Dual objective     =           315.606428\n",
      "Iteration:  4016   Dual objective     =           365.834411\n",
      "Iteration:  4281   Dual objective     =           418.315207\n",
      "Iteration:  4440   Dual objective     =           429.872700\n",
      "Iteration:  4715   Dual objective     =           524.685862\n",
      "Iteration:  4924   Dual objective     =           558.339928\n",
      "Iteration:  5108   Dual objective     =           562.391108\n",
      "Iteration:  5364   Dual objective     =           589.447766\n",
      "Iteration:  5609   Dual objective     =           629.306173\n",
      "Iteration:  5885   Dual objective     =           643.245235\n",
      "Iteration:  6098   Dual objective     =           646.778370\n",
      "Iteration:  6325   Dual objective     =           647.108824\n",
      "Iteration:  6510   Dual objective     =           647.108915\n",
      "Iteration:  6731   Dual objective     =           647.109129\n",
      "Iteration:  6957   Dual objective     =           647.109454\n",
      "Iteration:  7206   Dual objective     =           647.649332\n",
      "Iteration:  7456   Dual objective     =           657.205471\n",
      "Iteration:  7716   Dual objective     =           662.651110\n",
      "Iteration:  7941   Dual objective     =           681.538385\n",
      "Iteration:  8176   Dual objective     =           692.866567\n",
      "Iteration:  8438   Dual objective     =           711.642529\n",
      "Iteration:  8773   Dual objective     =           779.270776\n",
      "Iteration:  8955   Dual objective     =           787.872776\n",
      "Iteration:  9180   Dual objective     =           802.423388\n",
      "Iteration:  9418   Dual objective     =           813.026032\n",
      "Iteration:  9574   Dual objective     =           818.142566\n",
      "Iteration:  9873   Dual objective     =           832.649101\n",
      "Iteration: 10135   Dual objective     =           839.596764\n",
      "Iteration: 10355   Dual objective     =           844.264252\n",
      "Iteration: 10578   Dual objective     =           849.788146\n",
      "Iteration: 10769   Dual objective     =           851.921496\n",
      "Iteration: 10920   Dual objective     =           853.748967\n",
      "Iteration: 11059   Dual objective     =           854.941407\n",
      "Iteration: 11233   Dual objective     =           855.712588\n",
      "Iteration: 11369   Dual objective     =           855.957262\n",
      "Removing perturbation.\n",
      "objective value of master problem is: 855.9895331062213\n",
      "Status of 1e route: \n",
      "   x=0.072580645161290341e Route [1, 7, 1]   Load= 0   Cost= 154.78\n",
      "   x=0.096774193548387111e Route [1, 10, 1]   Load= 0   Cost= 75.29\n",
      "   x=0.048387096774193551e Route [1, 2, 8, 10, 14, 15, 18, 20, 17, 5, 6, 7, 1]   Load= 0   Cost= 431.41\n",
      "   x=0.112903225806451611e Route [1, 2, 6, 8, 4, 1]   Load= 0   Cost= 218.46\n",
      "=================Iteration 1 of Labelling=================\n",
      "\n",
      "E= [2, 5, 6, 7, 8, 10, 14, 15, 18, 20] vi= 2\n",
      "successor of 2 are: [1, 3, 4, 5, 6, 7, 8, 9, 10, 11, 12, 13, 14, 15, 16, 17, 18, 19, 20, 21, 22, 23, 24, 25, 26]\n",
      "E at the end of interation [5, 6, 7, 8, 10, 14, 15, 18, 20, 1, 3, 4, 9, 11, 12, 13, 16, 17, 19, 21, 22, 23, 24, 25, 26]\n",
      "=================Iteration 2 of Labelling=================\n",
      "\n",
      "E= [5, 6, 7, 8, 10, 14, 15, 18, 20, 1, 3, 4, 9, 11, 12, 13, 16, 17, 19, 21, 22, 23, 24, 25, 26] vi= 5\n",
      "successor of 5 are: [1, 2, 3, 4, 6, 7, 8, 9, 10, 11, 12, 13, 14, 15, 16, 17, 18, 19, 20, 21, 22, 23, 24, 25, 26]\n",
      "E at the end of interation [6, 7, 8, 10, 14, 15, 18, 20, 1, 3, 4, 9, 11, 12, 13, 16, 17, 19, 21, 22, 23, 24, 25, 26, 2]\n",
      "=================Iteration 3 of Labelling=================\n",
      "\n",
      "E= [6, 7, 8, 10, 14, 15, 18, 20, 1, 3, 4, 9, 11, 12, 13, 16, 17, 19, 21, 22, 23, 24, 25, 26, 2] vi= 6\n",
      "successor of 6 are: [1, 2, 3, 4, 5, 7, 8, 9, 10, 11, 12, 13, 14, 15, 16, 17, 18, 19, 20, 21, 22, 23, 24, 25, 26]\n",
      "E at the end of interation [7, 8, 10, 14, 15, 18, 20, 1, 3, 4, 9, 11, 12, 13, 16, 17, 19, 21, 22, 23, 24, 25, 26, 2, 5]\n",
      "=================Iteration 4 of Labelling=================\n",
      "\n",
      "E= [7, 8, 10, 14, 15, 18, 20, 1, 3, 4, 9, 11, 12, 13, 16, 17, 19, 21, 22, 23, 24, 25, 26, 2, 5] vi= 7\n",
      "successor of 7 are: [1, 2, 3, 4, 5, 6, 8, 9, 10, 11, 12, 13, 14, 15, 16, 17, 18, 19, 20, 21, 22, 23, 24, 25, 26]\n",
      "E at the end of interation [8, 10, 14, 15, 18, 20, 1, 3, 4, 9, 11, 12, 13, 16, 17, 19, 21, 22, 23, 24, 25, 26, 2, 5, 6]\n",
      "=================Iteration 5 of Labelling=================\n",
      "\n",
      "E= [8, 10, 14, 15, 18, 20, 1, 3, 4, 9, 11, 12, 13, 16, 17, 19, 21, 22, 23, 24, 25, 26, 2, 5, 6] vi= 8\n",
      "successor of 8 are: [1, 2, 3, 4, 5, 6, 7, 9, 10, 11, 12, 13, 14, 15, 16, 17, 18, 19, 20, 21, 22, 23, 24, 25, 26]\n"
     ]
    },
    {
     "name": "stderr",
     "output_type": "stream",
     "text": [
      "\u001b[36m\u001b[1m[ \u001b[22m\u001b[39m\u001b[36m\u001b[1mInfo: \u001b[22m\u001b[39m(\"Start time = 1.738744242693004e9\", 0.004458189010620117)\n",
      "\u001b[36m\u001b[1m[ \u001b[22m\u001b[39m\u001b[36m\u001b[1mInfo: \u001b[22m\u001b[39m(\"Start time = 1.738744242693004e9\", 0.0249941349029541)\n",
      "\u001b[36m\u001b[1m[ \u001b[22m\u001b[39m\u001b[36m\u001b[1mInfo: \u001b[22m\u001b[39m(\"Start time = 1.738744242693004e9\", 0.028548002243041992)\n",
      "\u001b[36m\u001b[1m[ \u001b[22m\u001b[39m\u001b[36m\u001b[1mInfo: \u001b[22m\u001b[39m(\"Start time = 1.738744242693004e9\", 0.036927223205566406)\n",
      "\u001b[36m\u001b[1m[ \u001b[22m\u001b[39m\u001b[36m\u001b[1mInfo: \u001b[22m\u001b[39m(\"Start time = 1.738744242693004e9\", 0.043122053146362305)\n"
     ]
    },
    {
     "name": "stdout",
     "output_type": "stream",
     "text": [
      "E at the end of interation [10, 14, 15, 18, 20, 1, 3, 4, 9, 11, 12, 13, 16, 17, 19, 21, 22, 23, 24, 25, 26, 2, 5, 6, 7]\n",
      "=================Iteration 6 of Labelling=================\n",
      "\n",
      "E= [10, 14, 15, 18, 20, 1, 3, 4, 9, 11, 12, 13, 16, 17, 19, 21, 22, 23, 24, 25, 26, 2, 5, 6, 7] vi= 10\n",
      "successor of 10 are: [1, 2, 3, 4, 5, 6, 7, 8, 9, 11, 12, 13, 14, 15, 16, 17, 18, 19, 20, 21, 22, 23, 24, 25, 26]\n",
      "E at the end of interation [14, 15, 18, 20, 1, 3, 4, 9, 11, 12, 13, 16, 17, 19, 21, 22, 23, 24, 25, 26, 2, 5, 6, 7, 8]\n",
      "=================Iteration 7 of Labelling=================\n",
      "\n",
      "E= [14, 15, 18, 20, 1, 3, 4, 9, 11, 12, 13, 16, 17, 19, 21, 22, 23, 24, 25, 26, 2, 5, 6, 7, 8] vi= 14\n",
      "successor of 14 are: [1, 2, 3, 4, 5, 6, 7, 8, 9, 10, 11, 12, 13, 15, 16, 17, 18, 19, 20, 21, 22, 23, 24, 25, 26]\n",
      "E at the end of interation [15, 18, 20, 1, 3, 4, 9, 11, 12, 13, 16, 17, 19, 21, 22, 23, 24, 25, 26, 2, 5, 6, 7, 8, 10]\n",
      "=================Iteration 8 of Labelling=================\n",
      "\n",
      "E= [15, 18, 20, 1, 3, 4, 9, 11, 12, 13, 16, 17, 19, 21, 22, 23, 24, 25, 26, 2, 5, 6, 7, 8, 10] vi= 15\n",
      "successor of 15 are: [1, 2, 3, 4, 5, 6, 7, 8, 9, 10, 11, 12, 13, 14, 16, 17, 18, 19, 20, 21, 22, 23, 24, 25, 26]\n"
     ]
    },
    {
     "name": "stderr",
     "output_type": "stream",
     "text": [
      "\u001b[36m\u001b[1m[ \u001b[22m\u001b[39m\u001b[36m\u001b[1mInfo: \u001b[22m\u001b[39m(\"Start time = 1.738744242693004e9\", 0.11908912658691406)\n",
      "\u001b[36m\u001b[1m[ \u001b[22m\u001b[39m\u001b[36m\u001b[1mInfo: \u001b[22m\u001b[39m(\"Start time = 1.738744242693004e9\", 0.1263580322265625)\n",
      "\u001b[36m\u001b[1m[ \u001b[22m\u001b[39m\u001b[36m\u001b[1mInfo: \u001b[22m\u001b[39m(\"Start time = 1.738744242693004e9\", 0.1344311237335205)\n"
     ]
    },
    {
     "name": "stdout",
     "output_type": "stream",
     "text": [
      "E at the end of interation [18, 20, 1, 3, 4, 9, 11, 12, 13, 16, 17, 19, 21, 22, 23, 24, 25, 26, 2, 5, 6, 7, 8, 10, 14]\n",
      "=================Iteration 9 of Labelling=================\n",
      "\n",
      "E= [18, 20, 1, 3, 4, 9, 11, 12, 13, 16, 17, 19, 21, 22, 23, 24, 25, 26, 2, 5, 6, 7, 8, 10, 14] vi= 18\n",
      "successor of 18 are: [1, 2, 3, 4, 5, 6, 7, 8, 9, 10, 11, 12, 13, 14, 15, 16, 17, 19, 20, 21, 22, 23, 24, 25, 26]\n",
      "E at the end of interation [20, 1, 3, 4, 9, 11, 12, 13, 16, 17, 19, 21, 22, 23, 24, 25, 26, 2, 5, 6, 7, 8, 10, 14, 15]\n",
      "=================Iteration 10 of Labelling=================\n",
      "\n",
      "E= [20, 1, 3, 4, 9, 11, 12, 13, 16, 17, 19, 21, 22, 23, 24, 25, 26, 2, 5, 6, 7, 8, 10, 14, 15] vi= 20\n",
      "successor of 20 are: [1, 2, 3, 4, 5, 6, 7, 8, 9, 10, 11, 12, 13, 14, 15, 16, 17, 18, 19, 21, 22, 23, 24, 25, 26]\n"
     ]
    },
    {
     "name": "stderr",
     "output_type": "stream",
     "text": [
      "\u001b[36m\u001b[1m[ \u001b[22m\u001b[39m\u001b[36m\u001b[1mInfo: \u001b[22m\u001b[39m(\"Start time = 1.738744242693004e9\", 0.3898200988769531)\n",
      "\u001b[36m\u001b[1m[ \u001b[22m\u001b[39m\u001b[36m\u001b[1mInfo: \u001b[22m\u001b[39m(\"Start time = 1.738744242693004e9\", 0.46090221405029297)\n"
     ]
    },
    {
     "name": "stdout",
     "output_type": "stream",
     "text": [
      "E at the end of interation [1, 3, 4, 9, 11, 12, 13, 16, 17, 19, 21, 22, 23, 24, 25, 26, 2, 5, 6, 7, 8, 10, 14, 15, 18]\n",
      "=================Iteration 11 of Labelling=================\n",
      "\n",
      "E= [1, 3, 4, 9, 11, 12, 13, 16, 17, 19, 21, 22, 23, 24, 25, 26, 2, 5, 6, 7, 8, 10, 14, 15, 18] vi= 1\n",
      "successor of 1 are: [2, 5, 6, 7, 8, 10, 14, 15, 18, 20]\n"
     ]
    },
    {
     "name": "stderr",
     "output_type": "stream",
     "text": [
      "\u001b[36m\u001b[1m[ \u001b[22m\u001b[39m\u001b[36m\u001b[1mInfo: \u001b[22m\u001b[39m(\"Start time = 1.738744242693004e9\", 0.946533203125)\n"
     ]
    },
    {
     "name": "stdout",
     "output_type": "stream",
     "text": [
      "E at the end of interation [3, 4, 9, 11, 12, 13, 16, 17, 19, 21, 22, 23, 24, 25, 26, 2, 5, 6, 7, 8, 10, 14, 15, 18, 20]\n",
      "=================Iteration 12 of Labelling=================\n",
      "\n",
      "E= [3, 4, 9, 11, 12, 13, 16, 17, 19, 21, 22, 23, 24, 25, 26, 2, 5, 6, 7, 8, 10, 14, 15, 18, 20] vi= 3\n",
      "successor of 3 are: [1, 2, 5, 6, 7, 8, 10, 14, 15, 18, 20]\n"
     ]
    },
    {
     "name": "stderr",
     "output_type": "stream",
     "text": [
      "\u001b[36m\u001b[1m[ \u001b[22m\u001b[39m\u001b[36m\u001b[1mInfo: \u001b[22m\u001b[39m(\"Start time = 1.738744242693004e9\", 1.4214060306549072)\n"
     ]
    },
    {
     "name": "stdout",
     "output_type": "stream",
     "text": [
      "E at the end of interation [4, 9, 11, 12, 13, 16, 17, 19, 21, 22, 23, 24, 25, 26, 2, 5, 6, 7, 8, 10, 14, 15, 18, 20, 1]\n",
      "=================Iteration 13 of Labelling=================\n",
      "\n",
      "E= [4, 9, 11, 12, 13, 16, 17, 19, 21, 22, 23, 24, 25, 26, 2, 5, 6, 7, 8, 10, 14, 15, 18, 20, 1] vi= 4\n",
      "successor of 4 are: [1, 2, 5, 6, 7, 8, 10, 14, 15, 18, 20]\n"
     ]
    },
    {
     "name": "stderr",
     "output_type": "stream",
     "text": [
      "\u001b[36m\u001b[1m[ \u001b[22m\u001b[39m\u001b[36m\u001b[1mInfo: \u001b[22m\u001b[39m(\"Start time = 1.738744242693004e9\", 1.6071550846099854)\n"
     ]
    },
    {
     "name": "stdout",
     "output_type": "stream",
     "text": [
      "E at the end of interation [9, 11, 12, 13, 16, 17, 19, 21, 22, 23, 24, 25, 26, 2, 5, 6, 7, 8, 10, 14, 15, 18, 20, 1]\n",
      "=================Iteration 14 of Labelling=================\n",
      "\n",
      "E= [9, 11, 12, 13, 16, 17, 19, 21, 22, 23, 24, 25, 26, 2, 5, 6, 7, 8, 10, 14, 15, 18, 20, 1] vi= 9\n",
      "successor of 9 are: [1, 2, 5, 6, 7, 8, 10, 14, 15, 18, 20]\n"
     ]
    },
    {
     "name": "stderr",
     "output_type": "stream",
     "text": [
      "\u001b[36m\u001b[1m[ \u001b[22m\u001b[39m\u001b[36m\u001b[1mInfo: \u001b[22m\u001b[39m(\"Start time = 1.738744242693004e9\", 1.9706711769104004)\n"
     ]
    },
    {
     "name": "stdout",
     "output_type": "stream",
     "text": [
      "E at the end of interation [11, 12, 13, 16, 17, 19, 21, 22, 23, 24, 25, 26, 2, 5, 6, 7, 8, 10, 14, 15, 18, 20, 1]\n",
      "=================Iteration 15 of Labelling=================\n",
      "\n",
      "E= [11, 12, 13, 16, 17, 19, 21, 22, 23, 24, 25, 26, 2, 5, 6, 7, 8, 10, 14, 15, 18, 20, 1] vi= 11\n",
      "successor of 11 are: [1, 2, 5, 6, 7, 8, 10, 14, 15, 18, 20]\n"
     ]
    },
    {
     "name": "stderr",
     "output_type": "stream",
     "text": [
      "\u001b[36m\u001b[1m[ \u001b[22m\u001b[39m\u001b[36m\u001b[1mInfo: \u001b[22m\u001b[39m(\"Start time = 1.738744242693004e9\", 2.4837021827697754)\n"
     ]
    },
    {
     "name": "stdout",
     "output_type": "stream",
     "text": [
      "E at the end of interation [12, 13, 16, 17, 19, 21, 22, 23, 24, 25, 26, 2, 5, 6, 7, 8, 10, 14, 15, 18, 20, 1]\n",
      "=================Iteration 16 of Labelling=================\n",
      "\n",
      "E= [12, 13, 16, 17, 19, 21, 22, 23, 24, 25, 26, 2, 5, 6, 7, 8, 10, 14, 15, 18, 20, 1] vi= 12\n",
      "successor of 12 are: [1, 2, 5, 6, 7, 8, 10, 14, 15, 18, 20]\n"
     ]
    },
    {
     "name": "stderr",
     "output_type": "stream",
     "text": [
      "\u001b[36m\u001b[1m[ \u001b[22m\u001b[39m\u001b[36m\u001b[1mInfo: \u001b[22m\u001b[39m(\"Start time = 1.738744242693004e9\", 3.0262081623077393)\n"
     ]
    },
    {
     "name": "stdout",
     "output_type": "stream",
     "text": [
      "E at the end of interation [13, 16, 17, 19, 21, 22, 23, 24, 25, 26, 2, 5, 6, 7, 8, 10, 14, 15, 18, 20, 1]\n",
      "=================Iteration 17 of Labelling=================\n",
      "\n",
      "E= [13, 16, 17, 19, 21, 22, 23, 24, 25, 26, 2, 5, 6, 7, 8, 10, 14, 15, 18, 20, 1] vi= 13\n",
      "successor of 13 are: [1, 2, 5, 6, 7, 8, 10, 14, 15, 18, 20]\n"
     ]
    },
    {
     "name": "stderr",
     "output_type": "stream",
     "text": [
      "\u001b[36m\u001b[1m[ \u001b[22m\u001b[39m\u001b[36m\u001b[1mInfo: \u001b[22m\u001b[39m(\"Start time = 1.738744242693004e9\", 3.710137128829956)\n"
     ]
    },
    {
     "name": "stdout",
     "output_type": "stream",
     "text": [
      "E at the end of interation [16, 17, 19, 21, 22, 23, 24, 25, 26, 2, 5, 6, 7, 8, 10, 14, 15, 18, 20, 1]\n",
      "=================Iteration 18 of Labelling=================\n",
      "\n",
      "E= [16, 17, 19, 21, 22, 23, 24, 25, 26, 2, 5, 6, 7, 8, 10, 14, 15, 18, 20, 1] vi= 16\n",
      "successor of 16 are: [1, 2, 5, 6, 7, 8, 10, 14, 15, 18, 20]\n"
     ]
    },
    {
     "name": "stderr",
     "output_type": "stream",
     "text": [
      "\u001b[36m\u001b[1m[ \u001b[22m\u001b[39m\u001b[36m\u001b[1mInfo: \u001b[22m\u001b[39m(\"Start time = 1.738744242693004e9\", 4.225200176239014)\n"
     ]
    },
    {
     "name": "stdout",
     "output_type": "stream",
     "text": [
      "E at the end of interation [17, 19, 21, 22, 23, 24, 25, 26, 2, 5, 6, 7, 8, 10, 14, 15, 18, 20, 1]\n",
      "=================Iteration 19 of Labelling=================\n",
      "\n",
      "E= [17, 19, 21, 22, 23, 24, 25, 26, 2, 5, 6, 7, 8, 10, 14, 15, 18, 20, 1] vi= 17\n",
      "successor of 17 are: [1, 2, 5, 6, 7, 8, 10, 14, 15, 18, 20]\n"
     ]
    },
    {
     "name": "stderr",
     "output_type": "stream",
     "text": [
      "\u001b[36m\u001b[1m[ \u001b[22m\u001b[39m\u001b[36m\u001b[1mInfo: \u001b[22m\u001b[39m(\"Start time = 1.738744242693004e9\", 5.00460410118103)\n"
     ]
    },
    {
     "name": "stdout",
     "output_type": "stream",
     "text": [
      "E at the end of interation [19, 21, 22, 23, 24, 25, 26, 2, 5, 6, 7, 8, 10, 14, 15, 18, 20, 1]\n",
      "=================Iteration 20 of Labelling=================\n",
      "\n",
      "E= [19, 21, 22, 23, 24, 25, 26, 2, 5, 6, 7, 8, 10, 14, 15, 18, 20, 1] vi= 19\n",
      "successor of 19 are: [1, 2, 5, 6, 7, 8, 10, 14, 15, 18, 20]\n"
     ]
    },
    {
     "name": "stderr",
     "output_type": "stream",
     "text": [
      "\u001b[36m\u001b[1m[ \u001b[22m\u001b[39m\u001b[36m\u001b[1mInfo: \u001b[22m\u001b[39m(\"Start time = 1.738744242693004e9\", 5.670138120651245)\n"
     ]
    },
    {
     "name": "stdout",
     "output_type": "stream",
     "text": [
      "E at the end of interation [21, 22, 23, 24, 25, 26, 2, 5, 6, 7, 8, 10, 14, 15, 18, 20, 1]\n",
      "=================Iteration 21 of Labelling=================\n",
      "\n",
      "E= [21, 22, 23, 24, 25, 26, 2, 5, 6, 7, 8, 10, 14, 15, 18, 20, 1] vi= 21\n",
      "successor of 21 are: [1, 2, 5, 6, 7, 8, 10, 14, 15, 18, 20]\n"
     ]
    },
    {
     "name": "stderr",
     "output_type": "stream",
     "text": [
      "\u001b[36m\u001b[1m[ \u001b[22m\u001b[39m\u001b[36m\u001b[1mInfo: \u001b[22m\u001b[39m(\"Start time = 1.738744242693004e9\", 6.508849143981934)\n"
     ]
    },
    {
     "name": "stdout",
     "output_type": "stream",
     "text": [
      "\n",
      "Barrier solved model.\n",
      "\n",
      "E at the end of interation [22, 23, 24, 25, 26, 2, 5, 6, 7, 8, 10, 14, 15, 18, 20, 1]\n",
      "=================Iteration 22 of Labelling=================\n",
      "\n",
      "E= [22, 23, 24, 25, 26, 2, 5, 6, 7, 8, 10, 14, 15, 18, 20, 1] vi= 22\n",
      "successor of 22 are: [1, 2, 5, 6, 7, 8, 10, 14, 15, 18, 20]\n"
     ]
    },
    {
     "name": "stderr",
     "output_type": "stream",
     "text": [
      "\u001b[36m\u001b[1m[ \u001b[22m\u001b[39m\u001b[36m\u001b[1mInfo: \u001b[22m\u001b[39m(\"Start time = 1.738744242693004e9\", 7.614262104034424)\n"
     ]
    },
    {
     "name": "stdout",
     "output_type": "stream",
     "text": [
      "E at the end of interation [23, 24, 25, 26, 2, 5, 6, 7, 8, 10, 14, 15, 18, 20, 1]\n",
      "=================Iteration 23 of Labelling=================\n",
      "\n",
      "E= [23, 24, 25, 26, 2, 5, 6, 7, 8, 10, 14, 15, 18, 20, 1] vi= 23\n",
      "successor of 23 are: [1, 2, 5, 6, 7, 8, 10, 14, 15, 18, 20]\n"
     ]
    },
    {
     "name": "stderr",
     "output_type": "stream",
     "text": [
      "\u001b[36m\u001b[1m[ \u001b[22m\u001b[39m\u001b[36m\u001b[1mInfo: \u001b[22m\u001b[39m(\"Start time = 1.738744242693004e9\", 8.862232208251953)\n"
     ]
    },
    {
     "name": "stdout",
     "output_type": "stream",
     "text": [
      "E at the end of interation [24, 25, 26, 2, 5, 6, 7, 8, 10, 14, 15, 18, 20, 1]\n",
      "=================Iteration 24 of Labelling=================\n",
      "\n",
      "E= [24, 25, 26, 2, 5, 6, 7, 8, 10, 14, 15, 18, 20, 1] vi= 24\n",
      "successor of 24 are: [1, 2, 5, 6, 7, 8, 10, 14, 15, 18, 20]\n"
     ]
    },
    {
     "name": "stderr",
     "output_type": "stream",
     "text": [
      "\u001b[36m\u001b[1m[ \u001b[22m\u001b[39m\u001b[36m\u001b[1mInfo: \u001b[22m\u001b[39m(\"Start time = 1.738744242693004e9\", 9.767561197280884)\n"
     ]
    },
    {
     "name": "stdout",
     "output_type": "stream",
     "text": [
      "E at the end of interation [25, 26, 2, 5, 6, 7, 8, 10, 14, 15, 18, 20, 1]\n",
      "=================Iteration 25 of Labelling=================\n",
      "\n",
      "E= [25, 26, 2, 5, 6, 7, 8, 10, 14, 15, 18, 20, 1] vi= 25\n",
      "successor of 25 are: [1, 2, 5, 6, 7, 8, 10, 14, 15, 18, 20]\n"
     ]
    },
    {
     "name": "stderr",
     "output_type": "stream",
     "text": [
      "\u001b[36m\u001b[1m[ \u001b[22m\u001b[39m\u001b[36m\u001b[1mInfo: \u001b[22m\u001b[39m(\"Start time = 1.738744242693004e9\", 11.0089430809021)\n"
     ]
    },
    {
     "name": "stdout",
     "output_type": "stream",
     "text": [
      "E at the end of interation [26, 2, 5, 6, 7, 8, 10, 14, 15, 18, 20, 1]\n",
      "=================Iteration 26 of Labelling=================\n",
      "\n",
      "E= [26, 2, 5, 6, 7, 8, 10, 14, 15, 18, 20, 1] vi= 26\n",
      "successor of 26 are: [1, 2, 5, 6, 7, 8, 10, 14, 15, 18, 20]\n"
     ]
    },
    {
     "name": "stderr",
     "output_type": "stream",
     "text": [
      "\u001b[36m\u001b[1m[ \u001b[22m\u001b[39m\u001b[36m\u001b[1mInfo: \u001b[22m\u001b[39m(\"Start time = 1.738744242693004e9\", 12.389109134674072)\n"
     ]
    },
    {
     "name": "stdout",
     "output_type": "stream",
     "text": [
      "E at the end of interation [2, 5, 6, 7, 8, 10, 14, 15, 18, 20, 1]\n",
      "=================Iteration 27 of Labelling=================\n",
      "\n",
      "E= [2, 5, 6, 7, 8, 10, 14, 15, 18, 20, 1] vi= 2\n",
      "successor of 2 are: [1, 3, 4, 5, 6, 7, 8, 9, 10, 11, 12, 13, 14, 15, 16, 17, 18, 19, 20, 21, 22, 23, 24, 25, 26]\n"
     ]
    },
    {
     "name": "stderr",
     "output_type": "stream",
     "text": [
      "\u001b[36m\u001b[1m[ \u001b[22m\u001b[39m\u001b[36m\u001b[1mInfo: \u001b[22m\u001b[39m(\"Start time = 1.738744242693004e9\", 13.979185104370117)\n"
     ]
    },
    {
     "name": "stdout",
     "output_type": "stream",
     "text": [
      "E at the end of interation [5, 6, 7, 8, 10, 14, 15, 18, 20, 1, 3, 4, 9, 11, 12, 13, 16, 17, 19, 21, 22, 23, 24, 25, 26]\n",
      "=================Iteration 28 of Labelling=================\n",
      "\n",
      "E= [5, 6, 7, 8, 10, 14, 15, 18, 20, 1, 3, 4, 9, 11, 12, 13, 16, 17, 19, 21, 22, 23, 24, 25, 26] vi= 5\n",
      "successor of 5 are: [1, 2, 3, 4, 6, 7, 8, 9, 10, 11, 12, 13, 14, 15, 16, 17, 18, 19, 20, 21, 22, 23, 24, 25, 26]\n"
     ]
    },
    {
     "name": "stderr",
     "output_type": "stream",
     "text": [
      "\u001b[36m\u001b[1m[ \u001b[22m\u001b[39m\u001b[36m\u001b[1mInfo: \u001b[22m\u001b[39m(\"Start time = 1.738744242693004e9\", 26.50869107246399)\n"
     ]
    },
    {
     "name": "stdout",
     "output_type": "stream",
     "text": [
      "E at the end of interation [6, 7, 8, 10, 14, 15, 18, 20, 1, 3, 4, 9, 11, 12, 13, 16, 17, 19, 21, 22, 23, 24, 25, 26, 2]\n",
      "=================Iteration 29 of Labelling=================\n",
      "\n",
      "E= [6, 7, 8, 10, 14, 15, 18, 20, 1, 3, 4, 9, 11, 12, 13, 16, 17, 19, 21, 22, 23, 24, 25, 26, 2] vi= 6\n",
      "successor of 6 are: [1, 2, 3, 4, 5, 7, 8, 9, 10, 11, 12, 13, 14, 15, 16, 17, 18, 19, 20, 21, 22, 23, 24, 25, 26]\n"
     ]
    },
    {
     "name": "stderr",
     "output_type": "stream",
     "text": [
      "\u001b[36m\u001b[1m[ \u001b[22m\u001b[39m\u001b[36m\u001b[1mInfo: \u001b[22m\u001b[39m(\"Start time = 1.738744242693004e9\", 72.56515002250671)\n"
     ]
    },
    {
     "name": "stdout",
     "output_type": "stream",
     "text": [
      "E at the end of interation [7, 8, 10, 14, 15, 18, 20, 1, 3, 4, 9, 11, 12, 13, 16, 17, 19, 21, 22, 23, 24, 25, 26, 2, 5]\n",
      "=================Iteration 30 of Labelling=================\n",
      "Min RC solution= Label(189.43604245070003, -1930.7939188694463, [1, 0, 1, 1, 0, 0, 1, 1, 1, 1, 1, 1, 1, 0, 0, 1, 1, 0, 1, 0, 1, 1, 1, 1, 1, 1], [1, 7, 8, 10, 16, 1])\n",
      "\n",
      "======================Iteration 4 at 484.6695261001587s of column generation======================\n",
      "1e route= Route[Route(127.01181047445942, [1, 2, 1], 3, 0), Route(211.10187114282053, [1, 5, 1], 3, 0), Route(205.10485123467947, [1, 6, 1], 3, 0), Route(154.77725931156684, [1, 7, 1], 3, 0), Route(140.91131963046828, [1, 8, 1], 3, 0), Route(75.28612089887484, [1, 10, 1], 3, 0), Route(212.08488866489287, [1, 14, 1], 3, 0), Route(169.19810873647495, [1, 15, 1], 3, 0), Route(206.95893312442448, [1, 18, 1], 3, 0), Route(154.94515158597252, [1, 20, 1], 3, 0), Route(431.40716453661713, [1, 2, 8, 10, 14, 15, 18, 20, 17, 5, 6, 7, 1], 13, 0), Route(218.4560009616156, [1, 2, 6, 8, 4, 1], 6, 0), Route(189.43604245070003, [1, 7, 8, 10, 16, 1], 6, 0)]\n"
     ]
    },
    {
     "name": "stderr",
     "output_type": "stream",
     "text": [
      "\u001b[36m\u001b[1m[ \u001b[22m\u001b[39m\u001b[36m\u001b[1mInfo: \u001b[22m\u001b[39m(\"Start time = 1.738744242693004e9\", 159.29862809181213)\n",
      "\u001b[36m\u001b[1m[ \u001b[22m\u001b[39m\u001b[36m\u001b[1mInfo: \u001b[22m\u001b[39mNew 1e route [1, 7, 8, 10, 16, 1] \n"
     ]
    },
    {
     "name": "stdout",
     "output_type": "stream",
     "text": [
      "CPLEX Error  3003: Not a mixed-integer problem.\n",
      "Version identifier: 22.1.1.0 | 2022-11-28 | 9160aff4d\n",
      "Parallel mode: deterministic, using up to 10 threads for concurrent optimization:\n",
      " * Starting dual Simplex on 1 thread...\n",
      " * Starting Barrier on 8 threads...\n",
      " * Starting primal Simplex on 1 thread...\n",
      "Tried aggregator 1 time.\n",
      "LP Presolve eliminated 1772 rows and 1611 columns.\n",
      "Reduced LP has 17203 rows, 17708 columns, and 79386 nonzeros.\n",
      "Presolve time = 0.10 sec. (29.41 ticks)\n",
      "\n",
      "Iteration log . . .\n",
      "Iteration:     1   Dual objective     =             0.000000\n",
      "Perturbation started.\n",
      "Iteration:   101   Dual objective     =             0.000000\n",
      "Iteration:   502   Dual objective     =           187.492674\n",
      "Iteration:   894   Dual objective     =           187.496760\n",
      "Iteration:  1274   Dual objective     =           214.556389\n",
      "Iteration:  1514   Dual objective     =           214.556694\n",
      "Iteration:  1708   Dual objective     =           214.556785\n",
      "Iteration:  1971   Dual objective     =           214.557022\n",
      "Iteration:  2228   Dual objective     =           214.557197\n",
      "Iteration:  2467   Dual objective     =           214.557351\n",
      "Iteration:  2745   Dual objective     =           214.557575\n",
      "Iteration:  3011   Dual objective     =           214.557876\n",
      "Iteration:  3306   Dual objective     =           214.558561\n",
      "Iteration:  3560   Dual objective     =           214.559483\n",
      "Iteration:  3725   Dual objective     =           214.560028\n",
      "Iteration:  4052   Dual objective     =           392.708771\n",
      "Iteration:  4277   Dual objective     =           440.392380\n",
      "Iteration:  4505   Dual objective     =           508.236209\n",
      "Iteration:  4748   Dual objective     =           546.985844\n",
      "Iteration:  4988   Dual objective     =           562.067180\n",
      "Iteration:  5229   Dual objective     =           600.837058\n",
      "Iteration:  5469   Dual objective     =           619.742924\n",
      "Iteration:  5735   Dual objective     =           635.194244\n",
      "Iteration:  5957   Dual objective     =           637.510834\n",
      "Iteration:  6131   Dual objective     =           637.952986\n",
      "Iteration:  6375   Dual objective     =           640.009998\n",
      "Iteration:  6633   Dual objective     =           643.233334\n",
      "Iteration:  6866   Dual objective     =           645.390523\n",
      "Iteration:  7086   Dual objective     =           645.615220\n",
      "Iteration:  7250   Dual objective     =           645.615353\n",
      "Iteration:  7516   Dual objective     =           648.304940\n",
      "Iteration:  7787   Dual objective     =           656.262093\n",
      "Iteration:  8064   Dual objective     =           748.612498\n",
      "Iteration:  8260   Dual objective     =           753.929418\n",
      "Iteration:  8582   Dual objective     =           767.170647\n",
      "Iteration:  8836   Dual objective     =           782.087208\n",
      "Iteration:  9032   Dual objective     =           789.166432\n",
      "Iteration:  9225   Dual objective     =           795.682802\n",
      "Iteration:  9433   Dual objective     =           804.857931\n",
      "Iteration:  9786   Dual objective     =           813.525817\n",
      "Iteration: 10036   Dual objective     =           818.197064\n",
      "Iteration: 10215   Dual objective     =           820.377658\n",
      "Iteration: 10469   Dual objective     =           822.338870\n",
      "Iteration: 10712   Dual objective     =           829.032328\n",
      "Iteration: 10929   Dual objective     =           831.601026\n",
      "Iteration: 11130   Dual objective     =           840.298829\n",
      "Iteration: 11353   Dual objective     =           846.011080\n",
      "Iteration: 11498   Dual objective     =           847.232986\n",
      "Iteration: 11664   Dual objective     =           849.017981\n",
      "Iteration: 11802   Dual objective     =           849.692899\n",
      "Removing perturbation.\n",
      "objective value of master problem is: 849.920547399131\n",
      "Status of 1e route: \n",
      "   x=0.047043010752688161e Route [1, 2, 8, 10, 14, 15, 18, 20, 17, 5, 6, 7, 1]   Load= 0   Cost= 431.41\n",
      "   x=0.1142473118279571e Route [1, 2, 6, 8, 4, 1]   Load= 0   Cost= 218.46\n",
      "   x=0.069892473118279581e Route [1, 7, 8, 10, 16, 1]   Load= 0   Cost= 189.44\n",
      "=================Iteration 1 of Labelling=================\n",
      "\n",
      "E= [2, 5, 6, 7, 8, 10, 14, 15, 18, 20] vi= 2\n",
      "successor of 2 are: [1, 3, 4, 5, 6, 7, 8, 9, 10, 11, 12, 13, 14, 15, 16, 17, 18, 19, 20, 21, 22, 23, 24, 25, 26]\n",
      "E at the end of interation [5, 6, 7, 8, 10, 14, 15, 18, 20, 1, 3, 4, 9, 11, 12, 13, 16, 17, 19, 21, 22, 23, 24, 25, 26]\n",
      "=================Iteration 2 of Labelling=================\n",
      "\n",
      "E= [5, 6, 7, 8, 10, 14, 15, 18, 20, 1, 3, 4, 9, 11, 12, 13, 16, 17, 19, 21, 22, 23, 24, 25, 26] vi= 5\n",
      "successor of 5 are: [1, 2, 3, 4, 6, 7, 8, 9, 10, 11, 12, 13, 14, 15, 16, 17, 18, 19, 20, 21, 22, 23, 24, 25, 26]\n",
      "E at the end of interation [6, 7, 8, 10, 14, 15, 18, 20, 1, 3, 4, 9, 11, 12, 13, 16, 17, 19, 21, 22, 23, 24, 25, 26, 2]\n",
      "=================Iteration 3 of Labelling=================\n",
      "\n",
      "E= [6, 7, 8, 10, 14, 15, 18, 20, 1, 3, 4, 9, 11, 12, 13, 16, 17, 19, 21, 22, 23, 24, 25, 26, 2] vi= 6\n",
      "successor of 6 are: [1, 2, 3, 4, 5, 7, 8, 9, 10, 11, 12, 13, 14, 15, 16, 17, 18, 19, 20, 21, 22, 23, 24, 25, 26]\n",
      "E at the end of interation [7, 8, 10, 14, 15, 18, 20, 1, 3, 4, 9, 11, 12, 13, 16, 17, 19, 21, 22, 23, 24, 25, 26, 2, 5]\n",
      "=================Iteration 4 of Labelling=================\n",
      "\n",
      "E= [7, 8, 10, 14, 15, 18, 20, 1, 3, 4, 9, 11, 12, 13, 16, 17, 19, 21, 22, 23, 24, 25, 26, 2, 5] vi= 7\n",
      "successor of 7 are: [1, 2, 3, 4, 5, 6, 8, 9, 10, 11, 12, 13, 14, 15, 16, 17, 18, 19, 20, 21, 22, 23, 24, 25, 26]\n",
      "E at the end of interation [8, 10, 14, 15, 18, 20, 1, 3, 4, 9, 11, 12, 13, 16, 17, 19, 21, 22, 23, 24, 25, 26, 2, 5, 6]\n",
      "=================Iteration 5 of Labelling=================\n",
      "\n",
      "E= [8, 10, 14, 15, 18, 20, 1, 3, 4, 9, 11, 12, 13, 16, 17, 19, 21, 22, 23, 24, 25, 26, 2, 5, 6] vi= 8\n",
      "successor of 8 are: [1, 2, 3, 4, 5, 6, 7, 9, 10, 11, 12, 13, 14, 15, 16, 17, 18, 19, 20, 21, 22, 23, 24, 25, 26]\n",
      "E at the end of interation [10, 14, 15, 18, 20, 1, 3, 4, 9, 11, 12, 13, 16, 17, 19, 21, 22, 23, 24, 25, 26, 2, 5, 6, 7]\n",
      "=================Iteration 6 of Labelling=================\n",
      "\n",
      "E= [10, 14, 15, 18, 20, 1, 3, 4, 9, 11, 12, 13, 16, 17, 19, 21, 22, 23, 24, 25, 26, 2, 5, 6, 7] vi= 10\n",
      "successor of 10 are: [1, 2, 3, 4, 5, 6, 7, 8, 9, 11, 12, 13, 14, 15, 16, 17, 18, 19, 20, 21, 22, 23, 24, 25, 26]\n",
      "E at the end of interation [14, 15, 18, 20, 1, 3, 4, 9, 11, 12, 13, 16, 17, 19, 21, 22, 23, 24, 25, 26, 2, 5, 6, 7, 8]\n",
      "=================Iteration 7 of Labelling=================\n",
      "\n",
      "E= [14, 15, 18, 20, 1, 3, 4, 9, 11, 12, 13, 16, 17, 19, 21, 22, 23, 24, 25, 26, 2, 5, 6, 7, 8] vi= 14\n",
      "successor of 14 are: [1, 2, 3, 4, 5, 6, 7, 8, 9, 10, 11, 12, 13, 15, 16, 17, 18, 19, 20, 21, 22, 23, 24, 25, 26]\n"
     ]
    },
    {
     "name": "stderr",
     "output_type": "stream",
     "text": [
      "\u001b[36m\u001b[1m[ \u001b[22m\u001b[39m\u001b[36m\u001b[1mInfo: \u001b[22m\u001b[39m(\"Start time = 1.738744412926456e9\", 0.0018579959869384766)\n",
      "\u001b[36m\u001b[1m[ \u001b[22m\u001b[39m\u001b[36m\u001b[1mInfo: \u001b[22m\u001b[39m(\"Start time = 1.738744412926456e9\", 0.00804591178894043)\n",
      "\u001b[36m\u001b[1m[ \u001b[22m\u001b[39m\u001b[36m\u001b[1mInfo: \u001b[22m\u001b[39m(\"Start time = 1.738744412926456e9\", 0.01096796989440918)\n",
      "\u001b[36m\u001b[1m[ \u001b[22m\u001b[39m\u001b[36m\u001b[1mInfo: \u001b[22m\u001b[39m(\"Start time = 1.738744412926456e9\", 0.011811017990112305)\n",
      "\u001b[36m\u001b[1m[ \u001b[22m\u001b[39m\u001b[36m\u001b[1mInfo: \u001b[22m\u001b[39m(\"Start time = 1.738744412926456e9\", 0.013315916061401367)\n",
      "\u001b[36m\u001b[1m[ \u001b[22m\u001b[39m\u001b[36m\u001b[1mInfo: \u001b[22m\u001b[39m(\"Start time = 1.738744412926456e9\", 0.02033400535583496)\n",
      "\u001b[36m\u001b[1m[ \u001b[22m\u001b[39m\u001b[36m\u001b[1mInfo: \u001b[22m\u001b[39m(\"Start time = 1.738744412926456e9\", 0.027719974517822266)\n"
     ]
    },
    {
     "name": "stdout",
     "output_type": "stream",
     "text": [
      "E at the end of interation [15, 18, 20, 1, 3, 4, 9, 11, 12, 13, 16, 17, 19, 21, 22, 23, 24, 25, 26, 2, 5, 6, 7, 8, 10]\n",
      "=================Iteration 8 of Labelling=================\n",
      "\n",
      "E= [15, 18, 20, 1, 3, 4, 9, 11, 12, 13, 16, 17, 19, 21, 22, 23, 24, 25, 26, 2, 5, 6, 7, 8, 10] vi= 15\n",
      "successor of 15 are: [1, 2, 3, 4, 5, 6, 7, 8, 9, 10, 11, 12, 13, 14, 16, 17, 18, 19, 20, 21, 22, 23, 24, 25, 26]\n",
      "E at the end of interation [18, 20, 1, 3, 4, 9, 11, 12, 13, 16, 17, 19, 21, 22, 23, 24, 25, 26, 2, 5, 6, 7, 8, 10, 14]\n",
      "=================Iteration 9 of Labelling=================\n",
      "\n",
      "E= [18, 20, 1, 3, 4, 9, 11, 12, 13, 16, 17, 19, 21, 22, 23, 24, 25, 26, 2, 5, 6, 7, 8, 10, 14] vi= 18\n",
      "successor of 18 are: [1, 2, 3, 4, 5, 6, 7, 8, 9, 10, 11, 12, 13, 14, 15, 16, 17, 19, 20, 21, 22, 23, 24, 25, 26]\n"
     ]
    },
    {
     "name": "stderr",
     "output_type": "stream",
     "text": [
      "\u001b[36m\u001b[1m[ \u001b[22m\u001b[39m\u001b[36m\u001b[1mInfo: \u001b[22m\u001b[39m(\"Start time = 1.738744412926456e9\", 0.14269804954528809)\n",
      "\u001b[36m\u001b[1m[ \u001b[22m\u001b[39m\u001b[36m\u001b[1mInfo: \u001b[22m\u001b[39m(\"Start time = 1.738744412926456e9\", 0.18079900741577148)\n"
     ]
    },
    {
     "name": "stdout",
     "output_type": "stream",
     "text": [
      "E at the end of interation [20, 1, 3, 4, 9, 11, 12, 13, 16, 17, 19, 21, 22, 23, 24, 25, 26, 2, 5, 6, 7, 8, 10, 14, 15]\n",
      "=================Iteration 10 of Labelling=================\n",
      "\n",
      "E= [20, 1, 3, 4, 9, 11, 12, 13, 16, 17, 19, 21, 22, 23, 24, 25, 26, 2, 5, 6, 7, 8, 10, 14, 15] vi= 20\n",
      "successor of 20 are: [1, 2, 3, 4, 5, 6, 7, 8, 9, 10, 11, 12, 13, 14, 15, 16, 17, 18, 19, 21, 22, 23, 24, 25, 26]\n"
     ]
    },
    {
     "name": "stderr",
     "output_type": "stream",
     "text": [
      "\u001b[36m\u001b[1m[ \u001b[22m\u001b[39m\u001b[36m\u001b[1mInfo: \u001b[22m\u001b[39m(\"Start time = 1.738744412926456e9\", 0.48490214347839355)\n"
     ]
    },
    {
     "name": "stdout",
     "output_type": "stream",
     "text": [
      "E at the end of interation [1, 3, 4, 9, 11, 12, 13, 16, 17, 19, 21, 22, 23, 24, 25, 26, 2, 5, 6, 7, 8, 10, 14, 15, 18]\n",
      "=================Iteration 11 of Labelling=================\n",
      "\n",
      "E= [1, 3, 4, 9, 11, 12, 13, 16, 17, 19, 21, 22, 23, 24, 25, 26, 2, 5, 6, 7, 8, 10, 14, 15, 18] vi= 1\n",
      "successor of 1 are: [2, 5, 6, 7, 8, 10, 14, 15, 18, 20]\n"
     ]
    },
    {
     "name": "stderr",
     "output_type": "stream",
     "text": [
      "\u001b[36m\u001b[1m[ \u001b[22m\u001b[39m\u001b[36m\u001b[1mInfo: \u001b[22m\u001b[39m(\"Start time = 1.738744412926456e9\", 0.8229761123657227)\n"
     ]
    },
    {
     "name": "stdout",
     "output_type": "stream",
     "text": [
      "E at the end of interation [3, 4, 9, 11, 12, 13, 16, 17, 19, 21, 22, 23, 24, 25, 26, 2, 5, 6, 7, 8, 10, 14, 15, 18, 20]\n",
      "=================Iteration 12 of Labelling=================\n",
      "\n",
      "E= [3, 4, 9, 11, 12, 13, 16, 17, 19, 21, 22, 23, 24, 25, 26, 2, 5, 6, 7, 8, 10, 14, 15, 18, 20] vi= 3\n",
      "successor of 3 are: [1, 2, 5, 6, 7, 8, 10, 14, 15, 18, 20]\n"
     ]
    },
    {
     "name": "stderr",
     "output_type": "stream",
     "text": [
      "\u001b[36m\u001b[1m[ \u001b[22m\u001b[39m\u001b[36m\u001b[1mInfo: \u001b[22m\u001b[39m(\"Start time = 1.738744412926456e9\", 0.971729040145874)\n"
     ]
    },
    {
     "name": "stdout",
     "output_type": "stream",
     "text": [
      "E at the end of interation [4, 9, 11, 12, 13, 16, 17, 19, 21, 22, 23, 24, 25, 26, 2, 5, 6, 7, 8, 10, 14, 15, 18, 20, 1]\n",
      "=================Iteration 13 of Labelling=================\n",
      "\n",
      "E= [4, 9, 11, 12, 13, 16, 17, 19, 21, 22, 23, 24, 25, 26, 2, 5, 6, 7, 8, 10, 14, 15, 18, 20, 1] vi= 4\n",
      "successor of 4 are: [1, 2, 5, 6, 7, 8, 10, 14, 15, 18, 20]\n"
     ]
    },
    {
     "name": "stderr",
     "output_type": "stream",
     "text": [
      "\u001b[36m\u001b[1m[ \u001b[22m\u001b[39m\u001b[36m\u001b[1mInfo: \u001b[22m\u001b[39m(\"Start time = 1.738744412926456e9\", 1.258958101272583)\n"
     ]
    },
    {
     "name": "stdout",
     "output_type": "stream",
     "text": [
      "E at the end of interation [9, 11, 12, 13, 16, 17, 19, 21, 22, 23, 24, 25, 26, 2, 5, 6, 7, 8, 10, 14, 15, 18, 20, 1]\n",
      "=================Iteration 14 of Labelling=================\n",
      "\n",
      "E= [9, 11, 12, 13, 16, 17, 19, 21, 22, 23, 24, 25, 26, 2, 5, 6, 7, 8, 10, 14, 15, 18, 20, 1] vi= 9\n",
      "successor of 9 are: [1, 2, 5, 6, 7, 8, 10, 14, 15, 18, 20]\n"
     ]
    },
    {
     "name": "stderr",
     "output_type": "stream",
     "text": [
      "\u001b[36m\u001b[1m[ \u001b[22m\u001b[39m\u001b[36m\u001b[1mInfo: \u001b[22m\u001b[39m(\"Start time = 1.738744412926456e9\", 1.4933691024780273)\n"
     ]
    },
    {
     "name": "stdout",
     "output_type": "stream",
     "text": [
      "E at the end of interation [11, 12, 13, 16, 17, 19, 21, 22, 23, 24, 25, 26, 2, 5, 6, 7, 8, 10, 14, 15, 18, 20, 1]\n",
      "=================Iteration 15 of Labelling=================\n",
      "\n",
      "E= [11, 12, 13, 16, 17, 19, 21, 22, 23, 24, 25, 26, 2, 5, 6, 7, 8, 10, 14, 15, 18, 20, 1] vi= 11\n",
      "successor of 11 are: [1, 2, 5, 6, 7, 8, 10, 14, 15, 18, 20]\n"
     ]
    },
    {
     "name": "stderr",
     "output_type": "stream",
     "text": [
      "\u001b[36m\u001b[1m[ \u001b[22m\u001b[39m\u001b[36m\u001b[1mInfo: \u001b[22m\u001b[39m(\"Start time = 1.738744412926456e9\", 1.748528003692627)\n"
     ]
    },
    {
     "name": "stdout",
     "output_type": "stream",
     "text": [
      "E at the end of interation [12, 13, 16, 17, 19, 21, 22, 23, 24, 25, 26, 2, 5, 6, 7, 8, 10, 14, 15, 18, 20, 1]\n",
      "=================Iteration 16 of Labelling=================\n",
      "\n",
      "E= [12, 13, 16, 17, 19, 21, 22, 23, 24, 25, 26, 2, 5, 6, 7, 8, 10, 14, 15, 18, 20, 1] vi= 12\n",
      "successor of 12 are: [1, 2, 5, 6, 7, 8, 10, 14, 15, 18, 20]\n"
     ]
    },
    {
     "name": "stderr",
     "output_type": "stream",
     "text": [
      "\u001b[36m\u001b[1m[ \u001b[22m\u001b[39m\u001b[36m\u001b[1mInfo: \u001b[22m\u001b[39m(\"Start time = 1.738744412926456e9\", 2.000731945037842)\n"
     ]
    },
    {
     "name": "stdout",
     "output_type": "stream",
     "text": [
      "E at the end of interation [13, 16, 17, 19, 21, 22, 23, 24, 25, 26, 2, 5, 6, 7, 8, 10, 14, 15, 18, 20, 1]\n",
      "=================Iteration 17 of Labelling=================\n",
      "\n",
      "E= [13, 16, 17, 19, 21, 22, 23, 24, 25, 26, 2, 5, 6, 7, 8, 10, 14, 15, 18, 20, 1] vi= 13\n",
      "successor of 13 are: [1, 2, 5, 6, 7, 8, 10, 14, 15, 18, 20]\n"
     ]
    },
    {
     "name": "stderr",
     "output_type": "stream",
     "text": [
      "\u001b[36m\u001b[1m[ \u001b[22m\u001b[39m\u001b[36m\u001b[1mInfo: \u001b[22m\u001b[39m(\"Start time = 1.738744412926456e9\", 2.5047271251678467)\n"
     ]
    },
    {
     "name": "stdout",
     "output_type": "stream",
     "text": [
      "E at the end of interation [16, 17, 19, 21, 22, 23, 24, 25, 26, 2, 5, 6, 7, 8, 10, 14, 15, 18, 20, 1]\n",
      "=================Iteration 18 of Labelling=================\n",
      "\n",
      "E= [16, 17, 19, 21, 22, 23, 24, 25, 26, 2, 5, 6, 7, 8, 10, 14, 15, 18, 20, 1] vi= 16\n",
      "successor of 16 are: [1, 2, 5, 6, 7, 8, 10, 14, 15, 18, 20]\n"
     ]
    },
    {
     "name": "stderr",
     "output_type": "stream",
     "text": [
      "\u001b[36m\u001b[1m[ \u001b[22m\u001b[39m\u001b[36m\u001b[1mInfo: \u001b[22m\u001b[39m(\"Start time = 1.738744412926456e9\", 2.878480911254883)\n"
     ]
    },
    {
     "name": "stdout",
     "output_type": "stream",
     "text": [
      "E at the end of interation [17, 19, 21, 22, 23, 24, 25, 26, 2, 5, 6, 7, 8, 10, 14, 15, 18, 20, 1]\n",
      "=================Iteration 19 of Labelling=================\n",
      "\n",
      "E= [17, 19, 21, 22, 23, 24, 25, 26, 2, 5, 6, 7, 8, 10, 14, 15, 18, 20, 1] vi= 17\n",
      "successor of 17 are: [1, 2, 5, 6, 7, 8, 10, 14, 15, 18, 20]\n"
     ]
    },
    {
     "name": "stderr",
     "output_type": "stream",
     "text": [
      "\u001b[36m\u001b[1m[ \u001b[22m\u001b[39m\u001b[36m\u001b[1mInfo: \u001b[22m\u001b[39m(\"Start time = 1.738744412926456e9\", 3.4198689460754395)\n"
     ]
    },
    {
     "name": "stdout",
     "output_type": "stream",
     "text": [
      "E at the end of interation [19, 21, 22, 23, 24, 25, 26, 2, 5, 6, 7, 8, 10, 14, 15, 18, 20, 1]\n",
      "=================Iteration 20 of Labelling=================\n",
      "\n",
      "E= [19, 21, 22, 23, 24, 25, 26, 2, 5, 6, 7, 8, 10, 14, 15, 18, 20, 1] vi= 19\n",
      "successor of 19 are: [1, 2, 5, 6, 7, 8, 10, 14, 15, 18, 20]\n"
     ]
    },
    {
     "name": "stderr",
     "output_type": "stream",
     "text": [
      "\u001b[36m\u001b[1m[ \u001b[22m\u001b[39m\u001b[36m\u001b[1mInfo: \u001b[22m\u001b[39m(\"Start time = 1.738744412926456e9\", 3.8441309928894043)\n"
     ]
    },
    {
     "name": "stdout",
     "output_type": "stream",
     "text": [
      "E at the end of interation [21, 22, 23, 24, 25, 26, 2, 5, 6, 7, 8, 10, 14, 15, 18, 20, 1]\n",
      "=================Iteration 21 of Labelling=================\n",
      "\n",
      "E= [21, 22, 23, 24, 25, 26, 2, 5, 6, 7, 8, 10, 14, 15, 18, 20, 1] vi= 21\n",
      "successor of 21 are: [1, 2, 5, 6, 7, 8, 10, 14, 15, 18, 20]\n"
     ]
    },
    {
     "name": "stderr",
     "output_type": "stream",
     "text": [
      "\u001b[36m\u001b[1m[ \u001b[22m\u001b[39m\u001b[36m\u001b[1mInfo: \u001b[22m\u001b[39m(\"Start time = 1.738744412926456e9\", 4.504630088806152)\n"
     ]
    },
    {
     "name": "stdout",
     "output_type": "stream",
     "text": [
      "\n",
      "Barrier solved model.\n",
      "\n",
      "E at the end of interation [22, 23, 24, 25, 26, 2, 5, 6, 7, 8, 10, 14, 15, 18, 20, 1]\n",
      "=================Iteration 22 of Labelling=================\n",
      "\n",
      "E= [22, 23, 24, 25, 26, 2, 5, 6, 7, 8, 10, 14, 15, 18, 20, 1] vi= 22\n",
      "successor of 22 are: [1, 2, 5, 6, 7, 8, 10, 14, 15, 18, 20]\n"
     ]
    },
    {
     "name": "stderr",
     "output_type": "stream",
     "text": [
      "\u001b[36m\u001b[1m[ \u001b[22m\u001b[39m\u001b[36m\u001b[1mInfo: \u001b[22m\u001b[39m(\"Start time = 1.738744412926456e9\", 5.2868640422821045)\n"
     ]
    },
    {
     "name": "stdout",
     "output_type": "stream",
     "text": [
      "E at the end of interation [23, 24, 25, 26, 2, 5, 6, 7, 8, 10, 14, 15, 18, 20, 1]\n",
      "=================Iteration 23 of Labelling=================\n",
      "\n",
      "E= [23, 24, 25, 26, 2, 5, 6, 7, 8, 10, 14, 15, 18, 20, 1] vi= 23\n",
      "successor of 23 are: [1, 2, 5, 6, 7, 8, 10, 14, 15, 18, 20]\n"
     ]
    },
    {
     "name": "stderr",
     "output_type": "stream",
     "text": [
      "\u001b[36m\u001b[1m[ \u001b[22m\u001b[39m\u001b[36m\u001b[1mInfo: \u001b[22m\u001b[39m(\"Start time = 1.738744412926456e9\", 5.809194087982178)\n"
     ]
    },
    {
     "name": "stdout",
     "output_type": "stream",
     "text": [
      "E at the end of interation [24, 25, 26, 2, 5, 6, 7, 8, 10, 14, 15, 18, 20, 1]\n",
      "=================Iteration 24 of Labelling=================\n",
      "\n",
      "E= [24, 25, 26, 2, 5, 6, 7, 8, 10, 14, 15, 18, 20, 1] vi= 24\n",
      "successor of 24 are: [1, 2, 5, 6, 7, 8, 10, 14, 15, 18, 20]\n"
     ]
    },
    {
     "name": "stderr",
     "output_type": "stream",
     "text": [
      "\u001b[36m\u001b[1m[ \u001b[22m\u001b[39m\u001b[36m\u001b[1mInfo: \u001b[22m\u001b[39m(\"Start time = 1.738744412926456e9\", 6.456960916519165)\n"
     ]
    },
    {
     "name": "stdout",
     "output_type": "stream",
     "text": [
      "E at the end of interation [25, 26, 2, 5, 6, 7, 8, 10, 14, 15, 18, 20, 1]\n",
      "=================Iteration 25 of Labelling=================\n",
      "\n",
      "E= [25, 26, 2, 5, 6, 7, 8, 10, 14, 15, 18, 20, 1] vi= 25\n",
      "successor of 25 are: [1, 2, 5, 6, 7, 8, 10, 14, 15, 18, 20]\n"
     ]
    },
    {
     "name": "stderr",
     "output_type": "stream",
     "text": [
      "\u001b[36m\u001b[1m[ \u001b[22m\u001b[39m\u001b[36m\u001b[1mInfo: \u001b[22m\u001b[39m(\"Start time = 1.738744412926456e9\", 7.423644065856934)\n"
     ]
    },
    {
     "name": "stdout",
     "output_type": "stream",
     "text": [
      "E at the end of interation [26, 2, 5, 6, 7, 8, 10, 14, 15, 18, 20, 1]\n",
      "=================Iteration 26 of Labelling=================\n",
      "\n",
      "E= [26, 2, 5, 6, 7, 8, 10, 14, 15, 18, 20, 1] vi= 26\n",
      "successor of 26 are: [1, 2, 5, 6, 7, 8, 10, 14, 15, 18, 20]\n"
     ]
    },
    {
     "name": "stderr",
     "output_type": "stream",
     "text": [
      "\u001b[36m\u001b[1m[ \u001b[22m\u001b[39m\u001b[36m\u001b[1mInfo: \u001b[22m\u001b[39m(\"Start time = 1.738744412926456e9\", 8.061228036880493)\n"
     ]
    },
    {
     "name": "stdout",
     "output_type": "stream",
     "text": [
      "E at the end of interation [2, 5, 6, 7, 8, 10, 14, 15, 18, 20, 1]\n",
      "=================Iteration 27 of Labelling=================\n",
      "\n",
      "E= [2, 5, 6, 7, 8, 10, 14, 15, 18, 20, 1] vi= 2\n",
      "successor of 2 are: [1, 3, 4, 5, 6, 7, 8, 9, 10, 11, 12, 13, 14, 15, 16, 17, 18, 19, 20, 21, 22, 23, 24, 25, 26]\n"
     ]
    },
    {
     "name": "stderr",
     "output_type": "stream",
     "text": [
      "\u001b[36m\u001b[1m[ \u001b[22m\u001b[39m\u001b[36m\u001b[1mInfo: \u001b[22m\u001b[39m(\"Start time = 1.738744412926456e9\", 8.94196891784668)\n"
     ]
    },
    {
     "name": "stdout",
     "output_type": "stream",
     "text": [
      "E at the end of interation [5, 6, 7, 8, 10, 14, 15, 18, 20, 1, 3, 4, 9, 11, 12, 13, 16, 17, 19, 21, 22, 23, 24, 25, 26]\n",
      "=================Iteration 28 of Labelling=================\n",
      "\n",
      "E= [5, 6, 7, 8, 10, 14, 15, 18, 20, 1, 3, 4, 9, 11, 12, 13, 16, 17, 19, 21, 22, 23, 24, 25, 26] vi= 5\n",
      "successor of 5 are: [1, 2, 3, 4, 6, 7, 8, 9, 10, 11, 12, 13, 14, 15, 16, 17, 18, 19, 20, 21, 22, 23, 24, 25, 26]\n"
     ]
    },
    {
     "name": "stderr",
     "output_type": "stream",
     "text": [
      "\u001b[36m\u001b[1m[ \u001b[22m\u001b[39m\u001b[36m\u001b[1mInfo: \u001b[22m\u001b[39m(\"Start time = 1.738744412926456e9\", 23.390445947647095)\n"
     ]
    },
    {
     "name": "stdout",
     "output_type": "stream",
     "text": [
      "E at the end of interation [6, 7, 8, 10, 14, 15, 18, 20, 1, 3, 4, 9, 11, 12, 13, 16, 17, 19, 21, 22, 23, 24, 25, 26, 2]\n",
      "=================Iteration 29 of Labelling=================\n",
      "\n",
      "E= [6, 7, 8, 10, 14, 15, 18, 20, 1, 3, 4, 9, 11, 12, 13, 16, 17, 19, 21, 22, 23, 24, 25, 26, 2] vi= 6\n",
      "successor of 6 are: [1, 2, 3, 4, 5, 7, 8, 9, 10, 11, 12, 13, 14, 15, 16, 17, 18, 19, 20, 21, 22, 23, 24, 25, 26]\n"
     ]
    },
    {
     "name": "stderr",
     "output_type": "stream",
     "text": [
      "\u001b[36m\u001b[1m[ \u001b[22m\u001b[39m\u001b[36m\u001b[1mInfo: \u001b[22m\u001b[39m(\"Start time = 1.738744412926456e9\", 44.145874977111816)\n"
     ]
    },
    {
     "name": "stdout",
     "output_type": "stream",
     "text": [
      "E at the end of interation [7, 8, 10, 14, 15, 18, 20, 1, 3, 4, 9, 11, 12, 13, 16, 17, 19, 21, 22, 23, 24, 25, 26, 2, 5]\n",
      "=================Iteration 30 of Labelling=================\n",
      "\n",
      "E= [7, 8, 10, 14, 15, 18, 20, 1, 3, 4, 9, 11, 12, 13, 16, 17, 19, 21, 22, 23, 24, 25, 26, 2, 5] vi= 7\n",
      "successor of 7 are: [1, 2, 3, 4, 5, 6, 8, 9, 10, 11, 12, 13, 14, 15, 16, 17, 18, 19, 20, 21, 22, 23, 24, 25, 26]\n"
     ]
    },
    {
     "name": "stderr",
     "output_type": "stream",
     "text": [
      "\u001b[36m\u001b[1m[ \u001b[22m\u001b[39m\u001b[36m\u001b[1mInfo: \u001b[22m\u001b[39m(\"Start time = 1.738744412926456e9\", 107.93666911125183)\n"
     ]
    },
    {
     "name": "stdout",
     "output_type": "stream",
     "text": [
      "E at the end of interation [8, 10, 14, 15, 18, 20, 1, 3, 4, 9, 11, 12, 13, 16, 17, 19, 21, 22, 23, 24, 25, 26, 2, 5, 6]\n",
      "=================Iteration 31 of Labelling=================\n",
      "Min RC solution= Label(190.61384701882332, -1888.9887765415813, [1, 1, 1, 1, 0, 0, 1, 0, 1, 1, 1, 1, 1, 0, 0, 1, 1, 0, 1, 0, 1, 1, 1, 1, 1, 1], [1, 10, 13, 2, 7, 1])\n"
     ]
    },
    {
     "name": "stderr",
     "output_type": "stream",
     "text": [
      "\u001b[36m\u001b[1m[ \u001b[22m\u001b[39m\u001b[36m\u001b[1mInfo: \u001b[22m\u001b[39m(\"Start time = 1.738744412926456e9\", 272.51672291755676)\n",
      "\u001b[36m\u001b[1m[ \u001b[22m\u001b[39m\u001b[36m\u001b[1mInfo: \u001b[22m\u001b[39mNew 1e route [1, 10, 13, 2, 7, 1] \n"
     ]
    },
    {
     "name": "stdout",
     "output_type": "stream",
     "text": [
      "reduced costs: Any[-4138.723400631493, -2918.7424808140536, -1930.7939188694463, -1888.9887765415813]\n",
      "1e routes:\n",
      "Route(127.01181047445942, [1, "
     ]
    }
   ],
   "source": [
    "using JuMP, CPLEX\n",
    "import DataFrames\n",
    "import HiGHS\n",
    "import Plots\n",
    "import SparseArrays\n",
    "using Random\n",
    "import Test  #src\n",
    "include(\"../../../3index/Utiles.jl\")\n",
    "\n",
    "\n",
    "function calculate_arc_cost(points::Vector{Vector{Int}})\n",
    "    num_points = length(points)\n",
    "    arc_cost = Array{Float64}(undef, num_points, num_points)\n",
    "    for i in 1:num_points\n",
    "        for j in 1:num_points\n",
    "            if i == j\n",
    "                arc_cost[i, j] = 100000.0  # Large value for self-loops\n",
    "            elseif i in satellites && PI[i-1]==0 && j in satellites && PI[j-1]==0\n",
    "                arc_cost[i, j] = 100000.0 \n",
    "            else\n",
    "                arc_cost[i, j] = sqrt(sum((points[i][k] - points[j][k])^2 for k in 1:length(points[i])))\n",
    "            end\n",
    "        end\n",
    "    end\n",
    "    for i in satellites\n",
    "        if PI[i-1] == 0\n",
    "            arc_cost[1,i] = 100000.0\n",
    "        end\n",
    "    end\n",
    "    # for i in 1:num_points\n",
    "    #     for j in 1:num_points\n",
    "    #         print(\"  d[$i $j]=\", round(arc_cost[i,j], digits=2))\n",
    "    #     end\n",
    "    #     println(\"\")\n",
    "    # end\n",
    "    return arc_cost\n",
    "end\n",
    "function getInfo()\n",
    "    # x_coor_customers, y_coor_customers, x_coor_depot, y_coor_depot, demands\n",
    "    return  readFile(\"/Users/lenovo1/Library/CloudStorage/OneDrive-EcoledeManagementdeNormandie/2EVRPMM/Data/Demo/C101-70.txt\")\n",
    "end\n",
    "struct Route\n",
    "    cost::Float64\n",
    "    sequence::Vector{Int}\n",
    "    length::Int\n",
    "    load::Int\n",
    " end\n",
    " \n",
    " function generateRoute(route::Vector{Int})\n",
    "    cost = 0\n",
    "    load = 0\n",
    "    for i in 1:(length(route) - 1)\n",
    "        if i!= 1\n",
    "            load += demands[route[i]]\n",
    "        end\n",
    "        from_node = route[i]\n",
    "        to_node = route[i + 1]\n",
    "        cost+= arc_cost[from_node, to_node]\n",
    "    end\n",
    "\n",
    "    # println(\"Route:\",Route(cost,route,length(route),load) )\n",
    "    return Route(cost,route,length(route),load) \n",
    " end\n",
    "\n",
    "# Function to calculate the total demand for a path\n",
    "function calculate_load(path, demands)\n",
    "    load = 0\n",
    "    for node in path[2:end-1]  # Exclude the start and end warehouses\n",
    "        load += demands[node]\n",
    "    end\n",
    "    return load\n",
    "end\n",
    "# Function to generate all paths with multiple customers\n",
    "function generate_paths(warehouses, customers, demands, max_load)\n",
    "    paths = []\n",
    "    # Generate all permutations of customer subsets (excluding empty set)\n",
    "    for num_customers in 1:length(customers)\n",
    "        for customer_subset in combinations(customers, num_customers)\n",
    "            for customer_permutation in permutations(customer_subset)\n",
    "                for start_warehouse in warehouses\n",
    "                    for end_warehouse in warehouses\n",
    "                        path = vcat([start_warehouse], customer_permutation, [end_warehouse])\n",
    "                        # Check if the load of the path exceeds the maximum allowed load\n",
    "                        if calculate_load(path, demands) <= max_load\n",
    "                            push!(paths, path)\n",
    "                        end\n",
    "                    end\n",
    "                end\n",
    "            end\n",
    "        end\n",
    "    end\n",
    "    return paths\n",
    "end\n",
    "function getB1(satellites,routes_1)\n",
    "    # Initialize a 2D array for b[s][r] with zeros\n",
    "    b = zeros(Int, length(satellites))\n",
    "    b = vcat(0 , b)\n",
    "    i = 2\n",
    "    while i<=length(routes_1) \n",
    "        # println(\"add line\")\n",
    "        b = hcat(b,zeros(Int, length(satellites)+1))\n",
    "        i += 1\n",
    "    end\n",
    "    # println(\"satellites= $satellites\")\n",
    "    # println(\"routes_1= $routes_1\")\n",
    "    # Populate the array\n",
    "    for (s_idx, i) in enumerate(satellites)  # Loop over points (row index)\n",
    "        for (r, route) in enumerate(routes_1)  # Loop over routes (column index)\n",
    "            b[s_idx+1, r] = i in route.sequence ? 1 : 0\n",
    "        end\n",
    "    end\n",
    "    return b\n",
    "end\n",
    "function transformRoute(x)\n",
    "    new_route = Vector{Int}()\n",
    "    current_node = 0\n",
    "    if length(x) > (1+length(satellites))^2 \n",
    "        ## Transform a 2e route\n",
    "        # Find the starting satellite\n",
    "        for s in satellites\n",
    "            for j in A2\n",
    "                if round(value(x[s, j])) == 1\n",
    "                    current_node = s\n",
    "                    push!(new_route, s)\n",
    "                    break\n",
    "                end\n",
    "            end\n",
    "            if current_node != 0\n",
    "                break\n",
    "            end\n",
    "        end\n",
    "        while true\n",
    "            for j in A2\n",
    "                if round(value(x[current_node,j])) == 1\n",
    "                    current_node = j\n",
    "                    push!(new_route,current_node)\n",
    "                    break\n",
    "                end\n",
    "            end\n",
    "            if current_node in satellites\n",
    "                break\n",
    "            end\n",
    "        end\n",
    "    else\n",
    "        ## Transform a 1e route\n",
    "        current_node = 1 \n",
    "        push!(new_route, current_node)\n",
    "        while true\n",
    "            for j in A1\n",
    "                if round(value(x[current_node,j])) == 1\n",
    "                    current_node = j\n",
    "                    push!(new_route,current_node)\n",
    "                    break\n",
    "                end\n",
    "            end\n",
    "            if current_node == 1\n",
    "                break\n",
    "            end\n",
    "        end\n",
    "    end\n",
    "    \n",
    "    # generateRoute(new_route)\n",
    "    # println(\"transformRoute TEST\",new_route)\n",
    "    return new_route\n",
    "end\n",
    "function solveRestrictedLinearMasterProblem(branchDecisions::Union{Dict, Nothing} = nothing, branchKey::Union{Vector{Int}, Nothing} = nothing)\n",
    "    branchDecisions = isnothing(branchDecisions) ? Dict() : branchDecisions\n",
    "    branchKey = isnothing(branchKey) ? Int[] : branchKey\n",
    "    b1 = getB1(satellites, routes_1)\n",
    "    ## Relaxed Restricted Master Problem\n",
    "    model = Model(CPLEX.Optimizer)\n",
    "\n",
    "    # set_silent(model)\n",
    "    @variable(model, 1>=x[1:length(routes_1)]>=0) # Selection of 1e route\n",
    "    @variable(model, 1>=y[A2, A2]>=0) # Selection of 2e arc\n",
    "    @variable(model, capacity_microhub >= z[satellites] >=0) # Amount of freight in satellite s\n",
    "    @variable(model, f[A2, A2]>=0) # Freight flow\n",
    "    @variable(model, t[customers]>=0)\n",
    "\n",
    "    if !isempty(branchKey)\n",
    "        while length(branchKey) != 0\n",
    "            # println(\"branchKey=  $branchKey\")\n",
    "            # println(\"branch on y[\",branchDecisions[branchKey][1],\",\",branchDecisions[branchKey][2],\"]\")\n",
    "            # println(\"branch value= \",branchKey[end])\n",
    "            @constraint(model, y[branchDecisions[branchKey][1], branchDecisions[branchKey][2]] == branchKey[end])\n",
    "            branchKey = branchKey[1:end-1]\n",
    "        end       \n",
    "    end\n",
    "    @constraint(model, sync1e[s in satellites], z[s] - M * sum(b1[s,r] * x[r] for r in 1:length(routes_1))<=0)\n",
    "    @constraint(model, freightOfSatellite[s in satellites], z[s]-sum(f[s,j] for j in customers) == 0)\n",
    "    @constraint(model, flowConservation2e[i in A2], sum(y[i,j] for j in A2) == sum(y[j,i] for j in A2))\n",
    "    @constraint(model, flowConservationSatellite[s in satellites], sum(y[s,j] for j in A2) <= capacity_microhub)\n",
    "    @constraint(model, flowConservationCustomer[c in customers], sum(y[c,j] for j in A2) == 1)\n",
    "    @constraint(model, customerDemand[c in customers], sum(f[i,c] for i in A2) - sum(f[c,i] for i in A2) == demands[c])\n",
    "    @constraint(model, capacity2eVehicle[i in A2, j in A2], f[i,j] <= y[i,j] * capacity_2e_vehicle)\n",
    "    @constraint(model, MTZ[i in customers, j in customers], t[i] + arc_cost[i,j] * y[i,j] <= t[j] + MM * (1-y[i,j]))\n",
    "    @constraint(model, distanceInitialization[i in satellites, j in customers], arc_cost[i,j] <= t[j]+MM*(1-y[i,j]))\n",
    "    @constraint(model, distanceEndding[i in customers, j in satellites], t[i] + arc_cost[i,j] <= maximum_duration_2e_vehicle+MM*(1-y[i,j]))\n",
    "    @constraint(model, distanceLimit[i in customers], t[i]<= maximum_duration_2e_vehicle)\n",
    "\n",
    "    @objective(model, Min, \n",
    "        sum(x[r] * routes_1[r].cost for r in 1:length(routes_1))+sum(y[i,j] * arc_cost[i,j] for i in A2 for j in A2))\n",
    "    \n",
    "    optimize!(model)\n",
    "    π1 = vcat(0, abs.(collect(dual.(sync1e))))\n",
    "    # @assert is_solved_and_feasible(model; dual=true)\n",
    "    println(\"objective value of master problem is: \",value(objective_value(model)))\n",
    "    \n",
    "    println(\"Status of 1e route: \")\n",
    "    # for r in 1:length(routes_1)\n",
    "    #     println(\"   x[$r]=\",value(x[r]))\n",
    "    # end\n",
    "    for r in 1:length(routes_1)\n",
    "        if value(x[r]) != 0\n",
    "            println(\"   x=\", value(x[r]), \"1e Route \", routes_1[r].sequence, \"   Load= \", routes_1[r].load ,  \"   Cost= \", round(routes_1[r].cost,digits=2))\n",
    "        end \n",
    "    end\n",
    "    # println(\"Status of satellite:\")\n",
    "    # for s in satellites\n",
    "    #     if value(z[s])!=0\n",
    "    #         println(\"   z[$s]=\", value(z[s]))\n",
    "    #     end\n",
    "    # end\n",
    "    # println(\"\")\n",
    "    # println(\"Selection of 2e arc:\")\n",
    "    # for i in A2\n",
    "    #     for j in A2\n",
    "    #         # if value(y[i,j])!=0\n",
    "    #             print(\"   y[$i $j]=\",round(value(y[i,j]), digits = 3))\n",
    "    #         # end\n",
    "    #     end\n",
    "    #     print(\"\\n\")\n",
    "    # end\n",
    "    # println(\"\")\n",
    "    # println(\"Freight flow:\")\n",
    "    # for i in A2\n",
    "    #     for j in A2\n",
    "    #         if value(f[i,j])!=0\n",
    "    #             println(\"   f[$i $j]=\",value(f[i,j]))\n",
    "    #         end\n",
    "    #     end\n",
    "    # end\n",
    "    # println(\"\")\n",
    "    # println(\"Accumulate distance:\")\n",
    "    # for i in customers\n",
    "    #     if value(t[i])!=0\n",
    "    #         println(\"   t[$i]=\",value(t[i]))\n",
    "    #     end\n",
    "    # end\n",
    "    return π1, value.(y)\n",
    "end\n",
    "function solveRestrictedIntegerMasterProblem(branchDecisions::Union{Dict, Nothing} = nothing, branchKey::Union{Vector{Int}, Nothing} = nothing)\n",
    "    branchDecisions = isnothing(branchDecisions) ? Dict() : branchDecisions\n",
    "    branchKey = isnothing(branchKey) ? Int[] : branchKey\n",
    "    b1 = getB1(satellites, routes_1)\n",
    "    ## Relaxed Restricted Master Problem\n",
    "    model = Model(CPLEX.Optimizer)\n",
    "\n",
    "    # set_silent(model)\n",
    "    @variable(model, 1>=x[1:length(routes_1)]>=0, Int) # Selection of 1e route\n",
    "    @variable(model, 1>=y[A2, A2]>=0, Int) # Selection of 2e arc\n",
    "    @variable(model, capacity_microhub >= z[satellites] >=0) # Amount of freight in satellite s\n",
    "    @variable(model, f[A2, A2]>=0) # Freight flow\n",
    "    @variable(model, t[customers]>=0)\n",
    "\n",
    "    if !isempty(branchKey)\n",
    "        while length(branchKey) != 0\n",
    "            # println(\"branchKey=  $branchKey\")\n",
    "            # println(\"branch on y[\",branchDecisions[branchKey][1],\",\",branchDecisions[branchKey][2],\"]\")\n",
    "            # println(\"branch value= \",branchKey[end])\n",
    "            @constraint(model, y[branchDecisions[branchKey][1], branchDecisions[branchKey][2]] == branchKey[end])\n",
    "            branchKey = branchKey[1:end-1]\n",
    "        end       \n",
    "    end\n",
    "    @constraint(model, sync1e[s in satellites], z[s] - M * sum(b1[s,r] * x[r] for r in 1:length(routes_1))<=0)\n",
    "    @constraint(model, freightOfSatellite[s in satellites], z[s]-sum(f[s,j] for j in customers) == 0)\n",
    "    @constraint(model, flowConservation2e[i in A2], sum(y[i,j] for j in A2) == sum(y[j,i] for j in A2))\n",
    "    @constraint(model, flowConservationSatellite[s in satellites], sum(y[s,j] for j in A2) <= capacity_microhub)\n",
    "    @constraint(model, flowConservationCustomer[c in customers], sum(y[c,j] for j in A2) == 1)\n",
    "    @constraint(model, customerDemand[c in customers], sum(f[i,c] for i in A2) - sum(f[c,i] for i in A2) == demands[c])\n",
    "    @constraint(model, capacity2eVehicle[i in A2, j in A2], f[i,j] <= y[i,j] * capacity_2e_vehicle)\n",
    "    @constraint(model, MTZ[i in customers, j in customers], t[i] + arc_cost[i,j] * y[i,j] <= t[j] + MM * (1-y[i,j]))\n",
    "    @constraint(model, distanceInitialization[i in satellites, j in customers], arc_cost[i,j] <= t[j]+MM*(1-y[i,j]))\n",
    "    @constraint(model, distanceEndding[i in customers, j in satellites], t[i] + arc_cost[i,j] <= maximum_duration_2e_vehicle+MM*(1-y[i,j]))\n",
    "    @constraint(model, distanceLimit[i in customers], t[i]<= maximum_duration_2e_vehicle)\n",
    "\n",
    "    @objective(model, Min, \n",
    "        sum(x[r] * routes_1[r].cost for r in 1:length(routes_1))+sum(y[i,j] * arc_cost[i,j] for i in A2 for j in A2))\n",
    "    \n",
    "    optimize!(model)\n",
    "    println(\"objective value of master problem is: \",value(objective_value(model)))\n",
    "    \n",
    "    println(\"Status of 1e route: \")\n",
    "    # for r in 1:length(routes_1)\n",
    "    #     println(\"   x[$r]=\",value(x[r]))\n",
    "    # end\n",
    "    for r in 1:length(routes_1)\n",
    "        if value(x[r]) != 0\n",
    "            println(\"   x=\", value(x[r]), \"1e Route \", routes_1[r].sequence, \"   Load= \", routes_1[r].load ,  \"   Cost= \", round(routes_1[r].cost,digits=2))\n",
    "        end \n",
    "    end\n",
    "    println(\"Status of satellite:\")\n",
    "    for s in satellites\n",
    "        if value(z[s])!=0\n",
    "            println(\"   z[$s]=\", value(z[s]))\n",
    "        end\n",
    "    end\n",
    "    println(\"\")\n",
    "    println(\"Selection of 2e arc:\")\n",
    "    for i in A2\n",
    "        for j in A2\n",
    "            if value(y[i,j])!=0\n",
    "                print(\"   y[$i $j]=\",round(value(y[i,j]), digits = 3))\n",
    "            end\n",
    "        end\n",
    "        print(\"\\n\")\n",
    "    end\n",
    "    # println(\"\")\n",
    "    # println(\"Freight flow:\")\n",
    "    # for i in A2\n",
    "    #     for j in A2\n",
    "    #         if value(f[i,j])!=0\n",
    "    #             println(\"   f[$i $j]=\",value(f[i,j]))\n",
    "    #         end\n",
    "    #     end\n",
    "    # end\n",
    "    # println(\"\")\n",
    "    # println(\"Accumulate distance:\")\n",
    "    # for i in customers\n",
    "    #     if value(t[i])!=0\n",
    "    #         println(\"   t[$i]=\",value(t[i]))\n",
    "    #     end\n",
    "    # end\n",
    "end\n",
    "function solve_subproblem_milp(π)\n",
    "    println(\"π1= \",π)\n",
    "    ## Construct model\n",
    "    model = Model(CPLEX.Optimizer)\n",
    "\n",
    "    set_silent(model)\n",
    "    @variable(model, 1 >= x1[A1,A1] >= 0,Int)\n",
    "    @variable(model, length(A1)>=u[A1]>=0, Int)\n",
    "\n",
    "    # @constraint(model, satelliteOblg, sum(x1[i,j] for i in A1 for j in subSatellites)>=1)\n",
    "    @constraint(model, depart, sum(x1[1,i] for i in satellites) ==1)\n",
    "    @constraint(model, ending, sum(x1[i,1] for i in satellites) ==1)\n",
    "    @constraint(model, flow[i in A1], sum(x1[j,i] for j in A1)\n",
    "                                        ==sum(x1[i,j] for j in A1))\n",
    "    @constraint(model, subtourElm[i in satellites, j in satellites], \n",
    "                u[i] + 1 <= u[j] + MM *(1-x1[i,j]))\n",
    "\n",
    "\n",
    "    @objective(model, Min, \n",
    "        sum(arc_cost[i,j] * x1[i,j] for i in A1 for j in A1) - \n",
    "        M * sum(π[s] * x1[s,j] for j in A1 for s in satellites))\n",
    "    \n",
    "    set_optimizer_attribute(model, \"CPX_PARAM_TILIM\", 120)\n",
    "    optimize!(model)\n",
    "\n",
    "    println(\"Subprobem 1e: Reduced cost= \", objective_value(model))\n",
    "    # for i in 1:length(A1)\n",
    "    #     for j in 1:length(A1)\n",
    "    #         if round(value(x1[i,j]))==1\n",
    "    #             println(\"   x1[$i,$j]=\",round(value(x1[i,j]),digits=2))\n",
    "    #         end\n",
    "    #     end\n",
    "    # end\n",
    "    # println(\"\")\n",
    "    # for i in A1\n",
    "    #     println(\"   u[$i]= \",value(u[i]))\n",
    "    # end\n",
    "    new_route = nothing\n",
    "    if objective_value(model) < -1e-8\n",
    "        # Reduced cost negative, new column generated and added to master problem\n",
    "        # println(\"test  : $num_iter\")\n",
    "        new_route = transformRoute(x1) \n",
    "    end\n",
    "    return new_route, objective_value(model)\n",
    "end\n",
    "function solve_subproblem_labelling(π)\n",
    "    labels = Dict{Int , Vector{Label}}()\n",
    "    E = Vector{Int}()\n",
    "    for s in satellites\n",
    "        if PI[s-1] == 1\n",
    "            duration = arc_cost[1,s]\n",
    "            reduced_cost = arc_cost[1,s] - π[s] * M\n",
    "            unreachables = zeros(length(A1))\n",
    "            unreachables[s] = 1\n",
    "            sequence = Vector{Int}()\n",
    "            push!(sequence, 1, s)\n",
    "            l = Label(duration, reduced_cost, unreachables,sequence)\n",
    "            push!(get!(labels, s, Vector{Label}()), l)\n",
    "            push!(E, s)\n",
    "        end\n",
    "    end\n",
    "    # for (idx, l) in labels\n",
    "    #     println(\"$idx => $l\")\n",
    "    # end\n",
    "    \n",
    "    num_iter = 1\n",
    "    start_time = time()\n",
    "    while length(E) != 0 #&& num_iter < 15\n",
    "        println(\"=================Iteration $num_iter of Labelling=================\")\n",
    "        @info \"Start time = $start_time\", time()-start_time\n",
    "        if time()-start_time > 120\n",
    "            break\n",
    "        end\n",
    "        vi = E[1]\n",
    "        println(\"\\nE= $E vi= $vi\")\n",
    "        succ = Vector{Int}()\n",
    "        for j in A1\n",
    "            if arc_cost[vi,j] <= 10000\n",
    "                push!(succ, j)\n",
    "            end\n",
    "        end\n",
    "        println(\"successor of $vi are: $succ\")\n",
    "        for vj in succ\n",
    "            for label in labels[vi]\n",
    "                if label.unreachables[vj] == 0\n",
    "                    new_label = extend(label, vi, vj,π)\n",
    "                    found = false\n",
    "                    if haskey(labels, vj)\n",
    "                        for l in labels[vj] \n",
    "                            # println(new_label.sequence , l.sequence, new_label.sequence == l.sequence)\n",
    "                            if new_label.sequence == l.sequence\n",
    "                                found = true\n",
    "                                break\n",
    "                            end\n",
    "                        end\n",
    "                    end\n",
    "                    if !found\n",
    "                        push!(get!(labels, vj, Vector{Label}()), new_label)\n",
    "                        push!(E, vj) \n",
    "                    end\n",
    "                   \n",
    "                end\n",
    "            end\n",
    "        end\n",
    "        setdiff!(E, vi)\n",
    "        println(\"E at the end of interation $E\")\n",
    "        \n",
    "        # for (idx, l) in labels\n",
    "        #     println(\"$idx =>\")\n",
    "        #     for ele in l\n",
    "        #         println(ele)\n",
    "        #     end\n",
    "        # end\n",
    "        num_iter += 1\n",
    "    end\n",
    "\n",
    "    min_solution = labels[1][1]\n",
    "    for l in labels[1]\n",
    "        if l.reduced_cost<min_solution.reduced_cost\n",
    "            min_solution = l\n",
    "        end\n",
    "    end\n",
    "\n",
    "    println(\"Min RC solution= $min_solution\")\n",
    "    new_route = nothing\n",
    "    if min_solution.reduced_cost < -1e-8\n",
    "        # Reduced cost negative, new column generated and added to master problem\n",
    "        new_route = min_solution.sequence\n",
    "    end\n",
    "    return new_route, min_solution.reduced_cost\n",
    "end\n",
    "function solve_column_generation_milp(rc1, routes_1,branchDecisions::Union{Dict, Nothing} = nothing, branchKey::Union{Vector{Int}, Nothing} = nothing)\n",
    "    branchDecisions = isnothing(branchDecisions) ? Dict() : branchDecisions\n",
    "    branchKey = isnothing(branchKey) ? Int[] : branchKey\n",
    "\n",
    "    status = false\n",
    "    num_iter = 1\n",
    "    y = nothing\n",
    "    if branchKey != nothing\n",
    "        printText = branchKey\n",
    "    else\n",
    "        printText = \"\"\n",
    "    end\n",
    "    start_time = time()\n",
    "    while !(status) && time()-start_time <60*15\n",
    "        println(\"\\n======================Iteration $num_iter $printText======================\")\n",
    "        println(\"1e route= $routes_1\")\n",
    "        global b1\n",
    "        b1 = getB1(satellites, routes_1)\n",
    "        π1, y = solveRestrictedLinearMasterProblem(branchDecisions, branchKey)\n",
    "        \n",
    "        new_route = nothing\n",
    "        new_route,rc_v= solve_subproblem_milp(π1)\n",
    "        if !(isempty(rc1)) && rc_v == rc1[end]\n",
    "            @info \"Reduced cost converged, terminating column generation for 1st echelon\"\n",
    "            status = true\n",
    "        end\n",
    "        push!(rc1,rc_v)\n",
    "        if new_route == nothing\n",
    "            @info \"No new 1e routes generated\"\n",
    "            status = true\n",
    "        else\n",
    "            @info \"New 1e route $new_route \"\n",
    "            push!(routes_1, generateRoute(new_route))\n",
    "        end\n",
    "        num_iter += 1\n",
    "    end\n",
    "    return rc1, routes_1, y\n",
    "end\n",
    "function solve_column_generation_labelling(rc1, routes_1)\n",
    "    # branchDecisions = isnothing(branchDecisions) ? Dict() : branchDecisions\n",
    "    # branchKey = isnothing(branchKey) ? Int[] : branchKey\n",
    "\n",
    "    status = false\n",
    "    num_iter = 1\n",
    "    y = nothing\n",
    "    # if branchKey != nothing\n",
    "    #     printText = branchKey\n",
    "    # else\n",
    "    #     printText = \"\"\n",
    "    # end\n",
    "    start_time = time()\n",
    "    while !(status) && time()-start_time <600#&& num_iter<2\n",
    "        println(\"\\n======================Iteration $num_iter at \",time()-start_time ,\"s of column generation======================\")\n",
    "        println(\"1e route= $routes_1\")\n",
    "        global b1\n",
    "        b1 = getB1(satellites, routes_1)\n",
    "        π1, y = solveRestrictedLinearMasterProblem()\n",
    "        \n",
    "        new_route = nothing\n",
    "        new_route,rc_v= solve_subproblem_labelling(π1)\n",
    "\n",
    "        if !(isempty(rc1)) && rc_v == rc1[end]\n",
    "            @info \"Reduced cost converged, terminating column generation for 1st echelon\"\n",
    "            status = true\n",
    "        end\n",
    "        push!(rc1,rc_v)\n",
    "        if new_route == nothing\n",
    "            @info \"No new 1e routes generated\"\n",
    "            status = true\n",
    "        else\n",
    "            @info \"New 1e route $new_route \"\n",
    "            push!(routes_1, generateRoute(new_route))\n",
    "        end\n",
    "        num_iter += 1\n",
    "    end\n",
    "\n",
    "    return rc1, routes_1, y\n",
    "end\n",
    "function getBranchingNode(y)\n",
    "    fractional_y = [(i,j) for i in A2, j in A2 if 0<y[i,j]<1]\n",
    "    if isempty(fractional_y)\n",
    "        println(\"Optimal Integer Solution Found\")\n",
    "        return nothing, nothing\n",
    "    else\n",
    "        (i_branch, j_branch) = fractional_y[1]\n",
    "    end\n",
    "\n",
    "    println(\"Branching on y[$i_branch, $j_branch]\")\n",
    "    return i_branch, j_branch\n",
    "end\n",
    "struct Label\n",
    "    duration::Float64\n",
    "    reduced_cost::Float64\n",
    "    unreachables::Vector{Int}\n",
    "    sequence::Vector{Int}\n",
    "end\n",
    "function extend(label::Label, vi::Int, vj::Int, π)\n",
    "    duration = label.duration + arc_cost[vi,vj]\n",
    "    reduced_cost = label.reduced_cost + arc_cost[vi,vj]\n",
    "    # println(\"TESTTEST π=$π\")\n",
    "    sequence = copy(label.sequence)\n",
    "    push!(sequence, vj)\n",
    "    if vj != 1\n",
    "        reduced_cost -=  M * π[vj] \n",
    "    end\n",
    "    unreachables = zeros(nb_s+1)\n",
    "    for i in sequence\n",
    "        if vj == 1\n",
    "            unreachables[i] = 1\n",
    "        else\n",
    "            if i != 1\n",
    "                unreachables[i] = 1\n",
    "            end\n",
    "        end\n",
    "    end\n",
    "    for k in A1\n",
    "        if duration + arc_cost[vj,k] >= maximum_duration_1e_vehicle && k!=1\n",
    "            # @info \"Can't propagate from $vj to $k due to duration limit\"\n",
    "            unreachables[k] = 1\n",
    "        elseif duration + arc_cost[vj,k] > maximum_duration_1e_vehicle && k==1\n",
    "            # @info \"Can't propagate from $vj to $k due to duration limit\"\n",
    "            unreachables[k] = 1\n",
    "        end\n",
    "    end\n",
    "    l = Label(duration, reduced_cost,unreachables,sequence)\n",
    "    return l\n",
    "end\n",
    "\n",
    "nb_s = 25\n",
    "nb_m = 10\n",
    "\n",
    "x_coor_customers, y_coor_customers, x_coor_depot, y_coor_depot, demands = getInfo()\n",
    "demands = vcat(zeros(nb_s+1),demands)\n",
    "\n",
    "PI = vcat(ones(Int, nb_m),zeros(Int, nb_s-nb_m))\n",
    "Random.seed!(42)\n",
    "shuffle!(PI)\n",
    "x_coor_parkings = []\n",
    "y_coor_parkings = []\n",
    "min_x,min_y = minimum(x_coor_customers),minimum(y_coor_customers)\n",
    "max_x,max_y = maximum(x_coor_customers),maximum(y_coor_customers)\n",
    "for i in 1:nb_s\n",
    "    push!(x_coor_parkings, rand(min_x: max_x))\n",
    "    push!(y_coor_parkings, rand(min_y: max_y))\n",
    "end\n",
    "coor_parkings = [[x,y] for (x,y) in zip(x_coor_parkings , y_coor_parkings)]\n",
    "coor_customers = [[x,y] for (x,y) in zip(x_coor_customers, y_coor_customers)]\n",
    "coor = vcat([[0,0]], coor_parkings, coor_customers)\n",
    "nb_vehicle_per_satellite = 10\n",
    "capacity_2e_vehicle = 50\n",
    "capacity_microhub = 200\n",
    "maximum_duration_2e_vehicle = 300\n",
    "maximum_duration_1e_vehicle = 1000\n",
    "points = 1:length(demands)\n",
    "\n",
    "# Define the range of customers\n",
    "customers = 2+nb_s : length(coor)\n",
    "satellites = 2:1 + nb_s\n",
    "arc_cost = calculate_arc_cost(coor)\n",
    "A2 = 2:length(coor)\n",
    "A1 = 1:1+length(satellites)\n",
    "M = sum(demands)# capacity of a satellite\n",
    "MM = 100\n",
    "\n",
    "rs_1 = Vector{Vector{Int}}()\n",
    "for idx in 1:length(PI)\n",
    "    r = Vector{Int}()\n",
    "    if PI[idx] == 1\n",
    "        push!(r,1)\n",
    "        push!(r, idx+1)\n",
    "        push!(r,1)\n",
    "        push!(rs_1, r)\n",
    "    end\n",
    "\n",
    "end\n",
    "# rs_1 =  [[1,2,1],[1,5,1]]\n",
    "routes_1 = Vector{Route}()\n",
    "for r in rs_1\n",
    "    push!(routes_1, generateRoute(r))\n",
    "end\n",
    "rc1 = []\n",
    "branchingDecisions = Dict{Vector{Int}, Vector{Int}}()\n",
    "\n",
    "\n",
    "# while true\n",
    "#     1. solve restricted linear master problem\n",
    "#     2. solve pricing subproblem till reduced cost non negative(column generation)\n",
    "#     3. if solution integral break\n",
    "#       else \n",
    "#     4. branch on y, Integerity force\n",
    "#     5. back to 1. with generated route and branch constriant\n",
    "# end\n",
    "\n",
    "# global b1\n",
    "# b1 = getB1(satellites, routes_1)\n",
    "# π,_ = solveRestrictedLinearMasterProblem()\n",
    "# solve_subproblem_labelling(π)\n",
    "\n",
    "t1 = @elapsed begin\n",
    "    global rc1, routes_1\n",
    "    # rc1, routes_1, y = solve_column_generation_milp(rc1, routes_1)\n",
    "    rc1, routes_1, y = solve_column_generation_labelling(rc1, routes_1)\n",
    "    # println(\"\")\n",
    "    println(\"reduced costs: $rc1\")\n",
    "    println(\"1e routes:\")\n",
    "    for r in routes_1\n",
    "        println(r)\n",
    "    end\n",
    "    solveRestrictedIntegerMasterProblem()\n",
    "end\n",
    "\n",
    "println(\"Total Execution Time: \", t1, \" seconds\")\n",
    "\n",
    "\n",
    "# (i_branch, j_branch) = getBranchingNode(y)\n",
    "\n",
    "\n",
    "# println(branchingDecisions)\n",
    "# if isempty(branchingDecisions)\n",
    "#     branchingDecisions[[0]] = [i_branch, j_branch]\n",
    "#     branchingDecisions[[1]] = [i_branch, j_branch]\n",
    "# else\n",
    "#     for (k,v) in branchingDecisions\n",
    "#         println(\"$k => $v\")\n",
    "#         new_key = push(k,0)\n",
    "#         branchingDecisions[new_key] = [i_branch, j_branch]\n",
    "#         new_key = push(k,1)\n",
    "#         branchingDecisions[new_key] = [i_branch, j_branch]\n",
    "#     end\n",
    "# end\n",
    "# for (k,v) in branchingDecisions\n",
    "#     println(\"$k => $v\")\n",
    "# end\n",
    "\n",
    "# global num_level = 1\n",
    "# global status = true\n",
    "# while status && num_level<16\n",
    "#     println(\"\\n#==================================================================================================#\\n\")\n",
    "#     global new_branchs = Dict{Vector{Int}, Vector{Int}}()\n",
    "#     for (k,v) in branchingDecisions\n",
    "#         if length(k) == num_level\n",
    "#             println(\"Work on key= $k\")\n",
    "#             global rc1, routes_1\n",
    "#             rc1, routes_1, y = solve_column_generation(rc1, routes_1,branchingDecisions,k)\n",
    "\n",
    "#             (i_branch, j_branch) = getBranchingNode(y)\n",
    "#             if isnothing(i_branch)\n",
    "#                 global status = false\n",
    "#                 break\n",
    "#             end\n",
    "\n",
    "#             new_value = [i_branch, j_branch]\n",
    "#             new_key_left = push!(copy(k),0)\n",
    "#             new_key_right = push!(copy(k),1)\n",
    "\n",
    "#             new_branchs[new_key_left]= new_value\n",
    "#             new_branchs[new_key_right]= new_value\n",
    "#         end\n",
    "\n",
    "#     end\n",
    "\n",
    "#     for (k,v) in new_branchs\n",
    "#         # println(\"$k => $v\")\n",
    "#         branchingDecisions[k] = v\n",
    "#     end\n",
    "#     println(\"\")\n",
    "#     # for (k,v) in branchingDecisions\n",
    "#     #     println(\"$k => $v\")\n",
    "#     # end\n",
    "#     global num_level\n",
    "#     num_level += 1\n",
    "# end\n",
    "\n",
    "# # println(\"\\nReduced cost= \\n$rc1\")\n",
    "# println(\"\\n1e Routes= \")\n",
    "# for r in routes_1\n",
    "#     println(r)\n",
    "# end"
   ]
  },
  {
   "cell_type": "code",
   "execution_count": null,
   "id": "aaca8538-5a5d-4963-859f-826f3b5812b1",
   "metadata": {},
   "outputs": [],
   "source": []
  }
 ],
 "metadata": {
  "kernelspec": {
   "display_name": "Julia 1.10.4",
   "language": "julia",
   "name": "julia-1.10"
  },
  "language_info": {
   "file_extension": ".jl",
   "mimetype": "application/julia",
   "name": "julia",
   "version": "1.10.4"
  }
 },
 "nbformat": 4,
 "nbformat_minor": 5
}
