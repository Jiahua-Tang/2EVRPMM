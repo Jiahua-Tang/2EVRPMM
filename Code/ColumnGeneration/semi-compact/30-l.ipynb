{
 "cells": [
  {
   "cell_type": "code",
   "execution_count": 1,
   "id": "20ea18fc-bc9c-42cc-ad80-d436aa70edcf",
   "metadata": {},
   "outputs": [
    {
     "name": "stdout",
     "output_type": "stream",
     "text": [
      "\n",
      "======================Iteration 1 at 1.1920928955078125e-5s of column generation======================\n",
      "1e route= Route[Route(90.50966799187809, [1, 2, 1], 3, 0), Route(54.589376255824725, [1, 8, 1], 3, 0), Route(111.57060544785082, [1, 12, 1], 3, 0), Route(100.0, [1, 13, 1], 3, 0)]\n",
      "CPLEX Error  3003: Not a mixed-integer problem.\n",
      "Version identifier: 22.1.1.0 | 2022-11-28 | 9160aff4d\n",
      "Parallel mode: deterministic, using up to 10 threads for concurrent optimization:\n",
      " * Starting dual Simplex on 1 thread...\n",
      " * Starting Barrier on 8 threads...\n",
      " * Starting primal Simplex on 1 thread...\n",
      "Tried aggregator 1 time.\n",
      "LP Presolve eliminated 474 rows and 411 columns.\n",
      "Reduced LP has 2580 rows, 2674 columns, and 11559 nonzeros.\n",
      "Presolve time = 0.00 sec. (4.35 ticks)\n",
      "\n",
      "Iteration log . . .\n",
      "Iteration:     1   Dual objective     =             0.000000\n",
      "Iteration:   143   Dual objective     =           164.076600\n",
      "Iteration:   227   Dual objective     =           164.076600\n",
      "Iteration:   323   Dual objective     =           183.461034\n",
      "Iteration:   397   Dual objective     =           184.461034\n",
      "Iteration:   511   Dual objective     =           472.529186\n",
      "Iteration:   586   Dual objective     =           472.529186\n",
      "Perturbation started.\n",
      "Iteration:   601   Dual objective     =           472.529186\n",
      "Iteration:   713   Dual objective     =           573.876405\n",
      "Iteration:   848   Dual objective     =           658.288181\n",
      "Iteration:   938   Dual objective     =           675.443535\n",
      "Iteration:  1065   Dual objective     =           707.866735\n",
      "Removing perturbation.\n",
      "objective value of master problem is: 714.4909359971881\n",
      "Status of 1e route: \n",
      "   x=0.35087719298245611e Route [1, 2, 1]   Load= 0   Cost= 90.51\n",
      "   x=0.166666666666666661e Route [1, 8, 1]   Load= 0   Cost= 54.59\n",
      "   x=0.184210526315789461e Route [1, 12, 1]   Load= 0   Cost= 111.57\n",
      "   x=0.29824561403508771e Route [1, 13, 1]   Load= 0   Cost= 100.0\n",
      "=================Iteration 1 of Labelling=================\n",
      "\n",
      "E= [2, 8, 12, 13] vi= 2\n",
      "successor of 2 are: [1, 3, 4, 5, 6, 7, 8, 9, 10, 11, 12, 13]\n",
      "E at the end of interation [8, 12, 13, 1, 3, 4, 5, 6, 7, 9, 10, 11]\n",
      "=================Iteration 2 of Labelling=================\n",
      "\n",
      "E= [8, 12, 13, 1, 3, 4, 5, 6, 7, 9, 10, 11] vi= 8\n",
      "successor of 8 are: [1, 2, 3, 4, 5, 6, 7, 9, 10, 11, 12, 13]\n",
      "E at the end of interation [12, 13, 1, 3, 4, 5, 6, 7, 9, 10, 11, 2]\n",
      "=================Iteration 3 of Labelling=================\n",
      "\n",
      "E= [12, 13, 1, 3, 4, 5, 6, 7, 9, 10, 11, 2] vi= 12\n",
      "successor of 12 are: [1, 2, 3, 4, 5, 6, 7, 8, 9, 10, 11, 13]\n",
      "E at the end of interation [13, 1, 3, 4, 5, 6, 7, 9, 10, 11, 2, 8]\n",
      "=================Iteration 4 of Labelling=================\n",
      "\n",
      "E= [13, 1, 3, 4, 5, 6, 7, 9, 10, 11, 2, 8] vi= 13\n",
      "successor of 13 are: [1, 2, 3, 4, 5, 6, 7, 8, 9, 10, 11, 12]\n",
      "E at the end of interation [1, 3, 4, 5, 6, 7, 9, 10, 11, 2, 8, 12]\n",
      "=================Iteration 5 of Labelling=================\n",
      "\n",
      "E= [1, 3, 4, 5, 6, 7, 9, 10, 11, 2, 8, 12] vi= 1\n",
      "successor of 1 are: [2, 8, 12, 13]\n",
      "E at the end of interation [3, 4, 5, 6, 7, 9, 10, 11, 2, 8, 12, 13]\n",
      "=================Iteration 6 of Labelling=================\n",
      "\n",
      "E= [3, 4, 5, 6, 7, 9, 10, 11, 2, 8, 12, 13] vi= 3\n",
      "successor of 3 are: [1, 2, 8, 12, 13]\n",
      "E at the end of interation [4, 5, 6, 7, 9, 10, 11, 2, 8, 12, 13, 1]\n",
      "=================Iteration 7 of Labelling=================\n",
      "\n",
      "E= [4, 5, 6, 7, 9, 10, 11, 2, 8, 12, 13, 1] vi= 4\n",
      "successor of 4 are: [1, 2, 8, 12, 13]\n",
      "E at the end of interation [5, 6, 7, 9, 10, 11, 2, 8, 12, 13, 1]\n",
      "=================Iteration 8 of Labelling=================\n",
      "\n",
      "E= [5, 6, 7, 9, 10, 11, 2, 8, 12, 13, 1] vi= 5\n",
      "successor of 5 are: [1, 2, 8, 12, 13]\n",
      "E at the end of interation [6, 7, 9, 10, 11, 2, 8, 12, 13, 1]\n",
      "=================Iteration 9 of Labelling=================\n",
      "\n",
      "E= [6, 7, 9, 10, 11, 2, 8, 12, 13, 1] vi= 6\n",
      "successor of 6 are: [1, 2, 8, 12, 13]\n",
      "E at the end of interation [7, 9, 10, 11, 2, 8, 12, 13, 1]\n",
      "=================Iteration 10 of Labelling=================\n",
      "\n",
      "E= [7, 9, 10, 11, 2, 8, 12, 13, 1] vi= 7\n",
      "successor of 7 are: [1, 2, 8, 12, 13]\n",
      "E at the end of interation [9, 10, 11, 2, 8, 12, 13, 1]\n",
      "=================Iteration 11 of Labelling=================\n",
      "\n",
      "E= [9, 10, 11, 2, 8, 12, 13, 1] vi= 9\n",
      "successor of 9 are: [1, 2, 8, 12, 13]\n",
      "E at the end of interation [10, 11, 2, 8, 12, 13, 1]\n",
      "=================Iteration 12 of Labelling=================\n",
      "\n",
      "E= [10, 11, 2, 8, 12, 13, 1] vi= 10\n",
      "successor of 10 are: [1, 2, 8, 12, 13]\n",
      "E at the end of interation [11, 2, 8, 12, 13, 1]\n",
      "=================Iteration 13 of Labelling=================\n",
      "\n",
      "E= [11, 2, 8, 12, 13, 1] vi= 11\n",
      "successor of 11 are: [1, 2, 8, 12, 13]\n",
      "E at the end of interation [2, 8, 12, 13, 1]\n",
      "=================Iteration 14 of Labelling=================\n",
      "\n",
      "E= [2, 8, 12, 13, 1] vi= 2\n",
      "successor of 2 are: [1, 3, 4, 5, 6, 7, 8, 9, 10, 11, 12, 13]\n",
      "E at the end of interation [8, 12, 13, 1, 3, 4, 5, 6, 7, 9, 10, 11]\n",
      "=================Iteration 15 of Labelling=================\n",
      "\n",
      "E= [8, 12, 13, 1, 3, 4, 5, 6, 7, 9, 10, 11] vi= 8\n",
      "successor of 8 are: [1, 2, 3, 4, 5, 6, 7, 9, 10, 11, 12, 13]\n"
     ]
    },
    {
     "name": "stderr",
     "output_type": "stream",
     "text": [
      "\u001b[36m\u001b[1m[ \u001b[22m\u001b[39m\u001b[36m\u001b[1mInfo: \u001b[22m\u001b[39m(\"Start time = 1.738744117569364e9\", 0.016957998275756836)\n",
      "\u001b[36m\u001b[1m[ \u001b[22m\u001b[39m\u001b[36m\u001b[1mInfo: \u001b[22m\u001b[39m(\"Start time = 1.738744117569364e9\", 0.5978479385375977)\n",
      "\u001b[36m\u001b[1m[ \u001b[22m\u001b[39m\u001b[36m\u001b[1mInfo: \u001b[22m\u001b[39m(\"Start time = 1.738744117569364e9\", 0.6008939743041992)\n",
      "\u001b[36m\u001b[1m[ \u001b[22m\u001b[39m\u001b[36m\u001b[1mInfo: \u001b[22m\u001b[39m(\"Start time = 1.738744117569364e9\", 0.6049368381500244)\n",
      "\u001b[36m\u001b[1m[ \u001b[22m\u001b[39m\u001b[36m\u001b[1mInfo: \u001b[22m\u001b[39m(\"Start time = 1.738744117569364e9\", 0.6106200218200684)\n",
      "\u001b[36m\u001b[1m[ \u001b[22m\u001b[39m\u001b[36m\u001b[1mInfo: \u001b[22m\u001b[39m(\"Start time = 1.738744117569364e9\", 0.6201279163360596)\n",
      "\u001b[36m\u001b[1m[ \u001b[22m\u001b[39m\u001b[36m\u001b[1mInfo: \u001b[22m\u001b[39m(\"Start time = 1.738744117569364e9\", 0.6250438690185547)\n",
      "\u001b[36m\u001b[1m[ \u001b[22m\u001b[39m\u001b[36m\u001b[1mInfo: \u001b[22m\u001b[39m(\"Start time = 1.738744117569364e9\", 0.6272988319396973)\n",
      "\u001b[36m\u001b[1m[ \u001b[22m\u001b[39m\u001b[36m\u001b[1mInfo: \u001b[22m\u001b[39m(\"Start time = 1.738744117569364e9\", 0.6298589706420898)\n",
      "\u001b[36m\u001b[1m[ \u001b[22m\u001b[39m\u001b[36m\u001b[1mInfo: \u001b[22m\u001b[39m(\"Start time = 1.738744117569364e9\", 0.6326339244842529)\n",
      "\u001b[36m\u001b[1m[ \u001b[22m\u001b[39m\u001b[36m\u001b[1mInfo: \u001b[22m\u001b[39m(\"Start time = 1.738744117569364e9\", 0.6371498107910156)\n",
      "\u001b[36m\u001b[1m[ \u001b[22m\u001b[39m\u001b[36m\u001b[1mInfo: \u001b[22m\u001b[39m(\"Start time = 1.738744117569364e9\", 0.6401588916778564)\n",
      "\u001b[36m\u001b[1m[ \u001b[22m\u001b[39m\u001b[36m\u001b[1mInfo: \u001b[22m\u001b[39m(\"Start time = 1.738744117569364e9\", 0.6434168815612793)\n",
      "\u001b[36m\u001b[1m[ \u001b[22m\u001b[39m\u001b[36m\u001b[1mInfo: \u001b[22m\u001b[39m(\"Start time = 1.738744117569364e9\", 0.6499269008636475)\n",
      "\u001b[36m\u001b[1m[ \u001b[22m\u001b[39m\u001b[36m\u001b[1mInfo: \u001b[22m\u001b[39m(\"Start time = 1.738744117569364e9\", 0.6587109565734863)\n"
     ]
    },
    {
     "name": "stdout",
     "output_type": "stream",
     "text": [
      "E at the end of interation [12, 13, 1, 3, 4, 5, 6, 7, 9, 10, 11, 2]\n",
      "=================Iteration 16 of Labelling=================\n",
      "\n",
      "E= [12, 13, 1, 3, 4, 5, 6, 7, 9, 10, 11, 2] vi= 12\n",
      "successor of 12 are: [1, 2, 3, 4, 5, 6, 7, 8, 9, 10, 11, 13]\n",
      "E at the end of interation [13, 1, 3, 4, 5, 6, 7, 9, 10, 11, 2, 8]\n",
      "=================Iteration 17 of Labelling=================\n",
      "\n",
      "E= [13, 1, 3, 4, 5, 6, 7, 9, 10, 11, 2, 8] vi= 13\n",
      "successor of 13 are: [1, 2, 3, 4, 5, 6, 7, 8, 9, 10, 11, 12]\n",
      "E at the end of interation [1, 3, 4, 5, 6, 7, 9, 10, 11, 2, 8, 12]\n",
      "=================Iteration 18 of Labelling=================\n",
      "\n",
      "E= [1, 3, 4, 5, 6, 7, 9, 10, 11, 2, 8, 12] vi= 1\n",
      "successor of 1 are: [2, 8, 12, 13]\n",
      "E at the end of interation [3, 4, 5, 6, 7, 9, 10, 11, 2, 8, 12, 13]\n",
      "=================Iteration 19 of Labelling=================\n"
     ]
    },
    {
     "name": "stderr",
     "output_type": "stream",
     "text": [
      "\u001b[36m\u001b[1m[ \u001b[22m\u001b[39m\u001b[36m\u001b[1mInfo: \u001b[22m\u001b[39m(\"Start time = 1.738744117569364e9\", 0.6660130023956299)\n",
      "\u001b[36m\u001b[1m[ \u001b[22m\u001b[39m\u001b[36m\u001b[1mInfo: \u001b[22m\u001b[39m(\"Start time = 1.738744117569364e9\", 0.6745929718017578)\n",
      "\u001b[36m\u001b[1m[ \u001b[22m\u001b[39m\u001b[36m\u001b[1mInfo: \u001b[22m\u001b[39m(\"Start time = 1.738744117569364e9\", 0.7513728141784668)\n",
      "\u001b[36m\u001b[1m[ \u001b[22m\u001b[39m\u001b[36m\u001b[1mInfo: \u001b[22m\u001b[39m(\"Start time = 1.738744117569364e9\", 0.7620790004730225)\n"
     ]
    },
    {
     "name": "stdout",
     "output_type": "stream",
     "text": [
      "\n",
      "E= [3, 4, 5, 6, 7, 9, 10, 11, 2, 8, 12, 13] vi= 3\n",
      "successor of 3 are: [1, 2, 8, 12, 13]\n",
      "E at the end of interation [4, 5, 6, 7, 9, 10, 11, 2, 8, 12, 13, 1]\n",
      "=================Iteration 20 of Labelling=================\n",
      "\n",
      "E= [4, 5, 6, 7, 9, 10, 11, 2, 8, 12, 13, 1] vi= 4\n",
      "successor of 4 are: [1, 2, 8, 12, 13]\n",
      "E at the end of interation [5, 6, 7, 9, 10, 11, 2, 8, 12, 13, 1]\n",
      "=================Iteration 21 of Labelling=================\n",
      "\n",
      "E= [5, 6, 7, 9, 10, 11, 2, 8, 12, 13, 1] vi= 5\n",
      "successor of 5 are: [1, 2, 8, 12, 13]\n",
      "E at the end of interation [6, 7, 9, 10, 11, 2, 8, 12, 13, 1]\n",
      "=================Iteration 22 of Labelling=================\n",
      "\n",
      "E= [6, 7, 9, 10, 11, 2, 8, 12, 13, 1] vi= 6\n",
      "successor of 6 are: [1, 2, 8, 12, 13]\n",
      "E at the end of interation [7, 9, 10, 11, 2, 8, 12, 13, 1]\n",
      "=================Iteration 23 of Labelling=================\n",
      "\n",
      "E= [7, 9, 10, 11, 2, 8, 12, 13, 1] vi= 7\n",
      "successor of 7 are: [1, 2, 8, 12, 13]\n",
      "E at the end of interation [9, 10, 11, 2, 8, 12, 13, 1]\n",
      "=================Iteration 24 of Labelling=================\n",
      "\n",
      "E= [9, 10, 11, 2, 8, 12, 13, 1] vi= 9\n",
      "successor of 9 are: [1, 2, 8, 12, 13]\n",
      "E at the end of interation [10, 11, 2, 8, 12, 13, 1]\n"
     ]
    },
    {
     "name": "stderr",
     "output_type": "stream",
     "text": [
      "\u001b[36m\u001b[1m[ \u001b[22m\u001b[39m\u001b[36m\u001b[1mInfo: \u001b[22m\u001b[39m(\"Start time = 1.738744117569364e9\", 0.7761619091033936)\n",
      "\u001b[36m\u001b[1m[ \u001b[22m\u001b[39m\u001b[36m\u001b[1mInfo: \u001b[22m\u001b[39m(\"Start time = 1.738744117569364e9\", 0.7859869003295898)\n",
      "\u001b[36m\u001b[1m[ \u001b[22m\u001b[39m\u001b[36m\u001b[1mInfo: \u001b[22m\u001b[39m(\"Start time = 1.738744117569364e9\", 0.795076847076416)\n",
      "\u001b[36m\u001b[1m[ \u001b[22m\u001b[39m\u001b[36m\u001b[1mInfo: \u001b[22m\u001b[39m(\"Start time = 1.738744117569364e9\", 0.8205080032348633)\n",
      "\u001b[36m\u001b[1m[ \u001b[22m\u001b[39m\u001b[36m\u001b[1mInfo: \u001b[22m\u001b[39m(\"Start time = 1.738744117569364e9\", 0.8393938541412354)\n"
     ]
    },
    {
     "name": "stdout",
     "output_type": "stream",
     "text": [
      "=================Iteration 25 of Labelling=================\n",
      "\n",
      "E= [10, 11, 2, 8, 12, 13, 1] vi= 10\n",
      "successor of 10 are: [1, 2, 8, 12, 13]\n",
      "E at the end of interation [11, 2, 8, 12, 13, 1]\n",
      "=================Iteration 26 of Labelling=================\n",
      "\n",
      "E= [11, 2, 8, 12, 13, 1] vi= 11\n",
      "successor of 11 are: [1, 2, 8, 12, 13]\n",
      "E at the end of interation [2, 8, 12, 13, 1]\n"
     ]
    },
    {
     "name": "stderr",
     "output_type": "stream",
     "text": [
      "\u001b[36m\u001b[1m[ \u001b[22m\u001b[39m\u001b[36m\u001b[1mInfo: \u001b[22m\u001b[39m(\"Start time = 1.738744117569364e9\", 0.9558680057525635)\n",
      "\u001b[36m\u001b[1m[ \u001b[22m\u001b[39m\u001b[36m\u001b[1mInfo: \u001b[22m\u001b[39m(\"Start time = 1.738744117569364e9\", 0.9794628620147705)\n"
     ]
    },
    {
     "name": "stdout",
     "output_type": "stream",
     "text": [
      "=================Iteration 27 of Labelling=================\n",
      "\n",
      "E= [2, 8, 12, 13, 1] vi= 2\n",
      "successor of 2 are: [1, 3, 4, 5, 6, 7, 8, 9, 10, 11, 12, 13]\n"
     ]
    },
    {
     "name": "stderr",
     "output_type": "stream",
     "text": [
      "\u001b[36m\u001b[1m[ \u001b[22m\u001b[39m\u001b[36m\u001b[1mInfo: \u001b[22m\u001b[39m(\"Start time = 1.738744117569364e9\", 1.0954029560089111)\n"
     ]
    },
    {
     "name": "stdout",
     "output_type": "stream",
     "text": [
      "E at the end of interation [8, 12, 13, 1, 3, 4, 5, 6, 7, 9, 10, 11]\n",
      "=================Iteration 28 of Labelling=================\n",
      "\n",
      "E= [8, 12, 13, 1, 3, 4, 5, 6, 7, 9, 10, 11] vi= 8\n",
      "successor of 8 are: [1, 2, 3, 4, 5, 6, 7, 9, 10, 11, 12, 13]\n"
     ]
    },
    {
     "name": "stderr",
     "output_type": "stream",
     "text": [
      "\u001b[36m\u001b[1m[ \u001b[22m\u001b[39m\u001b[36m\u001b[1mInfo: \u001b[22m\u001b[39m(\"Start time = 1.738744117569364e9\", 1.2567849159240723)\n"
     ]
    },
    {
     "name": "stdout",
     "output_type": "stream",
     "text": [
      "E at the end of interation [12, 13, 1, 3, 4, 5, 6, 7, 9, 10, 11, 2]\n",
      "=================Iteration 29 of Labelling=================\n",
      "\n",
      "E= [12, 13, 1, 3, 4, 5, 6, 7, 9, 10, 11, 2] vi= 12\n",
      "successor of 12 are: [1, 2, 3, 4, 5, 6, 7, 8, 9, 10, 11, 13]\n"
     ]
    },
    {
     "name": "stderr",
     "output_type": "stream",
     "text": [
      "\u001b[36m\u001b[1m[ \u001b[22m\u001b[39m\u001b[36m\u001b[1mInfo: \u001b[22m\u001b[39m(\"Start time = 1.738744117569364e9\", 1.5704538822174072)\n"
     ]
    },
    {
     "name": "stdout",
     "output_type": "stream",
     "text": [
      "E at the end of interation [13, 1, 3, 4, 5, 6, 7, 9, 10, 11, 2, 8]\n",
      "=================Iteration 30 of Labelling=================\n",
      "\n",
      "E= [13, 1, 3, 4, 5, 6, 7, 9, 10, 11, 2, 8] vi= 13\n",
      "successor of 13 are: [1, 2, 3, 4, 5, 6, 7, 8, 9, 10, 11, 12]\n"
     ]
    },
    {
     "name": "stderr",
     "output_type": "stream",
     "text": [
      "\u001b[36m\u001b[1m[ \u001b[22m\u001b[39m\u001b[36m\u001b[1mInfo: \u001b[22m\u001b[39m(\"Start time = 1.738744117569364e9\", 2.0956790447235107)\n"
     ]
    },
    {
     "name": "stdout",
     "output_type": "stream",
     "text": [
      "E at the end of interation [1, 3, 4, 5, 6, 7, 9, 10, 11, 2, 8, 12]\n",
      "=================Iteration 31 of Labelling=================\n",
      "\n",
      "E= [1, 3, 4, 5, 6, 7, 9, 10, 11, 2, 8, 12] vi= 1\n",
      "successor of 1 are: [2, 8, 12, 13]\n"
     ]
    },
    {
     "name": "stderr",
     "output_type": "stream",
     "text": [
      "\u001b[36m\u001b[1m[ \u001b[22m\u001b[39m\u001b[36m\u001b[1mInfo: \u001b[22m\u001b[39m(\"Start time = 1.738744117569364e9\", 2.7885169982910156)\n"
     ]
    },
    {
     "name": "stdout",
     "output_type": "stream",
     "text": [
      "E at the end of interation [3, 4, 5, 6, 7, 9, 10, 11, 2, 8, 12, 13]\n",
      "=================Iteration 32 of Labelling=================\n",
      "\n",
      "E= [3, 4, 5, 6, 7, 9, 10, 11, 2, 8, 12, 13] vi= 3\n",
      "successor of 3 are: [1, 2, 8, 12, 13]\n"
     ]
    },
    {
     "name": "stderr",
     "output_type": "stream",
     "text": [
      "\u001b[36m\u001b[1m[ \u001b[22m\u001b[39m\u001b[36m\u001b[1mInfo: \u001b[22m\u001b[39m(\"Start time = 1.738744117569364e9\", 2.9391329288482666)\n"
     ]
    },
    {
     "name": "stdout",
     "output_type": "stream",
     "text": [
      "E at the end of interation [4, 5, 6, 7, 9, 10, 11, 2, 8, 12, 13, 1]\n",
      "=================Iteration 33 of Labelling=================\n",
      "\n",
      "E= [4, 5, 6, 7, 9, 10, 11, 2, 8, 12, 13, 1] vi= 4\n",
      "successor of 4 are: [1, 2, 8, 12, 13]\n"
     ]
    },
    {
     "name": "stderr",
     "output_type": "stream",
     "text": [
      "\u001b[36m\u001b[1m[ \u001b[22m\u001b[39m\u001b[36m\u001b[1mInfo: \u001b[22m\u001b[39m(\"Start time = 1.738744117569364e9\", 3.4852688312530518)\n"
     ]
    },
    {
     "name": "stdout",
     "output_type": "stream",
     "text": [
      "E at the end of interation [5, 6, 7, 9, 10, 11, 2, 8, 12, 13, 1]\n",
      "=================Iteration 34 of Labelling=================\n",
      "\n",
      "E= [5, 6, 7, 9, 10, 11, 2, 8, 12, 13, 1] vi= 5\n",
      "successor of 5 are: [1, 2, 8, 12, 13]\n"
     ]
    },
    {
     "name": "stderr",
     "output_type": "stream",
     "text": [
      "\u001b[36m\u001b[1m[ \u001b[22m\u001b[39m\u001b[36m\u001b[1mInfo: \u001b[22m\u001b[39m(\"Start time = 1.738744117569364e9\", 4.083796977996826)\n"
     ]
    },
    {
     "name": "stdout",
     "output_type": "stream",
     "text": [
      "E at the end of interation [6, 7, 9, 10, 11, 2, 8, 12, 13, 1]\n",
      "=================Iteration 35 of Labelling=================\n",
      "\n",
      "E= [6, 7, 9, 10, 11, 2, 8, 12, 13, 1] vi= 6\n",
      "successor of 6 are: [1, 2, 8, 12, 13]\n"
     ]
    },
    {
     "name": "stderr",
     "output_type": "stream",
     "text": [
      "\u001b[36m\u001b[1m[ \u001b[22m\u001b[39m\u001b[36m\u001b[1mInfo: \u001b[22m\u001b[39m(\"Start time = 1.738744117569364e9\", 4.987633943557739)\n"
     ]
    },
    {
     "name": "stdout",
     "output_type": "stream",
     "text": [
      "E at the end of interation [7, 9, 10, 11, 2, 8, 12, 13, 1]\n",
      "=================Iteration 36 of Labelling=================\n",
      "\n",
      "E= [7, 9, 10, 11, 2, 8, 12, 13, 1] vi= 7\n",
      "successor of 7 are: [1, 2, 8, 12, 13]\n"
     ]
    },
    {
     "name": "stderr",
     "output_type": "stream",
     "text": [
      "\u001b[36m\u001b[1m[ \u001b[22m\u001b[39m\u001b[36m\u001b[1mInfo: \u001b[22m\u001b[39m(\"Start time = 1.738744117569364e9\", 5.985628843307495)\n"
     ]
    },
    {
     "name": "stdout",
     "output_type": "stream",
     "text": [
      "E at the end of interation [9, 10, 11, 2, 8, 12, 13, 1]\n",
      "=================Iteration 37 of Labelling=================\n",
      "\n",
      "E= [9, 10, 11, 2, 8, 12, 13, 1] vi= 9\n",
      "successor of 9 are: [1, 2, 8, 12, 13]\n"
     ]
    },
    {
     "name": "stderr",
     "output_type": "stream",
     "text": [
      "\u001b[36m\u001b[1m[ \u001b[22m\u001b[39m\u001b[36m\u001b[1mInfo: \u001b[22m\u001b[39m(\"Start time = 1.738744117569364e9\", 7.207406997680664)\n"
     ]
    },
    {
     "name": "stdout",
     "output_type": "stream",
     "text": [
      "E at the end of interation [10, 11, 2, 8, 12, 13, 1]\n",
      "=================Iteration 38 of Labelling=================\n",
      "\n",
      "E= [10, 11, 2, 8, 12, 13, 1] vi= 10\n",
      "successor of 10 are: [1, 2, 8, 12, 13]\n"
     ]
    },
    {
     "name": "stderr",
     "output_type": "stream",
     "text": [
      "\u001b[36m\u001b[1m[ \u001b[22m\u001b[39m\u001b[36m\u001b[1mInfo: \u001b[22m\u001b[39m(\"Start time = 1.738744117569364e9\", 7.762385845184326)\n"
     ]
    },
    {
     "name": "stdout",
     "output_type": "stream",
     "text": [
      "E at the end of interation [11, 2, 8, 12, 13, 1]\n",
      "=================Iteration 39 of Labelling=================\n",
      "\n",
      "E= [11, 2, 8, 12, 13, 1] vi= 11\n",
      "successor of 11 are: [1, 2, 8, 12, 13]\n"
     ]
    },
    {
     "name": "stderr",
     "output_type": "stream",
     "text": [
      "\u001b[36m\u001b[1m[ \u001b[22m\u001b[39m\u001b[36m\u001b[1mInfo: \u001b[22m\u001b[39m(\"Start time = 1.738744117569364e9\", 8.28314995765686)\n"
     ]
    },
    {
     "name": "stdout",
     "output_type": "stream",
     "text": [
      "\n",
      "Dual simplex solved model.\n",
      "\n",
      "E at the end of interation [2, 8, 12, 13, 1]\n",
      "=================Iteration 40 of Labelling=================\n",
      "\n",
      "E= [2, 8, 12, 13, 1] vi= 2\n",
      "successor of 2 are: [1, 3, 4, 5, 6, 7, 8, 9, 10, 11, 12, 13]\n"
     ]
    },
    {
     "name": "stderr",
     "output_type": "stream",
     "text": [
      "\u001b[36m\u001b[1m[ \u001b[22m\u001b[39m\u001b[36m\u001b[1mInfo: \u001b[22m\u001b[39m(\"Start time = 1.738744117569364e9\", 9.097818851470947)\n"
     ]
    },
    {
     "name": "stdout",
     "output_type": "stream",
     "text": [
      "E at the end of interation [8, 12, 13, 1, 3, 4, 5, 6, 7, 9, 10, 11]\n",
      "=================Iteration 41 of Labelling=================\n",
      "\n",
      "E= [8, 12, 13, 1, 3, 4, 5, 6, 7, 9, 10, 11] vi= 8\n",
      "successor of 8 are: [1, 2, 3, 4, 5, 6, 7, 9, 10, 11, 12, 13]\n"
     ]
    },
    {
     "name": "stderr",
     "output_type": "stream",
     "text": [
      "\u001b[36m\u001b[1m[ \u001b[22m\u001b[39m\u001b[36m\u001b[1mInfo: \u001b[22m\u001b[39m(\"Start time = 1.738744117569364e9\", 11.11693000793457)\n"
     ]
    },
    {
     "name": "stdout",
     "output_type": "stream",
     "text": [
      "E at the end of interation [12, 13, 1, 3, 4, 5, 6, 7, 9, 10, 11, 2]\n",
      "=================Iteration 42 of Labelling=================\n",
      "\n",
      "E= [12, 13, 1, 3, 4, 5, 6, 7, 9, 10, 11, 2] vi= 12\n",
      "successor of 12 are: [1, 2, 3, 4, 5, 6, 7, 8, 9, 10, 11, 13]\n"
     ]
    },
    {
     "name": "stderr",
     "output_type": "stream",
     "text": [
      "\u001b[36m\u001b[1m[ \u001b[22m\u001b[39m\u001b[36m\u001b[1mInfo: \u001b[22m\u001b[39m(\"Start time = 1.738744117569364e9\", 13.483691930770874)\n"
     ]
    },
    {
     "name": "stdout",
     "output_type": "stream",
     "text": [
      "E at the end of interation [13, 1, 3, 4, 5, 6, 7, 9, 10, 11, 2, 8]\n",
      "=================Iteration 43 of Labelling=================\n",
      "\n",
      "E= [13, 1, 3, 4, 5, 6, 7, 9, 10, 11, 2, 8] vi= 13\n",
      "successor of 13 are: [1, 2, 3, 4, 5, 6, 7, 8, 9, 10, 11, 12]\n"
     ]
    },
    {
     "name": "stderr",
     "output_type": "stream",
     "text": [
      "\u001b[36m\u001b[1m[ \u001b[22m\u001b[39m\u001b[36m\u001b[1mInfo: \u001b[22m\u001b[39m(\"Start time = 1.738744117569364e9\", 21.799767017364502)\n"
     ]
    },
    {
     "name": "stdout",
     "output_type": "stream",
     "text": [
      "E at the end of interation [1, 3, 4, 5, 6, 7, 9, 10, 11, 2, 8, 12]\n",
      "=================Iteration 44 of Labelling=================\n",
      "\n",
      "E= [1, 3, 4, 5, 6, 7, 9, 10, 11, 2, 8, 12] vi= 1\n"
     ]
    },
    {
     "name": "stderr",
     "output_type": "stream",
     "text": [
      "\u001b[36m\u001b[1m[ \u001b[22m\u001b[39m\u001b[36m\u001b[1mInfo: \u001b[22m\u001b[39m(\"Start time = 1.738744117569364e9\", 31.318871021270752)\n"
     ]
    },
    {
     "name": "stdout",
     "output_type": "stream",
     "text": [
      "successor of 1 are: [2, 8, 12, 13]\n",
      "E at the end of interation [3, 4, 5, 6, 7, 9, 10, 11, 2, 8, 12, 13]\n",
      "=================Iteration 45 of Labelling=================\n",
      "\n",
      "E= [3, 4, 5, 6, 7, 9, 10, 11, 2, 8, 12, 13] vi= 3\n",
      "successor of 3 are: [1, 2, 8, 12, 13]\n"
     ]
    },
    {
     "name": "stderr",
     "output_type": "stream",
     "text": [
      "\u001b[36m\u001b[1m[ \u001b[22m\u001b[39m\u001b[36m\u001b[1mInfo: \u001b[22m\u001b[39m(\"Start time = 1.738744117569364e9\", 32.66121983528137)\n"
     ]
    },
    {
     "name": "stdout",
     "output_type": "stream",
     "text": [
      "E at the end of interation [4, 5, 6, 7, 9, 10, 11, 2, 8, 12, 13, 1]\n",
      "=================Iteration 46 of Labelling=================\n",
      "\n",
      "E= [4, 5, 6, 7, 9, 10, 11, 2, 8, 12, 13, 1] vi= 4\n",
      "successor of 4 are: [1, 2, 8, 12, 13]\n"
     ]
    },
    {
     "name": "stderr",
     "output_type": "stream",
     "text": [
      "\u001b[36m\u001b[1m[ \u001b[22m\u001b[39m\u001b[36m\u001b[1mInfo: \u001b[22m\u001b[39m(\"Start time = 1.738744117569364e9\", 48.28570103645325)\n"
     ]
    },
    {
     "name": "stdout",
     "output_type": "stream",
     "text": [
      "E at the end of interation [5, 6, 7, 9, 10, 11, 2, 8, 12, 13, 1]\n",
      "=================Iteration 47 of Labelling=================\n",
      "\n",
      "E= [5, 6, 7, 9, 10, 11, 2, 8, 12, 13, 1] vi= 5\n",
      "successor of 5 are: [1, 2, 8, 12, 13]\n"
     ]
    },
    {
     "name": "stderr",
     "output_type": "stream",
     "text": [
      "\u001b[36m\u001b[1m[ \u001b[22m\u001b[39m\u001b[36m\u001b[1mInfo: \u001b[22m\u001b[39m(\"Start time = 1.738744117569364e9\", 75.36395502090454)\n"
     ]
    },
    {
     "name": "stdout",
     "output_type": "stream",
     "text": [
      "E at the end of interation [6, 7, 9, 10, 11, 2, 8, 12, 13, 1]\n",
      "=================Iteration 48 of Labelling=================\n",
      "Min RC solution= Label(171.55251665015805, -4261.366667918437, [1, 1, 1, 1, 1, 1, 1, 1, 1, 1, 1, 1, 1], [1, 8, 7, 2, 11, 12, 9, 13, 5, 1])\n",
      "\n",
      "======================Iteration 2 at 137.82158303260803s of column generation======================\n",
      "1e route= Route[Route(90.50966799187809, [1, 2, 1], 3, 0), Route(54.589376255824725, [1, 8, 1], 3, 0), Route(111.57060544785082, [1, 12, 1], 3, 0), Route(100.0, [1, 13, 1], 3, 0), Route(171.55251665015805, [1, 8, 7, 2, 11, 12, 9, 13, 5, 1], 10, 0)]\n"
     ]
    },
    {
     "name": "stderr",
     "output_type": "stream",
     "text": [
      "\u001b[36m\u001b[1m[ \u001b[22m\u001b[39m\u001b[36m\u001b[1mInfo: \u001b[22m\u001b[39m(\"Start time = 1.738744117569364e9\", 128.24788689613342)\n",
      "\u001b[36m\u001b[1m[ \u001b[22m\u001b[39m\u001b[36m\u001b[1mInfo: \u001b[22m\u001b[39mNew 1e route [1, 8, 7, 2, 11, 12, 9, 13, 5, 1] \n"
     ]
    },
    {
     "name": "stdout",
     "output_type": "stream",
     "text": [
      "CPLEX Error  3003: Not a mixed-integer problem.\n",
      "Version identifier: 22.1.1.0 | 2022-11-28 | 9160aff4d\n",
      "Parallel mode: deterministic, using up to 10 threads for concurrent optimization:\n",
      " * Starting dual Simplex on 1 thread...\n",
      " * Starting Barrier on 8 threads...\n",
      " * Starting primal Simplex on 1 thread...\n",
      "Tried aggregator 1 time.\n",
      "LP Presolve eliminated 354 rows and 295 columns.\n",
      "Reduced LP has 2700 rows, 2791 columns, and 12015 nonzeros.\n",
      "Presolve time = 0.00 sec. (4.43 ticks)\n",
      "\n",
      "Iteration log . . .\n",
      "Iteration:     1   Dual objective     =             0.000000\n",
      "Iteration:   148   Dual objective     =            88.313708\n",
      "Iteration:   220   Dual objective     =            88.313708\n",
      "Iteration:   291   Dual objective     =            88.313708\n",
      "Perturbation started.\n",
      "Iteration:   303   Dual objective     =            88.313708\n",
      "Iteration:   406   Dual objective     =           333.575571\n",
      "Iteration:   483   Dual objective     =           347.225548\n",
      "Iteration:   594   Dual objective     =           474.561274\n",
      "Iteration:   690   Dual objective     =           503.890847\n",
      "Iteration:   801   Dual objective     =           526.123317\n",
      "Iteration:   921   Dual objective     =           547.046979\n",
      "Removing perturbation.\n",
      "objective value of master problem is: 556.7189739395275\n",
      "Status of 1e route: \n",
      "   x=0.35087719298245611e Route [1, 8, 7, 2, 11, 12, 9, 13, 5, 1]   Load= 0   Cost= 171.55\n",
      "=================Iteration 1 of Labelling=================\n",
      "\n",
      "E= [2, 8, 12, 13] vi= 2\n",
      "successor of 2 are: [1, 3, 4, 5, 6, 7, 8, 9, 10, 11, 12, 13]\n",
      "E at the end of interation [8, 12, 13, 1, 3, 4, 5, 6, 7, 9, 10, 11]\n",
      "=================Iteration 2 of Labelling=================\n",
      "\n",
      "E= [8, 12, 13, 1, 3, 4, 5, 6, 7, 9, 10, 11] vi= 8\n",
      "successor of 8 are: [1, 2, 3, 4, 5, 6, 7, 9, 10, 11, 12, 13]\n",
      "E at the end of interation [12, 13, 1, 3, 4, 5, 6, 7, 9, 10, 11, 2]\n",
      "=================Iteration 3 of Labelling=================\n",
      "\n",
      "E= [12, 13, 1, 3, 4, 5, 6, 7, 9, 10, 11, 2] vi= 12\n",
      "successor of 12 are: [1, 2, 3, 4, 5, 6, 7, 8, 9, 10, 11, 13]\n",
      "E at the end of interation [13, 1, 3, 4, 5, 6, 7, 9, 10, 11, 2, 8]\n",
      "=================Iteration 4 of Labelling=================\n",
      "\n",
      "E= [13, 1, 3, 4, 5, 6, 7, 9, 10, 11, 2, 8] vi= 13\n",
      "successor of 13 are: [1, 2, 3, 4, 5, 6, 7, 8, 9, 10, 11, 12]\n",
      "E at the end of interation [1, 3, 4, 5, 6, 7, 9, 10, 11, 2, 8, 12]\n",
      "=================Iteration 5 of Labelling=================\n",
      "\n",
      "E= [1, 3, 4, 5, 6, 7, 9, 10, 11, 2, 8, 12] vi= 1\n",
      "successor of 1 are: [2, 8, 12, 13]\n",
      "E at the end of interation [3, 4, 5, 6, 7, 9, 10, 11, 2, 8, 12, 13]\n",
      "=================Iteration 6 of Labelling=================\n",
      "\n",
      "E= [3, 4, 5, 6, 7, 9, 10, 11, 2, 8, 12, 13] vi= 3\n",
      "successor of 3 are: [1, 2, 8, 12, 13]\n",
      "E at the end of interation [4, 5, 6, 7, 9, 10, 11, 2, 8, 12, 13, 1]\n",
      "=================Iteration 7 of Labelling=================\n",
      "\n",
      "E= [4, 5, 6, 7, 9, 10, 11, 2, 8, 12, 13, 1] vi= 4\n",
      "successor of 4 are: [1, 2, 8, 12, 13]\n",
      "E at the end of interation [5, 6, 7, 9, 10, 11, 2, 8, 12, 13, 1]\n",
      "=================Iteration 8 of Labelling=================\n",
      "\n",
      "E= [5, 6, 7, 9, 10, 11, 2, 8, 12, 13, 1] vi= 5\n",
      "successor of 5 are: [1, 2, 8, 12, 13]\n",
      "E at the end of interation [6, 7, 9, 10, 11, 2, 8, 12, 13, 1]\n",
      "=================Iteration 9 of Labelling=================\n",
      "\n",
      "E= [6, 7, 9, 10, 11, 2, 8, 12, 13, 1] vi= 6\n",
      "successor of 6 are: [1, 2, 8, 12, 13]\n",
      "E at the end of interation [7, 9, 10, 11, 2, 8, 12, 13, 1]\n",
      "=================Iteration 10 of Labelling=================\n",
      "\n",
      "E= [7, 9, 10, 11, 2, 8, 12, 13, 1] vi= 7\n",
      "successor of 7 are: [1, 2, 8, 12, 13]\n",
      "E at the end of interation [9, 10, 11, 2, 8, 12, 13, 1]\n",
      "=================Iteration 11 of Labelling=================\n",
      "\n",
      "E= [9, 10, 11, 2, 8, 12, 13, 1] vi= 9\n",
      "successor of 9 are: [1, 2, 8, 12, 13]\n",
      "E at the end of interation [10, 11, 2, 8, 12, 13, 1]\n",
      "=================Iteration 12 of Labelling=================\n",
      "\n",
      "E= [10, 11, 2, 8, 12, 13, 1] vi= 10\n",
      "successor of 10 are: [1, 2, 8, 12, 13]\n",
      "E at the end of interation [11, 2, 8, 12, 13, 1]\n",
      "=================Iteration 13 of Labelling=================\n",
      "\n",
      "E= [11, 2, 8, 12, 13, 1] vi= 11\n",
      "successor of 11 are: [1, 2, 8, 12, 13]\n",
      "E at the end of interation [2, 8, 12, 13, 1]\n",
      "=================Iteration 14 of Labelling=================\n",
      "\n",
      "E= [2, 8, 12, 13, 1] vi= 2\n",
      "successor of 2 are: [1, 3, 4, 5, 6, 7, 8, 9, 10, 11, 12, 13]\n",
      "E at the end of interation [8, 12, 13, 1, 3, 4, 5, 6, 7, 9, 10, 11]\n",
      "=================Iteration 15 of Labelling=================\n",
      "\n",
      "E= [8, 12, 13, 1, 3, 4, 5, 6, 7, 9, 10, 11] vi= 8\n",
      "successor of 8 are: [1, 2, 3, 4, 5, 6, 7, 9, 10, 11, 12, 13]\n",
      "E at the end of interation [12, 13, 1, 3, 4, 5, 6, 7, 9, 10, 11, 2]\n",
      "=================Iteration 16 of Labelling=================\n",
      "\n",
      "E= [12, 13, 1, 3, 4, 5, 6, 7, 9, 10, 11, 2] vi= 12\n"
     ]
    },
    {
     "name": "stderr",
     "output_type": "stream",
     "text": [
      "\u001b[36m\u001b[1m[ \u001b[22m\u001b[39m\u001b[36m\u001b[1mInfo: \u001b[22m\u001b[39m(\"Start time = 1.738744246406359e9\", 0.0028450489044189453)\n",
      "\u001b[36m\u001b[1m[ \u001b[22m\u001b[39m\u001b[36m\u001b[1mInfo: \u001b[22m\u001b[39m(\"Start time = 1.738744246406359e9\", 0.015943050384521484)\n",
      "\u001b[36m\u001b[1m[ \u001b[22m\u001b[39m\u001b[36m\u001b[1mInfo: \u001b[22m\u001b[39m(\"Start time = 1.738744246406359e9\", 0.02742600440979004)\n",
      "\u001b[36m\u001b[1m[ \u001b[22m\u001b[39m\u001b[36m\u001b[1mInfo: \u001b[22m\u001b[39m(\"Start time = 1.738744246406359e9\", 0.03244614601135254)\n",
      "\u001b[36m\u001b[1m[ \u001b[22m\u001b[39m\u001b[36m\u001b[1mInfo: \u001b[22m\u001b[39m(\"Start time = 1.738744246406359e9\", 0.034876108169555664)\n",
      "\u001b[36m\u001b[1m[ \u001b[22m\u001b[39m\u001b[36m\u001b[1mInfo: \u001b[22m\u001b[39m(\"Start time = 1.738744246406359e9\", 0.03834700584411621)\n",
      "\u001b[36m\u001b[1m[ \u001b[22m\u001b[39m\u001b[36m\u001b[1mInfo: \u001b[22m\u001b[39m(\"Start time = 1.738744246406359e9\", 0.03994393348693848)\n",
      "\u001b[36m\u001b[1m[ \u001b[22m\u001b[39m\u001b[36m\u001b[1mInfo: \u001b[22m\u001b[39m(\"Start time = 1.738744246406359e9\", 0.041249990463256836)\n",
      "\u001b[36m\u001b[1m[ \u001b[22m\u001b[39m\u001b[36m\u001b[1mInfo: \u001b[22m\u001b[39m(\"Start time = 1.738744246406359e9\", 0.044074058532714844)\n",
      "\u001b[36m\u001b[1m[ \u001b[22m\u001b[39m\u001b[36m\u001b[1mInfo: \u001b[22m\u001b[39m(\"Start time = 1.738744246406359e9\", 0.04894614219665527)\n",
      "\u001b[36m\u001b[1m[ \u001b[22m\u001b[39m\u001b[36m\u001b[1mInfo: \u001b[22m\u001b[39m(\"Start time = 1.738744246406359e9\", 0.05526614189147949)\n",
      "\u001b[36m\u001b[1m[ \u001b[22m\u001b[39m\u001b[36m\u001b[1mInfo: \u001b[22m\u001b[39m(\"Start time = 1.738744246406359e9\", 0.056504011154174805)\n",
      "\u001b[36m\u001b[1m[ \u001b[22m\u001b[39m\u001b[36m\u001b[1mInfo: \u001b[22m\u001b[39m(\"Start time = 1.738744246406359e9\", 0.057003021240234375)\n",
      "\u001b[36m\u001b[1m[ \u001b[22m\u001b[39m\u001b[36m\u001b[1mInfo: \u001b[22m\u001b[39m(\"Start time = 1.738744246406359e9\", 0.05747699737548828)\n",
      "\u001b[36m\u001b[1m[ \u001b[22m\u001b[39m\u001b[36m\u001b[1mInfo: \u001b[22m\u001b[39m(\"Start time = 1.738744246406359e9\", 0.06195712089538574)\n",
      "\u001b[36m\u001b[1m[ \u001b[22m\u001b[39m\u001b[36m\u001b[1mInfo: \u001b[22m\u001b[39m(\"Start time = 1.738744246406359e9\", 0.06948614120483398)\n"
     ]
    },
    {
     "name": "stdout",
     "output_type": "stream",
     "text": [
      "successor of 12 are: [1, 2, 3, 4, 5, 6, 7, 8, 9, 10, 11, 13]\n",
      "E at the end of interation [13, 1, 3, 4, 5, 6, 7, 9, 10, 11, 2, 8]\n",
      "=================Iteration 17 of Labelling=================\n",
      "\n",
      "E= [13, 1, 3, 4, 5, 6, 7, 9, 10, 11, 2, 8] vi= 13\n",
      "successor of 13 are: [1, 2, 3, 4, 5, 6, 7, 8, 9, 10, 11, 12]\n",
      "E at the end of interation [1, 3, 4, 5, 6, 7, 9, 10, 11, 2, 8, 12]\n",
      "=================Iteration 18 of Labelling=================\n",
      "\n",
      "E= [1, 3, 4, 5, 6, 7, 9, 10, 11, 2, 8, 12] vi= 1\n",
      "successor of 1 are: [2, 8, 12, 13]\n"
     ]
    },
    {
     "name": "stderr",
     "output_type": "stream",
     "text": [
      "\u001b[36m\u001b[1m[ \u001b[22m\u001b[39m\u001b[36m\u001b[1mInfo: \u001b[22m\u001b[39m(\"Start time = 1.738744246406359e9\", 0.07998299598693848)\n",
      "\u001b[36m\u001b[1m[ \u001b[22m\u001b[39m\u001b[36m\u001b[1mInfo: \u001b[22m\u001b[39m(\"Start time = 1.738744246406359e9\", 0.1181790828704834)\n"
     ]
    },
    {
     "name": "stdout",
     "output_type": "stream",
     "text": [
      "E at the end of interation [3, 4, 5, 6, 7, 9, 10, 11, 2, 8, 12, 13]\n",
      "=================Iteration 19 of Labelling=================\n",
      "\n",
      "E= [3, 4, 5, 6, 7, 9, 10, 11, 2, 8, 12, 13] vi= 3\n",
      "successor of 3 are: [1, 2, 8, 12, 13]\n",
      "E at the end of interation [4, 5, 6, 7, 9, 10, 11, 2, 8, 12, 13, 1]\n",
      "=================Iteration 20 of Labelling=================\n",
      "\n",
      "E= [4, 5, 6, 7, 9, 10, 11, 2, 8, 12, 13, 1] vi= 4\n",
      "successor of 4 are: [1, 2, 8, 12, 13]\n",
      "E at the end of interation [5, 6, 7, 9, 10, 11, 2, 8, 12, 13, 1]\n",
      "=================Iteration 21 of Labelling=================\n",
      "\n",
      "E= [5, 6, 7, 9, 10, 11, 2, 8, 12, 13, 1] vi= 5\n",
      "successor of 5 are: [1, 2, 8, 12, 13]\n",
      "E at the end of interation [6, 7, 9, 10, 11, 2, 8, 12, 13, 1]\n",
      "=================Iteration 22 of Labelling=================\n",
      "\n",
      "E= [6, 7, 9, 10, 11, 2, 8, 12, 13, 1] vi= 6\n",
      "successor of 6 are: [1, 2, 8, 12, 13]\n",
      "E at the end of interation [7, 9, 10, 11, 2, 8, 12, 13, 1]\n",
      "=================Iteration 23 of Labelling=================\n",
      "\n",
      "E= [7, 9, 10, 11, 2, 8, 12, 13, 1] vi= 7\n",
      "successor of 7 are: [1, 2, 8, 12, 13]\n",
      "E at the end of interation [9, 10, 11, 2, 8, 12, 13, 1]\n",
      "=================Iteration 24 of Labelling=================\n"
     ]
    },
    {
     "name": "stderr",
     "output_type": "stream",
     "text": [
      "\u001b[36m\u001b[1m[ \u001b[22m\u001b[39m\u001b[36m\u001b[1mInfo: \u001b[22m\u001b[39m(\"Start time = 1.738744246406359e9\", 0.43207597732543945)\n",
      "\u001b[36m\u001b[1m[ \u001b[22m\u001b[39m\u001b[36m\u001b[1mInfo: \u001b[22m\u001b[39m(\"Start time = 1.738744246406359e9\", 0.4416329860687256)\n",
      "\u001b[36m\u001b[1m[ \u001b[22m\u001b[39m\u001b[36m\u001b[1mInfo: \u001b[22m\u001b[39m(\"Start time = 1.738744246406359e9\", 0.46212196350097656)\n",
      "\u001b[36m\u001b[1m[ \u001b[22m\u001b[39m\u001b[36m\u001b[1mInfo: \u001b[22m\u001b[39m(\"Start time = 1.738744246406359e9\", 0.48466014862060547)\n",
      "\u001b[36m\u001b[1m[ \u001b[22m\u001b[39m\u001b[36m\u001b[1mInfo: \u001b[22m\u001b[39m(\"Start time = 1.738744246406359e9\", 0.4967939853668213)\n",
      "\u001b[36m\u001b[1m[ \u001b[22m\u001b[39m\u001b[36m\u001b[1mInfo: \u001b[22m\u001b[39m(\"Start time = 1.738744246406359e9\", 0.5115280151367188)\n"
     ]
    },
    {
     "name": "stdout",
     "output_type": "stream",
     "text": [
      "\n",
      "E= [9, 10, 11, 2, 8, 12, 13, 1] vi= 9\n",
      "successor of 9 are: [1, 2, 8, 12, 13]\n",
      "E at the end of interation [10, 11, 2, 8, 12, 13, 1]\n",
      "=================Iteration 25 of Labelling=================\n",
      "\n",
      "E= [10, 11, 2, 8, 12, 13, 1] vi= 10\n",
      "successor of 10 are: [1, 2, 8, 12, 13]\n",
      "E at the end of interation [11, 2, 8, 12, 13, 1]\n",
      "=================Iteration 26 of Labelling=================\n",
      "\n",
      "E= [11, 2, 8, 12, 13, 1] vi= 11\n",
      "successor of 11 are: [1, 2, 8, 12, 13]\n",
      "E at the end of interation [2, 8, 12, 13, 1]\n"
     ]
    },
    {
     "name": "stderr",
     "output_type": "stream",
     "text": [
      "\u001b[36m\u001b[1m[ \u001b[22m\u001b[39m\u001b[36m\u001b[1mInfo: \u001b[22m\u001b[39m(\"Start time = 1.738744246406359e9\", 0.5292141437530518)\n",
      "\u001b[36m\u001b[1m[ \u001b[22m\u001b[39m\u001b[36m\u001b[1mInfo: \u001b[22m\u001b[39m(\"Start time = 1.738744246406359e9\", 0.5381319522857666)\n"
     ]
    },
    {
     "name": "stdout",
     "output_type": "stream",
     "text": [
      "=================Iteration 27 of Labelling=================\n",
      "\n",
      "E= [2, 8, 12, 13, 1] vi= 2\n",
      "successor of 2 are: [1, 3, 4, 5, 6, 7, 8, 9, 10, 11, 12, 13]\n"
     ]
    },
    {
     "name": "stderr",
     "output_type": "stream",
     "text": [
      "\u001b[36m\u001b[1m[ \u001b[22m\u001b[39m\u001b[36m\u001b[1mInfo: \u001b[22m\u001b[39m(\"Start time = 1.738744246406359e9\", 0.7952589988708496)\n"
     ]
    },
    {
     "name": "stdout",
     "output_type": "stream",
     "text": [
      "E at the end of interation [8, 12, 13, 1, 3, 4, 5, 6, 7, 9, 10, 11]\n",
      "=================Iteration 28 of Labelling=================\n",
      "\n",
      "E= [8, 12, 13, 1, 3, 4, 5, 6, 7, 9, 10, 11] vi= 8\n",
      "successor of 8 are: [1, 2, 3, 4, 5, 6, 7, 9, 10, 11, 12, 13]\n"
     ]
    },
    {
     "name": "stderr",
     "output_type": "stream",
     "text": [
      "\u001b[36m\u001b[1m[ \u001b[22m\u001b[39m\u001b[36m\u001b[1mInfo: \u001b[22m\u001b[39m(\"Start time = 1.738744246406359e9\", 1.1319921016693115)\n"
     ]
    },
    {
     "name": "stdout",
     "output_type": "stream",
     "text": [
      "E at the end of interation [12, 13, 1, 3, 4, 5, 6, 7, 9, 10, 11, 2]\n",
      "=================Iteration 29 of Labelling=================\n",
      "\n",
      "E= [12, 13, 1, 3, 4, 5, 6, 7, 9, 10, 11, 2] vi= 12\n",
      "successor of 12 are: [1, 2, 3, 4, 5, 6, 7, 8, 9, 10, 11, 13]\n"
     ]
    },
    {
     "name": "stderr",
     "output_type": "stream",
     "text": [
      "\u001b[36m\u001b[1m[ \u001b[22m\u001b[39m\u001b[36m\u001b[1mInfo: \u001b[22m\u001b[39m(\"Start time = 1.738744246406359e9\", 1.9463191032409668)\n"
     ]
    },
    {
     "name": "stdout",
     "output_type": "stream",
     "text": [
      "E at the end of interation [13, 1, 3, 4, 5, 6, 7, 9, 10, 11, 2, 8]\n",
      "=================Iteration 30 of Labelling=================\n",
      "\n",
      "E= [13, 1, 3, 4, 5, 6, 7, 9, 10, 11, 2, 8] vi= 13\n",
      "successor of 13 are: [1, 2, 3, 4, 5, 6, 7, 8, 9, 10, 11, 12]\n"
     ]
    },
    {
     "name": "stderr",
     "output_type": "stream",
     "text": [
      "\u001b[36m\u001b[1m[ \u001b[22m\u001b[39m\u001b[36m\u001b[1mInfo: \u001b[22m\u001b[39m(\"Start time = 1.738744246406359e9\", 2.88576602935791)\n"
     ]
    },
    {
     "name": "stdout",
     "output_type": "stream",
     "text": [
      "\n",
      "Dual simplex solved model.\n",
      "\n",
      "E at the end of interation [1, 3, 4, 5, 6, 7, 9, 10, 11, 2, 8, 12]\n",
      "=================Iteration 31 of Labelling=================\n",
      "\n",
      "E= [1, 3, 4, 5, 6, 7, 9, 10, 11, 2, 8, 12] vi= 1\n",
      "successor of 1 are: [2, 8, 12, 13]\n"
     ]
    },
    {
     "name": "stderr",
     "output_type": "stream",
     "text": [
      "\u001b[36m\u001b[1m[ \u001b[22m\u001b[39m\u001b[36m\u001b[1mInfo: \u001b[22m\u001b[39m(\"Start time = 1.738744246406359e9\", 4.488892078399658)\n"
     ]
    },
    {
     "name": "stdout",
     "output_type": "stream",
     "text": [
      "E at the end of interation [3, 4, 5, 6, 7, 9, 10, 11, 2, 8, 12, 13]\n",
      "=================Iteration 32 of Labelling=================\n",
      "\n",
      "E= [3, 4, 5, 6, 7, 9, 10, 11, 2, 8, 12, 13] vi= 3\n",
      "successor of 3 are: [1, 2, 8, 12, 13]\n"
     ]
    },
    {
     "name": "stderr",
     "output_type": "stream",
     "text": [
      "\u001b[36m\u001b[1m[ \u001b[22m\u001b[39m\u001b[36m\u001b[1mInfo: \u001b[22m\u001b[39m(\"Start time = 1.738744246406359e9\", 4.930288076400757)\n"
     ]
    },
    {
     "name": "stdout",
     "output_type": "stream",
     "text": [
      "E at the end of interation [4, 5, 6, 7, 9, 10, 11, 2, 8, 12, 13, 1]\n",
      "=================Iteration 33 of Labelling=================\n",
      "\n",
      "E= [4, 5, 6, 7, 9, 10, 11, 2, 8, 12, 13, 1] vi= 4\n",
      "successor of 4 are: [1, 2, 8, 12, 13]\n"
     ]
    },
    {
     "name": "stderr",
     "output_type": "stream",
     "text": [
      "\u001b[36m\u001b[1m[ \u001b[22m\u001b[39m\u001b[36m\u001b[1mInfo: \u001b[22m\u001b[39m(\"Start time = 1.738744246406359e9\", 6.05570912361145)\n"
     ]
    },
    {
     "name": "stdout",
     "output_type": "stream",
     "text": [
      "E at the end of interation [5, 6, 7, 9, 10, 11, 2, 8, 12, 13, 1]\n",
      "=================Iteration 34 of Labelling=================\n",
      "\n",
      "E= [5, 6, 7, 9, 10, 11, 2, 8, 12, 13, 1] vi= 5\n",
      "successor of 5 are: [1, 2, 8, 12, 13]\n"
     ]
    },
    {
     "name": "stderr",
     "output_type": "stream",
     "text": [
      "\u001b[36m\u001b[1m[ \u001b[22m\u001b[39m\u001b[36m\u001b[1mInfo: \u001b[22m\u001b[39m(\"Start time = 1.738744246406359e9\", 7.287336111068726)\n"
     ]
    },
    {
     "name": "stdout",
     "output_type": "stream",
     "text": [
      "E at the end of interation [6, 7, 9, 10, 11, 2, 8, 12, 13, 1]\n",
      "=================Iteration 35 of Labelling=================\n",
      "\n",
      "E= [6, 7, 9, 10, 11, 2, 8, 12, 13, 1] vi= 6\n",
      "successor of 6 are: [1, 2, 8, 12, 13]\n"
     ]
    },
    {
     "name": "stderr",
     "output_type": "stream",
     "text": [
      "\u001b[36m\u001b[1m[ \u001b[22m\u001b[39m\u001b[36m\u001b[1mInfo: \u001b[22m\u001b[39m(\"Start time = 1.738744246406359e9\", 7.560666084289551)\n"
     ]
    },
    {
     "name": "stdout",
     "output_type": "stream",
     "text": [
      "E at the end of interation [7, 9, 10, 11, 2, 8, 12, 13, 1]\n",
      "=================Iteration 36 of Labelling=================\n",
      "\n",
      "E= [7, 9, 10, 11, 2, 8, 12, 13, 1] vi= 7\n",
      "successor of 7 are: [1, 2, 8, 12, 13]\n"
     ]
    },
    {
     "name": "stderr",
     "output_type": "stream",
     "text": [
      "\u001b[36m\u001b[1m[ \u001b[22m\u001b[39m\u001b[36m\u001b[1mInfo: \u001b[22m\u001b[39m(\"Start time = 1.738744246406359e9\", 7.885036945343018)\n"
     ]
    },
    {
     "name": "stdout",
     "output_type": "stream",
     "text": [
      "E at the end of interation [9, 10, 11, 2, 8, 12, 13, 1]\n",
      "=================Iteration 37 of Labelling=================\n",
      "\n",
      "E= [9, 10, 11, 2, 8, 12, 13, 1] vi= 9\n",
      "successor of 9 are: [1, 2, 8, 12, 13]\n"
     ]
    },
    {
     "name": "stderr",
     "output_type": "stream",
     "text": [
      "\u001b[36m\u001b[1m[ \u001b[22m\u001b[39m\u001b[36m\u001b[1mInfo: \u001b[22m\u001b[39m(\"Start time = 1.738744246406359e9\", 8.31141996383667)\n"
     ]
    },
    {
     "name": "stdout",
     "output_type": "stream",
     "text": [
      "E at the end of interation [10, 11, 2, 8, 12, 13, 1]\n",
      "=================Iteration 38 of Labelling=================\n",
      "\n",
      "E= [10, 11, 2, 8, 12, 13, 1] vi= 10\n",
      "successor of 10 are: [1, 2, 8, 12, 13]\n"
     ]
    },
    {
     "name": "stderr",
     "output_type": "stream",
     "text": [
      "\u001b[36m\u001b[1m[ \u001b[22m\u001b[39m\u001b[36m\u001b[1mInfo: \u001b[22m\u001b[39m(\"Start time = 1.738744246406359e9\", 8.784955978393555)\n"
     ]
    },
    {
     "name": "stdout",
     "output_type": "stream",
     "text": [
      "E at the end of interation [11, 2, 8, 12, 13, 1]\n",
      "=================Iteration 39 of Labelling=================\n",
      "\n",
      "E= [11, 2, 8, 12, 13, 1] vi= 11\n",
      "successor of 11 are: [1, 2, 8, 12, 13]\n"
     ]
    },
    {
     "name": "stderr",
     "output_type": "stream",
     "text": [
      "\u001b[36m\u001b[1m[ \u001b[22m\u001b[39m\u001b[36m\u001b[1mInfo: \u001b[22m\u001b[39m(\"Start time = 1.738744246406359e9\", 9.301523923873901)\n"
     ]
    },
    {
     "name": "stdout",
     "output_type": "stream",
     "text": [
      "E at the end of interation [2, 8, 12, 13, 1]\n",
      "=================Iteration 40 of Labelling=================\n",
      "\n",
      "E= [2, 8, 12, 13, 1] vi= 2\n",
      "successor of 2 are: [1, 3, 4, 5, 6, 7, 8, 9, 10, 11, 12, 13]\n"
     ]
    },
    {
     "name": "stderr",
     "output_type": "stream",
     "text": [
      "\u001b[36m\u001b[1m[ \u001b[22m\u001b[39m\u001b[36m\u001b[1mInfo: \u001b[22m\u001b[39m(\"Start time = 1.738744246406359e9\", 9.852833032608032)\n"
     ]
    },
    {
     "name": "stdout",
     "output_type": "stream",
     "text": [
      "E at the end of interation [8, 12, 13, 1, 3, 4, 5, 6, 7, 9, 10, 11]\n",
      "=================Iteration 41 of Labelling=================\n",
      "\n",
      "E= [8, 12, 13, 1, 3, 4, 5, 6, 7, 9, 10, 11] vi= 8\n",
      "successor of 8 are: [1, 2, 3, 4, 5, 6, 7, 9, 10, 11, 12, 13]\n"
     ]
    },
    {
     "name": "stderr",
     "output_type": "stream",
     "text": [
      "\u001b[36m\u001b[1m[ \u001b[22m\u001b[39m\u001b[36m\u001b[1mInfo: \u001b[22m\u001b[39m(\"Start time = 1.738744246406359e9\", 11.58607792854309)\n"
     ]
    },
    {
     "name": "stdout",
     "output_type": "stream",
     "text": [
      "E at the end of interation [12, 13, 1, 3, 4, 5, 6, 7, 9, 10, 11, 2]\n",
      "=================Iteration 42 of Labelling=================\n",
      "\n",
      "E= [12, 13, 1, 3, 4, 5, 6, 7, 9, 10, 11, 2] vi= 12\n",
      "successor of 12 are: [1, 2, 3, 4, 5, 6, 7, 8, 9, 10, 11, 13]\n"
     ]
    },
    {
     "name": "stderr",
     "output_type": "stream",
     "text": [
      "\u001b[36m\u001b[1m[ \u001b[22m\u001b[39m\u001b[36m\u001b[1mInfo: \u001b[22m\u001b[39m(\"Start time = 1.738744246406359e9\", 16.01977014541626)\n"
     ]
    },
    {
     "name": "stdout",
     "output_type": "stream",
     "text": [
      "E at the end of interation [13, 1, 3, 4, 5, 6, 7, 9, 10, 11, 2, 8]\n",
      "=================Iteration 43 of Labelling=================\n",
      "\n",
      "E= [13, 1, 3, 4, 5, 6, 7, 9, 10, 11, 2, 8] vi= 13\n",
      "successor of 13 are: [1, 2, 3, 4, 5, 6, 7, 8, 9, 10, 11, 12]\n"
     ]
    },
    {
     "name": "stderr",
     "output_type": "stream",
     "text": [
      "\u001b[36m\u001b[1m[ \u001b[22m\u001b[39m\u001b[36m\u001b[1mInfo: \u001b[22m\u001b[39m(\"Start time = 1.738744246406359e9\", 24.40205693244934)\n"
     ]
    },
    {
     "name": "stdout",
     "output_type": "stream",
     "text": [
      "E at the end of interation [1, 3, 4, 5, 6, 7, 9, 10, 11, 2, 8, 12]\n",
      "=================Iteration 44 of Labelling=================\n",
      "\n",
      "E= [1, 3, 4, 5, 6, 7, 9, 10, 11, 2, 8, 12] vi= 1\n",
      "successor of 1 are: [2, 8, 12, 13]\n"
     ]
    },
    {
     "name": "stderr",
     "output_type": "stream",
     "text": [
      "\u001b[36m\u001b[1m[ \u001b[22m\u001b[39m\u001b[36m\u001b[1mInfo: \u001b[22m\u001b[39m(\"Start time = 1.738744246406359e9\", 39.182695150375366)\n"
     ]
    },
    {
     "name": "stdout",
     "output_type": "stream",
     "text": [
      "E at the end of interation [3, 4, 5, 6, 7, 9, 10, 11, 2, 8, 12, 13]\n",
      "=================Iteration 45 of Labelling=================\n",
      "\n",
      "E= [3, 4, 5, 6, 7, 9, 10, 11, 2, 8, 12, 13] vi= 3\n",
      "successor of 3 are: [1, 2, 8, 12, 13]\n"
     ]
    },
    {
     "name": "stderr",
     "output_type": "stream",
     "text": [
      "\u001b[36m\u001b[1m[ \u001b[22m\u001b[39m\u001b[36m\u001b[1mInfo: \u001b[22m\u001b[39m(\"Start time = 1.738744246406359e9\", 39.64905405044556)\n"
     ]
    },
    {
     "name": "stdout",
     "output_type": "stream",
     "text": [
      "E at the end of interation [4, 5, 6, 7, 9, 10, 11, 2, 8, 12, 13, 1]\n",
      "=================Iteration 46 of Labelling=================\n",
      "\n",
      "E= [4, 5, 6, 7, 9, 10, 11, 2, 8, 12, 13, 1] vi= 4\n",
      "successor of 4 are: [1, 2, 8, 12, 13]\n"
     ]
    },
    {
     "name": "stderr",
     "output_type": "stream",
     "text": [
      "\u001b[36m\u001b[1m[ \u001b[22m\u001b[39m\u001b[36m\u001b[1mInfo: \u001b[22m\u001b[39m(\"Start time = 1.738744246406359e9\", 58.30793499946594)\n"
     ]
    },
    {
     "name": "stdout",
     "output_type": "stream",
     "text": [
      "E at the end of interation [5, 6, 7, 9, 10, 11, 2, 8, 12, 13, 1]\n",
      "=================Iteration 47 of Labelling=================\n",
      "\n",
      "E= [5, 6, 7, 9, 10, 11, 2, 8, 12, 13, 1] vi= 5\n",
      "successor of 5 are: [1, 2, 8, 12, 13]\n"
     ]
    },
    {
     "name": "stderr",
     "output_type": "stream",
     "text": [
      "\u001b[36m\u001b[1m[ \u001b[22m\u001b[39m\u001b[36m\u001b[1mInfo: \u001b[22m\u001b[39m(\"Start time = 1.738744246406359e9\", 94.47768211364746)\n"
     ]
    },
    {
     "name": "stdout",
     "output_type": "stream",
     "text": [
      "E at the end of interation [6, 7, 9, 10, 11, 2, 8, 12, 13, 1]\n",
      "=================Iteration 48 of Labelling=================\n",
      "Min RC solution= Label(276.7608674310876, -2595.769268275444, [1, 1, 1, 1, 1, 1, 1, 1, 1, 1, 1, 1, 1], [1, 8, 10, 12, 6, 13, 4, 2, 3, 1])\n",
      "\n",
      "======================Iteration 3 at 284.72589898109436s of column generation======================\n",
      "1e route= Route[Route(90.50966799187809, [1, 2, 1], 3, 0), Route(54.589376255824725, [1, 8, 1], 3, 0), Route(111.57060544785082, [1, 12, 1], 3, 0), Route(100.0, [1, 13, 1], 3, 0), Route(171.55251665015805, [1, 8, 7, 2, 11, 12, 9, 13, 5, 1], 10, 0), Route(276.7608674310876, [1, 8, 10, 12, 6, 13, 4, 2, 3, 1], 10, 0)]\n"
     ]
    },
    {
     "name": "stderr",
     "output_type": "stream",
     "text": [
      "\u001b[36m\u001b[1m[ \u001b[22m\u001b[39m\u001b[36m\u001b[1mInfo: \u001b[22m\u001b[39m(\"Start time = 1.738744246406359e9\", 146.34067606925964)\n",
      "\u001b[36m\u001b[1m[ \u001b[22m\u001b[39m\u001b[36m\u001b[1mInfo: \u001b[22m\u001b[39mNew 1e route [1, 8, 10, 12, 6, 13, 4, 2, 3, 1] \n"
     ]
    },
    {
     "name": "stdout",
     "output_type": "stream",
     "text": [
      "CPLEX Error  3003: Not a mixed-integer problem.\n",
      "Version identifier: 22.1.1.0 | 2022-11-28 | 9160aff4d\n",
      "Parallel mode: deterministic, using up to 10 threads for concurrent optimization:\n",
      " * Starting dual Simplex on 1 thread...\n",
      " * Starting Barrier on 8 threads...\n",
      " * Starting primal Simplex on 1 thread...\n",
      "Tried aggregator 1 time.\n",
      "LP Presolve eliminated 238 rows and 183 columns.\n",
      "Reduced LP has 2816 rows, 2904 columns, and 12463 nonzeros.\n",
      "Presolve time = 0.02 sec. (4.52 ticks)\n",
      "\n",
      "Iteration log . . .\n",
      "Iteration:     1   Dual objective     =             0.000000\n",
      "Iteration:   151   Dual objective     =            88.313708\n",
      "Iteration:   243   Dual objective     =            88.313708\n",
      "Perturbation started.\n",
      "Iteration:   303   Dual objective     =            88.313708\n",
      "Iteration:   375   Dual objective     =            88.313997\n",
      "Iteration:   455   Dual objective     =           251.066906\n",
      "Iteration:   538   Dual objective     =           279.616703\n",
      "Iteration:   639   Dual objective     =           311.315225\n",
      "Iteration:   738   Dual objective     =           338.440722\n",
      "Iteration:   856   Dual objective     =           355.362606\n",
      "Iteration:   977   Dual objective     =           439.732819\n",
      "Iteration:  1066   Dual objective     =           472.992827\n",
      "Removing perturbation.\n",
      "objective value of master problem is: 478.00043671296896\n",
      "Status of 1e route: \n",
      "   x=0.0614035087719298351e Route [1, 8, 7, 2, 11, 12, 9, 13, 5, 1]   Load= 0   Cost= 171.55\n",
      "   x=0.175438596491228061e Route [1, 8, 10, 12, 6, 13, 4, 2, 3, 1]   Load= 0   Cost= 276.76\n",
      "=================Iteration 1 of Labelling=================\n",
      "\n",
      "E= [2, 8, 12, 13] vi= 2\n",
      "successor of 2 are: [1, 3, 4, 5, 6, 7, 8, 9, 10, 11, 12, 13]\n",
      "E at the end of interation [8, 12, 13, 1, 3, 4, 5, 6, 7, 9, 10, 11]\n",
      "=================Iteration 2 of Labelling=================\n",
      "\n",
      "E= [8, 12, 13, 1, 3, 4, 5, 6, 7, 9, 10, 11] vi= 8\n",
      "successor of 8 are: [1, 2, 3, 4, 5, 6, 7, 9, 10, 11, 12, 13]\n",
      "E at the end of interation [12, 13, 1, 3, 4, 5, 6, 7, 9, 10, 11, 2]\n",
      "=================Iteration 3 of Labelling=================\n",
      "\n",
      "E= [12, 13, 1, 3, 4, 5, 6, 7, 9, 10, 11, 2] vi= 12\n",
      "successor of 12 are: [1, 2, 3, 4, 5, 6, 7, 8, 9, 10, 11, 13]\n",
      "E at the end of interation [13, 1, 3, 4, 5, 6, 7, 9, 10, 11, 2, 8]\n",
      "=================Iteration 4 of Labelling=================\n",
      "\n",
      "E= [13, 1, 3, 4, 5, 6, 7, 9, 10, 11, 2, 8] vi= 13\n",
      "successor of 13 are: [1, 2, 3, 4, 5, 6, 7, 8, 9, 10, 11, 12]\n",
      "E at the end of interation [1, 3, 4, 5, 6, 7, 9, 10, 11, 2, 8, 12]\n",
      "=================Iteration 5 of Labelling=================\n",
      "\n",
      "E= [1, 3, 4, 5, 6, 7, 9, 10, 11, 2, 8, 12] vi= 1\n",
      "successor of 1 are: [2, 8, 12, 13]\n",
      "E at the end of interation [3, 4, 5, 6, 7, 9, 10, 11, 2, 8, 12, 13]\n",
      "=================Iteration 6 of Labelling=================\n",
      "\n",
      "E= [3, 4, 5, 6, 7, 9, 10, 11, 2, 8, 12, 13] vi= 3\n",
      "successor of 3 are: [1, 2, 8, 12, 13]\n",
      "E at the end of interation [4, 5, 6, 7, 9, 10, 11, 2, 8, 12, 13, 1]\n",
      "=================Iteration 7 of Labelling=================\n",
      "\n",
      "E= [4, 5, 6, 7, 9, 10, 11, 2, 8, 12, 13, 1] vi= 4\n",
      "successor of 4 are: [1, 2, 8, 12, 13]\n",
      "E at the end of interation [5, 6, 7, 9, 10, 11, 2, 8, 12, 13, 1]\n",
      "=================Iteration 8 of Labelling=================\n",
      "\n",
      "E= [5, 6, 7, 9, 10, 11, 2, 8, 12, 13, 1] vi= 5\n",
      "successor of 5 are: [1, 2, 8, 12, 13]\n",
      "E at the end of interation [6, 7, 9, 10, 11, 2, 8, 12, 13, 1]\n",
      "=================Iteration 9 of Labelling=================\n",
      "\n",
      "E= [6, 7, 9, 10, 11, 2, 8, 12, 13, 1] vi= 6\n",
      "successor of 6 are: [1, 2, 8, 12, 13]\n",
      "E at the end of interation [7, 9, 10, 11, 2, 8, 12, 13, 1]\n",
      "=================Iteration 10 of Labelling=================\n",
      "\n",
      "E= [7, 9, 10, 11, 2, 8, 12, 13, 1] vi= 7\n",
      "successor of 7 are: [1, 2, 8, 12, 13]\n",
      "E at the end of interation [9, 10, 11, 2, 8, 12, 13, 1]\n",
      "=================Iteration 11 of Labelling=================\n",
      "\n",
      "E= [9, 10, 11, 2, 8, 12, 13, 1] vi= 9\n",
      "successor of 9 are: [1, 2, 8, 12, 13]\n",
      "E at the end of interation [10, 11, 2, 8, 12, 13, 1]\n",
      "=================Iteration 12 of Labelling=================\n",
      "\n",
      "E= [10, 11, 2, 8, 12, 13, 1] vi= 10\n",
      "successor of 10 are: [1, 2, 8, 12, 13]\n",
      "E at the end of interation [11, 2, 8, 12, 13, 1]\n",
      "=================Iteration 13 of Labelling=================\n",
      "\n",
      "E= [11, 2, 8, 12, 13, 1] vi= 11\n",
      "successor of 11 are: [1, 2, 8, 12, 13]\n",
      "E at the end of interation [2, 8, 12, 13, 1]\n",
      "=================Iteration 14 of Labelling=================\n",
      "\n",
      "E= [2, 8, 12, 13, 1] vi= 2\n",
      "successor of 2 are: [1, 3, 4, 5, 6, 7, 8, 9, 10, 11, 12, 13]\n",
      "E at the end of interation [8, 12, 13, 1, 3, 4, 5, 6, 7, 9, 10, 11]\n",
      "=================Iteration 15 of Labelling=================\n",
      "\n",
      "E= [8, 12, 13, 1, 3, 4, 5, 6, 7, 9, 10, 11] vi= 8\n"
     ]
    },
    {
     "name": "stderr",
     "output_type": "stream",
     "text": [
      "\u001b[36m\u001b[1m[ \u001b[22m\u001b[39m\u001b[36m\u001b[1mInfo: \u001b[22m\u001b[39m(\"Start time = 1.738744393082915e9\", 0.00012803077697753906)\n",
      "\u001b[36m\u001b[1m[ \u001b[22m\u001b[39m\u001b[36m\u001b[1mInfo: \u001b[22m\u001b[39m(\"Start time = 1.738744393082915e9\", 0.00055694580078125)\n",
      "\u001b[36m\u001b[1m[ \u001b[22m\u001b[39m\u001b[36m\u001b[1mInfo: \u001b[22m\u001b[39m(\"Start time = 1.738744393082915e9\", 0.0009868144989013672)\n",
      "\u001b[36m\u001b[1m[ \u001b[22m\u001b[39m\u001b[36m\u001b[1mInfo: \u001b[22m\u001b[39m(\"Start time = 1.738744393082915e9\", 0.0014469623565673828)\n",
      "\u001b[36m\u001b[1m[ \u001b[22m\u001b[39m\u001b[36m\u001b[1mInfo: \u001b[22m\u001b[39m(\"Start time = 1.738744393082915e9\", 0.002118825912475586)\n",
      "\u001b[36m\u001b[1m[ \u001b[22m\u001b[39m\u001b[36m\u001b[1mInfo: \u001b[22m\u001b[39m(\"Start time = 1.738744393082915e9\", 0.0025060176849365234)\n",
      "\u001b[36m\u001b[1m[ \u001b[22m\u001b[39m\u001b[36m\u001b[1mInfo: \u001b[22m\u001b[39m(\"Start time = 1.738744393082915e9\", 0.0029668807983398438)\n",
      "\u001b[36m\u001b[1m[ \u001b[22m\u001b[39m\u001b[36m\u001b[1mInfo: \u001b[22m\u001b[39m(\"Start time = 1.738744393082915e9\", 0.0034189224243164062)\n",
      "\u001b[36m\u001b[1m[ \u001b[22m\u001b[39m\u001b[36m\u001b[1mInfo: \u001b[22m\u001b[39m(\"Start time = 1.738744393082915e9\", 0.003896951675415039)\n",
      "\u001b[36m\u001b[1m[ \u001b[22m\u001b[39m\u001b[36m\u001b[1mInfo: \u001b[22m\u001b[39m(\"Start time = 1.738744393082915e9\", 0.00445103645324707)\n",
      "\u001b[36m\u001b[1m[ \u001b[22m\u001b[39m\u001b[36m\u001b[1mInfo: \u001b[22m\u001b[39m(\"Start time = 1.738744393082915e9\", 0.009663820266723633)\n",
      "\u001b[36m\u001b[1m[ \u001b[22m\u001b[39m\u001b[36m\u001b[1mInfo: \u001b[22m\u001b[39m(\"Start time = 1.738744393082915e9\", 0.011313915252685547)\n",
      "\u001b[36m\u001b[1m[ \u001b[22m\u001b[39m\u001b[36m\u001b[1mInfo: \u001b[22m\u001b[39m(\"Start time = 1.738744393082915e9\", 0.012629032135009766)\n",
      "\u001b[36m\u001b[1m[ \u001b[22m\u001b[39m\u001b[36m\u001b[1mInfo: \u001b[22m\u001b[39m(\"Start time = 1.738744393082915e9\", 0.013651847839355469)\n",
      "\u001b[36m\u001b[1m[ \u001b[22m\u001b[39m\u001b[36m\u001b[1mInfo: \u001b[22m\u001b[39m(\"Start time = 1.738744393082915e9\", 0.022655010223388672)\n"
     ]
    },
    {
     "name": "stdout",
     "output_type": "stream",
     "text": [
      "successor of 8 are: [1, 2, 3, 4, 5, 6, 7, 9, 10, 11, 12, 13]\n",
      "E at the end of interation [12, 13, 1, 3, 4, 5, 6, 7, 9, 10, 11, 2]\n",
      "=================Iteration 16 of Labelling=================\n",
      "\n",
      "E= [12, 13, 1, 3, 4, 5, 6, 7, 9, 10, 11, 2] vi= 12\n",
      "successor of 12 are: [1, 2, 3, 4, 5, 6, 7, 8, 9, 10, 11, 13]\n",
      "E at the end of interation [13, 1, 3, 4, 5, 6, 7, 9, 10, 11, 2, 8]\n",
      "=================Iteration 17 of Labelling=================\n",
      "\n",
      "E= [13, 1, 3, 4, 5, 6, 7, 9, 10, 11, 2, 8] vi= 13\n",
      "successor of 13 are: [1, 2, 3, 4, 5, 6, 7, 8, 9, 10, 11, 12]\n",
      "E at the end of interation [1, 3, 4, 5, 6, 7, 9, 10, 11, 2, 8, 12]\n",
      "=================Iteration 18 of Labelling=================\n",
      "\n",
      "E= [1, 3, 4, 5, 6, 7, 9, 10, 11, 2, 8, 12] vi= 1\n",
      "successor of 1 are: [2, 8, 12, 13]\n",
      "E at the end of interation [3, 4, 5, 6, 7, 9, 10, 11, 2, 8, 12, 13]\n",
      "=================Iteration 19 of Labelling=================\n",
      "\n",
      "E= [3, 4, 5, 6, 7, 9, 10, 11, 2, 8, 12, 13] vi= 3\n",
      "successor of 3 are: [1, 2, 8, 12, 13]\n",
      "E at the end of interation [4, 5, 6, 7, 9, 10, 11, 2, 8, 12, 13, 1]\n",
      "=================Iteration 20 of Labelling=================\n",
      "\n",
      "E= [4, 5, 6, 7, 9, 10, 11, 2, 8, 12, 13, 1] vi= 4\n",
      "successor of 4 are: [1, 2, 8, 12, 13]\n",
      "E at the end of interation [5, 6, 7, 9, 10, 11, 2, 8, 12, 13, 1]\n",
      "=================Iteration 21 of Labelling=================\n",
      "\n",
      "E= [5, 6, 7, 9, 10, 11, 2, 8, 12, 13, 1] vi= 5\n",
      "successor of 5 are: [1, 2, 8, 12, 13]\n"
     ]
    },
    {
     "name": "stderr",
     "output_type": "stream",
     "text": [
      "\u001b[36m\u001b[1m[ \u001b[22m\u001b[39m\u001b[36m\u001b[1mInfo: \u001b[22m\u001b[39m(\"Start time = 1.738744393082915e9\", 0.2955758571624756)\n",
      "\u001b[36m\u001b[1m[ \u001b[22m\u001b[39m\u001b[36m\u001b[1mInfo: \u001b[22m\u001b[39m(\"Start time = 1.738744393082915e9\", 0.30996203422546387)\n",
      "\u001b[36m\u001b[1m[ \u001b[22m\u001b[39m\u001b[36m\u001b[1mInfo: \u001b[22m\u001b[39m(\"Start time = 1.738744393082915e9\", 0.3194918632507324)\n",
      "\u001b[36m\u001b[1m[ \u001b[22m\u001b[39m\u001b[36m\u001b[1mInfo: \u001b[22m\u001b[39m(\"Start time = 1.738744393082915e9\", 0.3266489505767822)\n",
      "\u001b[36m\u001b[1m[ \u001b[22m\u001b[39m\u001b[36m\u001b[1mInfo: \u001b[22m\u001b[39m(\"Start time = 1.738744393082915e9\", 0.33903002738952637)\n",
      "\u001b[36m\u001b[1m[ \u001b[22m\u001b[39m\u001b[36m\u001b[1mInfo: \u001b[22m\u001b[39m(\"Start time = 1.738744393082915e9\", 0.34354496002197266)\n"
     ]
    },
    {
     "name": "stdout",
     "output_type": "stream",
     "text": [
      "E at the end of interation [6, 7, 9, 10, 11, 2, 8, 12, 13, 1]\n",
      "=================Iteration 22 of Labelling=================\n",
      "\n",
      "E= [6, 7, 9, 10, 11, 2, 8, 12, 13, 1] vi= 6\n",
      "successor of 6 are: [1, 2, 8, 12, 13]\n",
      "E at the end of interation [7, 9, 10, 11, 2, 8, 12, 13, 1]\n",
      "=================Iteration 23 of Labelling=================\n",
      "\n",
      "E= [7, 9, 10, 11, 2, 8, 12, 13, 1] vi= 7\n",
      "successor of 7 are: [1, 2, 8, 12, 13]\n",
      "E at the end of interation [9, 10, 11, 2, 8, 12, 13, 1]\n",
      "=================Iteration 24 of Labelling=================\n",
      "\n",
      "E= [9, 10, 11, 2, 8, 12, 13, 1] vi= 9\n",
      "successor of 9 are: [1, 2, 8, 12, 13]\n",
      "E at the end of interation [10, 11, 2, 8, 12, 13, 1]\n",
      "=================Iteration 25 of Labelling=================\n",
      "\n",
      "E= [10, 11, 2, 8, 12, 13, 1] vi= 10\n",
      "successor of 10 are: [1, 2, 8, 12, 13]\n",
      "E at the end of interation [11, 2, 8, 12, 13, 1]\n",
      "=================Iteration 26 of Labelling=================\n",
      "\n",
      "E= [11, 2, 8, 12, 13, 1] vi= 11\n",
      "successor of 11 are: [1, 2, 8, 12, 13]\n",
      "E at the end of interation [2, 8, 12, 13, 1]\n",
      "=================Iteration 27 of Labelling=================\n",
      "\n",
      "E= [2, 8, 12, 13, 1] vi= 2\n",
      "successor of 2 are: [1, 3, 4, 5, 6, 7, 8, 9, 10, 11, 12, 13]\n"
     ]
    },
    {
     "name": "stderr",
     "output_type": "stream",
     "text": [
      "\u001b[36m\u001b[1m[ \u001b[22m\u001b[39m\u001b[36m\u001b[1mInfo: \u001b[22m\u001b[39m(\"Start time = 1.738744393082915e9\", 0.7110168933868408)\n",
      "\u001b[36m\u001b[1m[ \u001b[22m\u001b[39m\u001b[36m\u001b[1mInfo: \u001b[22m\u001b[39m(\"Start time = 1.738744393082915e9\", 0.7215800285339355)\n",
      "\u001b[36m\u001b[1m[ \u001b[22m\u001b[39m\u001b[36m\u001b[1mInfo: \u001b[22m\u001b[39m(\"Start time = 1.738744393082915e9\", 0.7283439636230469)\n",
      "\u001b[36m\u001b[1m[ \u001b[22m\u001b[39m\u001b[36m\u001b[1mInfo: \u001b[22m\u001b[39m(\"Start time = 1.738744393082915e9\", 0.7445449829101562)\n",
      "\u001b[36m\u001b[1m[ \u001b[22m\u001b[39m\u001b[36m\u001b[1mInfo: \u001b[22m\u001b[39m(\"Start time = 1.738744393082915e9\", 0.7545039653778076)\n",
      "\u001b[36m\u001b[1m[ \u001b[22m\u001b[39m\u001b[36m\u001b[1mInfo: \u001b[22m\u001b[39m(\"Start time = 1.738744393082915e9\", 0.7644660472869873)\n"
     ]
    },
    {
     "name": "stdout",
     "output_type": "stream",
     "text": [
      "E at the end of interation [8, 12, 13, 1, 3, 4, 5, 6, 7, 9, 10, 11]\n",
      "=================Iteration 28 of Labelling=================\n",
      "\n",
      "E= [8, 12, 13, 1, 3, 4, 5, 6, 7, 9, 10, 11] vi= 8\n",
      "successor of 8 are: [1, 2, 3, 4, 5, 6, 7, 9, 10, 11, 12, 13]\n"
     ]
    },
    {
     "name": "stderr",
     "output_type": "stream",
     "text": [
      "\u001b[36m\u001b[1m[ \u001b[22m\u001b[39m\u001b[36m\u001b[1mInfo: \u001b[22m\u001b[39m(\"Start time = 1.738744393082915e9\", 1.385645866394043)\n"
     ]
    },
    {
     "name": "stdout",
     "output_type": "stream",
     "text": [
      "\n",
      "Dual simplex solved model.\n",
      "\n",
      "E at the end of interation [12, 13, 1, 3, 4, 5, 6, 7, 9, 10, 11, 2]\n",
      "=================Iteration 29 of Labelling=================\n",
      "\n",
      "E= [12, 13, 1, 3, 4, 5, 6, 7, 9, 10, 11, 2] vi= 12\n",
      "successor of 12 are: [1, 2, 3, 4, 5, 6, 7, 8, 9, 10, 11, 13]\n"
     ]
    },
    {
     "name": "stderr",
     "output_type": "stream",
     "text": [
      "\u001b[36m\u001b[1m[ \u001b[22m\u001b[39m\u001b[36m\u001b[1mInfo: \u001b[22m\u001b[39m(\"Start time = 1.738744393082915e9\", 2.453483819961548)\n"
     ]
    },
    {
     "name": "stdout",
     "output_type": "stream",
     "text": [
      "E at the end of interation [13, 1, 3, 4, 5, 6, 7, 9, 10, 11, 2, 8]\n",
      "=================Iteration 30 of Labelling=================\n",
      "\n",
      "E= [13, 1, 3, 4, 5, 6, 7, 9, 10, 11, 2, 8] vi= 13\n",
      "successor of 13 are: [1, 2, 3, 4, 5, 6, 7, 8, 9, 10, 11, 12]\n"
     ]
    },
    {
     "name": "stderr",
     "output_type": "stream",
     "text": [
      "\u001b[36m\u001b[1m[ \u001b[22m\u001b[39m\u001b[36m\u001b[1mInfo: \u001b[22m\u001b[39m(\"Start time = 1.738744393082915e9\", 3.6244218349456787)\n"
     ]
    },
    {
     "name": "stdout",
     "output_type": "stream",
     "text": [
      "E at the end of interation [1, 3, 4, 5, 6, 7, 9, 10, 11, 2, 8, 12]\n",
      "=================Iteration 31 of Labelling=================\n",
      "\n",
      "E= [1, 3, 4, 5, 6, 7, 9, 10, 11, 2, 8, 12] vi= 1\n",
      "successor of 1 are: [2, 8, 12, 13]\n"
     ]
    },
    {
     "name": "stderr",
     "output_type": "stream",
     "text": [
      "\u001b[36m\u001b[1m[ \u001b[22m\u001b[39m\u001b[36m\u001b[1mInfo: \u001b[22m\u001b[39m(\"Start time = 1.738744393082915e9\", 5.206418037414551)\n"
     ]
    },
    {
     "name": "stdout",
     "output_type": "stream",
     "text": [
      "E at the end of interation [3, 4, 5, 6, 7, 9, 10, 11, 2, 8, 12, 13]\n",
      "=================Iteration 32 of Labelling=================\n",
      "\n",
      "E= [3, 4, 5, 6, 7, 9, 10, 11, 2, 8, 12, 13] vi= 3\n",
      "successor of 3 are: [1, 2, 8, 12, 13]\n"
     ]
    },
    {
     "name": "stderr",
     "output_type": "stream",
     "text": [
      "\u001b[36m\u001b[1m[ \u001b[22m\u001b[39m\u001b[36m\u001b[1mInfo: \u001b[22m\u001b[39m(\"Start time = 1.738744393082915e9\", 5.834445953369141)\n"
     ]
    },
    {
     "name": "stdout",
     "output_type": "stream",
     "text": [
      "E at the end of interation [4, 5, 6, 7, 9, 10, 11, 2, 8, 12, 13, 1]\n",
      "=================Iteration 33 of Labelling=================\n",
      "\n",
      "E= [4, 5, 6, 7, 9, 10, 11, 2, 8, 12, 13, 1] vi= 4\n",
      "successor of 4 are: [1, 2, 8, 12, 13]\n"
     ]
    },
    {
     "name": "stderr",
     "output_type": "stream",
     "text": [
      "\u001b[36m\u001b[1m[ \u001b[22m\u001b[39m\u001b[36m\u001b[1mInfo: \u001b[22m\u001b[39m(\"Start time = 1.738744393082915e9\", 6.974293947219849)\n"
     ]
    },
    {
     "name": "stdout",
     "output_type": "stream",
     "text": [
      "E at the end of interation [5, 6, 7, 9, 10, 11, 2, 8, 12, 13, 1]\n",
      "=================Iteration 34 of Labelling=================\n",
      "\n",
      "E= [5, 6, 7, 9, 10, 11, 2, 8, 12, 13, 1] vi= 5\n",
      "successor of 5 are: [1, 2, 8, 12, 13]\n"
     ]
    },
    {
     "name": "stderr",
     "output_type": "stream",
     "text": [
      "\u001b[36m\u001b[1m[ \u001b[22m\u001b[39m\u001b[36m\u001b[1mInfo: \u001b[22m\u001b[39m(\"Start time = 1.738744393082915e9\", 8.449748992919922)\n"
     ]
    },
    {
     "name": "stdout",
     "output_type": "stream",
     "text": [
      "E at the end of interation [6, 7, 9, 10, 11, 2, 8, 12, 13, 1]\n",
      "=================Iteration 35 of Labelling=================\n",
      "\n",
      "E= [6, 7, 9, 10, 11, 2, 8, 12, 13, 1] vi= 6\n",
      "successor of 6 are: [1, 2, 8, 12, 13]\n"
     ]
    },
    {
     "name": "stderr",
     "output_type": "stream",
     "text": [
      "\u001b[36m\u001b[1m[ \u001b[22m\u001b[39m\u001b[36m\u001b[1mInfo: \u001b[22m\u001b[39m(\"Start time = 1.738744393082915e9\", 11.299301862716675)\n"
     ]
    },
    {
     "name": "stdout",
     "output_type": "stream",
     "text": [
      "E at the end of interation [7, 9, 10, 11, 2, 8, 12, 13, 1]\n",
      "=================Iteration 36 of Labelling=================\n",
      "\n",
      "E= [7, 9, 10, 11, 2, 8, 12, 13, 1] vi= 7\n",
      "successor of 7 are: [1, 2, 8, 12, 13]\n"
     ]
    },
    {
     "name": "stderr",
     "output_type": "stream",
     "text": [
      "\u001b[36m\u001b[1m[ \u001b[22m\u001b[39m\u001b[36m\u001b[1mInfo: \u001b[22m\u001b[39m(\"Start time = 1.738744393082915e9\", 13.962065935134888)\n"
     ]
    },
    {
     "name": "stdout",
     "output_type": "stream",
     "text": [
      "E at the end of interation [9, 10, 11, 2, 8, 12, 13, 1]\n",
      "=================Iteration 37 of Labelling=================\n",
      "\n",
      "E= [9, 10, 11, 2, 8, 12, 13, 1] vi= 9\n",
      "successor of 9 are: [1, 2, 8, 12, 13]\n"
     ]
    },
    {
     "name": "stderr",
     "output_type": "stream",
     "text": [
      "\u001b[36m\u001b[1m[ \u001b[22m\u001b[39m\u001b[36m\u001b[1mInfo: \u001b[22m\u001b[39m(\"Start time = 1.738744393082915e9\", 16.782241821289062)\n"
     ]
    },
    {
     "name": "stdout",
     "output_type": "stream",
     "text": [
      "E at the end of interation [10, 11, 2, 8, 12, 13, 1]\n",
      "=================Iteration 38 of Labelling=================\n",
      "\n",
      "E= [10, 11, 2, 8, 12, 13, 1] vi= 10\n",
      "successor of 10 are: [1, 2, 8, 12, 13]\n"
     ]
    },
    {
     "name": "stderr",
     "output_type": "stream",
     "text": [
      "\u001b[36m\u001b[1m[ \u001b[22m\u001b[39m\u001b[36m\u001b[1mInfo: \u001b[22m\u001b[39m(\"Start time = 1.738744393082915e9\", 18.975167989730835)\n"
     ]
    },
    {
     "name": "stdout",
     "output_type": "stream",
     "text": [
      "E at the end of interation [11, 2, 8, 12, 13, 1]\n",
      "=================Iteration 39 of Labelling=================\n",
      "\n",
      "E= [11, 2, 8, 12, 13, 1] vi= 11\n",
      "successor of 11 are: [1, 2, 8, 12, 13]\n"
     ]
    },
    {
     "name": "stderr",
     "output_type": "stream",
     "text": [
      "\u001b[36m\u001b[1m[ \u001b[22m\u001b[39m\u001b[36m\u001b[1mInfo: \u001b[22m\u001b[39m(\"Start time = 1.738744393082915e9\", 21.63685894012451)\n"
     ]
    },
    {
     "name": "stdout",
     "output_type": "stream",
     "text": [
      "E at the end of interation [2, 8, 12, 13, 1]\n",
      "=================Iteration 40 of Labelling=================\n",
      "\n",
      "E= [2, 8, 12, 13, 1] vi= 2\n",
      "successor of 2 are: [1, 3, 4, 5, 6, 7, 8, 9, 10, 11, 12, 13]\n"
     ]
    },
    {
     "name": "stderr",
     "output_type": "stream",
     "text": [
      "\u001b[36m\u001b[1m[ \u001b[22m\u001b[39m\u001b[36m\u001b[1mInfo: \u001b[22m\u001b[39m(\"Start time = 1.738744393082915e9\", 24.196763038635254)\n"
     ]
    },
    {
     "name": "stdout",
     "output_type": "stream",
     "text": [
      "E at the end of interation [8, 12, 13, 1, 3, 4, 5, 6, 7, 9, 10, 11]\n",
      "=================Iteration 41 of Labelling=================\n",
      "\n",
      "E= [8, 12, 13, 1, 3, 4, 5, 6, 7, 9, 10, 11] vi= 8\n",
      "successor of 8 are: [1, 2, 3, 4, 5, 6, 7, 9, 10, 11, 12, 13]\n"
     ]
    },
    {
     "name": "stderr",
     "output_type": "stream",
     "text": [
      "\u001b[36m\u001b[1m[ \u001b[22m\u001b[39m\u001b[36m\u001b[1mInfo: \u001b[22m\u001b[39m(\"Start time = 1.738744393082915e9\", 32.04733395576477)\n"
     ]
    },
    {
     "name": "stdout",
     "output_type": "stream",
     "text": [
      "E at the end of interation [12, 13, 1, 3, 4, 5, 6, 7, 9, 10, 11, 2]\n",
      "=================Iteration 42 of Labelling=================\n",
      "\n",
      "E= [12, 13, 1, 3, 4, 5, 6, 7, 9, 10, 11, 2] vi= 12\n",
      "successor of 12 are: [1, 2, 3, 4, 5, 6, 7, 8, 9, 10, 11, 13]\n"
     ]
    },
    {
     "name": "stderr",
     "output_type": "stream",
     "text": [
      "\u001b[36m\u001b[1m[ \u001b[22m\u001b[39m\u001b[36m\u001b[1mInfo: \u001b[22m\u001b[39m(\"Start time = 1.738744393082915e9\", 41.43518781661987)\n"
     ]
    },
    {
     "name": "stdout",
     "output_type": "stream",
     "text": [
      "E at the end of interation [13, 1, 3, 4, 5, 6, 7, 9, 10, 11, 2, 8]\n",
      "=================Iteration 43 of Labelling=================\n",
      "\n",
      "E= [13, 1, 3, 4, 5, 6, 7, 9, 10, 11, 2, 8] vi= 13\n",
      "successor of 13 are: [1, 2, 3, 4, 5, 6, 7, 8, 9, 10, 11, 12]\n"
     ]
    },
    {
     "name": "stderr",
     "output_type": "stream",
     "text": [
      "\u001b[36m\u001b[1m[ \u001b[22m\u001b[39m\u001b[36m\u001b[1mInfo: \u001b[22m\u001b[39m(\"Start time = 1.738744393082915e9\", 47.69246292114258)\n"
     ]
    },
    {
     "name": "stdout",
     "output_type": "stream",
     "text": [
      "E at the end of interation [1, 3, 4, 5, 6, 7, 9, 10, 11, 2, 8, 12]\n",
      "=================Iteration 44 of Labelling=================\n",
      "\n",
      "E= [1, 3, 4, 5, 6, 7, 9, 10, 11, 2, 8, 12] vi= 1\n",
      "successor of 1 are: [2, 8, 12, 13]\n"
     ]
    },
    {
     "name": "stderr",
     "output_type": "stream",
     "text": [
      "\u001b[36m\u001b[1m[ \u001b[22m\u001b[39m\u001b[36m\u001b[1mInfo: \u001b[22m\u001b[39m(\"Start time = 1.738744393082915e9\", 55.13748097419739)\n"
     ]
    },
    {
     "name": "stdout",
     "output_type": "stream",
     "text": [
      "E at the end of interation [3, 4, 5, 6, 7, 9, 10, 11, 2, 8, 12, 13]\n",
      "=================Iteration 45 of Labelling=================\n",
      "\n",
      "E= [3, 4, 5, 6, 7, 9, 10, 11, 2, 8, 12, 13] vi= 3\n",
      "successor of 3 are: [1, 2, 8, 12, 13]\n"
     ]
    },
    {
     "name": "stderr",
     "output_type": "stream",
     "text": [
      "\u001b[36m\u001b[1m[ \u001b[22m\u001b[39m\u001b[36m\u001b[1mInfo: \u001b[22m\u001b[39m(\"Start time = 1.738744393082915e9\", 55.65209698677063)\n"
     ]
    },
    {
     "name": "stdout",
     "output_type": "stream",
     "text": [
      "E at the end of interation [4, 5, 6, 7, 9, 10, 11, 2, 8, 12, 13, 1]\n",
      "=================Iteration 46 of Labelling=================\n",
      "\n",
      "E= [4, 5, 6, 7, 9, 10, 11, 2, 8, 12, 13, 1] vi= 4\n",
      "successor of 4 are: [1, 2, 8, 12, 13]\n"
     ]
    },
    {
     "name": "stderr",
     "output_type": "stream",
     "text": [
      "\u001b[36m\u001b[1m[ \u001b[22m\u001b[39m\u001b[36m\u001b[1mInfo: \u001b[22m\u001b[39m(\"Start time = 1.738744393082915e9\", 65.84431982040405)\n"
     ]
    },
    {
     "name": "stdout",
     "output_type": "stream",
     "text": [
      "E at the end of interation [5, 6, 7, 9, 10, 11, 2, 8, 12, 13, 1]\n",
      "=================Iteration 47 of Labelling=================\n",
      "\n",
      "E= [5, 6, 7, 9, 10, 11, 2, 8, 12, 13, 1] vi= 5\n",
      "successor of 5 are: [1, 2, 8, 12, 13]\n"
     ]
    },
    {
     "name": "stderr",
     "output_type": "stream",
     "text": [
      "\u001b[36m\u001b[1m[ \u001b[22m\u001b[39m\u001b[36m\u001b[1mInfo: \u001b[22m\u001b[39m(\"Start time = 1.738744393082915e9\", 88.16131091117859)\n"
     ]
    },
    {
     "name": "stdout",
     "output_type": "stream",
     "text": [
      "E at the end of interation [6, 7, 9, 10, 11, 2, 8, 12, 13, 1]\n",
      "=================Iteration 48 of Labelling=================\n",
      "\n",
      "E= [6, 7, 9, 10, 11, 2, 8, 12, 13, 1] vi= 6\n",
      "successor of 6 are: [1, 2, 8, 12, 13]\n"
     ]
    },
    {
     "name": "stderr",
     "output_type": "stream",
     "text": [
      "\u001b[36m\u001b[1m[ \u001b[22m\u001b[39m\u001b[36m\u001b[1mInfo: \u001b[22m\u001b[39m(\"Start time = 1.738744393082915e9\", 118.3045220375061)\n"
     ]
    },
    {
     "name": "stdout",
     "output_type": "stream",
     "text": [
      "E at the end of interation [7, 9, 10, 11, 2, 8, 12, 13, 1]\n",
      "=================Iteration 49 of Labelling=================\n",
      "Min RC solution= Label(203.1724517807483, -222.3618596535777, [1, 1, 1, 1, 1, 1, 1, 1, 1, 1, 1, 1, 1], [1, 8, 4, 2, 11, 12, 9, 13, 3, 1])\n",
      "\n",
      "======================Iteration 4 at 441.54909491539s of column generation======================\n",
      "1e route= Route[Route(90.50966799187809, [1, 2, 1], 3, 0), Route(54.589376255824725, [1, 8, 1], 3, 0), Route(111.57060544785082, [1, 12, 1], 3, 0), Route(100.0, [1, 13, 1], 3, 0), Route(171.55251665015805, [1, 8, 7, 2, 11, 12, 9, 13, 5, 1], 10, 0), Route(276.7608674310876, [1, 8, 10, 12, 6, 13, 4, 2, 3, 1], 10, 0), Route(203.1724517807483, [1, 8, 4, 2, 11, 12, 9, 13, 3, 1], 10, 0)]\n"
     ]
    },
    {
     "name": "stderr",
     "output_type": "stream",
     "text": [
      "\u001b[36m\u001b[1m[ \u001b[22m\u001b[39m\u001b[36m\u001b[1mInfo: \u001b[22m\u001b[39m(\"Start time = 1.738744393082915e9\", 156.4823670387268)\n",
      "\u001b[36m\u001b[1m[ \u001b[22m\u001b[39m\u001b[36m\u001b[1mInfo: \u001b[22m\u001b[39mNew 1e route [1, 8, 4, 2, 11, 12, 9, 13, 3, 1] \n"
     ]
    },
    {
     "name": "stdout",
     "output_type": "stream",
     "text": [
      "CPLEX Error  3003: Not a mixed-integer problem.\n",
      "Version identifier: 22.1.1.0 | 2022-11-28 | 9160aff4d\n",
      "Parallel mode: deterministic, using up to 10 threads for concurrent optimization:\n",
      " * Starting dual Simplex on 1 thread...\n",
      " * Starting Barrier on 8 threads...\n",
      " * Starting primal Simplex on 1 thread...\n",
      "Tried aggregator 1 time.\n",
      "LP Presolve eliminated 238 rows and 183 columns.\n",
      "Reduced LP has 2816 rows, 2905 columns, and 12471 nonzeros.\n",
      "Presolve time = 0.01 sec. (4.52 ticks)\n",
      "\n",
      "Iteration log . . .\n",
      "Iteration:     1   Dual objective     =             0.000000\n",
      "Iteration:   151   Dual objective     =            88.313708\n",
      "Iteration:   243   Dual objective     =            88.313708\n",
      "Perturbation started.\n",
      "Iteration:   303   Dual objective     =            88.313708\n",
      "Iteration:   375   Dual objective     =            88.313975\n",
      "Iteration:   455   Dual objective     =           245.274971\n",
      "Iteration:   539   Dual objective     =           245.597402\n",
      "Iteration:   612   Dual objective     =           245.597559\n",
      "Iteration:   713   Dual objective     =           316.605922\n",
      "Iteration:   789   Dual objective     =           316.606061\n",
      "Iteration:   889   Dual objective     =           324.494868\n",
      "Iteration:   995   Dual objective     =           347.785571\n",
      "Iteration:  1121   Dual objective     =           438.549391\n",
      "Iteration:  1240   Dual objective     =           452.510703\n",
      "Removing perturbation.\n",
      "objective value of master problem is: 456.05019137972295\n",
      "Status of 1e route: \n",
      "   x=0.0438596491228070151e Route [1, 8, 7, 2, 11, 12, 9, 13, 5, 1]   Load= 0   Cost= 171.55\n",
      "   x=0.175438596491228061e Route [1, 8, 4, 2, 11, 12, 9, 13, 3, 1]   Load= 0   Cost= 203.17\n",
      "=================Iteration 1 of Labelling=================\n",
      "\n",
      "E= [2, 8, 12, 13] vi= 2\n",
      "successor of 2 are: [1, 3, 4, 5, 6, 7, 8, 9, 10, 11, 12, 13]\n",
      "E at the end of interation [8, 12, 13, 1, 3, 4, 5, 6, 7, 9, 10, 11]\n",
      "=================Iteration 2 of Labelling=================\n",
      "\n",
      "E= [8, 12, 13, 1, 3, 4, 5, 6, 7, 9, 10, 11] vi= 8\n",
      "successor of 8 are: [1, 2, 3, 4, 5, 6, 7, 9, 10, 11, 12, 13]\n",
      "E at the end of interation [12, 13, 1, 3, 4, 5, 6, 7, 9, 10, 11, 2]\n",
      "=================Iteration 3 of Labelling=================\n",
      "\n",
      "E= [12, 13, 1, 3, 4, 5, 6, 7, 9, 10, 11, 2] vi= 12\n",
      "successor of 12 are: [1, 2, 3, 4, 5, 6, 7, 8, 9, 10, 11, 13]\n",
      "E at the end of interation [13, 1, 3, 4, 5, 6, 7, 9, 10, 11, 2, 8]\n",
      "=================Iteration 4 of Labelling=================\n",
      "\n",
      "E= [13, 1, 3, 4, 5, 6, 7, 9, 10, 11, 2, 8] vi= 13\n",
      "successor of 13 are: [1, 2, 3, 4, 5, 6, 7, 8, 9, 10, 11, 12]\n",
      "E at the end of interation [1, 3, 4, 5, 6, 7, 9, 10, 11, 2, 8, 12]\n",
      "=================Iteration 5 of Labelling=================\n",
      "\n",
      "E= [1, 3, 4, 5, 6, 7, 9, 10, 11, 2, 8, 12] vi= 1\n",
      "successor of 1 are: [2, 8, 12, 13]\n",
      "E at the end of interation [3, 4, 5, 6, 7, 9, 10, 11, 2, 8, 12, 13]\n",
      "=================Iteration 6 of Labelling=================\n",
      "\n",
      "E= [3, 4, 5, 6, 7, 9, 10, 11, 2, 8, 12, 13] vi= 3\n",
      "successor of 3 are: [1, 2, 8, 12, 13]\n",
      "E at the end of interation [4, 5, 6, 7, 9, 10, 11, 2, 8, 12, 13, 1]\n",
      "=================Iteration 7 of Labelling=================\n",
      "\n",
      "E= [4, 5, 6, 7, 9, 10, 11, 2, 8, 12, 13, 1] vi= 4\n",
      "successor of 4 are: [1, 2, 8, 12, 13]\n",
      "E at the end of interation [5, 6, 7, 9, 10, 11, 2, 8, 12, 13, 1]\n",
      "=================Iteration 8 of Labelling=================\n",
      "\n",
      "E= [5, 6, 7, 9, 10, 11, 2, 8, 12, 13, 1] vi= 5\n",
      "successor of 5 are: [1, 2, 8, 12, 13]\n",
      "E at the end of interation [6, 7, 9, 10, 11, 2, 8, 12, 13, 1]\n",
      "=================Iteration 9 of Labelling=================\n",
      "\n",
      "E= [6, 7, 9, 10, 11, 2, 8, 12, 13, 1] vi= 6\n",
      "successor of 6 are: [1, 2, 8, 12, 13]\n",
      "E at the end of interation [7, 9, 10, 11, 2, 8, 12, 13, 1]\n",
      "=================Iteration 10 of Labelling=================\n",
      "\n",
      "E= [7, 9, 10, 11, 2, 8, 12, 13, 1] vi= 7\n",
      "successor of 7 are: [1, 2, 8, 12, 13]\n",
      "E at the end of interation [9, 10, 11, 2, 8, 12, 13, 1]\n",
      "=================Iteration 11 of Labelling=================\n",
      "\n",
      "E= [9, 10, 11, 2, 8, 12, 13, 1] vi= 9\n",
      "successor of 9 are: [1, 2, 8, 12, 13]\n",
      "E at the end of interation [10, 11, 2, 8, 12, 13, 1]\n",
      "=================Iteration 12 of Labelling=================\n",
      "\n",
      "E= [10, 11, 2, 8, 12, 13, 1] vi= 10\n",
      "successor of 10 are: [1, 2, 8, 12, 13]\n",
      "E at the end of interation [11, 2, 8, 12, 13, 1]\n",
      "=================Iteration 13 of Labelling=================\n",
      "\n",
      "E= [11, 2, 8, 12, 13, 1] vi= 11\n",
      "successor of 11 are: [1, 2, 8, 12, 13]\n",
      "E at the end of interation [2, 8, 12, 13, 1]\n",
      "=================Iteration 14 of Labelling=================\n",
      "\n",
      "E= [2, 8, 12, 13, 1] vi= 2\n",
      "successor of 2 are: [1, 3, 4, 5, 6, 7, 8, 9, 10, 11, 12, 13]\n",
      "E at the end of interation [8, 12, 13, 1, 3, 4, 5, 6, 7, 9, 10, 11]\n",
      "=================Iteration 15 of Labelling=================\n",
      "\n",
      "E= [8, 12, 13, 1, 3, 4, 5, 6, 7, 9, 10, 11] vi= 8\n",
      "successor of 8 are: [1, 2, 3, 4, 5, 6, 7, 9, 10, 11, 12, 13]\n",
      "E at the end of interation [12, 13, 1, 3, 4, 5, 6, 7, 9, 10, 11, 2]\n",
      "=================Iteration 16 of Labelling=================\n",
      "\n",
      "E= [12, 13, 1, 3, 4, 5, 6, 7, 9, 10, 11, 2] vi= 12\n",
      "successor of 12 are: [1, 2, 3, 4, 5, 6, 7, 8, 9, 10, 11, 13]\n",
      "E at the end of interation [13, 1, 3, 4, 5, 6, 7, 9, 10, 11, 2, 8]\n",
      "=================Iteration 17 of Labelling=================\n",
      "\n",
      "E= [13, 1, 3, 4, 5, 6, 7, 9, 10, 11, 2, 8] vi= 13\n",
      "successor of 13 are: [1, 2, 3, 4, 5, 6, 7, 8, 9, 10, 11, 12]\n",
      "E at the end of interation [1, 3, 4, 5, 6, 7, 9, 10, 11, 2, 8, 12]\n",
      "=================Iteration 18 of Labelling=================\n",
      "\n",
      "E= [1, 3, 4, 5, 6, 7, 9, 10, 11, 2, 8, 12] vi= 1\n",
      "successor of 1 are: [2, 8, 12, 13]\n",
      "E at the end of interation [3, 4, 5, 6, 7, 9, 10, 11, 2, 8, 12, 13]\n",
      "=================Iteration 19 of Labelling=================\n",
      "\n",
      "E= [3, 4, 5, 6, 7, 9, 10, 11, 2, 8, 12, 13] vi= 3\n",
      "successor of 3 are: [1, 2, 8, 12, 13]\n"
     ]
    },
    {
     "name": "stderr",
     "output_type": "stream",
     "text": [
      "\u001b[36m\u001b[1m[ \u001b[22m\u001b[39m\u001b[36m\u001b[1mInfo: \u001b[22m\u001b[39m(\"Start time = 1.738744549697155e9\", 9.489059448242188e-5)\n",
      "\u001b[36m\u001b[1m[ \u001b[22m\u001b[39m\u001b[36m\u001b[1mInfo: \u001b[22m\u001b[39m(\"Start time = 1.738744549697155e9\", 0.0003790855407714844)\n",
      "\u001b[36m\u001b[1m[ \u001b[22m\u001b[39m\u001b[36m\u001b[1mInfo: \u001b[22m\u001b[39m(\"Start time = 1.738744549697155e9\", 0.0006010532379150391)\n",
      "\u001b[36m\u001b[1m[ \u001b[22m\u001b[39m\u001b[36m\u001b[1mInfo: \u001b[22m\u001b[39m(\"Start time = 1.738744549697155e9\", 0.0008649826049804688)\n",
      "\u001b[36m\u001b[1m[ \u001b[22m\u001b[39m\u001b[36m\u001b[1mInfo: \u001b[22m\u001b[39m(\"Start time = 1.738744549697155e9\", 0.003062009811401367)\n",
      "\u001b[36m\u001b[1m[ \u001b[22m\u001b[39m\u001b[36m\u001b[1mInfo: \u001b[22m\u001b[39m(\"Start time = 1.738744549697155e9\", 0.003328084945678711)\n",
      "\u001b[36m\u001b[1m[ \u001b[22m\u001b[39m\u001b[36m\u001b[1mInfo: \u001b[22m\u001b[39m(\"Start time = 1.738744549697155e9\", 0.0035970211029052734)\n",
      "\u001b[36m\u001b[1m[ \u001b[22m\u001b[39m\u001b[36m\u001b[1mInfo: \u001b[22m\u001b[39m(\"Start time = 1.738744549697155e9\", 0.004251956939697266)\n",
      "\u001b[36m\u001b[1m[ \u001b[22m\u001b[39m\u001b[36m\u001b[1mInfo: \u001b[22m\u001b[39m(\"Start time = 1.738744549697155e9\", 0.004533052444458008)\n",
      "\u001b[36m\u001b[1m[ \u001b[22m\u001b[39m\u001b[36m\u001b[1mInfo: \u001b[22m\u001b[39m(\"Start time = 1.738744549697155e9\", 0.004812955856323242)\n",
      "\u001b[36m\u001b[1m[ \u001b[22m\u001b[39m\u001b[36m\u001b[1mInfo: \u001b[22m\u001b[39m(\"Start time = 1.738744549697155e9\", 0.00506901741027832)\n",
      "\u001b[36m\u001b[1m[ \u001b[22m\u001b[39m\u001b[36m\u001b[1mInfo: \u001b[22m\u001b[39m(\"Start time = 1.738744549697155e9\", 0.005323886871337891)\n",
      "\u001b[36m\u001b[1m[ \u001b[22m\u001b[39m\u001b[36m\u001b[1mInfo: \u001b[22m\u001b[39m(\"Start time = 1.738744549697155e9\", 0.0072820186614990234)\n",
      "\u001b[36m\u001b[1m[ \u001b[22m\u001b[39m\u001b[36m\u001b[1mInfo: \u001b[22m\u001b[39m(\"Start time = 1.738744549697155e9\", 0.008891105651855469)\n",
      "\u001b[36m\u001b[1m[ \u001b[22m\u001b[39m\u001b[36m\u001b[1mInfo: \u001b[22m\u001b[39m(\"Start time = 1.738744549697155e9\", 0.013236045837402344)\n",
      "\u001b[36m\u001b[1m[ \u001b[22m\u001b[39m\u001b[36m\u001b[1mInfo: \u001b[22m\u001b[39m(\"Start time = 1.738744549697155e9\", 0.016541004180908203)\n",
      "\u001b[36m\u001b[1m[ \u001b[22m\u001b[39m\u001b[36m\u001b[1mInfo: \u001b[22m\u001b[39m(\"Start time = 1.738744549697155e9\", 0.021936893463134766)\n",
      "\u001b[36m\u001b[1m[ \u001b[22m\u001b[39m\u001b[36m\u001b[1mInfo: \u001b[22m\u001b[39m(\"Start time = 1.738744549697155e9\", 0.03674888610839844)\n",
      "\u001b[36m\u001b[1m[ \u001b[22m\u001b[39m\u001b[36m\u001b[1mInfo: \u001b[22m\u001b[39m(\"Start time = 1.738744549697155e9\", 0.06708097457885742)\n"
     ]
    },
    {
     "name": "stdout",
     "output_type": "stream",
     "text": [
      "E at the end of interation [4, 5, 6, 7, 9, 10, 11, 2, 8, 12, 13, 1]\n",
      "=================Iteration 20 of Labelling=================\n",
      "\n",
      "E= [4, 5, 6, 7, 9, 10, 11, 2, 8, 12, 13, 1] vi= 4\n",
      "successor of 4 are: [1, 2, 8, 12, 13]\n",
      "E at the end of interation [5, 6, 7, 9, 10, 11, 2, 8, 12, 13, 1]\n",
      "=================Iteration 21 of Labelling=================\n",
      "\n",
      "E= [5, 6, 7, 9, 10, 11, 2, 8, 12, 13, 1] vi= 5\n",
      "successor of 5 are: [1, 2, 8, 12, 13]\n",
      "E at the end of interation [6, 7, 9, 10, 11, 2, 8, 12, 13, 1]\n",
      "=================Iteration 22 of Labelling=================\n",
      "\n",
      "E= [6, 7, 9, 10, 11, 2, 8, 12, 13, 1] vi= 6\n",
      "successor of 6 are: [1, 2, 8, 12, 13]\n",
      "E at the end of interation [7, 9, 10, 11, 2, 8, 12, 13, 1]\n",
      "=================Iteration 23 of Labelling=================\n",
      "\n",
      "E= [7, 9, 10, 11, 2, 8, 12, 13, 1] vi= 7\n",
      "successor of 7 are: [1, 2, 8, 12, 13]\n",
      "E at the end of interation [9, 10, 11, 2, 8, 12, 13, 1]\n",
      "=================Iteration 24 of Labelling=================\n",
      "\n",
      "E= [9, 10, 11, 2, 8, 12, 13, 1] vi= 9\n",
      "successor of 9 are: [1, 2, 8, 12, 13]\n",
      "E at the end of interation [10, 11, 2, 8, 12, 13, 1]\n",
      "=================Iteration 25 of Labelling=================\n",
      "\n",
      "E= [10, 11, 2, 8, 12, 13, 1] vi= 10\n",
      "successor of 10 are: [1, 2, 8, 12, 13]\n",
      "E at the end of interation [11, 2, 8, 12, 13, 1]\n",
      "=================Iteration 26 of Labelling=================\n",
      "\n",
      "E= [11, 2, 8, 12, 13, 1] vi= 11\n",
      "successor of 11 are: [1, 2, 8, 12, 13]\n",
      "E at the end of interation [2, 8, 12, 13, 1]\n",
      "=================Iteration 27 of Labelling=================\n",
      "\n",
      "E= [2, 8, 12, 13, 1] vi= 2\n",
      "successor of 2 are: [1, 3, 4, 5, 6, 7, 8, 9, 10, 11, 12, 13]\n"
     ]
    },
    {
     "name": "stderr",
     "output_type": "stream",
     "text": [
      "\u001b[36m\u001b[1m[ \u001b[22m\u001b[39m\u001b[36m\u001b[1mInfo: \u001b[22m\u001b[39m(\"Start time = 1.738744549697155e9\", 0.11198997497558594)\n",
      "\u001b[36m\u001b[1m[ \u001b[22m\u001b[39m\u001b[36m\u001b[1mInfo: \u001b[22m\u001b[39m(\"Start time = 1.738744549697155e9\", 0.12065005302429199)\n",
      "\u001b[36m\u001b[1m[ \u001b[22m\u001b[39m\u001b[36m\u001b[1mInfo: \u001b[22m\u001b[39m(\"Start time = 1.738744549697155e9\", 0.12686991691589355)\n",
      "\u001b[36m\u001b[1m[ \u001b[22m\u001b[39m\u001b[36m\u001b[1mInfo: \u001b[22m\u001b[39m(\"Start time = 1.738744549697155e9\", 0.13402199745178223)\n",
      "\u001b[36m\u001b[1m[ \u001b[22m\u001b[39m\u001b[36m\u001b[1mInfo: \u001b[22m\u001b[39m(\"Start time = 1.738744549697155e9\", 0.14169001579284668)\n",
      "\u001b[36m\u001b[1m[ \u001b[22m\u001b[39m\u001b[36m\u001b[1mInfo: \u001b[22m\u001b[39m(\"Start time = 1.738744549697155e9\", 0.14990806579589844)\n",
      "\u001b[36m\u001b[1m[ \u001b[22m\u001b[39m\u001b[36m\u001b[1mInfo: \u001b[22m\u001b[39m(\"Start time = 1.738744549697155e9\", 0.15802597999572754)\n",
      "\u001b[36m\u001b[1m[ \u001b[22m\u001b[39m\u001b[36m\u001b[1mInfo: \u001b[22m\u001b[39m(\"Start time = 1.738744549697155e9\", 0.1685791015625)\n"
     ]
    },
    {
     "name": "stdout",
     "output_type": "stream",
     "text": [
      "E at the end of interation [8, 12, 13, 1, 3, 4, 5, 6, 7, 9, 10, 11]\n",
      "=================Iteration 28 of Labelling=================\n",
      "\n",
      "E= [8, 12, 13, 1, 3, 4, 5, 6, 7, 9, 10, 11] vi= 8\n",
      "successor of 8 are: [1, 2, 3, 4, 5, 6, 7, 9, 10, 11, 12, 13]\n"
     ]
    },
    {
     "name": "stderr",
     "output_type": "stream",
     "text": [
      "\u001b[36m\u001b[1m[ \u001b[22m\u001b[39m\u001b[36m\u001b[1mInfo: \u001b[22m\u001b[39m(\"Start time = 1.738744549697155e9\", 0.2491779327392578)\n"
     ]
    },
    {
     "name": "stdout",
     "output_type": "stream",
     "text": [
      "E at the end of interation [12, 13, 1, 3, 4, 5, 6, 7, 9, 10, 11, 2]\n",
      "=================Iteration 29 of Labelling=================\n",
      "\n",
      "E= [12, 13, 1, 3, 4, 5, 6, 7, 9, 10, 11, 2] vi= 12\n",
      "successor of 12 are: [1, 2, 3, 4, 5, 6, 7, 8, 9, 10, 11, 13]\n"
     ]
    },
    {
     "name": "stderr",
     "output_type": "stream",
     "text": [
      "\u001b[36m\u001b[1m[ \u001b[22m\u001b[39m\u001b[36m\u001b[1mInfo: \u001b[22m\u001b[39m(\"Start time = 1.738744549697155e9\", 0.3512129783630371)\n"
     ]
    },
    {
     "name": "stdout",
     "output_type": "stream",
     "text": [
      "\n",
      "Dual simplex solved model.\n",
      "\n",
      "E at the end of interation [13, 1, 3, 4, 5, 6, 7, 9, 10, 11, 2, 8]\n",
      "=================Iteration 30 of Labelling=================\n",
      "\n",
      "E= [13, 1, 3, 4, 5, 6, 7, 9, 10, 11, 2, 8] vi= 13\n",
      "successor of 13 are: [1, 2, 3, 4, 5, 6, 7, 8, 9, 10, 11, 12]\n"
     ]
    },
    {
     "name": "stderr",
     "output_type": "stream",
     "text": [
      "\u001b[36m\u001b[1m[ \u001b[22m\u001b[39m\u001b[36m\u001b[1mInfo: \u001b[22m\u001b[39m(\"Start time = 1.738744549697155e9\", 0.6771390438079834)\n"
     ]
    },
    {
     "name": "stdout",
     "output_type": "stream",
     "text": [
      "E at the end of interation [1, 3, 4, 5, 6, 7, 9, 10, 11, 2, 8, 12]\n",
      "=================Iteration 31 of Labelling=================\n",
      "\n",
      "E= [1, 3, 4, 5, 6, 7, 9, 10, 11, 2, 8, 12] vi= 1\n",
      "successor of 1 are: [2, 8, 12, 13]\n",
      "E at the end of interation [3, 4, 5, 6, 7, 9, 10, 11, 2, 8, 12, 13]\n",
      "=================Iteration 32 of Labelling=================\n",
      "\n",
      "E= [3, 4, 5, 6, 7, 9, 10, 11, 2, 8, 12, 13] vi= 3\n",
      "successor of 3 are: [1, 2, 8, 12, 13]\n"
     ]
    },
    {
     "name": "stderr",
     "output_type": "stream",
     "text": [
      "\u001b[36m\u001b[1m[ \u001b[22m\u001b[39m\u001b[36m\u001b[1mInfo: \u001b[22m\u001b[39m(\"Start time = 1.738744549697155e9\", 0.8971168994903564)\n",
      "\u001b[36m\u001b[1m[ \u001b[22m\u001b[39m\u001b[36m\u001b[1mInfo: \u001b[22m\u001b[39m(\"Start time = 1.738744549697155e9\", 0.968574047088623)\n"
     ]
    },
    {
     "name": "stdout",
     "output_type": "stream",
     "text": [
      "E at the end of interation [4, 5, 6, 7, 9, 10, 11, 2, 8, 12, 13, 1]\n",
      "=================Iteration 33 of Labelling=================\n",
      "\n",
      "E= [4, 5, 6, 7, 9, 10, 11, 2, 8, 12, 13, 1] vi= 4\n",
      "successor of 4 are: [1, 2, 8, 12, 13]\n"
     ]
    },
    {
     "name": "stderr",
     "output_type": "stream",
     "text": [
      "\u001b[36m\u001b[1m[ \u001b[22m\u001b[39m\u001b[36m\u001b[1mInfo: \u001b[22m\u001b[39m(\"Start time = 1.738744549697155e9\", 1.1354889869689941)\n"
     ]
    },
    {
     "name": "stdout",
     "output_type": "stream",
     "text": [
      "E at the end of interation [5, 6, 7, 9, 10, 11, 2, 8, 12, 13, 1]\n",
      "=================Iteration 34 of Labelling=================\n",
      "\n",
      "E= [5, 6, 7, 9, 10, 11, 2, 8, 12, 13, 1] vi= 5\n",
      "successor of 5 are: [1, 2, 8, 12, 13]\n"
     ]
    },
    {
     "name": "stderr",
     "output_type": "stream",
     "text": [
      "\u001b[36m\u001b[1m[ \u001b[22m\u001b[39m\u001b[36m\u001b[1mInfo: \u001b[22m\u001b[39m(\"Start time = 1.738744549697155e9\", 1.3685719966888428)\n"
     ]
    },
    {
     "name": "stdout",
     "output_type": "stream",
     "text": [
      "E at the end of interation [6, 7, 9, 10, 11, 2, 8, 12, 13, 1]\n",
      "=================Iteration 35 of Labelling=================\n",
      "\n",
      "E= [6, 7, 9, 10, 11, 2, 8, 12, 13, 1] vi= 6\n",
      "successor of 6 are: [1, 2, 8, 12, 13]\n"
     ]
    },
    {
     "name": "stderr",
     "output_type": "stream",
     "text": [
      "\u001b[36m\u001b[1m[ \u001b[22m\u001b[39m\u001b[36m\u001b[1mInfo: \u001b[22m\u001b[39m(\"Start time = 1.738744549697155e9\", 1.6804900169372559)\n"
     ]
    },
    {
     "name": "stdout",
     "output_type": "stream",
     "text": [
      "E at the end of interation [7, 9, 10, 11, 2, 8, 12, 13, 1]\n",
      "=================Iteration 36 of Labelling=================\n",
      "\n",
      "E= [7, 9, 10, 11, 2, 8, 12, 13, 1] vi= 7\n",
      "successor of 7 are: [1, 2, 8, 12, 13]\n"
     ]
    },
    {
     "name": "stderr",
     "output_type": "stream",
     "text": [
      "\u001b[36m\u001b[1m[ \u001b[22m\u001b[39m\u001b[36m\u001b[1mInfo: \u001b[22m\u001b[39m(\"Start time = 1.738744549697155e9\", 2.02018404006958)\n"
     ]
    },
    {
     "name": "stdout",
     "output_type": "stream",
     "text": [
      "E at the end of interation [9, 10, 11, 2, 8, 12, 13, 1]\n",
      "=================Iteration 37 of Labelling=================\n",
      "\n",
      "E= [9, 10, 11, 2, 8, 12, 13, 1] vi= 9\n",
      "successor of 9 are: [1, 2, 8, 12, 13]\n"
     ]
    },
    {
     "name": "stderr",
     "output_type": "stream",
     "text": [
      "\u001b[36m\u001b[1m[ \u001b[22m\u001b[39m\u001b[36m\u001b[1mInfo: \u001b[22m\u001b[39m(\"Start time = 1.738744549697155e9\", 2.4106600284576416)\n"
     ]
    },
    {
     "name": "stdout",
     "output_type": "stream",
     "text": [
      "E at the end of interation [10, 11, 2, 8, 12, 13, 1]\n",
      "=================Iteration 38 of Labelling=================\n",
      "\n",
      "E= [10, 11, 2, 8, 12, 13, 1] vi= 10\n",
      "successor of 10 are: [1, 2, 8, 12, 13]\n"
     ]
    },
    {
     "name": "stderr",
     "output_type": "stream",
     "text": [
      "\u001b[36m\u001b[1m[ \u001b[22m\u001b[39m\u001b[36m\u001b[1mInfo: \u001b[22m\u001b[39m(\"Start time = 1.738744549697155e9\", 2.9250059127807617)\n"
     ]
    },
    {
     "name": "stdout",
     "output_type": "stream",
     "text": [
      "E at the end of interation [11, 2, 8, 12, 13, 1]\n",
      "=================Iteration 39 of Labelling=================\n",
      "\n",
      "E= [11, 2, 8, 12, 13, 1] vi= 11\n",
      "successor of 11 are: [1, 2, 8, 12, 13]\n"
     ]
    },
    {
     "name": "stderr",
     "output_type": "stream",
     "text": [
      "\u001b[36m\u001b[1m[ \u001b[22m\u001b[39m\u001b[36m\u001b[1mInfo: \u001b[22m\u001b[39m(\"Start time = 1.738744549697155e9\", 3.4092910289764404)\n"
     ]
    },
    {
     "name": "stdout",
     "output_type": "stream",
     "text": [
      "E at the end of interation [2, 8, 12, 13, 1]\n",
      "=================Iteration 40 of Labelling=================\n",
      "\n",
      "E= [2, 8, 12, 13, 1] vi= 2\n",
      "successor of 2 are: [1, 3, 4, 5, 6, 7, 8, 9, 10, 11, 12, 13]\n"
     ]
    },
    {
     "name": "stderr",
     "output_type": "stream",
     "text": [
      "\u001b[36m\u001b[1m[ \u001b[22m\u001b[39m\u001b[36m\u001b[1mInfo: \u001b[22m\u001b[39m(\"Start time = 1.738744549697155e9\", 4.195817947387695)\n"
     ]
    },
    {
     "name": "stdout",
     "output_type": "stream",
     "text": [
      "E at the end of interation [8, 12, 13, 1, 3, 4, 5, 6, 7, 9, 10, 11]\n",
      "=================Iteration 41 of Labelling=================\n",
      "\n",
      "E= [8, 12, 13, 1, 3, 4, 5, 6, 7, 9, 10, 11] vi= 8\n",
      "successor of 8 are: [1, 2, 3, 4, 5, 6, 7, 9, 10, 11, 12, 13]\n"
     ]
    },
    {
     "name": "stderr",
     "output_type": "stream",
     "text": [
      "\u001b[36m\u001b[1m[ \u001b[22m\u001b[39m\u001b[36m\u001b[1mInfo: \u001b[22m\u001b[39m(\"Start time = 1.738744549697155e9\", 7.939143896102905)\n"
     ]
    },
    {
     "name": "stdout",
     "output_type": "stream",
     "text": [
      "E at the end of interation [12, 13, 1, 3, 4, 5, 6, 7, 9, 10, 11, 2]\n",
      "=================Iteration 42 of Labelling=================\n",
      "\n",
      "E= [12, 13, 1, 3, 4, 5, 6, 7, 9, 10, 11, 2] vi= 12\n",
      "successor of 12 are: [1, 2, 3, 4, 5, 6, 7, 8, 9, 10, 11, 13]\n"
     ]
    },
    {
     "name": "stderr",
     "output_type": "stream",
     "text": [
      "\u001b[36m\u001b[1m[ \u001b[22m\u001b[39m\u001b[36m\u001b[1mInfo: \u001b[22m\u001b[39m(\"Start time = 1.738744549697155e9\", 10.594674110412598)\n"
     ]
    },
    {
     "name": "stdout",
     "output_type": "stream",
     "text": [
      "E at the end of interation [13, 1, 3, 4, 5, 6, 7, 9, 10, 11, 2, 8]\n",
      "=================Iteration 43 of Labelling=================\n",
      "\n",
      "E= [13, 1, 3, 4, 5, 6, 7, 9, 10, 11, 2, 8] vi= 13\n",
      "successor of 13 are: [1, 2, 3, 4, 5, 6, 7, 8, 9, 10, 11, 12]\n"
     ]
    },
    {
     "name": "stderr",
     "output_type": "stream",
     "text": [
      "\u001b[36m\u001b[1m[ \u001b[22m\u001b[39m\u001b[36m\u001b[1mInfo: \u001b[22m\u001b[39m(\"Start time = 1.738744549697155e9\", 16.352230072021484)\n"
     ]
    },
    {
     "name": "stdout",
     "output_type": "stream",
     "text": [
      "E at the end of interation [1, 3, 4, 5, 6, 7, 9, 10, 11, 2, 8, 12]\n",
      "=================Iteration 44 of Labelling=================\n",
      "\n",
      "E= [1, 3, 4, 5, 6, 7, 9, 10, 11, 2, 8, 12] vi= 1\n",
      "successor of 1 are: [2, 8, 12, 13]\n"
     ]
    },
    {
     "name": "stderr",
     "output_type": "stream",
     "text": [
      "\u001b[36m\u001b[1m[ \u001b[22m\u001b[39m\u001b[36m\u001b[1mInfo: \u001b[22m\u001b[39m(\"Start time = 1.738744549697155e9\", 25.263077974319458)\n"
     ]
    },
    {
     "name": "stdout",
     "output_type": "stream",
     "text": [
      "E at the end of interation [3, 4, 5, 6, 7, 9, 10, 11, 2, 8, 12, 13]\n",
      "=================Iteration 45 of Labelling=================\n",
      "\n",
      "E= [3, 4, 5, 6, 7, 9, 10, 11, 2, 8, 12, 13] vi= 3\n",
      "successor of 3 are: [1, 2, 8, 12, 13]\n"
     ]
    },
    {
     "name": "stderr",
     "output_type": "stream",
     "text": [
      "\u001b[36m\u001b[1m[ \u001b[22m\u001b[39m\u001b[36m\u001b[1mInfo: \u001b[22m\u001b[39m(\"Start time = 1.738744549697155e9\", 26.11032509803772)\n"
     ]
    },
    {
     "name": "stdout",
     "output_type": "stream",
     "text": [
      "E at the end of interation [4, 5, 6, 7, 9, 10, 11, 2, 8, 12, 13, 1]\n",
      "=================Iteration 46 of Labelling=================\n",
      "\n",
      "E= [4, 5, 6, 7, 9, 10, 11, 2, 8, 12, 13, 1] vi= 4\n",
      "successor of 4 are: [1, 2, 8, 12, 13]\n"
     ]
    },
    {
     "name": "stderr",
     "output_type": "stream",
     "text": [
      "\u001b[36m\u001b[1m[ \u001b[22m\u001b[39m\u001b[36m\u001b[1mInfo: \u001b[22m\u001b[39m(\"Start time = 1.738744549697155e9\", 36.115394115448)\n"
     ]
    },
    {
     "name": "stdout",
     "output_type": "stream",
     "text": [
      "E at the end of interation [5, 6, 7, 9, 10, 11, 2, 8, 12, 13, 1]\n",
      "=================Iteration 47 of Labelling=================\n",
      "\n",
      "E= [5, 6, 7, 9, 10, 11, 2, 8, 12, 13, 1] vi= 5\n",
      "successor of 5 are: [1, 2, 8, 12, 13]\n"
     ]
    },
    {
     "name": "stderr",
     "output_type": "stream",
     "text": [
      "\u001b[36m\u001b[1m[ \u001b[22m\u001b[39m\u001b[36m\u001b[1mInfo: \u001b[22m\u001b[39m(\"Start time = 1.738744549697155e9\", 53.427648067474365)\n"
     ]
    },
    {
     "name": "stdout",
     "output_type": "stream",
     "text": [
      "E at the end of interation [6, 7, 9, 10, 11, 2, 8, 12, 13, 1]\n",
      "=================Iteration 48 of Labelling=================\n",
      "\n",
      "E= [6, 7, 9, 10, 11, 2, 8, 12, 13, 1] vi= 6\n",
      "successor of 6 are: [1, 2, 8, 12, 13]\n"
     ]
    },
    {
     "name": "stderr",
     "output_type": "stream",
     "text": [
      "\u001b[36m\u001b[1m[ \u001b[22m\u001b[39m\u001b[36m\u001b[1mInfo: \u001b[22m\u001b[39m(\"Start time = 1.738744549697155e9\", 81.60269498825073)\n"
     ]
    },
    {
     "name": "stdout",
     "output_type": "stream",
     "text": [
      "E at the end of interation [7, 9, 10, 11, 2, 8, 12, 13, 1]\n",
      "=================Iteration 49 of Labelling=================\n",
      "Min RC solution= Label(196.95852582620677, -150.04381921733628, [1, 1, 1, 1, 1, 1, 1, 1, 1, 1, 1, 1, 1], [1, 8, 5, 12, 11, 13, 6, 2, 3, 1])\n",
      "\n",
      "======================Iteration 5 at 563.1470990180969s of column generation======================\n",
      "1e route= Route[Route(90.50966799187809, [1, 2, 1], 3, 0), Route(54.589376255824725, [1, 8, 1], 3, 0), Route(111.57060544785082, [1, 12, 1], 3, 0), Route(100.0, [1, 13, 1], 3, 0), Route(171.55251665015805, [1, 8, 7, 2, 11, 12, 9, 13, 5, 1], 10, 0), Route(276.7608674310876, [1, 8, 10, 12, 6, 13, 4, 2, 3, 1], 10, 0), Route(203.1724517807483, [1, 8, 4, 2, 11, 12, 9, 13, 3, 1], 10, 0), Route(196.95852582620677, [1, 8, 5, 12, 11, 13, 6, 2, 3, 1], 10, 0)]\n"
     ]
    },
    {
     "name": "stderr",
     "output_type": "stream",
     "text": [
      "\u001b[36m\u001b[1m[ \u001b[22m\u001b[39m\u001b[36m\u001b[1mInfo: \u001b[22m\u001b[39m(\"Start time = 1.738744549697155e9\", 121.46978306770325)\n",
      "\u001b[36m\u001b[1m[ \u001b[22m\u001b[39m\u001b[36m\u001b[1mInfo: \u001b[22m\u001b[39mNew 1e route [1, 8, 5, 12, 11, 13, 6, 2, 3, 1] \n"
     ]
    },
    {
     "name": "stdout",
     "output_type": "stream",
     "text": [
      "CPLEX Error  3003: Not a mixed-integer problem.\n",
      "Version identifier: 22.1.1.0 | 2022-11-28 | 9160aff4d\n",
      "Parallel mode: deterministic, using up to 10 threads for concurrent optimization:\n",
      " * Starting dual Simplex on 1 thread...\n",
      " * Starting Barrier on 8 threads...\n",
      " * Starting primal Simplex on 1 thread...\n",
      "Tried aggregator 1 time.\n",
      "LP Presolve eliminated 238 rows and 183 columns.\n",
      "Reduced LP has 2816 rows, 2906 columns, and 12479 nonzeros.\n",
      "Presolve time = 0.01 sec. (4.52 ticks)\n",
      "\n",
      "Iteration log . . .\n",
      "Iteration:     1   Dual objective     =             0.000000\n",
      "Iteration:   151   Dual objective     =            88.313708\n",
      "Iteration:   243   Dual objective     =            88.313708\n",
      "Perturbation started.\n",
      "Iteration:   303   Dual objective     =            88.313708\n",
      "Iteration:   375   Dual objective     =            88.313977\n",
      "Iteration:   461   Dual objective     =           244.122865\n",
      "Iteration:   568   Dual objective     =           301.086246\n",
      "Iteration:   642   Dual objective     =           301.086345\n",
      "Iteration:   714   Dual objective     =           301.086496\n",
      "Iteration:   816   Dual objective     =           313.425640\n",
      "Iteration:   916   Dual objective     =           323.366071\n",
      "Iteration:  1024   Dual objective     =           400.236612\n",
      "Iteration:  1149   Dual objective     =           441.947608\n",
      "Iteration:  1243   Dual objective     =           447.720928\n",
      "Removing perturbation.\n",
      "objective value of master problem is: 449.13753952589013\n",
      "Status of 1e route: \n",
      "   x=0.146198830409356741e Route [1, 8, 4, 2, 11, 12, 9, 13, 3, 1]   Load= 0   Cost= 203.17\n",
      "   x=0.0584795321637426941e Route [1, 8, 5, 12, 11, 13, 6, 2, 3, 1]   Load= 0   Cost= 196.96\n",
      "=================Iteration 1 of Labelling=================\n",
      "\n",
      "E= [2, 8, 12, 13] vi= 2\n",
      "successor of 2 are: [1, 3, 4, 5, 6, 7, 8, 9, 10, 11, 12, 13]\n",
      "E at the end of interation [8, 12, 13, 1, 3, 4, 5, 6, 7, 9, 10, 11]\n",
      "=================Iteration 2 of Labelling=================\n",
      "\n",
      "E= [8, 12, 13, 1, 3, 4, 5, 6, 7, 9, 10, 11] vi= 8\n",
      "successor of 8 are: [1, 2, 3, 4, 5, 6, 7, 9, 10, 11, 12, 13]\n",
      "E at the end of interation [12, 13, 1, 3, 4, 5, 6, 7, 9, 10, 11, 2]\n",
      "=================Iteration 3 of Labelling=================\n",
      "\n",
      "E= [12, 13, 1, 3, 4, 5, 6, 7, 9, 10, 11, 2] vi= 12\n",
      "successor of 12 are: [1, 2, 3, 4, 5, 6, 7, 8, 9, 10, 11, 13]\n",
      "E at the end of interation [13, 1, 3, 4, 5, 6, 7, 9, 10, 11, 2, 8]\n",
      "=================Iteration 4 of Labelling=================\n",
      "\n",
      "E= [13, 1, 3, 4, 5, 6, 7, 9, 10, 11, 2, 8] vi= 13\n",
      "successor of 13 are: [1, 2, 3, 4, 5, 6, 7, 8, 9, 10, 11, 12]\n",
      "E at the end of interation [1, 3, 4, 5, 6, 7, 9, 10, 11, 2, 8, 12]\n",
      "=================Iteration 5 of Labelling=================\n",
      "\n",
      "E= [1, 3, 4, 5, 6, 7, 9, 10, 11, 2, 8, 12] vi= 1\n",
      "successor of 1 are: [2, 8, 12, 13]\n",
      "E at the end of interation [3, 4, 5, 6, 7, 9, 10, 11, 2, 8, 12, 13]\n",
      "=================Iteration 6 of Labelling=================\n",
      "\n",
      "E= [3, 4, 5, 6, 7, 9, 10, 11, 2, 8, 12, 13] vi= 3\n",
      "successor of 3 are: [1, 2, 8, 12, 13]\n",
      "E at the end of interation [4, 5, 6, 7, 9, 10, 11, 2, 8, 12, 13, 1]\n",
      "=================Iteration 7 of Labelling=================\n",
      "\n",
      "E= [4, 5, 6, 7, 9, 10, 11, 2, 8, 12, 13, 1] vi= 4\n",
      "successor of 4 are: [1, 2, 8, 12, 13]\n",
      "E at the end of interation [5, 6, 7, 9, 10, 11, 2, 8, 12, 13, 1]\n",
      "=================Iteration 8 of Labelling=================\n",
      "\n",
      "E= [5, 6, 7, 9, 10, 11, 2, 8, 12, 13, 1] vi= 5\n",
      "successor of 5 are: [1, 2, 8, 12, 13]\n",
      "E at the end of interation [6, 7, 9, 10, 11, 2, 8, 12, 13, 1]\n",
      "=================Iteration 9 of Labelling=================\n",
      "\n",
      "E= [6, 7, 9, 10, 11, 2, 8, 12, 13, 1] vi= 6\n",
      "successor of 6 are: [1, 2, 8, 12, 13]\n",
      "E at the end of interation [7, 9, 10, 11, 2, 8, 12, 13, 1]\n",
      "=================Iteration 10 of Labelling=================\n",
      "\n",
      "E= [7, 9, 10, 11, 2, 8, 12, 13, 1] vi= 7\n",
      "successor of 7 are: [1, 2, 8, 12, 13]\n",
      "E at the end of interation [9, 10, 11, 2, 8, 12, 13, 1]\n",
      "=================Iteration 11 of Labelling=================\n",
      "\n",
      "E= [9, 10, 11, 2, 8, 12, 13, 1] vi= 9\n",
      "successor of 9 are: [1, 2, 8, 12, 13]\n",
      "E at the end of interation [10, 11, 2, 8, 12, 13, 1]\n",
      "=================Iteration 12 of Labelling=================\n",
      "\n",
      "E= [10, 11, 2, 8, 12, 13, 1] vi= 10\n",
      "successor of 10 are: [1, 2, 8, 12, 13]\n",
      "E at the end of interation [11, 2, 8, 12, 13, 1]\n",
      "=================Iteration 13 of Labelling=================\n",
      "\n",
      "E= [11, 2, 8, 12, 13, 1] vi= 11\n",
      "successor of 11 are: [1, 2, 8, 12, 13]\n",
      "E at the end of interation [2, 8, 12, 13, 1]\n",
      "=================Iteration 14 of Labelling=================\n",
      "\n",
      "E= [2, 8, 12, 13, 1] vi= 2\n",
      "successor of 2 are: [1, 3, 4, 5, 6, 7, 8, 9, 10, 11, 12, 13]\n",
      "E at the end of interation [8, 12, 13, 1, 3, 4, 5, 6, 7, 9, 10, 11]\n",
      "=================Iteration 15 of Labelling=================\n",
      "\n",
      "E= [8, 12, 13, 1, 3, 4, 5, 6, 7, 9, 10, 11] vi= 8\n",
      "successor of 8 are: [1, 2, 3, 4, 5, 6, 7, 9, 10, 11, 12, 13]\n",
      "E at the end of interation [12, 13, 1, 3, 4, 5, 6, 7, 9, 10, 11, 2]\n",
      "=================Iteration 16 of Labelling=================\n",
      "\n",
      "E= [12, 13, 1, 3, 4, 5, 6, 7, 9, 10, 11, 2] vi= 12\n",
      "successor of 12 are: [1, 2, 3, 4, 5, 6, 7, 8, 9, 10, 11, 13]\n",
      "E at the end of interation [13, 1, 3, 4, 5, 6, 7, 9, 10, 11, 2, 8]\n",
      "=================Iteration 17 of Labelling=================\n",
      "\n",
      "E= [13, 1, 3, 4, 5, 6, 7, 9, 10, 11, 2, 8] vi= 13\n",
      "successor of 13 are: [1, 2, 3, 4, 5, 6, 7, 8, 9, 10, 11, 12]\n",
      "E at the end of interation [1, 3, 4, 5, 6, 7, 9, 10, 11, 2, 8, 12]\n",
      "=================Iteration 18 of Labelling=================\n",
      "\n",
      "E= [1, 3, 4, 5, 6, 7, 9, 10, 11, 2, 8, 12] vi= 1\n",
      "successor of 1 are: [2, 8, 12, 13]\n",
      "E at the end of interation [3, 4, 5, 6, 7, 9, 10, 11, 2, 8, 12, 13]\n",
      "=================Iteration 19 of Labelling=================\n",
      "\n",
      "E= [3, 4, 5, 6, 7, 9, 10, 11, 2, 8, 12, 13] vi= 3\n",
      "successor of 3 are: [1, 2, 8, 12, 13]\n",
      "E at the end of interation [4, 5, 6, 7, 9, 10, 11, 2, 8, 12, 13, 1]\n",
      "=================Iteration 20 of Labelling=================\n",
      "\n",
      "E= [4, 5, 6, 7, 9, 10, 11, 2, 8, 12, 13, 1] vi= 4\n",
      "successor of 4 are: [1, 2, 8, 12, 13]\n",
      "E at the end of interation [5, 6, 7, 9, 10, 11, 2, 8, 12, 13, 1]\n",
      "=================Iteration 21 of Labelling=================\n",
      "\n",
      "E= [5, 6, 7, 9, 10, 11, 2, 8, 12, 13, 1] vi= 5\n",
      "successor of 5 are: [1, 2, 8, 12, 13]\n"
     ]
    },
    {
     "name": "stderr",
     "output_type": "stream",
     "text": [
      "\u001b[36m\u001b[1m[ \u001b[22m\u001b[39m\u001b[36m\u001b[1mInfo: \u001b[22m\u001b[39m(\"Start time = 1.73874467135414e9\", 0.00013589859008789062)\n",
      "\u001b[36m\u001b[1m[ \u001b[22m\u001b[39m\u001b[36m\u001b[1mInfo: \u001b[22m\u001b[39m(\"Start time = 1.73874467135414e9\", 0.0015289783477783203)\n",
      "\u001b[36m\u001b[1m[ \u001b[22m\u001b[39m\u001b[36m\u001b[1mInfo: \u001b[22m\u001b[39m(\"Start time = 1.73874467135414e9\", 0.002034902572631836)\n",
      "\u001b[36m\u001b[1m[ \u001b[22m\u001b[39m\u001b[36m\u001b[1mInfo: \u001b[22m\u001b[39m(\"Start time = 1.73874467135414e9\", 0.0025398731231689453)\n",
      "\u001b[36m\u001b[1m[ \u001b[22m\u001b[39m\u001b[36m\u001b[1mInfo: \u001b[22m\u001b[39m(\"Start time = 1.73874467135414e9\", 0.003465890884399414)\n",
      "\u001b[36m\u001b[1m[ \u001b[22m\u001b[39m\u001b[36m\u001b[1mInfo: \u001b[22m\u001b[39m(\"Start time = 1.73874467135414e9\", 0.003926992416381836)\n",
      "\u001b[36m\u001b[1m[ \u001b[22m\u001b[39m\u001b[36m\u001b[1mInfo: \u001b[22m\u001b[39m(\"Start time = 1.73874467135414e9\", 0.004514932632446289)\n",
      "\u001b[36m\u001b[1m[ \u001b[22m\u001b[39m\u001b[36m\u001b[1mInfo: \u001b[22m\u001b[39m(\"Start time = 1.73874467135414e9\", 0.005045890808105469)\n",
      "\u001b[36m\u001b[1m[ \u001b[22m\u001b[39m\u001b[36m\u001b[1mInfo: \u001b[22m\u001b[39m(\"Start time = 1.73874467135414e9\", 0.0055119991302490234)\n",
      "\u001b[36m\u001b[1m[ \u001b[22m\u001b[39m\u001b[36m\u001b[1mInfo: \u001b[22m\u001b[39m(\"Start time = 1.73874467135414e9\", 0.006175041198730469)\n",
      "\u001b[36m\u001b[1m[ \u001b[22m\u001b[39m\u001b[36m\u001b[1mInfo: \u001b[22m\u001b[39m(\"Start time = 1.73874467135414e9\", 0.006855964660644531)\n",
      "\u001b[36m\u001b[1m[ \u001b[22m\u001b[39m\u001b[36m\u001b[1mInfo: \u001b[22m\u001b[39m(\"Start time = 1.73874467135414e9\", 0.007515907287597656)\n",
      "\u001b[36m\u001b[1m[ \u001b[22m\u001b[39m\u001b[36m\u001b[1mInfo: \u001b[22m\u001b[39m(\"Start time = 1.73874467135414e9\", 0.00902700424194336)\n",
      "\u001b[36m\u001b[1m[ \u001b[22m\u001b[39m\u001b[36m\u001b[1mInfo: \u001b[22m\u001b[39m(\"Start time = 1.73874467135414e9\", 0.009629011154174805)\n",
      "\u001b[36m\u001b[1m[ \u001b[22m\u001b[39m\u001b[36m\u001b[1mInfo: \u001b[22m\u001b[39m(\"Start time = 1.73874467135414e9\", 0.015588045120239258)\n",
      "\u001b[36m\u001b[1m[ \u001b[22m\u001b[39m\u001b[36m\u001b[1mInfo: \u001b[22m\u001b[39m(\"Start time = 1.73874467135414e9\", 0.01975703239440918)\n",
      "\u001b[36m\u001b[1m[ \u001b[22m\u001b[39m\u001b[36m\u001b[1mInfo: \u001b[22m\u001b[39m(\"Start time = 1.73874467135414e9\", 0.030992984771728516)\n",
      "\u001b[36m\u001b[1m[ \u001b[22m\u001b[39m\u001b[36m\u001b[1mInfo: \u001b[22m\u001b[39m(\"Start time = 1.73874467135414e9\", 0.04059290885925293)\n",
      "\u001b[36m\u001b[1m[ \u001b[22m\u001b[39m\u001b[36m\u001b[1mInfo: \u001b[22m\u001b[39m(\"Start time = 1.73874467135414e9\", 0.0504908561706543)\n",
      "\u001b[36m\u001b[1m[ \u001b[22m\u001b[39m\u001b[36m\u001b[1mInfo: \u001b[22m\u001b[39m(\"Start time = 1.73874467135414e9\", 0.057710886001586914)\n",
      "\u001b[36m\u001b[1m[ \u001b[22m\u001b[39m\u001b[36m\u001b[1mInfo: \u001b[22m\u001b[39m(\"Start time = 1.73874467135414e9\", 0.06929206848144531)\n"
     ]
    },
    {
     "name": "stdout",
     "output_type": "stream",
     "text": [
      "E at the end of interation [6, 7, 9, 10, 11, 2, 8, 12, 13, 1]\n",
      "=================Iteration 22 of Labelling=================\n",
      "\n",
      "E= [6, 7, 9, 10, 11, 2, 8, 12, 13, 1] vi= 6\n",
      "successor of 6 are: [1, 2, 8, 12, 13]\n",
      "E at the end of interation [7, 9, 10, 11, 2, 8, 12, 13, 1]\n",
      "=================Iteration 23 of Labelling=================\n",
      "\n",
      "E= [7, 9, 10, 11, 2, 8, 12, 13, 1] vi= 7\n",
      "successor of 7 are: [1, 2, 8, 12, 13]\n",
      "E at the end of interation [9, 10, 11, 2, 8, 12, 13, 1]\n",
      "=================Iteration 24 of Labelling=================\n",
      "\n",
      "E= [9, 10, 11, 2, 8, 12, 13, 1] vi= 9\n",
      "successor of 9 are: [1, 2, 8, 12, 13]\n"
     ]
    },
    {
     "name": "stderr",
     "output_type": "stream",
     "text": [
      "\u001b[36m\u001b[1m[ \u001b[22m\u001b[39m\u001b[36m\u001b[1mInfo: \u001b[22m\u001b[39m(\"Start time = 1.73874467135414e9\", 0.10653495788574219)\n",
      "\u001b[36m\u001b[1m[ \u001b[22m\u001b[39m\u001b[36m\u001b[1mInfo: \u001b[22m\u001b[39m(\"Start time = 1.73874467135414e9\", 0.11309504508972168)\n",
      "\u001b[36m\u001b[1m[ \u001b[22m\u001b[39m\u001b[36m\u001b[1mInfo: \u001b[22m\u001b[39m(\"Start time = 1.73874467135414e9\", 0.12773394584655762)\n"
     ]
    },
    {
     "name": "stdout",
     "output_type": "stream",
     "text": [
      "E at the end of interation [10, 11, 2, 8, 12, 13, 1]\n",
      "=================Iteration 25 of Labelling=================\n",
      "\n",
      "E= [10, 11, 2, 8, 12, 13, 1] vi= 10\n",
      "successor of 10 are: [1, 2, 8, 12, 13]\n",
      "E at the end of interation [11, 2, 8, 12, 13, 1]\n",
      "=================Iteration 26 of Labelling=================\n",
      "\n",
      "E= [11, 2, 8, 12, 13, 1] vi= 11\n",
      "successor of 11 are: [1, 2, 8, 12, 13]\n",
      "E at the end of interation [2, 8, 12, 13, 1]\n",
      "=================Iteration 27 of Labelling=================\n",
      "\n",
      "E= [2, 8, 12, 13, 1] vi= 2\n",
      "successor of 2 are: [1, 3, 4, 5, 6, 7, 8, 9, 10, 11, 12, 13]\n"
     ]
    },
    {
     "name": "stderr",
     "output_type": "stream",
     "text": [
      "\u001b[36m\u001b[1m[ \u001b[22m\u001b[39m\u001b[36m\u001b[1mInfo: \u001b[22m\u001b[39m(\"Start time = 1.73874467135414e9\", 0.28958988189697266)\n",
      "\u001b[36m\u001b[1m[ \u001b[22m\u001b[39m\u001b[36m\u001b[1mInfo: \u001b[22m\u001b[39m(\"Start time = 1.73874467135414e9\", 0.3062570095062256)\n",
      "\u001b[36m\u001b[1m[ \u001b[22m\u001b[39m\u001b[36m\u001b[1mInfo: \u001b[22m\u001b[39m(\"Start time = 1.73874467135414e9\", 0.3186960220336914)\n"
     ]
    },
    {
     "name": "stdout",
     "output_type": "stream",
     "text": [
      "E at the end of interation [8, 12, 13, 1, 3, 4, 5, 6, 7, 9, 10, 11]\n",
      "=================Iteration 28 of Labelling=================\n",
      "\n",
      "E= [8, 12, 13, 1, 3, 4, 5, 6, 7, 9, 10, 11] vi= 8\n",
      "successor of 8 are: [1, 2, 3, 4, 5, 6, 7, 9, 10, 11, 12, 13]\n"
     ]
    },
    {
     "name": "stderr",
     "output_type": "stream",
     "text": [
      "\u001b[36m\u001b[1m[ \u001b[22m\u001b[39m\u001b[36m\u001b[1mInfo: \u001b[22m\u001b[39m(\"Start time = 1.73874467135414e9\", 0.5014078617095947)\n"
     ]
    },
    {
     "name": "stdout",
     "output_type": "stream",
     "text": [
      "E at the end of interation [12, 13, 1, 3, 4, 5, 6, 7, 9, 10, 11, 2]\n",
      "=================Iteration 29 of Labelling=================\n",
      "\n",
      "E= [12, 13, 1, 3, 4, 5, 6, 7, 9, 10, 11, 2] vi= 12\n",
      "successor of 12 are: [1, 2, 3, 4, 5, 6, 7, 8, 9, 10, 11, 13]\n"
     ]
    },
    {
     "name": "stderr",
     "output_type": "stream",
     "text": [
      "\u001b[36m\u001b[1m[ \u001b[22m\u001b[39m\u001b[36m\u001b[1mInfo: \u001b[22m\u001b[39m(\"Start time = 1.73874467135414e9\", 0.7095310688018799)\n"
     ]
    },
    {
     "name": "stdout",
     "output_type": "stream",
     "text": [
      "E at the end of interation [13, 1, 3, 4, 5, 6, 7, 9, 10, 11, 2, 8]\n",
      "=================Iteration 30 of Labelling=================\n",
      "\n",
      "E= [13, 1, 3, 4, 5, 6, 7, 9, 10, 11, 2, 8] vi= 13\n",
      "successor of 13 are: [1, 2, 3, 4, 5, 6, 7, 8, 9, 10, 11, 12]\n"
     ]
    },
    {
     "name": "stderr",
     "output_type": "stream",
     "text": [
      "\u001b[36m\u001b[1m[ \u001b[22m\u001b[39m\u001b[36m\u001b[1mInfo: \u001b[22m\u001b[39m(\"Start time = 1.73874467135414e9\", 1.2108759880065918)\n"
     ]
    },
    {
     "name": "stdout",
     "output_type": "stream",
     "text": [
      "E at the end of interation [1, 3, 4, 5, 6, 7, 9, 10, 11, 2, 8, 12]\n",
      "=================Iteration 31 of Labelling=================\n",
      "\n",
      "E= [1, 3, 4, 5, 6, 7, 9, 10, 11, 2, 8, 12] vi= 1\n",
      "successor of 1 are: [2, 8, 12, 13]\n"
     ]
    },
    {
     "name": "stderr",
     "output_type": "stream",
     "text": [
      "\u001b[36m\u001b[1m[ \u001b[22m\u001b[39m\u001b[36m\u001b[1mInfo: \u001b[22m\u001b[39m(\"Start time = 1.73874467135414e9\", 1.8114008903503418)\n"
     ]
    },
    {
     "name": "stdout",
     "output_type": "stream",
     "text": [
      "\n",
      "Dual simplex solved model.\n",
      "\n",
      "E at the end of interation [3, 4, 5, 6, 7, 9, 10, 11, 2, 8, 12, 13]\n",
      "=================Iteration 32 of Labelling=================\n",
      "\n",
      "E= [3, 4, 5, 6, 7, 9, 10, 11, 2, 8, 12, 13] vi= 3\n",
      "successor of 3 are: [1, 2, 8, 12, 13]\n"
     ]
    },
    {
     "name": "stderr",
     "output_type": "stream",
     "text": [
      "\u001b[36m\u001b[1m[ \u001b[22m\u001b[39m\u001b[36m\u001b[1mInfo: \u001b[22m\u001b[39m(\"Start time = 1.73874467135414e9\", 2.600106954574585)\n"
     ]
    },
    {
     "name": "stdout",
     "output_type": "stream",
     "text": [
      "E at the end of interation [4, 5, 6, 7, 9, 10, 11, 2, 8, 12, 13, 1]\n",
      "=================Iteration 33 of Labelling=================\n",
      "\n",
      "E= [4, 5, 6, 7, 9, 10, 11, 2, 8, 12, 13, 1] vi= 4\n",
      "successor of 4 are: [1, 2, 8, 12, 13]\n"
     ]
    },
    {
     "name": "stderr",
     "output_type": "stream",
     "text": [
      "\u001b[36m\u001b[1m[ \u001b[22m\u001b[39m\u001b[36m\u001b[1mInfo: \u001b[22m\u001b[39m(\"Start time = 1.73874467135414e9\", 2.748784065246582)\n"
     ]
    },
    {
     "name": "stdout",
     "output_type": "stream",
     "text": [
      "E at the end of interation [5, 6, 7, 9, 10, 11, 2, 8, 12, 13, 1]\n",
      "=================Iteration 34 of Labelling=================\n",
      "\n",
      "E= [5, 6, 7, 9, 10, 11, 2, 8, 12, 13, 1] vi= 5\n",
      "successor of 5 are: [1, 2, 8, 12, 13]\n"
     ]
    },
    {
     "name": "stderr",
     "output_type": "stream",
     "text": [
      "\u001b[36m\u001b[1m[ \u001b[22m\u001b[39m\u001b[36m\u001b[1mInfo: \u001b[22m\u001b[39m(\"Start time = 1.73874467135414e9\", 2.931896924972534)\n"
     ]
    },
    {
     "name": "stdout",
     "output_type": "stream",
     "text": [
      "E at the end of interation [6, 7, 9, 10, 11, 2, 8, 12, 13, 1]\n",
      "=================Iteration 35 of Labelling=================\n",
      "\n",
      "E= [6, 7, 9, 10, 11, 2, 8, 12, 13, 1] vi= 6\n",
      "successor of 6 are: [1, 2, 8, 12, 13]\n"
     ]
    },
    {
     "name": "stderr",
     "output_type": "stream",
     "text": [
      "\u001b[36m\u001b[1m[ \u001b[22m\u001b[39m\u001b[36m\u001b[1mInfo: \u001b[22m\u001b[39m(\"Start time = 1.73874467135414e9\", 3.2150988578796387)\n"
     ]
    },
    {
     "name": "stdout",
     "output_type": "stream",
     "text": [
      "E at the end of interation [7, 9, 10, 11, 2, 8, 12, 13, 1]\n",
      "=================Iteration 36 of Labelling=================\n",
      "\n",
      "E= [7, 9, 10, 11, 2, 8, 12, 13, 1] vi= 7\n",
      "successor of 7 are: [1, 2, 8, 12, 13]\n"
     ]
    },
    {
     "name": "stderr",
     "output_type": "stream",
     "text": [
      "\u001b[36m\u001b[1m[ \u001b[22m\u001b[39m\u001b[36m\u001b[1mInfo: \u001b[22m\u001b[39m(\"Start time = 1.73874467135414e9\", 3.550372838973999)\n"
     ]
    },
    {
     "name": "stdout",
     "output_type": "stream",
     "text": [
      "E at the end of interation [9, 10, 11, 2, 8, 12, 13, 1]\n",
      "=================Iteration 37 of Labelling=================\n",
      "\n",
      "E= [9, 10, 11, 2, 8, 12, 13, 1] vi= 9\n",
      "successor of 9 are: [1, 2, 8, 12, 13]\n"
     ]
    },
    {
     "name": "stderr",
     "output_type": "stream",
     "text": [
      "\u001b[36m\u001b[1m[ \u001b[22m\u001b[39m\u001b[36m\u001b[1mInfo: \u001b[22m\u001b[39m(\"Start time = 1.73874467135414e9\", 3.9159789085388184)\n"
     ]
    },
    {
     "name": "stdout",
     "output_type": "stream",
     "text": [
      "E at the end of interation [10, 11, 2, 8, 12, 13, 1]\n",
      "=================Iteration 38 of Labelling=================\n",
      "\n",
      "E= [10, 11, 2, 8, 12, 13, 1] vi= 10\n",
      "successor of 10 are: [1, 2, 8, 12, 13]\n"
     ]
    },
    {
     "name": "stderr",
     "output_type": "stream",
     "text": [
      "\u001b[36m\u001b[1m[ \u001b[22m\u001b[39m\u001b[36m\u001b[1mInfo: \u001b[22m\u001b[39m(\"Start time = 1.73874467135414e9\", 4.768610954284668)\n"
     ]
    },
    {
     "name": "stdout",
     "output_type": "stream",
     "text": [
      "E at the end of interation [11, 2, 8, 12, 13, 1]\n",
      "=================Iteration 39 of Labelling=================\n",
      "\n",
      "E= [11, 2, 8, 12, 13, 1] vi= 11\n",
      "successor of 11 are: [1, 2, 8, 12, 13]\n"
     ]
    },
    {
     "name": "stderr",
     "output_type": "stream",
     "text": [
      "\u001b[36m\u001b[1m[ \u001b[22m\u001b[39m\u001b[36m\u001b[1mInfo: \u001b[22m\u001b[39m(\"Start time = 1.73874467135414e9\", 5.96095085144043)\n"
     ]
    },
    {
     "name": "stdout",
     "output_type": "stream",
     "text": [
      "E at the end of interation [2, 8, 12, 13, 1]\n",
      "=================Iteration 40 of Labelling=================\n",
      "\n",
      "E= [2, 8, 12, 13, 1] vi= 2\n",
      "successor of 2 are: [1, 3, 4, 5, 6, 7, 8, 9, 10, 11, 12, 13]\n"
     ]
    },
    {
     "name": "stderr",
     "output_type": "stream",
     "text": [
      "\u001b[36m\u001b[1m[ \u001b[22m\u001b[39m\u001b[36m\u001b[1mInfo: \u001b[22m\u001b[39m(\"Start time = 1.73874467135414e9\", 6.735508918762207)\n"
     ]
    },
    {
     "name": "stdout",
     "output_type": "stream",
     "text": [
      "E at the end of interation [8, 12, 13, 1, 3, 4, 5, 6, 7, 9, 10, 11]\n",
      "=================Iteration 41 of Labelling=================\n",
      "\n",
      "E= [8, 12, 13, 1, 3, 4, 5, 6, 7, 9, 10, 11] vi= 8\n",
      "successor of 8 are: [1, 2, 3, 4, 5, 6, 7, 9, 10, 11, 12, 13]\n"
     ]
    },
    {
     "name": "stderr",
     "output_type": "stream",
     "text": [
      "\u001b[36m\u001b[1m[ \u001b[22m\u001b[39m\u001b[36m\u001b[1mInfo: \u001b[22m\u001b[39m(\"Start time = 1.73874467135414e9\", 10.097295999526978)\n"
     ]
    },
    {
     "name": "stdout",
     "output_type": "stream",
     "text": [
      "E at the end of interation [12, 13, 1, 3, 4, 5, 6, 7, 9, 10, 11, 2]\n",
      "=================Iteration 42 of Labelling=================\n",
      "\n",
      "E= [12, 13, 1, 3, 4, 5, 6, 7, 9, 10, 11, 2] vi= 12\n",
      "successor of 12 are: [1, 2, 3, 4, 5, 6, 7, 8, 9, 10, 11, 13]\n"
     ]
    },
    {
     "name": "stderr",
     "output_type": "stream",
     "text": [
      "\u001b[36m\u001b[1m[ \u001b[22m\u001b[39m\u001b[36m\u001b[1mInfo: \u001b[22m\u001b[39m(\"Start time = 1.73874467135414e9\", 13.027283906936646)\n"
     ]
    },
    {
     "name": "stdout",
     "output_type": "stream",
     "text": [
      "E at the end of interation [13, 1, 3, 4, 5, 6, 7, 9, 10, 11, 2, 8]\n",
      "=================Iteration 43 of Labelling=================\n",
      "\n",
      "E= [13, 1, 3, 4, 5, 6, 7, 9, 10, 11, 2, 8] vi= 13\n",
      "successor of 13 are: [1, 2, 3, 4, 5, 6, 7, 8, 9, 10, 11, 12]\n"
     ]
    },
    {
     "name": "stderr",
     "output_type": "stream",
     "text": [
      "\u001b[36m\u001b[1m[ \u001b[22m\u001b[39m\u001b[36m\u001b[1mInfo: \u001b[22m\u001b[39m(\"Start time = 1.73874467135414e9\", 17.975471019744873)\n"
     ]
    },
    {
     "name": "stdout",
     "output_type": "stream",
     "text": [
      "E at the end of interation [1, 3, 4, 5, 6, 7, 9, 10, 11, 2, 8, 12]\n",
      "=================Iteration 44 of Labelling=================\n",
      "\n",
      "E= [1, 3, 4, 5, 6, 7, 9, 10, 11, 2, 8, 12] vi= 1\n",
      "successor of 1 are: [2, 8, 12, 13]\n"
     ]
    },
    {
     "name": "stderr",
     "output_type": "stream",
     "text": [
      "\u001b[36m\u001b[1m[ \u001b[22m\u001b[39m\u001b[36m\u001b[1mInfo: \u001b[22m\u001b[39m(\"Start time = 1.73874467135414e9\", 44.68643498420715)\n"
     ]
    },
    {
     "name": "stdout",
     "output_type": "stream",
     "text": [
      "E at the end of interation [3, 4, 5, 6, 7, 9, 10, 11, 2, 8, 12, 13]\n",
      "=================Iteration 45 of Labelling=================\n",
      "\n",
      "E= [3, 4, 5, 6, 7, 9, 10, 11, 2, 8, 12, 13] vi= 3\n",
      "successor of 3 are: [1, 2, 8, 12, 13]\n"
     ]
    },
    {
     "name": "stderr",
     "output_type": "stream",
     "text": [
      "\u001b[36m\u001b[1m[ \u001b[22m\u001b[39m\u001b[36m\u001b[1mInfo: \u001b[22m\u001b[39m(\"Start time = 1.73874467135414e9\", 48.23597192764282)\n"
     ]
    },
    {
     "name": "stdout",
     "output_type": "stream",
     "text": [
      "E at the end of interation [4, 5, 6, 7, 9, 10, 11, 2, 8, 12, 13, 1]\n",
      "=================Iteration 46 of Labelling=================\n",
      "\n",
      "E= [4, 5, 6, 7, 9, 10, 11, 2, 8, 12, 13, 1] vi= 4\n",
      "successor of 4 are: [1, 2, 8, 12, 13]\n"
     ]
    },
    {
     "name": "stderr",
     "output_type": "stream",
     "text": [
      "\u001b[36m\u001b[1m[ \u001b[22m\u001b[39m\u001b[36m\u001b[1mInfo: \u001b[22m\u001b[39m(\"Start time = 1.73874467135414e9\", 78.57741403579712)\n"
     ]
    },
    {
     "name": "stdout",
     "output_type": "stream",
     "text": [
      "E at the end of interation [5, 6, 7, 9, 10, 11, 2, 8, 12, 13, 1]\n",
      "=================Iteration 47 of Labelling=================\n",
      "\n",
      "E= [5, 6, 7, 9, 10, 11, 2, 8, 12, 13, 1] vi= 5\n",
      "successor of 5 are: [1, 2, 8, 12, 13]\n"
     ]
    },
    {
     "name": "stderr",
     "output_type": "stream",
     "text": [
      "\u001b[36m\u001b[1m[ \u001b[22m\u001b[39m\u001b[36m\u001b[1mInfo: \u001b[22m\u001b[39m(\"Start time = 1.73874467135414e9\", 115.18404197692871)\n"
     ]
    },
    {
     "name": "stdout",
     "output_type": "stream",
     "text": [
      "E at the end of interation [6, 7, 9, 10, 11, 2, 8, 12, 13, 1]\n",
      "=================Iteration 48 of Labelling=================\n",
      "Min RC solution= Label(197.78354148091609, -50.398767903556156, [1, 1, 1, 1, 1, 1, 1, 1, 1, 1, 1, 1, 1], [1, 8, 5, 12, 11, 13, 4, 2, 3, 1])\n"
     ]
    },
    {
     "name": "stderr",
     "output_type": "stream",
     "text": [
      "\u001b[36m\u001b[1m[ \u001b[22m\u001b[39m\u001b[36m\u001b[1mInfo: \u001b[22m\u001b[39m(\"Start time = 1.73874467135414e9\", 171.37513089179993)\n",
      "\u001b[36m\u001b[1m[ \u001b[22m\u001b[39m\u001b[36m\u001b[1mInfo: \u001b[22m\u001b[39mNew 1e route [1, 8, 5, 12, 11, 13, 4, 2, 3, 1] \n"
     ]
    },
    {
     "name": "stdout",
     "output_type": "stream",
     "text": [
      "reduced costs: Any[-4261.366667918437, -2595.769268275444, -222.3618596535777, -150.04381921733628, -50.398767903556156]\n",
      "1e routes:\n",
      "Route(90.50966799187809, [1, 2, 1], 3, 0)\n",
      "Route(54.589376255824725, [1, 8, 1], 3, 0)\n",
      "Route(111.57060544785082, [1, 12, 1], 3, 0)\n",
      "Route(100.0, [1, 13, 1], 3, 0)\n",
      "Route(171.55251665015805, [1, 8, 7, 2, 11, 12, 9, 13, 5, 1], 10, 0)\n",
      "Route(276.7608674310876, [1, 8, 10, 12, 6, 13, 4, 2, 3, 1], 10, 0)\n",
      "Route(203.1724517807483, [1, 8, 4, 2, 11, 12, 9, 13, 3, 1], 10, 0)\n",
      "Route(196.95852582620677, [1, 8, 5, 12, 11, 13, 6, 2, 3, 1], 10, 0)\n",
      "Route(197.78354148091609, [1, 8, 5, 12, 11, 13, 4, 2, 3, 1], 10, 0)\n",
      "Version identifier: 22.1.1.0 | 2022-11-28 | 9160aff4d\n",
      "Tried aggregator 2 times.\n",
      "MIP Presolve eliminated 237 rows and 210 columns.\n",
      "MIP Presolve modified 2366 coefficients.\n",
      "Aggregator did 2 substitutions.\n",
      "Reduced MIP has 2815 rows, 2878 columns, and 11506 nonzeros.\n",
      "Reduced MIP has 1491 binaries, 0 generals, 0 SOSs, and 0 indicators.\n",
      "Presolve time = 0.01 sec. (10.05 ticks)\n",
      "Found incumbent of value 5004908.379967 after 0.08 sec. (21.29 ticks)\n",
      "Probing time = 0.07 sec. (4.38 ticks)\n",
      "Cover probing fixed 0 vars, tightened 54 bounds.\n",
      "Tried aggregator 1 time.\n",
      "Detecting symmetries...\n",
      "MIP Presolve eliminated 4 rows and 0 columns.\n",
      "MIP Presolve modified 1288 coefficients.\n",
      "Reduced MIP has 2811 rows, 2878 columns, and 11498 nonzeros.\n",
      "Reduced MIP has 1491 binaries, 0 generals, 0 SOSs, and 0 indicators.\n",
      "Presolve time = 0.00 sec. (6.85 ticks)\n",
      "Probing fixed 0 vars, tightened 46 bounds.\n",
      "Probing time = 0.03 sec. (6.83 ticks)\n",
      "Cover probing fixed 0 vars, tightened 2 bounds.\n",
      "Clique table members: 459.\n",
      "MIP emphasis: balance optimality and feasibility.\n",
      "MIP search method: dynamic search.\n",
      "Parallel mode: deterministic, using up to 10 threads.\n",
      "Root relaxation solution time = 0.30 sec. (74.35 ticks)\n",
      "\n",
      "        Nodes                                         Cuts/\n",
      "   Node  Left     Objective  IInf  Best Integer    Best Bound    ItCnt     Gap\n",
      "\n",
      "*     0+    0                      5004908.3800        0.0000           100.00%\n",
      "*     0+    0                       602484.5396        0.0000           100.00%\n",
      "      0     0      518.5961    77   602484.5396      518.5961     1895   99.91%\n",
      "      0     0      529.5872   112   602484.5396     Cuts: 223     2168   99.91%\n",
      "*     0+    0                         1081.3302      529.5872            51.02%\n",
      "      0     0      535.1515    98     1081.3302     Cuts: 192     2372   50.51%\n",
      "      0     0      538.8871    99     1081.3302     Cuts: 178     2597   50.16%\n",
      "*     0+    0                          775.1690      538.8871            30.48%\n",
      "*     0+    0                          752.5164      538.8871            28.39%\n",
      "      0     0  -1.00000e+75     0      752.5164      538.8871     2597   28.39%\n",
      "      0     0      540.8813    87      752.5164     Cuts: 169     2741   28.12%\n",
      "      0     0      541.4291   100      752.5164      Cuts: 75     2815   28.05%\n",
      "Detecting symmetries...\n",
      "      0     0      541.6960    88      752.5164      Cuts: 86     2915   28.02%\n",
      "      0     0      541.9364   113      752.5164      Cuts: 51     3026   27.98%\n",
      "      0     0      542.3345   108      752.5164      Cuts: 35     3120   27.93%\n",
      "      0     0      542.4495    99      752.5164      Cuts: 33     3167   27.92%\n",
      "      0     0      542.5638   103      752.5164      Cuts: 42     3200   27.90%\n",
      "*     0+    0                          680.6969      542.5638            20.29%\n",
      "      0     0      542.6450   100      680.6969      Cuts: 28     3232   20.28%\n",
      "      0     0      542.9146    98      680.6969      Cuts: 36     3288   20.24%\n",
      "      0     0      542.9872   104      680.6969      Cuts: 17     3314   20.23%\n",
      "      0     0      543.1556   104      680.6969      Cuts: 11     3364   20.21%\n",
      "      0     0      543.3292   106      680.6969      Cuts: 23     3423   20.18%\n",
      "      0     0      543.3896   103      680.6969      Cuts: 17     3444   20.17%\n",
      "      0     0      543.4380    90      680.6969      Cuts: 32     3461   20.16%\n",
      "*     0+    0                          665.5624      543.4380            18.35%\n",
      "*     0+    0                          662.8467      544.2443            17.89%\n",
      "      0     0  -1.00000e+75     0      662.8467      544.2443     3461   17.89%\n",
      "Detecting symmetries...\n",
      "      0     2      543.4380    84      662.8467      544.3343     3461   17.88%\n",
      "Elapsed time = 12.01 sec. (1730.97 ticks, tree = 0.02 MB, solutions = 8)\n",
      "*    10+    2                          661.9896      544.3343            17.77%\n",
      "*    10+    3                          661.7995      544.3343            17.75%\n",
      "*    10+    4                          661.3582      544.3343            17.69%\n",
      "*    48+    7                          660.7583      544.3343            17.62%\n",
      "     53    43      543.8045    76      660.7583      544.3343     6431   17.62%\n",
      "    117   100      548.7432    69      660.7583      544.3343    22857   17.62%\n",
      "    196   157      643.6693    55      660.7583      544.3343    35202   17.62%\n",
      "    284   244      552.7427    66      660.7583      544.3343    55761   17.62%\n",
      "    400   301      655.3863    47      660.7583      544.3343    68413   17.62%\n",
      "    537   343      654.2552    37      660.7583      544.3343    85269   17.62%\n",
      "    742   483        cutoff            660.7583      544.3343   106172   17.62%\n",
      "    948   537      631.0269    98      660.7583      544.3343   115472   17.62%\n",
      "   1137   699        cutoff            660.7583      545.7483   131340   17.41%\n",
      "   1318   818      571.7167   111      660.7583      548.5822   179863   16.98%\n",
      "Elapsed time = 33.55 sec. (4862.30 ticks, tree = 4.45 MB, solutions = 18)\n",
      "   1504   785        cutoff            660.7583      556.6328   248075   15.76%\n",
      "   1730   746      590.3954    54      660.7583      583.6825   322048   11.66%\n",
      "   1955   703        cutoff            660.7583      591.9272   389076   10.42%\n",
      "   2271   579      653.5322    80      660.7583      611.9324   490107    7.39%\n",
      "   2798   709        cutoff            660.7583      632.7644   553392    4.24%\n",
      "   3678   610      655.6004    67      660.7583      652.0908   624841    1.31%\n",
      "   4578  1103      658.9458    26      660.7583      653.8517   670733    1.05%\n",
      "   5388  1407        cutoff            660.7583      654.2778   719185    0.98%\n",
      "\n",
      "Performing restart 1\n",
      "\n",
      "Repeating presolve.\n",
      "Tried aggregator 1 time.\n",
      "MIP Presolve eliminated 6 rows and 64 columns.\n",
      "MIP Presolve modified 1183 coefficients.\n",
      "Reduced MIP has 2805 rows, 2814 columns, and 11354 nonzeros.\n",
      "Reduced MIP has 1431 binaries, 0 generals, 0 SOSs, and 0 indicators.\n",
      "Presolve time = 0.00 sec. (5.04 ticks)\n",
      "Tried aggregator 1 time.\n",
      "MIP Presolve eliminated 32 rows and 45 columns.\n",
      "MIP Presolve modified 657 coefficients.\n",
      "Reduced MIP has 2773 rows, 2769 columns, and 11215 nonzeros.\n",
      "Reduced MIP has 1416 binaries, 0 generals, 0 SOSs, and 0 indicators.\n",
      "Presolve time = 0.00 sec. (5.22 ticks)\n",
      "Tried aggregator 1 time.\n",
      "MIP Presolve eliminated 100 rows and 118 columns.\n",
      "MIP Presolve modified 1059 coefficients.\n",
      "Reduced MIP has 2673 rows, 2651 columns, and 10915 nonzeros.\n",
      "Reduced MIP has 1396 binaries, 0 generals, 0 SOSs, and 0 indicators.\n",
      "Presolve time = 0.00 sec. (5.23 ticks)\n",
      "Tried aggregator 1 time.\n",
      "MIP Presolve eliminated 128 rows and 179 columns.\n",
      "MIP Presolve modified 1201 coefficients.\n",
      "Reduced MIP has 2545 rows, 2472 columns, and 10384 nonzeros.\n",
      "Reduced MIP has 1341 binaries, 0 generals, 0 SOSs, and 0 indicators.\n",
      "Presolve time = 0.00 sec. (5.00 ticks)\n",
      "Tried aggregator 1 time.\n",
      "MIP Presolve eliminated 37 rows and 64 columns.\n",
      "MIP Presolve modified 758 coefficients.\n",
      "Reduced MIP has 2508 rows, 2408 columns, and 10150 nonzeros.\n",
      "Reduced MIP has 1309 binaries, 0 generals, 0 SOSs, and 0 indicators.\n",
      "Presolve time = 0.00 sec. (6.38 ticks)\n",
      "Represolve time = 1.04 sec. (98.28 ticks)\n",
      "   5449     0      569.4548   114      660.7583      Cuts: 67   744925    0.94%\n",
      "   5449     0      569.5879   113      660.7583      Cuts: 31   744980    0.94%\n",
      "   5449     0      569.7947   113      660.7583      Cuts: 28   745006    0.94%\n",
      "   5449     0      570.5311   120      660.7583      Cuts: 27   745082    0.94%\n",
      "   5449     2      572.3374    96      660.7583      654.5668   745082    0.94%\n",
      "objective value of master problem is: 660.7583455432862\n",
      "Status of 1e route: \n",
      "   x=1.01e Route [1, 8, 5, 12, 11, 13, 4, 2, 3, 1]   Load= 0   Cost= 197.78\n",
      "Status of satellite:\n",
      "   z[3]=100.0\n",
      "   z[4]=100.0\n",
      "   z[5]=50.0\n",
      "   z[8]=50.0\n",
      "   z[11]=170.0\n",
      "   z[12]=100.0\n",
      "\n",
      "Selection of 2e arc:\n",
      "\n",
      "   y[3 18]=1.0   y[3 20]=1.0\n",
      "   y[4 15]=1.0   y[4 17]=1.0\n",
      "   y[5 27]=1.0\n",
      "\n",
      "\n",
      "   y[8 28]=1.0\n",
      "\n",
      "\n",
      "   y[11 33]=1.0   y[11 36]=1.0   y[11 38]=1.0   y[11 39]=1.0\n",
      "   y[12 25]=1.0   y[12 26]=1.0\n",
      "\n",
      "   y[14 4]=1.0\n",
      "   y[15 14]=1.0\n",
      "   y[16 4]=1.0\n",
      "   y[17 19]=1.0\n",
      "   y[18 16]=1.0\n",
      "   y[19 22]=1.0\n",
      "   y[20 21]=1.0\n",
      "   y[21 3]=1.0\n",
      "   y[22 3]=1.0\n",
      "   y[23 12]=1.0\n",
      "   y[24 12]=1.0\n",
      "   y[25 24]=1.0\n",
      "   y[26 23]=1.0\n",
      "   y[27 29]=1.0\n",
      "   y[28 30]=1.0\n",
      "   y[29 5]=1.0\n",
      "   y[30 8]=1.0\n",
      "   y[31 11]=1.0\n",
      "   y[32 31]=1.0\n",
      "   y[33 32]=1.0\n",
      "   y[34 35]=1.0\n",
      "   y[35 11]=1.0\n",
      "   y[36 11]=1.0\n",
      "   y[37 40]=1.0\n",
      "   y[38 37]=1.0\n",
      "   y[39 34]=1.0\n",
      "   y[40 11]=1.0\n",
      "Total Execution Time: 849.630711208 seconds\n",
      "\n",
      "GUB cover cuts applied:  1\n",
      "Clique cuts applied:  1\n",
      "Cover cuts applied:  5\n",
      "Implied bound cuts applied:  43\n",
      "Flow cuts applied:  30\n",
      "Mixed integer rounding cuts applied:  23\n",
      "Zero-half cuts applied:  3\n",
      "Lift and project cuts applied:  4\n",
      "Gomory fractional cuts applied:  3\n",
      "\n",
      "Root node processing (before b&c):\n",
      "  Real time             =   10.99 sec. (1712.42 ticks)\n",
      "Parallel b&c, 10 threads:\n",
      "  Real time             =   94.68 sec. (13703.74 ticks)\n",
      "  Sync time (average)   =   34.90 sec.\n",
      "  Wait time (average)   =    0.00 sec.\n",
      "                          ------------\n",
      "Total (root+branch&cut) =  105.66 sec. (15416.16 ticks)\n"
     ]
    }
   ],
   "source": [
    "using JuMP, CPLEX\n",
    "import DataFrames\n",
    "import HiGHS\n",
    "import Plots\n",
    "import SparseArrays\n",
    "using Random\n",
    "import Test  #src\n",
    "include(\"../../../3index/Utiles.jl\")\n",
    "\n",
    "\n",
    "function calculate_arc_cost(points::Vector{Vector{Int}})\n",
    "    num_points = length(points)\n",
    "    arc_cost = Array{Float64}(undef, num_points, num_points)\n",
    "    for i in 1:num_points\n",
    "        for j in 1:num_points\n",
    "            if i == j\n",
    "                arc_cost[i, j] = 100000.0  # Large value for self-loops\n",
    "            elseif i in satellites && PI[i-1]==0 && j in satellites && PI[j-1]==0\n",
    "                arc_cost[i, j] = 100000.0 \n",
    "            else\n",
    "                arc_cost[i, j] = sqrt(sum((points[i][k] - points[j][k])^2 for k in 1:length(points[i])))\n",
    "            end\n",
    "        end\n",
    "    end\n",
    "    for i in satellites\n",
    "        if PI[i-1] == 0\n",
    "            arc_cost[1,i] = 100000.0\n",
    "        end\n",
    "    end\n",
    "    # for i in 1:num_points\n",
    "    #     for j in 1:num_points\n",
    "    #         print(\"  d[$i $j]=\", round(arc_cost[i,j], digits=2))\n",
    "    #     end\n",
    "    #     println(\"\")\n",
    "    # end\n",
    "    return arc_cost\n",
    "end\n",
    "function getInfo()\n",
    "    # x_coor_customers, y_coor_customers, x_coor_depot, y_coor_depot, demands\n",
    "    return  readFile(\"/Users/lenovo1/Library/CloudStorage/OneDrive-EcoledeManagementdeNormandie/2EVRPMM/Data/Demo/C101-30.txt\")\n",
    "end\n",
    "struct Route\n",
    "    cost::Float64\n",
    "    sequence::Vector{Int}\n",
    "    length::Int\n",
    "    load::Int\n",
    " end\n",
    " \n",
    " function generateRoute(route::Vector{Int})\n",
    "    cost = 0\n",
    "    load = 0\n",
    "    for i in 1:(length(route) - 1)\n",
    "        if i!= 1\n",
    "            load += demands[route[i]]\n",
    "        end\n",
    "        from_node = route[i]\n",
    "        to_node = route[i + 1]\n",
    "        cost+= arc_cost[from_node, to_node]\n",
    "    end\n",
    "\n",
    "    # println(\"Route:\",Route(cost,route,length(route),load) )\n",
    "    return Route(cost,route,length(route),load) \n",
    " end\n",
    "\n",
    "# Function to calculate the total demand for a path\n",
    "function calculate_load(path, demands)\n",
    "    load = 0\n",
    "    for node in path[2:end-1]  # Exclude the start and end warehouses\n",
    "        load += demands[node]\n",
    "    end\n",
    "    return load\n",
    "end\n",
    "# Function to generate all paths with multiple customers\n",
    "function generate_paths(warehouses, customers, demands, max_load)\n",
    "    paths = []\n",
    "    # Generate all permutations of customer subsets (excluding empty set)\n",
    "    for num_customers in 1:length(customers)\n",
    "        for customer_subset in combinations(customers, num_customers)\n",
    "            for customer_permutation in permutations(customer_subset)\n",
    "                for start_warehouse in warehouses\n",
    "                    for end_warehouse in warehouses\n",
    "                        path = vcat([start_warehouse], customer_permutation, [end_warehouse])\n",
    "                        # Check if the load of the path exceeds the maximum allowed load\n",
    "                        if calculate_load(path, demands) <= max_load\n",
    "                            push!(paths, path)\n",
    "                        end\n",
    "                    end\n",
    "                end\n",
    "            end\n",
    "        end\n",
    "    end\n",
    "    return paths\n",
    "end\n",
    "function getB1(satellites,routes_1)\n",
    "    # Initialize a 2D array for b[s][r] with zeros\n",
    "    b = zeros(Int, length(satellites))\n",
    "    b = vcat(0 , b)\n",
    "    i = 2\n",
    "    while i<=length(routes_1) \n",
    "        # println(\"add line\")\n",
    "        b = hcat(b,zeros(Int, length(satellites)+1))\n",
    "        i += 1\n",
    "    end\n",
    "    # println(\"satellites= $satellites\")\n",
    "    # println(\"routes_1= $routes_1\")\n",
    "    # Populate the array\n",
    "    for (s_idx, i) in enumerate(satellites)  # Loop over points (row index)\n",
    "        for (r, route) in enumerate(routes_1)  # Loop over routes (column index)\n",
    "            b[s_idx+1, r] = i in route.sequence ? 1 : 0\n",
    "        end\n",
    "    end\n",
    "    return b\n",
    "end\n",
    "function transformRoute(x)\n",
    "    new_route = Vector{Int}()\n",
    "    current_node = 0\n",
    "    if length(x) > (1+length(satellites))^2 \n",
    "        ## Transform a 2e route\n",
    "        # Find the starting satellite\n",
    "        for s in satellites\n",
    "            for j in A2\n",
    "                if round(value(x[s, j])) == 1\n",
    "                    current_node = s\n",
    "                    push!(new_route, s)\n",
    "                    break\n",
    "                end\n",
    "            end\n",
    "            if current_node != 0\n",
    "                break\n",
    "            end\n",
    "        end\n",
    "        while true\n",
    "            for j in A2\n",
    "                if round(value(x[current_node,j])) == 1\n",
    "                    current_node = j\n",
    "                    push!(new_route,current_node)\n",
    "                    break\n",
    "                end\n",
    "            end\n",
    "            if current_node in satellites\n",
    "                break\n",
    "            end\n",
    "        end\n",
    "    else\n",
    "        ## Transform a 1e route\n",
    "        current_node = 1 \n",
    "        push!(new_route, current_node)\n",
    "        while true\n",
    "            for j in A1\n",
    "                if round(value(x[current_node,j])) == 1\n",
    "                    current_node = j\n",
    "                    push!(new_route,current_node)\n",
    "                    break\n",
    "                end\n",
    "            end\n",
    "            if current_node == 1\n",
    "                break\n",
    "            end\n",
    "        end\n",
    "    end\n",
    "    \n",
    "    # generateRoute(new_route)\n",
    "    # println(\"transformRoute TEST\",new_route)\n",
    "    return new_route\n",
    "end\n",
    "function solveRestrictedLinearMasterProblem(branchDecisions::Union{Dict, Nothing} = nothing, branchKey::Union{Vector{Int}, Nothing} = nothing)\n",
    "    branchDecisions = isnothing(branchDecisions) ? Dict() : branchDecisions\n",
    "    branchKey = isnothing(branchKey) ? Int[] : branchKey\n",
    "    b1 = getB1(satellites, routes_1)\n",
    "    ## Relaxed Restricted Master Problem\n",
    "    model = Model(CPLEX.Optimizer)\n",
    "\n",
    "    # set_silent(model)\n",
    "    @variable(model, 1>=x[1:length(routes_1)]>=0) # Selection of 1e route\n",
    "    @variable(model, 1>=y[A2, A2]>=0) # Selection of 2e arc\n",
    "    @variable(model, capacity_microhub >= z[satellites] >=0) # Amount of freight in satellite s\n",
    "    @variable(model, f[A2, A2]>=0) # Freight flow\n",
    "    @variable(model, t[customers]>=0)\n",
    "\n",
    "    if !isempty(branchKey)\n",
    "        while length(branchKey) != 0\n",
    "            # println(\"branchKey=  $branchKey\")\n",
    "            # println(\"branch on y[\",branchDecisions[branchKey][1],\",\",branchDecisions[branchKey][2],\"]\")\n",
    "            # println(\"branch value= \",branchKey[end])\n",
    "            @constraint(model, y[branchDecisions[branchKey][1], branchDecisions[branchKey][2]] == branchKey[end])\n",
    "            branchKey = branchKey[1:end-1]\n",
    "        end       \n",
    "    end\n",
    "    @constraint(model, sync1e[s in satellites], z[s] - M * sum(b1[s,r] * x[r] for r in 1:length(routes_1))<=0)\n",
    "    @constraint(model, freightOfSatellite[s in satellites], z[s]-sum(f[s,j] for j in customers) == 0)\n",
    "    @constraint(model, flowConservation2e[i in A2], sum(y[i,j] for j in A2) == sum(y[j,i] for j in A2))\n",
    "    @constraint(model, flowConservationSatellite[s in satellites], sum(y[s,j] for j in A2) <= capacity_microhub)\n",
    "    @constraint(model, flowConservationCustomer[c in customers], sum(y[c,j] for j in A2) == 1)\n",
    "    @constraint(model, customerDemand[c in customers], sum(f[i,c] for i in A2) - sum(f[c,i] for i in A2) == demands[c])\n",
    "    @constraint(model, capacity2eVehicle[i in A2, j in A2], f[i,j] <= y[i,j] * capacity_2e_vehicle)\n",
    "    @constraint(model, MTZ[i in customers, j in customers], t[i] + arc_cost[i,j] * y[i,j] <= t[j] + MM * (1-y[i,j]))\n",
    "    @constraint(model, distanceInitialization[i in satellites, j in customers], arc_cost[i,j] <= t[j]+MM*(1-y[i,j]))\n",
    "    @constraint(model, distanceEndding[i in customers, j in satellites], t[i] + arc_cost[i,j] <= maximum_duration_2e_vehicle+MM*(1-y[i,j]))\n",
    "    @constraint(model, distanceLimit[i in customers], t[i]<= maximum_duration_2e_vehicle)\n",
    "\n",
    "    @objective(model, Min, \n",
    "        sum(x[r] * routes_1[r].cost for r in 1:length(routes_1))+sum(y[i,j] * arc_cost[i,j] for i in A2 for j in A2))\n",
    "    \n",
    "    optimize!(model)\n",
    "    π1 = vcat(0, abs.(collect(dual.(sync1e))))\n",
    "    # @assert is_solved_and_feasible(model; dual=true)\n",
    "    println(\"objective value of master problem is: \",value(objective_value(model)))\n",
    "    \n",
    "    println(\"Status of 1e route: \")\n",
    "    # for r in 1:length(routes_1)\n",
    "    #     println(\"   x[$r]=\",value(x[r]))\n",
    "    # end\n",
    "    for r in 1:length(routes_1)\n",
    "        if value(x[r]) != 0\n",
    "            println(\"   x=\", value(x[r]), \"1e Route \", routes_1[r].sequence, \"   Load= \", routes_1[r].load ,  \"   Cost= \", round(routes_1[r].cost,digits=2))\n",
    "        end \n",
    "    end\n",
    "    # println(\"Status of satellite:\")\n",
    "    # for s in satellites\n",
    "    #     if value(z[s])!=0\n",
    "    #         println(\"   z[$s]=\", value(z[s]))\n",
    "    #     end\n",
    "    # end\n",
    "    # println(\"\")\n",
    "    # println(\"Selection of 2e arc:\")\n",
    "    # for i in A2\n",
    "    #     for j in A2\n",
    "    #         # if value(y[i,j])!=0\n",
    "    #             print(\"   y[$i $j]=\",round(value(y[i,j]), digits = 3))\n",
    "    #         # end\n",
    "    #     end\n",
    "    #     print(\"\\n\")\n",
    "    # end\n",
    "    # println(\"\")\n",
    "    # println(\"Freight flow:\")\n",
    "    # for i in A2\n",
    "    #     for j in A2\n",
    "    #         if value(f[i,j])!=0\n",
    "    #             println(\"   f[$i $j]=\",value(f[i,j]))\n",
    "    #         end\n",
    "    #     end\n",
    "    # end\n",
    "    # println(\"\")\n",
    "    # println(\"Accumulate distance:\")\n",
    "    # for i in customers\n",
    "    #     if value(t[i])!=0\n",
    "    #         println(\"   t[$i]=\",value(t[i]))\n",
    "    #     end\n",
    "    # end\n",
    "    return π1, value.(y)\n",
    "end\n",
    "function solveRestrictedIntegerMasterProblem(branchDecisions::Union{Dict, Nothing} = nothing, branchKey::Union{Vector{Int}, Nothing} = nothing)\n",
    "    branchDecisions = isnothing(branchDecisions) ? Dict() : branchDecisions\n",
    "    branchKey = isnothing(branchKey) ? Int[] : branchKey\n",
    "    b1 = getB1(satellites, routes_1)\n",
    "    ## Relaxed Restricted Master Problem\n",
    "    model = Model(CPLEX.Optimizer)\n",
    "\n",
    "    # set_silent(model)\n",
    "    @variable(model, 1>=x[1:length(routes_1)]>=0, Int) # Selection of 1e route\n",
    "    @variable(model, 1>=y[A2, A2]>=0, Int) # Selection of 2e arc\n",
    "    @variable(model, capacity_microhub >= z[satellites] >=0) # Amount of freight in satellite s\n",
    "    @variable(model, f[A2, A2]>=0) # Freight flow\n",
    "    @variable(model, t[customers]>=0)\n",
    "\n",
    "    if !isempty(branchKey)\n",
    "        while length(branchKey) != 0\n",
    "            # println(\"branchKey=  $branchKey\")\n",
    "            # println(\"branch on y[\",branchDecisions[branchKey][1],\",\",branchDecisions[branchKey][2],\"]\")\n",
    "            # println(\"branch value= \",branchKey[end])\n",
    "            @constraint(model, y[branchDecisions[branchKey][1], branchDecisions[branchKey][2]] == branchKey[end])\n",
    "            branchKey = branchKey[1:end-1]\n",
    "        end       \n",
    "    end\n",
    "    @constraint(model, sync1e[s in satellites], z[s] - M * sum(b1[s,r] * x[r] for r in 1:length(routes_1))<=0)\n",
    "    @constraint(model, freightOfSatellite[s in satellites], z[s]-sum(f[s,j] for j in customers) == 0)\n",
    "    @constraint(model, flowConservation2e[i in A2], sum(y[i,j] for j in A2) == sum(y[j,i] for j in A2))\n",
    "    @constraint(model, flowConservationSatellite[s in satellites], sum(y[s,j] for j in A2) <= capacity_microhub)\n",
    "    @constraint(model, flowConservationCustomer[c in customers], sum(y[c,j] for j in A2) == 1)\n",
    "    @constraint(model, customerDemand[c in customers], sum(f[i,c] for i in A2) - sum(f[c,i] for i in A2) == demands[c])\n",
    "    @constraint(model, capacity2eVehicle[i in A2, j in A2], f[i,j] <= y[i,j] * capacity_2e_vehicle)\n",
    "    @constraint(model, MTZ[i in customers, j in customers], t[i] + arc_cost[i,j] * y[i,j] <= t[j] + MM * (1-y[i,j]))\n",
    "    @constraint(model, distanceInitialization[i in satellites, j in customers], arc_cost[i,j] <= t[j]+MM*(1-y[i,j]))\n",
    "    @constraint(model, distanceEndding[i in customers, j in satellites], t[i] + arc_cost[i,j] <= maximum_duration_2e_vehicle+MM*(1-y[i,j]))\n",
    "    @constraint(model, distanceLimit[i in customers], t[i]<= maximum_duration_2e_vehicle)\n",
    "\n",
    "    @objective(model, Min, \n",
    "        sum(x[r] * routes_1[r].cost for r in 1:length(routes_1))+sum(y[i,j] * arc_cost[i,j] for i in A2 for j in A2))\n",
    "    \n",
    "    optimize!(model)\n",
    "    println(\"objective value of master problem is: \",value(objective_value(model)))\n",
    "    \n",
    "    println(\"Status of 1e route: \")\n",
    "    # for r in 1:length(routes_1)\n",
    "    #     println(\"   x[$r]=\",value(x[r]))\n",
    "    # end\n",
    "    for r in 1:length(routes_1)\n",
    "        if value(x[r]) != 0\n",
    "            println(\"   x=\", value(x[r]), \"1e Route \", routes_1[r].sequence, \"   Load= \", routes_1[r].load ,  \"   Cost= \", round(routes_1[r].cost,digits=2))\n",
    "        end \n",
    "    end\n",
    "    println(\"Status of satellite:\")\n",
    "    for s in satellites\n",
    "        if value(z[s])!=0\n",
    "            println(\"   z[$s]=\", value(z[s]))\n",
    "        end\n",
    "    end\n",
    "    println(\"\")\n",
    "    println(\"Selection of 2e arc:\")\n",
    "    for i in A2\n",
    "        for j in A2\n",
    "            if value(y[i,j])!=0\n",
    "                print(\"   y[$i $j]=\",round(value(y[i,j]), digits = 3))\n",
    "            end\n",
    "        end\n",
    "        print(\"\\n\")\n",
    "    end\n",
    "    # println(\"\")\n",
    "    # println(\"Freight flow:\")\n",
    "    # for i in A2\n",
    "    #     for j in A2\n",
    "    #         if value(f[i,j])!=0\n",
    "    #             println(\"   f[$i $j]=\",value(f[i,j]))\n",
    "    #         end\n",
    "    #     end\n",
    "    # end\n",
    "    # println(\"\")\n",
    "    # println(\"Accumulate distance:\")\n",
    "    # for i in customers\n",
    "    #     if value(t[i])!=0\n",
    "    #         println(\"   t[$i]=\",value(t[i]))\n",
    "    #     end\n",
    "    # end\n",
    "end\n",
    "function solve_subproblem_milp(π)\n",
    "    println(\"π1= \",π)\n",
    "    ## Construct model\n",
    "    model = Model(CPLEX.Optimizer)\n",
    "\n",
    "    set_silent(model)\n",
    "    @variable(model, 1 >= x1[A1,A1] >= 0,Int)\n",
    "    @variable(model, length(A1)>=u[A1]>=0, Int)\n",
    "\n",
    "    # @constraint(model, satelliteOblg, sum(x1[i,j] for i in A1 for j in subSatellites)>=1)\n",
    "    @constraint(model, depart, sum(x1[1,i] for i in satellites) ==1)\n",
    "    @constraint(model, ending, sum(x1[i,1] for i in satellites) ==1)\n",
    "    @constraint(model, flow[i in A1], sum(x1[j,i] for j in A1)\n",
    "                                        ==sum(x1[i,j] for j in A1))\n",
    "    @constraint(model, subtourElm[i in satellites, j in satellites], \n",
    "                u[i] + 1 <= u[j] + MM *(1-x1[i,j]))\n",
    "\n",
    "\n",
    "    @objective(model, Min, \n",
    "        sum(arc_cost[i,j] * x1[i,j] for i in A1 for j in A1) - \n",
    "        M * sum(π[s] * x1[s,j] for j in A1 for s in satellites))\n",
    "    \n",
    "    set_optimizer_attribute(model, \"CPX_PARAM_TILIM\", 120)\n",
    "    optimize!(model)\n",
    "\n",
    "    println(\"Subprobem 1e: Reduced cost= \", objective_value(model))\n",
    "    # for i in 1:length(A1)\n",
    "    #     for j in 1:length(A1)\n",
    "    #         if round(value(x1[i,j]))==1\n",
    "    #             println(\"   x1[$i,$j]=\",round(value(x1[i,j]),digits=2))\n",
    "    #         end\n",
    "    #     end\n",
    "    # end\n",
    "    # println(\"\")\n",
    "    # for i in A1\n",
    "    #     println(\"   u[$i]= \",value(u[i]))\n",
    "    # end\n",
    "    new_route = nothing\n",
    "    if objective_value(model) < -1e-8\n",
    "        # Reduced cost negative, new column generated and added to master problem\n",
    "        # println(\"test  : $num_iter\")\n",
    "        new_route = transformRoute(x1) \n",
    "    end\n",
    "    return new_route, objective_value(model)\n",
    "end\n",
    "function solve_subproblem_labelling(π)\n",
    "    labels = Dict{Int , Vector{Label}}()\n",
    "    E = Vector{Int}()\n",
    "    for s in satellites\n",
    "        if PI[s-1] == 1\n",
    "            duration = arc_cost[1,s]\n",
    "            reduced_cost = arc_cost[1,s] - π[s] * M\n",
    "            unreachables = zeros(length(A1))\n",
    "            unreachables[s] = 1\n",
    "            sequence = Vector{Int}()\n",
    "            push!(sequence, 1, s)\n",
    "            l = Label(duration, reduced_cost, unreachables,sequence)\n",
    "            push!(get!(labels, s, Vector{Label}()), l)\n",
    "            push!(E, s)\n",
    "        end\n",
    "    end\n",
    "    # for (idx, l) in labels\n",
    "    #     println(\"$idx => $l\")\n",
    "    # end\n",
    "    \n",
    "    num_iter = 1\n",
    "    start_time = time()\n",
    "    while length(E) != 0 #&& num_iter < 15\n",
    "        println(\"=================Iteration $num_iter of Labelling=================\")\n",
    "        @info \"Start time = $start_time\", time()-start_time\n",
    "        if time()-start_time > 120\n",
    "            break\n",
    "        end\n",
    "        vi = E[1]\n",
    "        println(\"\\nE= $E vi= $vi\")\n",
    "        succ = Vector{Int}()\n",
    "        for j in A1\n",
    "            if arc_cost[vi,j] <= 10000\n",
    "                push!(succ, j)\n",
    "            end\n",
    "        end\n",
    "        println(\"successor of $vi are: $succ\")\n",
    "        for vj in succ\n",
    "            for label in labels[vi]\n",
    "                if label.unreachables[vj] == 0\n",
    "                    new_label = extend(label, vi, vj,π)\n",
    "                    found = false\n",
    "                    if haskey(labels, vj)\n",
    "                        for l in labels[vj] \n",
    "                            # println(new_label.sequence , l.sequence, new_label.sequence == l.sequence)\n",
    "                            if new_label.sequence == l.sequence\n",
    "                                found = true\n",
    "                                break\n",
    "                            end\n",
    "                        end\n",
    "                    end\n",
    "                    if !found\n",
    "                        push!(get!(labels, vj, Vector{Label}()), new_label)\n",
    "                        push!(E, vj) \n",
    "                    end\n",
    "                   \n",
    "                end\n",
    "            end\n",
    "        end\n",
    "        setdiff!(E, vi)\n",
    "        println(\"E at the end of interation $E\")\n",
    "        \n",
    "        # for (idx, l) in labels\n",
    "        #     println(\"$idx =>\")\n",
    "        #     for ele in l\n",
    "        #         println(ele)\n",
    "        #     end\n",
    "        # end\n",
    "        num_iter += 1\n",
    "    end\n",
    "\n",
    "    min_solution = labels[1][1]\n",
    "    for l in labels[1]\n",
    "        if l.reduced_cost<min_solution.reduced_cost\n",
    "            min_solution = l\n",
    "        end\n",
    "    end\n",
    "\n",
    "    println(\"Min RC solution= $min_solution\")\n",
    "    new_route = nothing\n",
    "    if min_solution.reduced_cost < -1e-8\n",
    "        # Reduced cost negative, new column generated and added to master problem\n",
    "        new_route = min_solution.sequence\n",
    "    end\n",
    "    return new_route, min_solution.reduced_cost\n",
    "end\n",
    "function solve_column_generation_milp(rc1, routes_1,branchDecisions::Union{Dict, Nothing} = nothing, branchKey::Union{Vector{Int}, Nothing} = nothing)\n",
    "    branchDecisions = isnothing(branchDecisions) ? Dict() : branchDecisions\n",
    "    branchKey = isnothing(branchKey) ? Int[] : branchKey\n",
    "\n",
    "    status = false\n",
    "    num_iter = 1\n",
    "    y = nothing\n",
    "    if branchKey != nothing\n",
    "        printText = branchKey\n",
    "    else\n",
    "        printText = \"\"\n",
    "    end\n",
    "    start_time = time()\n",
    "    while !(status) && time()-start_time <60*15\n",
    "        println(\"\\n======================Iteration $num_iter $printText======================\")\n",
    "        println(\"1e route= $routes_1\")\n",
    "        global b1\n",
    "        b1 = getB1(satellites, routes_1)\n",
    "        π1, y = solveRestrictedLinearMasterProblem(branchDecisions, branchKey)\n",
    "        \n",
    "        new_route = nothing\n",
    "        new_route,rc_v= solve_subproblem_milp(π1)\n",
    "        if !(isempty(rc1)) && rc_v == rc1[end]\n",
    "            @info \"Reduced cost converged, terminating column generation for 1st echelon\"\n",
    "            status = true\n",
    "        end\n",
    "        push!(rc1,rc_v)\n",
    "        if new_route == nothing\n",
    "            @info \"No new 1e routes generated\"\n",
    "            status = true\n",
    "        else\n",
    "            @info \"New 1e route $new_route \"\n",
    "            push!(routes_1, generateRoute(new_route))\n",
    "        end\n",
    "        num_iter += 1\n",
    "    end\n",
    "    return rc1, routes_1, y\n",
    "end\n",
    "function solve_column_generation_labelling(rc1, routes_1)\n",
    "    # branchDecisions = isnothing(branchDecisions) ? Dict() : branchDecisions\n",
    "    # branchKey = isnothing(branchKey) ? Int[] : branchKey\n",
    "\n",
    "    status = false\n",
    "    num_iter = 1\n",
    "    y = nothing\n",
    "    # if branchKey != nothing\n",
    "    #     printText = branchKey\n",
    "    # else\n",
    "    #     printText = \"\"\n",
    "    # end\n",
    "    start_time = time()\n",
    "    while !(status) && time()-start_time <600#&& num_iter<2\n",
    "        println(\"\\n======================Iteration $num_iter at \",time()-start_time ,\"s of column generation======================\")\n",
    "        println(\"1e route= $routes_1\")\n",
    "        global b1\n",
    "        b1 = getB1(satellites, routes_1)\n",
    "        π1, y = solveRestrictedLinearMasterProblem()\n",
    "        \n",
    "        new_route = nothing\n",
    "        new_route,rc_v= solve_subproblem_labelling(π1)\n",
    "\n",
    "        if !(isempty(rc1)) && rc_v == rc1[end]\n",
    "            @info \"Reduced cost converged, terminating column generation for 1st echelon\"\n",
    "            status = true\n",
    "        end\n",
    "        push!(rc1,rc_v)\n",
    "        if new_route == nothing\n",
    "            @info \"No new 1e routes generated\"\n",
    "            status = true\n",
    "        else\n",
    "            @info \"New 1e route $new_route \"\n",
    "            push!(routes_1, generateRoute(new_route))\n",
    "        end\n",
    "        num_iter += 1\n",
    "    end\n",
    "\n",
    "    return rc1, routes_1, y\n",
    "end\n",
    "function getBranchingNode(y)\n",
    "    fractional_y = [(i,j) for i in A2, j in A2 if 0<y[i,j]<1]\n",
    "    if isempty(fractional_y)\n",
    "        println(\"Optimal Integer Solution Found\")\n",
    "        return nothing, nothing\n",
    "    else\n",
    "        (i_branch, j_branch) = fractional_y[1]\n",
    "    end\n",
    "\n",
    "    println(\"Branching on y[$i_branch, $j_branch]\")\n",
    "    return i_branch, j_branch\n",
    "end\n",
    "struct Label\n",
    "    duration::Float64\n",
    "    reduced_cost::Float64\n",
    "    unreachables::Vector{Int}\n",
    "    sequence::Vector{Int}\n",
    "end\n",
    "function extend(label::Label, vi::Int, vj::Int, π)\n",
    "    duration = label.duration + arc_cost[vi,vj]\n",
    "    reduced_cost = label.reduced_cost + arc_cost[vi,vj]\n",
    "    # println(\"TESTTEST π=$π\")\n",
    "    sequence = copy(label.sequence)\n",
    "    push!(sequence, vj)\n",
    "    if vj != 1\n",
    "        reduced_cost -=  M * π[vj] \n",
    "    end\n",
    "    unreachables = zeros(nb_s+1)\n",
    "    for i in sequence\n",
    "        if vj == 1\n",
    "            unreachables[i] = 1\n",
    "        else\n",
    "            if i != 1\n",
    "                unreachables[i] = 1\n",
    "            end\n",
    "        end\n",
    "    end\n",
    "    for k in A1\n",
    "        if duration + arc_cost[vj,k] >= maximum_duration_1e_vehicle && k!=1\n",
    "            # @info \"Can't propagate from $vj to $k due to duration limit\"\n",
    "            unreachables[k] = 1\n",
    "        elseif duration + arc_cost[vj,k] > maximum_duration_1e_vehicle && k==1\n",
    "            # @info \"Can't propagate from $vj to $k due to duration limit\"\n",
    "            unreachables[k] = 1\n",
    "        end\n",
    "    end\n",
    "    l = Label(duration, reduced_cost,unreachables,sequence)\n",
    "    return l\n",
    "end\n",
    "\n",
    "nb_s = 12\n",
    "nb_m = 4\n",
    "\n",
    "x_coor_customers, y_coor_customers, x_coor_depot, y_coor_depot, demands = getInfo()\n",
    "demands = vcat(zeros(nb_s+1),demands)\n",
    "\n",
    "PI = vcat(ones(Int, nb_m),zeros(Int, nb_s-nb_m))\n",
    "Random.seed!(42)\n",
    "shuffle!(PI)\n",
    "x_coor_parkings = []\n",
    "y_coor_parkings = []\n",
    "min_x,min_y = minimum(x_coor_customers),minimum(y_coor_customers)\n",
    "max_x,max_y = maximum(x_coor_customers),maximum(y_coor_customers)\n",
    "for i in 1:nb_s\n",
    "    push!(x_coor_parkings, rand(min_x: max_x))\n",
    "    push!(y_coor_parkings, rand(min_y: max_y))\n",
    "end\n",
    "coor_parkings = [[x,y] for (x,y) in zip(x_coor_parkings , y_coor_parkings)]\n",
    "coor_customers = [[x,y] for (x,y) in zip(x_coor_customers, y_coor_customers)]\n",
    "coor = vcat([[0,0]], coor_parkings, coor_customers)\n",
    "nb_vehicle_per_satellite = 10\n",
    "capacity_2e_vehicle = 50\n",
    "capacity_microhub = 200\n",
    "maximum_duration_2e_vehicle = 300\n",
    "maximum_duration_1e_vehicle = 1000\n",
    "points = 1:length(demands)\n",
    "\n",
    "# Define the range of customers\n",
    "customers = 2+nb_s : length(coor)\n",
    "satellites = 2:1 + nb_s\n",
    "arc_cost = calculate_arc_cost(coor)\n",
    "A2 = 2:length(coor)\n",
    "A1 = 1:1+length(satellites)\n",
    "M = sum(demands)# capacity of a satellite\n",
    "MM = 100\n",
    "\n",
    "rs_1 = Vector{Vector{Int}}()\n",
    "for idx in 1:length(PI)\n",
    "    r = Vector{Int}()\n",
    "    if PI[idx] == 1\n",
    "        push!(r,1)\n",
    "        push!(r, idx+1)\n",
    "        push!(r,1)\n",
    "        push!(rs_1, r)\n",
    "    end\n",
    "\n",
    "end\n",
    "# rs_1 =  [[1,2,1],[1,5,1]]\n",
    "routes_1 = Vector{Route}()\n",
    "for r in rs_1\n",
    "    push!(routes_1, generateRoute(r))\n",
    "end\n",
    "rc1 = []\n",
    "branchingDecisions = Dict{Vector{Int}, Vector{Int}}()\n",
    "\n",
    "\n",
    "# while true\n",
    "#     1. solve restricted linear master problem\n",
    "#     2. solve pricing subproblem till reduced cost non negative(column generation)\n",
    "#     3. if solution integral break\n",
    "#       else \n",
    "#     4. branch on y, Integerity force\n",
    "#     5. back to 1. with generated route and branch constriant\n",
    "# end\n",
    "\n",
    "# global b1\n",
    "# b1 = getB1(satellites, routes_1)\n",
    "# π,_ = solveRestrictedLinearMasterProblem()\n",
    "# solve_subproblem_labelling(π)\n",
    "\n",
    "t1 = @elapsed begin\n",
    "    global rc1, routes_1\n",
    "    # rc1, routes_1, y = solve_column_generation_milp(rc1, routes_1)\n",
    "    rc1, routes_1, y = solve_column_generation_labelling(rc1, routes_1)\n",
    "    # println(\"\")\n",
    "    println(\"reduced costs: $rc1\")\n",
    "    println(\"1e routes:\")\n",
    "    for r in routes_1\n",
    "        println(r)\n",
    "    end\n",
    "    solveRestrictedIntegerMasterProblem()\n",
    "end\n",
    "\n",
    "println(\"Total Execution Time: \", t1, \" seconds\")\n",
    "\n",
    "\n",
    "# (i_branch, j_branch) = getBranchingNode(y)\n",
    "\n",
    "\n",
    "# println(branchingDecisions)\n",
    "# if isempty(branchingDecisions)\n",
    "#     branchingDecisions[[0]] = [i_branch, j_branch]\n",
    "#     branchingDecisions[[1]] = [i_branch, j_branch]\n",
    "# else\n",
    "#     for (k,v) in branchingDecisions\n",
    "#         println(\"$k => $v\")\n",
    "#         new_key = push(k,0)\n",
    "#         branchingDecisions[new_key] = [i_branch, j_branch]\n",
    "#         new_key = push(k,1)\n",
    "#         branchingDecisions[new_key] = [i_branch, j_branch]\n",
    "#     end\n",
    "# end\n",
    "# for (k,v) in branchingDecisions\n",
    "#     println(\"$k => $v\")\n",
    "# end\n",
    "\n",
    "# global num_level = 1\n",
    "# global status = true\n",
    "# while status && num_level<16\n",
    "#     println(\"\\n#==================================================================================================#\\n\")\n",
    "#     global new_branchs = Dict{Vector{Int}, Vector{Int}}()\n",
    "#     for (k,v) in branchingDecisions\n",
    "#         if length(k) == num_level\n",
    "#             println(\"Work on key= $k\")\n",
    "#             global rc1, routes_1\n",
    "#             rc1, routes_1, y = solve_column_generation(rc1, routes_1,branchingDecisions,k)\n",
    "\n",
    "#             (i_branch, j_branch) = getBranchingNode(y)\n",
    "#             if isnothing(i_branch)\n",
    "#                 global status = false\n",
    "#                 break\n",
    "#             end\n",
    "\n",
    "#             new_value = [i_branch, j_branch]\n",
    "#             new_key_left = push!(copy(k),0)\n",
    "#             new_key_right = push!(copy(k),1)\n",
    "\n",
    "#             new_branchs[new_key_left]= new_value\n",
    "#             new_branchs[new_key_right]= new_value\n",
    "#         end\n",
    "\n",
    "#     end\n",
    "\n",
    "#     for (k,v) in new_branchs\n",
    "#         # println(\"$k => $v\")\n",
    "#         branchingDecisions[k] = v\n",
    "#     end\n",
    "#     println(\"\")\n",
    "#     # for (k,v) in branchingDecisions\n",
    "#     #     println(\"$k => $v\")\n",
    "#     # end\n",
    "#     global num_level\n",
    "#     num_level += 1\n",
    "# end\n",
    "\n",
    "# # println(\"\\nReduced cost= \\n$rc1\")\n",
    "# println(\"\\n1e Routes= \")\n",
    "# for r in routes_1\n",
    "#     println(r)\n",
    "# end"
   ]
  },
  {
   "cell_type": "code",
   "execution_count": null,
   "id": "12eebd7d-2362-49e5-b612-31b227c9d062",
   "metadata": {},
   "outputs": [],
   "source": []
  }
 ],
 "metadata": {
  "kernelspec": {
   "display_name": "Julia 1.10.4",
   "language": "julia",
   "name": "julia-1.10"
  },
  "language_info": {
   "file_extension": ".jl",
   "mimetype": "application/julia",
   "name": "julia",
   "version": "1.10.4"
  }
 },
 "nbformat": 4,
 "nbformat_minor": 5
}
