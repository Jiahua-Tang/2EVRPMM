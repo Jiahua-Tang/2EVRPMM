{
 "cells": [
  {
   "cell_type": "code",
   "execution_count": 3,
   "id": "2729c4c3-f773-46d8-83f2-5625830a0a01",
   "metadata": {},
   "outputs": [],
   "source": [
    "from collections import defaultdict\n",
    "from numpy import *\n",
    "# from gurobipy import *\n",
    "from itertools import chain, combinations\n",
    "import time\n",
    "import numpy as np\n",
    "import networkx"
   ]
  },
  {
   "cell_type": "code",
   "execution_count": 5,
   "id": "be7575aa-e5b0-4cca-9f77-d1bcd983fd23",
   "metadata": {},
   "outputs": [],
   "source": [
    "distance = np.array([\n",
    "    [0, 548, 776, 696, 582, 274, 502, 194, 308, 194, 536, 502, 388, 354, 468, 776, 662],\n",
    "    [548, 0, 684, 308, 194, 502, 730, 354, 696, 742, 1084, 594, 480, 674, 1016, 868, 1210],\n",
    "    [776, 684, 0, 992, 878, 502, 274, 810, 468, 742, 400, 1278, 1164, 1130, 788, 1552, 754],\n",
    "    [696, 308, 992, 0, 114, 650, 878, 502, 844, 890, 1232, 514, 628, 822, 1164, 560, 1358],\n",
    "    [582, 194, 878, 114, 0, 536, 764, 388, 730, 776, 1118, 400, 514, 708, 1050, 674, 1244],\n",
    "    [274, 502, 502, 650, 536, 0, 228, 308, 194, 240, 582, 776, 662, 628, 514, 1050, 708],\n",
    "    [502, 730, 274, 878, 764, 228, 0, 536, 194, 468, 354, 1004, 890, 856, 514, 1278, 480],\n",
    "    [194, 354, 810, 502, 388, 308, 536, 0, 342, 388, 730, 468, 354, 320, 662, 742, 856],\n",
    "    [308, 696, 468, 844, 730, 194, 194, 342, 0, 274, 388, 810, 696, 662, 320, 1084, 514],\n",
    "    [194, 742, 742, 890, 776, 240, 468, 388, 274, 0, 342, 536, 422, 388, 274, 810, 468],\n",
    "    [536, 1084, 400, 1232, 1118, 582, 354, 730, 388, 342, 0, 878, 764, 730, 388, 1152, 354],\n",
    "    [502, 594, 1278, 514, 400, 776, 1004, 468, 810, 536, 878, 0, 114, 308, 650, 274, 844],\n",
    "    [388, 480, 1164, 628, 514, 662, 890, 354, 696, 422, 764, 114, 0, 194, 536, 388, 730],\n",
    "    [354, 674, 1130, 822, 708, 628, 856, 320, 662, 388, 730, 308, 194, 0, 342, 422, 536],\n",
    "    [468, 1016, 788, 1164, 1050, 514, 514, 662, 320, 274, 388, 650, 536, 342, 0, 764, 194],\n",
    "    [776, 868, 1552, 560, 674, 1050, 1278, 742, 1084, 810, 1152, 274, 388, 422, 764, 0, 798],\n",
    "    [662, 1210, 754, 1358, 1244, 708, 480, 856, 514, 468, 354, 844, 730, 536, 194, 798, 0]\n",
    "])\n",
    "\n",
    "demand = np.array([0, 1, 1, 2, 4, 2, 4, 8, 8, 1, 2, 1, 2, 4, 4, 8, 8])\n",
    "capacity = 13\n",
    "\n",
    "numofvehicles=6\n",
    "\n",
    "numnodes=17\n"
   ]
  },
  {
   "cell_type": "code",
   "execution_count": 7,
   "id": "4d2d165d-7cbd-4cbd-9fe2-abfaf786e5d3",
   "metadata": {},
   "outputs": [],
   "source": [
    "def generate_random_solution(numnodes, distance, capacity, demand, numofvehicles):\n",
    "    customers = list(range(1,numnodes))\n",
    "    routes = defaultdict(list)\n",
    "    \n",
    "    remaining_capacity = ones(numofvehicles, dtype=int) * capacity\n",
    "       \n",
    "    for vehicle in range(numofvehicles):\n",
    "      \n",
    "        # Try to feasibly add customers to the vehicle\n",
    "        for id in customers:\n",
    "            q = demand[id]\n",
    "            # If there is remaining capacity, or it is the last vehicle\n",
    "            if q <= remaining_capacity[vehicle]: #or vehicle == (numofvehicles - 1):\n",
    "                routes[vehicle].append(id)\n",
    "                remaining_capacity[vehicle] -= q\n",
    "\n",
    "        # Remove from the list the customers actually added\n",
    "        for id in routes[vehicle]:\n",
    "            customers.remove(id)\n",
    "                  \n",
    "        # Add the depot to the start and end of of the route\n",
    "        routes[vehicle].insert(0, 0)\n",
    "        routes[vehicle].append(0)\n",
    "                           \n",
    "    return routes"
   ]
  },
  {
   "cell_type": "code",
   "execution_count": 9,
   "id": "06d95d2f-2599-4ad5-b7fb-9829705fef84",
   "metadata": {},
   "outputs": [],
   "source": [
    "routes=generate_random_solution(numnodes, distance, capacity, demand, numofvehicles)"
   ]
  },
  {
   "cell_type": "code",
   "execution_count": 11,
   "id": "c04a127f-3c62-444f-bcb4-d0cec8357d0a",
   "metadata": {},
   "outputs": [
    {
     "name": "stdout",
     "output_type": "stream",
     "text": [
      "defaultdict(<class 'list'>, {0: [0, 1, 2, 3, 4, 5, 9, 10, 0], 1: [0, 6, 7, 11, 0], 2: [0, 8, 12, 0], 3: [0, 13, 14, 0], 4: [0, 15, 0], 5: [0, 16, 0]})\n"
     ]
    }
   ],
   "source": [
    "print(routes)"
   ]
  },
  {
   "cell_type": "code",
   "execution_count": 13,
   "id": "da5517fc-2ce0-45e2-9786-a313ad49006a",
   "metadata": {},
   "outputs": [],
   "source": [
    "def get_routecst_ksit(route,numnodes):\n",
    "    \n",
    "    ksit  = [0] * (numnodes+1)\n",
    "    routecst = 0\n",
    "    routelength = len(route)\n",
    "    lastcustomer = 0\n",
    "    for i,cust in enumerate(route[1:]):\n",
    "      ksit[cust] +=1      \n",
    "      routecst += distance[cust][lastcustomer]\n",
    "      lastcustomer = cust\n",
    "          \n",
    "    return routecst,ksit"
   ]
  },
  {
   "cell_type": "code",
   "execution_count": 15,
   "id": "932d4a7c-e94e-4f2b-864d-d0b83b2d08e2",
   "metadata": {},
   "outputs": [],
   "source": [
    "a = defaultdict(list)\n",
    "cost = defaultdict(float)\n",
    "for r in range(len(routes)):\n",
    "    cost[r],a[r]=get_routecst_ksit(routes[r],numnodes)\n",
    "initial=len(routes)"
   ]
  },
  {
   "cell_type": "code",
   "execution_count": 23,
   "id": "8aebd03b-541f-45b4-8697-9bb2bbf526fd",
   "metadata": {},
   "outputs": [
    {
     "name": "stdout",
     "output_type": "stream",
     "text": [
      "defaultdict(<class 'float'>, {0: 3992, 1: 2008, 2: 1392, 3: 1164, 4: 1552, 5: 1324})\n",
      "defaultdict(<class 'list'>, {0: [1, 1, 1, 1, 1, 1, 0, 0, 0, 1, 1, 0, 0, 0, 0, 0, 0, 0], 1: [1, 0, 0, 0, 0, 0, 1, 1, 0, 0, 0, 1, 0, 0, 0, 0, 0, 0], 2: [1, 0, 0, 0, 0, 0, 0, 0, 1, 0, 0, 0, 1, 0, 0, 0, 0, 0], 3: [1, 0, 0, 0, 0, 0, 0, 0, 0, 0, 0, 0, 0, 1, 1, 0, 0, 0], 4: [1, 0, 0, 0, 0, 0, 0, 0, 0, 0, 0, 0, 0, 0, 0, 1, 0, 0], 5: [1, 0, 0, 0, 0, 0, 0, 0, 0, 0, 0, 0, 0, 0, 0, 0, 1, 0]})\n",
      "6\n"
     ]
    }
   ],
   "source": [
    "print(cost)\n",
    "print(a)\n",
    "print(initial)"
   ]
  },
  {
   "cell_type": "code",
   "execution_count": 25,
   "id": "d1a28aeb-6734-4a67-8e05-d85e20db7c2a",
   "metadata": {},
   "outputs": [],
   "source": [
    "def transform(demand, distance,numnodes):\n",
    "    dem=np.append(demand,demand[0])\n",
    "    dist = np.pad(distance, ((0,1), (0,1)), mode='constant', constant_values=9999999)\n",
    "    for i in range(1, numnodes):\n",
    "        dist[i,numnodes] = distance[i,0]\n",
    "        dist[i,0] = 9999999\n",
    "    dist[numnodes,numnodes] = 0\n",
    "    return dem, dist"
   ]
  },
  {
   "cell_type": "code",
   "execution_count": 27,
   "id": "a6176882-04ed-4dec-b302-01711647f2e4",
   "metadata": {},
   "outputs": [],
   "source": [
    "dem, dist = transform(demand, distance,numnodes)\n",
    "# print(dem)\n",
    "# print(dist)"
   ]
  },
  {
   "cell_type": "code",
   "execution_count": 29,
   "id": "bd0ede65-90b3-4992-b9a2-2c0028a5b817",
   "metadata": {},
   "outputs": [
    {
     "name": "stdout",
     "output_type": "stream",
     "text": [
      "[0 1 1 2 4 2 4 8 8 1 2 1 2 4 4 8 8 0]\n",
      "[[      0     548     776     696     582     274     502     194     308\n",
      "      194     536     502     388     354     468     776     662 9999999]\n",
      " [9999999       0     684     308     194     502     730     354     696\n",
      "      742    1084     594     480     674    1016     868    1210     548]\n",
      " [9999999     684       0     992     878     502     274     810     468\n",
      "      742     400    1278    1164    1130     788    1552     754     776]\n",
      " [9999999     308     992       0     114     650     878     502     844\n",
      "      890    1232     514     628     822    1164     560    1358     696]\n",
      " [9999999     194     878     114       0     536     764     388     730\n",
      "      776    1118     400     514     708    1050     674    1244     582]\n",
      " [9999999     502     502     650     536       0     228     308     194\n",
      "      240     582     776     662     628     514    1050     708     274]\n",
      " [9999999     730     274     878     764     228       0     536     194\n",
      "      468     354    1004     890     856     514    1278     480     502]\n",
      " [9999999     354     810     502     388     308     536       0     342\n",
      "      388     730     468     354     320     662     742     856     194]\n",
      " [9999999     696     468     844     730     194     194     342       0\n",
      "      274     388     810     696     662     320    1084     514     308]\n",
      " [9999999     742     742     890     776     240     468     388     274\n",
      "        0     342     536     422     388     274     810     468     194]\n",
      " [9999999    1084     400    1232    1118     582     354     730     388\n",
      "      342       0     878     764     730     388    1152     354     536]\n",
      " [9999999     594    1278     514     400     776    1004     468     810\n",
      "      536     878       0     114     308     650     274     844     502]\n",
      " [9999999     480    1164     628     514     662     890     354     696\n",
      "      422     764     114       0     194     536     388     730     388]\n",
      " [9999999     674    1130     822     708     628     856     320     662\n",
      "      388     730     308     194       0     342     422     536     354]\n",
      " [9999999    1016     788    1164    1050     514     514     662     320\n",
      "      274     388     650     536     342       0     764     194     468]\n",
      " [9999999     868    1552     560     674    1050    1278     742    1084\n",
      "      810    1152     274     388     422     764       0     798     776]\n",
      " [9999999    1210     754    1358    1244     708     480     856     514\n",
      "      468     354     844     730     536     194     798       0     662]\n",
      " [9999999 9999999 9999999 9999999 9999999 9999999 9999999 9999999 9999999\n",
      "  9999999 9999999 9999999 9999999 9999999 9999999 9999999 9999999       0]]\n"
     ]
    }
   ],
   "source": []
  },
  {
   "cell_type": "code",
   "execution_count": null,
   "id": "1ee47960-77ea-4ea6-aa40-a281a1c09b7c",
   "metadata": {},
   "outputs": [],
   "source": []
  }
 ],
 "metadata": {
  "kernelspec": {
   "display_name": "Python 3 (ipykernel)",
   "language": "python",
   "name": "python3"
  },
  "language_info": {
   "codemirror_mode": {
    "name": "ipython",
    "version": 3
   },
   "file_extension": ".py",
   "mimetype": "text/x-python",
   "name": "python",
   "nbconvert_exporter": "python",
   "pygments_lexer": "ipython3",
   "version": "3.11.7"
  }
 },
 "nbformat": 4,
 "nbformat_minor": 5
}
